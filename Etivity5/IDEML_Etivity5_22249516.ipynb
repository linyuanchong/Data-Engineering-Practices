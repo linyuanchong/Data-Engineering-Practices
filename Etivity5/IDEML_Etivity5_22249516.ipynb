{
  "cells": [
    {
      "cell_type": "markdown",
      "metadata": {
        "id": "RLWvUC1XtCqS"
      },
      "source": [
        "### Student Details\n",
        "\n",
        "Student name: Lin Yuan Chong\n",
        "\n",
        "Student ID: 22249516"
      ]
    },
    {
      "cell_type": "markdown",
      "metadata": {
        "deletable": false,
        "editable": false,
        "tags": [],
        "id": "ozGWFNkXtCqW"
      },
      "source": [
        "# Description\n",
        "\n",
        "In this task, we will use NSL-KDD dataset. We will use the NSL-KDD dataset to do multi-class classification. This dataset is quite large, and the training time can be quite long if you use the whole thing so that we will use just 20% of the dataset. If you completed the network security task in the previous activity (i.e., if you are in the BSc in CyberSecurity), you will have seen this already. For those that have not seen this dataset before, you will also be dealing with many more dimensions than you have done up to now, but you will see that the machine learning techniques we have employed up to now scale nicely to many dimensions.\n",
        "\n",
        "The aim of the NSL-KDD dataset is to enable training a machine learning algorithm to identify different types of cyber attacks based on network trafiic features. The different attacks can be: denial-of-service (dos), Remote to user (r2l), probing attack (probe), User-to-Root (U2R). I hope this means something to the CyberSecurity cohort. For the rest of us, don't worry, we can just see it as a generic classification task.\n",
        "\n",
        "The data is already split into training and testing. It also contains a mix of different types of features - categorical, binary, and numerical features. However, in this task, we are going to investigate only the numerical features. So, in the code just below, I have stripped out all of the non-numerical features, and provide you with the numpy arrays `train_X`, `train_Y`, `test_X`, and `test_Y`.\n",
        "\n",
        "Our aim will be to use the available data to train an algorithm to predict the type of attack that is occurring. We will then see if we can get similar performance by using fewer features. Undoubtedly, unless there is a feature that has no influence *at all* on the output, we will see *some* degradation in performance. However, as discussed in the material, there are significant gains to be made by using fewer features."
      ]
    },
    {
      "cell_type": "code",
      "execution_count": 27,
      "metadata": {
        "deletable": false,
        "editable": false,
        "tags": [],
        "colab": {
          "base_uri": "https://localhost:8080/"
        },
        "id": "6wtjMKo2tCqX",
        "outputId": "a6be51bc-7807-4300-f836-eade920f1fa0"
      },
      "outputs": [
        {
          "output_type": "stream",
          "name": "stdout",
          "text": [
            "(25192, 31)\n",
            "(22544, 31)\n"
          ]
        }
      ],
      "source": [
        "####################\n",
        "# CODE PROVIDED\n",
        "\n",
        "# This code is a little bit complicated, and I don't want you to get bogged down in reading from csv files.\n",
        "# This code reads from the CSV files, and creates the training and test sets for both binary and multi-class\n",
        "\n",
        "# Read the data\n",
        "import pandas as pd\n",
        "test_df = pd.read_csv('KDDTest_CE4317.csv', header=0)\n",
        "train_df = pd.read_csv('KDDTrain_CE4317.csv', header=0)\n",
        "\n",
        "# Differentiating between nominal, binary, and numeric features\n",
        "# Note, we only need to do this for the train data, as the train and test have the same feature names (of course)\n",
        "col_names = train_df.columns.values    \n",
        "\n",
        "nominal_idx = [1, 2, 3]\n",
        "binary_idx = [6, 11, 13, 14, 19, 20]\n",
        "numeric_idx = list(set(range(40)).difference(nominal_idx).difference(binary_idx))\n",
        "\n",
        "numeric_cols = col_names[numeric_idx].tolist()   # The columns that have numerical features\n",
        "\n",
        "Y_train = train_df['attack_category']\n",
        "Y_test = test_df['attack_category']\n",
        "\n",
        "# In this case, we are only going to use the numeric columns for our predictions\n",
        "X_train = train_df[numeric_cols]   \n",
        "X_test = test_df[numeric_cols]\n",
        "\n",
        "print(X_train.shape)\n",
        "print(X_test.shape)"
      ]
    },
    {
      "cell_type": "markdown",
      "metadata": {
        "deletable": false,
        "editable": false,
        "tags": [],
        "id": "v3mWfJJrtCqZ"
      },
      "source": [
        "Let's have a quick look at what some of the samples look like"
      ]
    },
    {
      "cell_type": "code",
      "execution_count": 28,
      "metadata": {
        "deletable": false,
        "editable": false,
        "tags": [],
        "colab": {
          "base_uri": "https://localhost:8080/",
          "height": 300
        },
        "id": "GWlMGesftCqa",
        "outputId": "c308a38c-a3be-44c0-c425-3685641ca1f1"
      },
      "outputs": [
        {
          "output_type": "execute_result",
          "data": {
            "text/plain": [
              "       duration  src_bytes  dst_bytes  wrong_fragment  urgent  hot  \\\n",
              "5691          0          0          0               0       0    0   \n",
              "22528         0          0          0               0       0    0   \n",
              "12376         0        647        329               0       0    0   \n",
              "13600         0          0          0               0       0    0   \n",
              "18173      2630        147        105               0       0    0   \n",
              "\n",
              "       num_failed_logins  num_compromised  num_root  num_file_creations  ...  \\\n",
              "5691                   0                0         0                   0  ...   \n",
              "22528                  0                0         0                   0  ...   \n",
              "12376                  0                0         0                   0  ...   \n",
              "13600                  0                0         0                   0  ...   \n",
              "18173                  0                0         0                   0  ...   \n",
              "\n",
              "       dst_host_count  dst_host_srv_count  dst_host_same_srv_rate  \\\n",
              "5691              255                   6                    0.02   \n",
              "22528             255                   5                    0.02   \n",
              "12376             255                 102                    0.40   \n",
              "13600             255                   1                    0.00   \n",
              "18173             255                   1                    0.00   \n",
              "\n",
              "       dst_host_diff_srv_rate  dst_host_same_src_port_rate  \\\n",
              "5691                     0.08                         0.00   \n",
              "22528                    0.08                         0.00   \n",
              "12376                    0.03                         0.00   \n",
              "13600                    0.91                         0.00   \n",
              "18173                    0.87                         0.98   \n",
              "\n",
              "       dst_host_srv_diff_host_rate  dst_host_serror_rate  \\\n",
              "5691                           0.0                  1.00   \n",
              "22528                          0.0                  0.00   \n",
              "12376                          0.0                  0.00   \n",
              "13600                          0.0                  0.03   \n",
              "18173                          0.0                  0.00   \n",
              "\n",
              "       dst_host_srv_serror_rate  dst_host_rerror_rate  \\\n",
              "5691                        1.0                  0.00   \n",
              "22528                       0.0                  1.00   \n",
              "12376                       0.0                  0.00   \n",
              "13600                       0.0                  0.97   \n",
              "18173                       0.0                  0.00   \n",
              "\n",
              "       dst_host_srv_rerror_rate  \n",
              "5691                        0.0  \n",
              "22528                       1.0  \n",
              "12376                       0.0  \n",
              "13600                       1.0  \n",
              "18173                       0.0  \n",
              "\n",
              "[5 rows x 31 columns]"
            ],
            "text/html": [
              "\n",
              "  <div id=\"df-e797d3d2-5c61-45b2-b2d1-a48465ed38f2\">\n",
              "    <div class=\"colab-df-container\">\n",
              "      <div>\n",
              "<style scoped>\n",
              "    .dataframe tbody tr th:only-of-type {\n",
              "        vertical-align: middle;\n",
              "    }\n",
              "\n",
              "    .dataframe tbody tr th {\n",
              "        vertical-align: top;\n",
              "    }\n",
              "\n",
              "    .dataframe thead th {\n",
              "        text-align: right;\n",
              "    }\n",
              "</style>\n",
              "<table border=\"1\" class=\"dataframe\">\n",
              "  <thead>\n",
              "    <tr style=\"text-align: right;\">\n",
              "      <th></th>\n",
              "      <th>duration</th>\n",
              "      <th>src_bytes</th>\n",
              "      <th>dst_bytes</th>\n",
              "      <th>wrong_fragment</th>\n",
              "      <th>urgent</th>\n",
              "      <th>hot</th>\n",
              "      <th>num_failed_logins</th>\n",
              "      <th>num_compromised</th>\n",
              "      <th>num_root</th>\n",
              "      <th>num_file_creations</th>\n",
              "      <th>...</th>\n",
              "      <th>dst_host_count</th>\n",
              "      <th>dst_host_srv_count</th>\n",
              "      <th>dst_host_same_srv_rate</th>\n",
              "      <th>dst_host_diff_srv_rate</th>\n",
              "      <th>dst_host_same_src_port_rate</th>\n",
              "      <th>dst_host_srv_diff_host_rate</th>\n",
              "      <th>dst_host_serror_rate</th>\n",
              "      <th>dst_host_srv_serror_rate</th>\n",
              "      <th>dst_host_rerror_rate</th>\n",
              "      <th>dst_host_srv_rerror_rate</th>\n",
              "    </tr>\n",
              "  </thead>\n",
              "  <tbody>\n",
              "    <tr>\n",
              "      <th>5691</th>\n",
              "      <td>0</td>\n",
              "      <td>0</td>\n",
              "      <td>0</td>\n",
              "      <td>0</td>\n",
              "      <td>0</td>\n",
              "      <td>0</td>\n",
              "      <td>0</td>\n",
              "      <td>0</td>\n",
              "      <td>0</td>\n",
              "      <td>0</td>\n",
              "      <td>...</td>\n",
              "      <td>255</td>\n",
              "      <td>6</td>\n",
              "      <td>0.02</td>\n",
              "      <td>0.08</td>\n",
              "      <td>0.00</td>\n",
              "      <td>0.0</td>\n",
              "      <td>1.00</td>\n",
              "      <td>1.0</td>\n",
              "      <td>0.00</td>\n",
              "      <td>0.0</td>\n",
              "    </tr>\n",
              "    <tr>\n",
              "      <th>22528</th>\n",
              "      <td>0</td>\n",
              "      <td>0</td>\n",
              "      <td>0</td>\n",
              "      <td>0</td>\n",
              "      <td>0</td>\n",
              "      <td>0</td>\n",
              "      <td>0</td>\n",
              "      <td>0</td>\n",
              "      <td>0</td>\n",
              "      <td>0</td>\n",
              "      <td>...</td>\n",
              "      <td>255</td>\n",
              "      <td>5</td>\n",
              "      <td>0.02</td>\n",
              "      <td>0.08</td>\n",
              "      <td>0.00</td>\n",
              "      <td>0.0</td>\n",
              "      <td>0.00</td>\n",
              "      <td>0.0</td>\n",
              "      <td>1.00</td>\n",
              "      <td>1.0</td>\n",
              "    </tr>\n",
              "    <tr>\n",
              "      <th>12376</th>\n",
              "      <td>0</td>\n",
              "      <td>647</td>\n",
              "      <td>329</td>\n",
              "      <td>0</td>\n",
              "      <td>0</td>\n",
              "      <td>0</td>\n",
              "      <td>0</td>\n",
              "      <td>0</td>\n",
              "      <td>0</td>\n",
              "      <td>0</td>\n",
              "      <td>...</td>\n",
              "      <td>255</td>\n",
              "      <td>102</td>\n",
              "      <td>0.40</td>\n",
              "      <td>0.03</td>\n",
              "      <td>0.00</td>\n",
              "      <td>0.0</td>\n",
              "      <td>0.00</td>\n",
              "      <td>0.0</td>\n",
              "      <td>0.00</td>\n",
              "      <td>0.0</td>\n",
              "    </tr>\n",
              "    <tr>\n",
              "      <th>13600</th>\n",
              "      <td>0</td>\n",
              "      <td>0</td>\n",
              "      <td>0</td>\n",
              "      <td>0</td>\n",
              "      <td>0</td>\n",
              "      <td>0</td>\n",
              "      <td>0</td>\n",
              "      <td>0</td>\n",
              "      <td>0</td>\n",
              "      <td>0</td>\n",
              "      <td>...</td>\n",
              "      <td>255</td>\n",
              "      <td>1</td>\n",
              "      <td>0.00</td>\n",
              "      <td>0.91</td>\n",
              "      <td>0.00</td>\n",
              "      <td>0.0</td>\n",
              "      <td>0.03</td>\n",
              "      <td>0.0</td>\n",
              "      <td>0.97</td>\n",
              "      <td>1.0</td>\n",
              "    </tr>\n",
              "    <tr>\n",
              "      <th>18173</th>\n",
              "      <td>2630</td>\n",
              "      <td>147</td>\n",
              "      <td>105</td>\n",
              "      <td>0</td>\n",
              "      <td>0</td>\n",
              "      <td>0</td>\n",
              "      <td>0</td>\n",
              "      <td>0</td>\n",
              "      <td>0</td>\n",
              "      <td>0</td>\n",
              "      <td>...</td>\n",
              "      <td>255</td>\n",
              "      <td>1</td>\n",
              "      <td>0.00</td>\n",
              "      <td>0.87</td>\n",
              "      <td>0.98</td>\n",
              "      <td>0.0</td>\n",
              "      <td>0.00</td>\n",
              "      <td>0.0</td>\n",
              "      <td>0.00</td>\n",
              "      <td>0.0</td>\n",
              "    </tr>\n",
              "  </tbody>\n",
              "</table>\n",
              "<p>5 rows × 31 columns</p>\n",
              "</div>\n",
              "      <button class=\"colab-df-convert\" onclick=\"convertToInteractive('df-e797d3d2-5c61-45b2-b2d1-a48465ed38f2')\"\n",
              "              title=\"Convert this dataframe to an interactive table.\"\n",
              "              style=\"display:none;\">\n",
              "        \n",
              "  <svg xmlns=\"http://www.w3.org/2000/svg\" height=\"24px\"viewBox=\"0 0 24 24\"\n",
              "       width=\"24px\">\n",
              "    <path d=\"M0 0h24v24H0V0z\" fill=\"none\"/>\n",
              "    <path d=\"M18.56 5.44l.94 2.06.94-2.06 2.06-.94-2.06-.94-.94-2.06-.94 2.06-2.06.94zm-11 1L8.5 8.5l.94-2.06 2.06-.94-2.06-.94L8.5 2.5l-.94 2.06-2.06.94zm10 10l.94 2.06.94-2.06 2.06-.94-2.06-.94-.94-2.06-.94 2.06-2.06.94z\"/><path d=\"M17.41 7.96l-1.37-1.37c-.4-.4-.92-.59-1.43-.59-.52 0-1.04.2-1.43.59L10.3 9.45l-7.72 7.72c-.78.78-.78 2.05 0 2.83L4 21.41c.39.39.9.59 1.41.59.51 0 1.02-.2 1.41-.59l7.78-7.78 2.81-2.81c.8-.78.8-2.07 0-2.86zM5.41 20L4 18.59l7.72-7.72 1.47 1.35L5.41 20z\"/>\n",
              "  </svg>\n",
              "      </button>\n",
              "      \n",
              "  <style>\n",
              "    .colab-df-container {\n",
              "      display:flex;\n",
              "      flex-wrap:wrap;\n",
              "      gap: 12px;\n",
              "    }\n",
              "\n",
              "    .colab-df-convert {\n",
              "      background-color: #E8F0FE;\n",
              "      border: none;\n",
              "      border-radius: 50%;\n",
              "      cursor: pointer;\n",
              "      display: none;\n",
              "      fill: #1967D2;\n",
              "      height: 32px;\n",
              "      padding: 0 0 0 0;\n",
              "      width: 32px;\n",
              "    }\n",
              "\n",
              "    .colab-df-convert:hover {\n",
              "      background-color: #E2EBFA;\n",
              "      box-shadow: 0px 1px 2px rgba(60, 64, 67, 0.3), 0px 1px 3px 1px rgba(60, 64, 67, 0.15);\n",
              "      fill: #174EA6;\n",
              "    }\n",
              "\n",
              "    [theme=dark] .colab-df-convert {\n",
              "      background-color: #3B4455;\n",
              "      fill: #D2E3FC;\n",
              "    }\n",
              "\n",
              "    [theme=dark] .colab-df-convert:hover {\n",
              "      background-color: #434B5C;\n",
              "      box-shadow: 0px 1px 3px 1px rgba(0, 0, 0, 0.15);\n",
              "      filter: drop-shadow(0px 1px 2px rgba(0, 0, 0, 0.3));\n",
              "      fill: #FFFFFF;\n",
              "    }\n",
              "  </style>\n",
              "\n",
              "      <script>\n",
              "        const buttonEl =\n",
              "          document.querySelector('#df-e797d3d2-5c61-45b2-b2d1-a48465ed38f2 button.colab-df-convert');\n",
              "        buttonEl.style.display =\n",
              "          google.colab.kernel.accessAllowed ? 'block' : 'none';\n",
              "\n",
              "        async function convertToInteractive(key) {\n",
              "          const element = document.querySelector('#df-e797d3d2-5c61-45b2-b2d1-a48465ed38f2');\n",
              "          const dataTable =\n",
              "            await google.colab.kernel.invokeFunction('convertToInteractive',\n",
              "                                                     [key], {});\n",
              "          if (!dataTable) return;\n",
              "\n",
              "          const docLinkHtml = 'Like what you see? Visit the ' +\n",
              "            '<a target=\"_blank\" href=https://colab.research.google.com/notebooks/data_table.ipynb>data table notebook</a>'\n",
              "            + ' to learn more about interactive tables.';\n",
              "          element.innerHTML = '';\n",
              "          dataTable['output_type'] = 'display_data';\n",
              "          await google.colab.output.renderOutput(dataTable, element);\n",
              "          const docLink = document.createElement('div');\n",
              "          docLink.innerHTML = docLinkHtml;\n",
              "          element.appendChild(docLink);\n",
              "        }\n",
              "      </script>\n",
              "    </div>\n",
              "  </div>\n",
              "  "
            ]
          },
          "metadata": {},
          "execution_count": 28
        }
      ],
      "source": [
        "# Check train data.\n",
        "X_train.sample(5)"
      ]
    },
    {
      "cell_type": "code",
      "source": [
        "# Check test data.\n",
        "X_test.sample(5)"
      ],
      "metadata": {
        "colab": {
          "base_uri": "https://localhost:8080/",
          "height": 300
        },
        "id": "9BsqGfXm5mMA",
        "outputId": "a4e4896d-78c3-4c3a-9bcc-432715ad9cdb"
      },
      "execution_count": 29,
      "outputs": [
        {
          "output_type": "execute_result",
          "data": {
            "text/plain": [
              "       duration  src_bytes  dst_bytes  wrong_fragment  urgent  hot  \\\n",
              "13787         0        208       2393               0       0    0   \n",
              "15564         0          0         44               0       0    0   \n",
              "896           0          0          0               0       0    0   \n",
              "17660         0          0          0               0       0    0   \n",
              "10660         0        217        628               0       0    0   \n",
              "\n",
              "       num_failed_logins  num_compromised  num_root  num_file_creations  ...  \\\n",
              "13787                  0                0         0                   0  ...   \n",
              "15564                  0                0         0                   0  ...   \n",
              "896                    0                0         0                   0  ...   \n",
              "17660                  0                0         0                   0  ...   \n",
              "10660                  0                0         0                   0  ...   \n",
              "\n",
              "       dst_host_count  dst_host_srv_count  dst_host_same_srv_rate  \\\n",
              "13787             255                 255                    1.00   \n",
              "15564             255                 135                    0.53   \n",
              "896               255                   3                    0.01   \n",
              "17660             255                  19                    0.07   \n",
              "10660             255                 255                    1.00   \n",
              "\n",
              "       dst_host_diff_srv_rate  dst_host_same_src_port_rate  \\\n",
              "13787                    0.00                          0.0   \n",
              "15564                    0.43                          0.0   \n",
              "896                      0.06                          0.0   \n",
              "17660                    0.06                          0.0   \n",
              "10660                    0.00                          0.0   \n",
              "\n",
              "       dst_host_srv_diff_host_rate  dst_host_serror_rate  \\\n",
              "13787                          0.0                  0.00   \n",
              "15564                          0.0                  0.42   \n",
              "896                            0.0                  0.00   \n",
              "17660                          0.0                  0.00   \n",
              "10660                          0.0                  0.00   \n",
              "\n",
              "       dst_host_srv_serror_rate  dst_host_rerror_rate  \\\n",
              "13787                      0.00                  0.00   \n",
              "15564                      0.79                  0.42   \n",
              "896                        0.00                  1.00   \n",
              "17660                      0.00                  1.00   \n",
              "10660                      0.00                  0.00   \n",
              "\n",
              "       dst_host_srv_rerror_rate  \n",
              "13787                      0.00  \n",
              "15564                      0.01  \n",
              "896                        1.00  \n",
              "17660                      1.00  \n",
              "10660                      0.00  \n",
              "\n",
              "[5 rows x 31 columns]"
            ],
            "text/html": [
              "\n",
              "  <div id=\"df-6c83dc86-8447-46d3-bd09-d25982fd120b\">\n",
              "    <div class=\"colab-df-container\">\n",
              "      <div>\n",
              "<style scoped>\n",
              "    .dataframe tbody tr th:only-of-type {\n",
              "        vertical-align: middle;\n",
              "    }\n",
              "\n",
              "    .dataframe tbody tr th {\n",
              "        vertical-align: top;\n",
              "    }\n",
              "\n",
              "    .dataframe thead th {\n",
              "        text-align: right;\n",
              "    }\n",
              "</style>\n",
              "<table border=\"1\" class=\"dataframe\">\n",
              "  <thead>\n",
              "    <tr style=\"text-align: right;\">\n",
              "      <th></th>\n",
              "      <th>duration</th>\n",
              "      <th>src_bytes</th>\n",
              "      <th>dst_bytes</th>\n",
              "      <th>wrong_fragment</th>\n",
              "      <th>urgent</th>\n",
              "      <th>hot</th>\n",
              "      <th>num_failed_logins</th>\n",
              "      <th>num_compromised</th>\n",
              "      <th>num_root</th>\n",
              "      <th>num_file_creations</th>\n",
              "      <th>...</th>\n",
              "      <th>dst_host_count</th>\n",
              "      <th>dst_host_srv_count</th>\n",
              "      <th>dst_host_same_srv_rate</th>\n",
              "      <th>dst_host_diff_srv_rate</th>\n",
              "      <th>dst_host_same_src_port_rate</th>\n",
              "      <th>dst_host_srv_diff_host_rate</th>\n",
              "      <th>dst_host_serror_rate</th>\n",
              "      <th>dst_host_srv_serror_rate</th>\n",
              "      <th>dst_host_rerror_rate</th>\n",
              "      <th>dst_host_srv_rerror_rate</th>\n",
              "    </tr>\n",
              "  </thead>\n",
              "  <tbody>\n",
              "    <tr>\n",
              "      <th>13787</th>\n",
              "      <td>0</td>\n",
              "      <td>208</td>\n",
              "      <td>2393</td>\n",
              "      <td>0</td>\n",
              "      <td>0</td>\n",
              "      <td>0</td>\n",
              "      <td>0</td>\n",
              "      <td>0</td>\n",
              "      <td>0</td>\n",
              "      <td>0</td>\n",
              "      <td>...</td>\n",
              "      <td>255</td>\n",
              "      <td>255</td>\n",
              "      <td>1.00</td>\n",
              "      <td>0.00</td>\n",
              "      <td>0.0</td>\n",
              "      <td>0.0</td>\n",
              "      <td>0.00</td>\n",
              "      <td>0.00</td>\n",
              "      <td>0.00</td>\n",
              "      <td>0.00</td>\n",
              "    </tr>\n",
              "    <tr>\n",
              "      <th>15564</th>\n",
              "      <td>0</td>\n",
              "      <td>0</td>\n",
              "      <td>44</td>\n",
              "      <td>0</td>\n",
              "      <td>0</td>\n",
              "      <td>0</td>\n",
              "      <td>0</td>\n",
              "      <td>0</td>\n",
              "      <td>0</td>\n",
              "      <td>0</td>\n",
              "      <td>...</td>\n",
              "      <td>255</td>\n",
              "      <td>135</td>\n",
              "      <td>0.53</td>\n",
              "      <td>0.43</td>\n",
              "      <td>0.0</td>\n",
              "      <td>0.0</td>\n",
              "      <td>0.42</td>\n",
              "      <td>0.79</td>\n",
              "      <td>0.42</td>\n",
              "      <td>0.01</td>\n",
              "    </tr>\n",
              "    <tr>\n",
              "      <th>896</th>\n",
              "      <td>0</td>\n",
              "      <td>0</td>\n",
              "      <td>0</td>\n",
              "      <td>0</td>\n",
              "      <td>0</td>\n",
              "      <td>0</td>\n",
              "      <td>0</td>\n",
              "      <td>0</td>\n",
              "      <td>0</td>\n",
              "      <td>0</td>\n",
              "      <td>...</td>\n",
              "      <td>255</td>\n",
              "      <td>3</td>\n",
              "      <td>0.01</td>\n",
              "      <td>0.06</td>\n",
              "      <td>0.0</td>\n",
              "      <td>0.0</td>\n",
              "      <td>0.00</td>\n",
              "      <td>0.00</td>\n",
              "      <td>1.00</td>\n",
              "      <td>1.00</td>\n",
              "    </tr>\n",
              "    <tr>\n",
              "      <th>17660</th>\n",
              "      <td>0</td>\n",
              "      <td>0</td>\n",
              "      <td>0</td>\n",
              "      <td>0</td>\n",
              "      <td>0</td>\n",
              "      <td>0</td>\n",
              "      <td>0</td>\n",
              "      <td>0</td>\n",
              "      <td>0</td>\n",
              "      <td>0</td>\n",
              "      <td>...</td>\n",
              "      <td>255</td>\n",
              "      <td>19</td>\n",
              "      <td>0.07</td>\n",
              "      <td>0.06</td>\n",
              "      <td>0.0</td>\n",
              "      <td>0.0</td>\n",
              "      <td>0.00</td>\n",
              "      <td>0.00</td>\n",
              "      <td>1.00</td>\n",
              "      <td>1.00</td>\n",
              "    </tr>\n",
              "    <tr>\n",
              "      <th>10660</th>\n",
              "      <td>0</td>\n",
              "      <td>217</td>\n",
              "      <td>628</td>\n",
              "      <td>0</td>\n",
              "      <td>0</td>\n",
              "      <td>0</td>\n",
              "      <td>0</td>\n",
              "      <td>0</td>\n",
              "      <td>0</td>\n",
              "      <td>0</td>\n",
              "      <td>...</td>\n",
              "      <td>255</td>\n",
              "      <td>255</td>\n",
              "      <td>1.00</td>\n",
              "      <td>0.00</td>\n",
              "      <td>0.0</td>\n",
              "      <td>0.0</td>\n",
              "      <td>0.00</td>\n",
              "      <td>0.00</td>\n",
              "      <td>0.00</td>\n",
              "      <td>0.00</td>\n",
              "    </tr>\n",
              "  </tbody>\n",
              "</table>\n",
              "<p>5 rows × 31 columns</p>\n",
              "</div>\n",
              "      <button class=\"colab-df-convert\" onclick=\"convertToInteractive('df-6c83dc86-8447-46d3-bd09-d25982fd120b')\"\n",
              "              title=\"Convert this dataframe to an interactive table.\"\n",
              "              style=\"display:none;\">\n",
              "        \n",
              "  <svg xmlns=\"http://www.w3.org/2000/svg\" height=\"24px\"viewBox=\"0 0 24 24\"\n",
              "       width=\"24px\">\n",
              "    <path d=\"M0 0h24v24H0V0z\" fill=\"none\"/>\n",
              "    <path d=\"M18.56 5.44l.94 2.06.94-2.06 2.06-.94-2.06-.94-.94-2.06-.94 2.06-2.06.94zm-11 1L8.5 8.5l.94-2.06 2.06-.94-2.06-.94L8.5 2.5l-.94 2.06-2.06.94zm10 10l.94 2.06.94-2.06 2.06-.94-2.06-.94-.94-2.06-.94 2.06-2.06.94z\"/><path d=\"M17.41 7.96l-1.37-1.37c-.4-.4-.92-.59-1.43-.59-.52 0-1.04.2-1.43.59L10.3 9.45l-7.72 7.72c-.78.78-.78 2.05 0 2.83L4 21.41c.39.39.9.59 1.41.59.51 0 1.02-.2 1.41-.59l7.78-7.78 2.81-2.81c.8-.78.8-2.07 0-2.86zM5.41 20L4 18.59l7.72-7.72 1.47 1.35L5.41 20z\"/>\n",
              "  </svg>\n",
              "      </button>\n",
              "      \n",
              "  <style>\n",
              "    .colab-df-container {\n",
              "      display:flex;\n",
              "      flex-wrap:wrap;\n",
              "      gap: 12px;\n",
              "    }\n",
              "\n",
              "    .colab-df-convert {\n",
              "      background-color: #E8F0FE;\n",
              "      border: none;\n",
              "      border-radius: 50%;\n",
              "      cursor: pointer;\n",
              "      display: none;\n",
              "      fill: #1967D2;\n",
              "      height: 32px;\n",
              "      padding: 0 0 0 0;\n",
              "      width: 32px;\n",
              "    }\n",
              "\n",
              "    .colab-df-convert:hover {\n",
              "      background-color: #E2EBFA;\n",
              "      box-shadow: 0px 1px 2px rgba(60, 64, 67, 0.3), 0px 1px 3px 1px rgba(60, 64, 67, 0.15);\n",
              "      fill: #174EA6;\n",
              "    }\n",
              "\n",
              "    [theme=dark] .colab-df-convert {\n",
              "      background-color: #3B4455;\n",
              "      fill: #D2E3FC;\n",
              "    }\n",
              "\n",
              "    [theme=dark] .colab-df-convert:hover {\n",
              "      background-color: #434B5C;\n",
              "      box-shadow: 0px 1px 3px 1px rgba(0, 0, 0, 0.15);\n",
              "      filter: drop-shadow(0px 1px 2px rgba(0, 0, 0, 0.3));\n",
              "      fill: #FFFFFF;\n",
              "    }\n",
              "  </style>\n",
              "\n",
              "      <script>\n",
              "        const buttonEl =\n",
              "          document.querySelector('#df-6c83dc86-8447-46d3-bd09-d25982fd120b button.colab-df-convert');\n",
              "        buttonEl.style.display =\n",
              "          google.colab.kernel.accessAllowed ? 'block' : 'none';\n",
              "\n",
              "        async function convertToInteractive(key) {\n",
              "          const element = document.querySelector('#df-6c83dc86-8447-46d3-bd09-d25982fd120b');\n",
              "          const dataTable =\n",
              "            await google.colab.kernel.invokeFunction('convertToInteractive',\n",
              "                                                     [key], {});\n",
              "          if (!dataTable) return;\n",
              "\n",
              "          const docLinkHtml = 'Like what you see? Visit the ' +\n",
              "            '<a target=\"_blank\" href=https://colab.research.google.com/notebooks/data_table.ipynb>data table notebook</a>'\n",
              "            + ' to learn more about interactive tables.';\n",
              "          element.innerHTML = '';\n",
              "          dataTable['output_type'] = 'display_data';\n",
              "          await google.colab.output.renderOutput(dataTable, element);\n",
              "          const docLink = document.createElement('div');\n",
              "          docLink.innerHTML = docLinkHtml;\n",
              "          element.appendChild(docLink);\n",
              "        }\n",
              "      </script>\n",
              "    </div>\n",
              "  </div>\n",
              "  "
            ]
          },
          "metadata": {},
          "execution_count": 29
        }
      ]
    },
    {
      "cell_type": "markdown",
      "metadata": {
        "id": "MQ33k5o3tCqa"
      },
      "source": [
        "And let's look quickly at how many samples in each attack category we have"
      ]
    },
    {
      "cell_type": "code",
      "execution_count": 30,
      "metadata": {
        "deletable": false,
        "editable": false,
        "tags": [],
        "colab": {
          "base_uri": "https://localhost:8080/",
          "height": 367
        },
        "id": "zejQtKowtCqa",
        "outputId": "dcf4c067-3705-4261-95a4-7ab1a7612700"
      },
      "outputs": [
        {
          "output_type": "execute_result",
          "data": {
            "text/plain": [
              "Text(0, 0.5, 'Attack category')"
            ]
          },
          "metadata": {},
          "execution_count": 30
        },
        {
          "output_type": "display_data",
          "data": {
            "text/plain": [
              "<Figure size 720x360 with 1 Axes>"
            ],
            "image/png": "[encoded data removed]"
          },
          "metadata": {}
        }
      ],
      "source": [
        "import matplotlib.pyplot as plt\n",
        "\n",
        "train_attack_cats = train_df['attack_category'].value_counts()\n",
        "test_attack_cats = test_df['attack_category'].value_counts()\n",
        "train_attack_cats.plot(kind='barh', figsize=(10,5), fontsize=15)\n",
        "plt.xlabel(\"Number of samples\", fontsize=20)\n",
        "plt.ylabel(\"Attack category\", fontsize=20)"
      ]
    },
    {
      "cell_type": "markdown",
      "metadata": {
        "deletable": false,
        "editable": false,
        "tags": [],
        "id": "uEm3bAXotCqb"
      },
      "source": [
        "# Task 1- Feature Selection"
      ]
    },
    {
      "cell_type": "markdown",
      "metadata": {
        "deletable": false,
        "editable": false,
        "tags": [],
        "id": "xszsXx8EtCqc"
      },
      "source": [
        "### Part 1: Support Vector Classification\n",
        "\n",
        "Here, we will use Support Vector Classification to predict the type of network attack that is occurriing, given a set of features. We will use a simple linear SVM Classification, and use the default parameters, as we're not investigating the properties of SVM, but rather the properties of data.\n",
        "\n",
        "#### Task:\n",
        "1. Apply the [`StandardScaler`](https://scikit-learn.org/stable/modules/generated/sklearn.preprocessing.StandardScaler.html) to the training and test data. Remember, train on the `*_train` data, but apply to both the `*_train` and the `*_test` data\n",
        "1. Train a linear Support Vector Classification, using [`sklearn`'s `svm.SVC` class](https://scikit-learn.org/stable/modules/generated/sklearn.svm.SVC.html). All parameters can be left at default except `kernel='linear'`\n",
        "1. Predict the category of the network attack\n",
        "1. Print the [confusion_matrix](https://scikit-learn.org/stable/modules/generated/sklearn.metrics.confusion_matrix.html) and the [accuracy score](https://scikit-learn.org/stable/modules/generated/sklearn.metrics.accuracy_score.html)\n",
        "1. Discuss the confusion matrix briefly\n",
        "\n",
        "You should see that the linear SVM Classification isn't too bad. You should get an accuracy around 0.73\n"
      ]
    },
    {
      "cell_type": "markdown",
      "metadata": {
        "deletable": false,
        "editable": false,
        "tags": [],
        "id": "lWjtfbNbtCqc"
      },
      "source": [
        "<span style=\"color:red\">Insert your code below</span>."
      ]
    },
    {
      "cell_type": "code",
      "execution_count": 31,
      "metadata": {
        "id": "xqhARpIstCqd"
      },
      "outputs": [],
      "source": [
        "from sklearn.preprocessing import StandardScaler\n",
        "from sklearn.preprocessing import MinMaxScaler\n",
        "from sklearn.svm import SVC\n",
        "from sklearn.pipeline import make_pipeline\n",
        "from sklearn.metrics import confusion_matrix, accuracy_score\n",
        "from sklearn.feature_selection import VarianceThreshold\n",
        "\n",
        "import seaborn as sns\n",
        "\n",
        "import matplotlib.pyplot as plt\n",
        "from matplotlib.pyplot import figure\n",
        "\n",
        "import numpy as np\n",
        "\n",
        "%matplotlib inline"
      ]
    },
    {
      "cell_type": "code",
      "source": [
        "# Declare scaler.\n",
        "stdScaler = StandardScaler()\n",
        "\n",
        "# Fit train_X.\n",
        "stdScaler.fit(X_train)\n",
        "\n",
        "# Transform on X_train and X_test.\n",
        "X_train_std = stdScaler.transform(X_train)\n",
        "X_test_std = stdScaler.transform(X_test)\n",
        "\n",
        "# Check mean of scaler.\n",
        "print(stdScaler.mean_)"
      ],
      "metadata": {
        "colab": {
          "base_uri": "https://localhost:8080/"
        },
        "id": "Xt8HsegWc9nr",
        "outputId": "e38b5e38-b24c-4a23-9e89-d0f6e1abcf67"
      },
      "execution_count": 32,
      "outputs": [
        {
          "output_type": "stream",
          "name": "stdout",
          "text": [
            "[3.05054104e+02 2.43306282e+04 3.49184717e+03 2.37376945e-02\n",
            " 3.96951413e-05 1.98039060e-01 1.19085424e-03 2.27850111e-01\n",
            " 2.49841219e-01 1.47268974e-02 3.57256272e-04 4.32677040e-03\n",
            " 8.45911797e+01 2.76987536e+01 2.86337726e-01 2.83762305e-01\n",
            " 1.18630121e-01 1.20260400e-01 6.60558908e-01 6.23630518e-02\n",
            " 9.59308511e-02 1.82532074e+02 1.15063036e+02 5.19790807e-01\n",
            " 8.25385043e-02 1.47452763e-01 3.18442363e-02 2.85800254e-01\n",
            " 2.79846380e-01 1.17800095e-01 1.18769451e-01]\n"
          ]
        }
      ]
    },
    {
      "cell_type": "code",
      "execution_count": 33,
      "metadata": {
        "colab": {
          "base_uri": "https://localhost:8080/"
        },
        "id": "S5EBCs5YtCqd",
        "outputId": "99e4c79d-d91d-4b26-fb15-c6f5306af22f"
      },
      "outputs": [
        {
          "output_type": "execute_result",
          "data": {
            "text/plain": [
              "SVC(kernel='linear')"
            ]
          },
          "metadata": {},
          "execution_count": 33
        }
      ],
      "source": [
        "# Declare Support Vector Classification.\n",
        "clf = SVC(kernel='linear')\n",
        "# Fit the training dataset.\n",
        "clf.fit(X_train_std, Y_train)"
      ]
    },
    {
      "cell_type": "code",
      "source": [
        "# Predict the category of the network attack.\n",
        "pred_Y = clf.predict(X_test_std)\n",
        "print(pred_Y)"
      ],
      "metadata": {
        "colab": {
          "base_uri": "https://localhost:8080/"
        },
        "id": "cepNzy9QNJhg",
        "outputId": "c247104c-28e3-4bfe-93d0-4eadee2f7634"
      },
      "execution_count": 34,
      "outputs": [
        {
          "output_type": "stream",
          "name": "stdout",
          "text": [
            "['dos' 'dos' 'benign' ... 'benign' 'benign' 'probe']\n"
          ]
        }
      ]
    },
    {
      "cell_type": "code",
      "source": [
        "# Confusion matrix and accuracy.\n",
        "cm = confusion_matrix(Y_test, pred_Y)\n",
        "ac = accuracy_score(Y_test, pred_Y)\n",
        "\n",
        "print(\"\\nAccuracy Score:\", round(ac * 100, 2), \"%\")\n",
        "print(\"\\nConfusion matrix:\")\n",
        "\n",
        "# Show cf.\n",
        "sns.set(rc={'figure.figsize':(5, 4)})\n",
        "x_axis_labels = ['benign', 'dos', 'probe', 'r2l', 'u2r']\n",
        "y_axis_labels = ['benign', 'dos', 'probe', 'r2l', 'u2r']\n",
        "\n",
        "sns.heatmap(cm, annot=True, cmap='Blues', fmt='g', xticklabels=x_axis_labels, yticklabels=y_axis_labels)\n",
        "\n",
        "plt.show()"
      ],
      "metadata": {
        "colab": {
          "base_uri": "https://localhost:8080/",
          "height": 337
        },
        "id": "Z-O-sCHuPMTV",
        "outputId": "d21f5a5e-b4a9-4019-bf41-3d64297768f5"
      },
      "execution_count": 35,
      "outputs": [
        {
          "output_type": "stream",
          "name": "stdout",
          "text": [
            "\n",
            "Accuracy Score: 73.09 %\n",
            "\n",
            "Confusion matrix:\n"
          ]
        },
        {
          "output_type": "display_data",
          "data": {
            "text/plain": [
              "<Figure size 360x288 with 2 Axes>"
            ],
            "image/png": "[encoded data removed]"
          },
          "metadata": {}
        }
      ]
    },
    {
      "cell_type": "markdown",
      "metadata": {
        "deletable": false,
        "editable": false,
        "tags": [],
        "id": "KlqzpGmVtCqd"
      },
      "source": [
        "<span style=\"color:red\">Insert your text answers below</span>."
      ]
    },
    {
      "cell_type": "markdown",
      "metadata": {
        "id": "capEVY57tCqe"
      },
      "source": []
    },
    {
      "cell_type": "markdown",
      "metadata": {
        "deletable": false,
        "editable": false,
        "tags": [],
        "id": "trqsnJWNtCqe"
      },
      "source": [
        "### Part 2: Feature Variance\n",
        "\n",
        "Feature variance is a rather simple way of predicting if a given feature will have influence on the outcome of a trained model. The principle is that, if a feature has low variance, it cannot have much influence on the model prediction. As an extreme, if we have a variance of 0 in a feature across all samples, i.e. we have the same value for this feature in all samples, then this feature cannot be used to distinguish samples and is useless as a predictor.\n",
        "\n",
        "However, the converse is not true. A high variance in a feature does not necessarily mean that it is a good predictor. You could imagine a feature that just contains noise with high amplitude. It might have high variance, but is meaningless. Or you can have a feature that has high variance but no influence on the outcome. For example, would hair length in cm have any influence on a baseball players salary? That said, variance can be a useful measure of the strength of a predictor.\n",
        "\n",
        "The variance of a set of features is given by:\n",
        "\n",
        "$$\n",
        "S_{i}^{2} = \\frac{\\sum_{j=1}^n\\left(\\textbf{X}_{i,j} - \\overline{\\textbf{X}}_i \\right)^2}{n - 1}\n",
        "$$\n",
        "\n",
        "where $\\textbf{X}_{i,j}$ is the $j$'th sample of the $i$'th feature, $\\overline{\\textbf{X}}_i$ is the mean of all the samples of the $i$'th feature, and $n$ is the total number of samples.\n",
        "\n",
        "Variance thresholding doesn't examine the relationship between the feature $\\textbf{X}$ and the output $\\textbf{y}$. This has the disadvantage that you can't test if the feature actually has an influence on the output. However, even though in this case we use it in a supervised learning context, it does mean that we can use variance thresholding for unsupervised learning.\n",
        "\n",
        "#### Notes:\n",
        "1. In Part 1, we used the `StandardScaler` to scale the features. In general, this is good practice, and in the next Task where we look at PCAs, really is even required. The `StandardScaler` will make it so every feature has a variance of 1 (unless the features started out with a variance of 0 to begin with) and a mean of 0. Therefore, features scaled with `StandardScaler` are useless for thresholding on variance, as there is no practical way to distinguish them.\n",
        "2. However, we should not do `VarianceThreshold`ing on just the raw data. Have a look at the values in the training dataset. Some columns will have typically small values. It is the nature of that data, and even though they may have a large influence on the type of attack, they will have a lower variance compared to some of the other columns.\n",
        "3. So we must scale, but not using the `StandardScaler`. Here it is more appropriate to use the [`MinMaxScaler`](https://scikit-learn.org/stable/modules/generated/sklearn.preprocessing.MinMaxScaler.html), which scales all the data to the range 0 to 1 by default (though you can set any range).\n",
        "4. Note that `MinMaxScaler` can also be applied to machine learning algorithms. Just in this case, we want to use the `StandardScaler`. There is, in fact, a [whole suite of other scalers provided by scikit-learn](https://scikit-learn.org/stable/auto_examples/preprocessing/plot_all_scaling.html). Each has it's own benefits. In fact, some would say we should use `MinMaxScaler` as the default scaler, and only use `StandardScaler` if we know the distribution of the data is normal.\n",
        "\n",
        "#### Task:\n",
        "1. Fit an instance of the `MinMaxScaler` with the original `X_train` data. You will get a set of data in the range 0 to 1.\n",
        "2. It is not very intuitive what threshold of variance we should use. So it's better to plot the variances of each feature, and then decide if some of the variances are small enough to discard\n",
        "3. Use `np.var` function to calculate the variances of the features (`axis-0`). Plot the variances, and pick a value that might remove 3 or 4 of the features.\n",
        "4. Fit the output of the `MinMaxScaler` using an object of [`sklearn.feature_selection`'s `VarianceThreshold` class](https://scikit-learn.org/stable/modules/generated/sklearn.feature_selection.VarianceThreshold.html) using this threshold\n",
        "5. `transform` the data that was scaled with the `StandardScaler`. This is an important step. Notice that we use the output of the `MinMaxScaler` to select the features, but the data we want to use is selected from the `StandardScaler`.\n",
        "6. Repeat the steps of Part 1: Train an SVC with the selected features and print the accuracy.\n",
        "7. How does the accuracy compare to the the SVC with no features removed (from Part 1)?"
      ]
    },
    {
      "cell_type": "markdown",
      "metadata": {
        "deletable": false,
        "editable": false,
        "tags": [],
        "id": "VruaF-wctCqe"
      },
      "source": [
        "<span style=\"color:red\">Insert your code below</span>."
      ]
    },
    {
      "cell_type": "code",
      "execution_count": 36,
      "metadata": {
        "colab": {
          "base_uri": "https://localhost:8080/"
        },
        "id": "RxtZ1IAmtCqf",
        "outputId": "b1cf7be4-61b9-46ea-a03f-ba80f6cf73c0"
      },
      "outputs": [
        {
          "output_type": "stream",
          "name": "stdout",
          "text": [
            "[0. 0. 0. 0. 0. 0. 0. 0. 0. 0. 0. 0. 0. 0. 0. 0. 0. 0. 0. 0. 0. 0. 0. 0.\n",
            " 0. 0. 0. 0. 0. 0. 0.]\n",
            "[5.7715000e+04 6.2825648e+07 1.3459270e+06 3.0000000e+00 3.0000000e+00\n",
            " 1.0100000e+02 4.0000000e+00 7.9600000e+02 8.7800000e+02 1.0000000e+02\n",
            " 5.0000000e+00 4.0000000e+00 5.1100000e+02 5.1100000e+02 1.0000000e+00\n",
            " 1.0000000e+00 1.0000000e+00 1.0000000e+00 1.0000000e+00 1.0000000e+00\n",
            " 1.0000000e+00 2.5500000e+02 2.5500000e+02 1.0000000e+00 1.0000000e+00\n",
            " 1.0000000e+00 1.0000000e+00 1.0000000e+00 1.0000000e+00 1.0000000e+00\n",
            " 1.0000000e+00]\n"
          ]
        }
      ],
      "source": [
        "# Declare scaler.\n",
        "mmScaler = MinMaxScaler()\n",
        "\n",
        "# Fit and transform X_train and X_test.\n",
        "mmScaler.fit(X_train)\n",
        "mmScaler.fit(X_test)\n",
        "\n",
        "# Transform on X_train and X_test.\n",
        "X_train_mmstd = mmScaler.transform(X_train)\n",
        "X_test_mmstd = mmScaler.transform(X_test)\n",
        "\n",
        "# Check per feature minimum seen in the data.\n",
        "print(mmScaler.data_min_)\n",
        "\n",
        "# Check per feature maximum seen in the data.\n",
        "print(mmScaler.data_max_)"
      ]
    },
    {
      "cell_type": "code",
      "source": [
        "# Calculate variance.\n",
        "var = np.var(a=X_train_mmstd, axis=0)\n",
        "var"
      ],
      "metadata": {
        "colab": {
          "base_uri": "https://localhost:8080/"
        },
        "id": "jH8tgrYrXS2D",
        "outputId": "c8875ce4-fd7e-4d42-8841-807e79c858ad"
      },
      "execution_count": 37,
      "outputs": [
        {
          "output_type": "execute_result",
          "data": {
            "text/plain": [
              "array([2.16669130e-03, 1.47242478e-03, 4.35578162e-03, 7.52357388e-03,\n",
              "       4.41039618e-06, 4.54896681e-04, 1.28920576e-04, 1.71266060e-04,\n",
              "       1.71574597e-04, 2.80467463e-05, 1.42851456e-05, 6.06661792e-04,\n",
              "       5.03577971e-02, 2.01111272e-02, 2.00080371e-01, 2.00336829e-01,\n",
              "       1.01594642e-01, 1.03895955e-01, 1.93273354e-01, 3.18788356e-02,\n",
              "       6.58321440e-02, 1.50702073e-01, 1.88269735e-01, 2.01542640e-01,\n",
              "       3.50391220e-02, 9.50861799e-02, 1.22263384e-02, 1.98298891e-01,\n",
              "       1.98975298e-01, 9.35522817e-02, 1.00696533e-01])"
            ]
          },
          "metadata": {},
          "execution_count": 37
        }
      ]
    },
    {
      "cell_type": "code",
      "source": [
        "# Figure size and y limit.\n",
        "figure(figsize=(8, 6), dpi=80)\n",
        "plt.ylim(0, 0.25)\n",
        "\n",
        "# Plot.\n",
        "plt.bar(np.arange(len(var)), var)\n",
        "plt.show()"
      ],
      "metadata": {
        "colab": {
          "base_uri": "https://localhost:8080/",
          "height": 423
        },
        "id": "2C71_zVxZwv5",
        "outputId": "86e3a1b2-73de-4123-bf0b-5678088102b9"
      },
      "execution_count": 38,
      "outputs": [
        {
          "output_type": "display_data",
          "data": {
            "text/plain": [
              "<Figure size 640x480 with 1 Axes>"
            ],
            "image/png": "[encoded data removed]"
          },
          "metadata": {}
        }
      ]
    },
    {
      "cell_type": "code",
      "source": [
        "# Fit the output of the MinMaxScaler\n",
        "vThresh = VarianceThreshold(threshold=0.01)\n",
        "vThresh.fit(X_train_mmstd)\n",
        "\n",
        "# Transform the data that was scaled with the StandardScaler.\n",
        "X_train_selFeat = vThresh.transform(X_train_std)\n",
        "X_test_selFeat = vThresh.transform(X_test_std)\n",
        "\n",
        "# Initialize a new SVC.\n",
        "clf1 = SVC(kernel='linear')\n",
        "\n",
        "# Fitting the selected features into SVC.\n",
        "clf1.fit(X_train_selFeat, Y_train)\n",
        "\n",
        "# Predict using the selected features.\n",
        "pred_Y = clf1.predict(X_test_selFeat)"
      ],
      "metadata": {
        "id": "gODaSCnnk_Cy"
      },
      "execution_count": 39,
      "outputs": []
    },
    {
      "cell_type": "code",
      "execution_count": 40,
      "metadata": {
        "id": "OYrVo9IFtCqf",
        "colab": {
          "base_uri": "https://localhost:8080/",
          "height": 337
        },
        "outputId": "e6102dc3-7162-4137-8578-dee55726050c"
      },
      "outputs": [
        {
          "output_type": "stream",
          "name": "stdout",
          "text": [
            "\n",
            "Accuracy Score: 72.86 %\n",
            "\n",
            "Confusion matrix:\n"
          ]
        },
        {
          "output_type": "display_data",
          "data": {
            "text/plain": [
              "<Figure size 360x288 with 2 Axes>"
            ],
            "image/png": "[encoded data removed]"
          },
          "metadata": {}
        }
      ],
      "source": [
        "# Confusion matrix and accuracy.\n",
        "cm = confusion_matrix(Y_test, pred_Y)\n",
        "ac = accuracy_score(Y_test, pred_Y)\n",
        "\n",
        "print(\"\\nAccuracy Score:\", round(ac * 100, 2), \"%\")\n",
        "print(\"\\nConfusion matrix:\")\n",
        "\n",
        "# Show cf.\n",
        "sns.set(rc={'figure.figsize':(5, 4)})\n",
        "x_axis_labels = ['benign', 'dos', 'probe', 'r2l', 'u2r']\n",
        "y_axis_labels = ['benign', 'dos', 'probe', 'r2l', 'u2r']\n",
        "\n",
        "sns.heatmap(cm, annot=True, cmap='Blues', fmt='g', xticklabels=x_axis_labels, yticklabels=y_axis_labels)\n",
        "\n",
        "plt.show()"
      ]
    },
    {
      "cell_type": "markdown",
      "metadata": {
        "deletable": false,
        "editable": false,
        "tags": [],
        "id": "17qwibsitCqf"
      },
      "source": [
        "<span style=\"color:red\">Insert your text answers below</span>."
      ]
    },
    {
      "cell_type": "markdown",
      "metadata": {
        "id": "BQorJlzVtCqf"
      },
      "source": [
        "\n",
        "\n"
      ]
    },
    {
      "cell_type": "markdown",
      "metadata": {
        "deletable": false,
        "editable": false,
        "tags": [],
        "id": "lP2B7v9WtCqg"
      },
      "source": [
        "### Part 3: Univariate Feature Selection - `f_classif`\n",
        "\n",
        "Univariate feature selection works by performing statistical tests on each of the features (i.e. on each column in our dataset). There are a [few options provided by `scikit-learn`](https://scikit-learn.org/stable/modules/feature_selection.html#univariate-feature-selection). We will use the [`SelectKBest` functionality](https://scikit-learn.org/stable/modules/generated/sklearn.feature_selection.SelectKBest.html), which allows us to pick \"the top\" `K` features per the metric we select. To pick the top features, we will use the [`f_classif` function](https://scikit-learn.org/stable/modules/generated/sklearn.feature_selection.f_classif.html), as we are doing a classification. `f_classif` uses the ANOVA F-value to determine features to select. More info on ANOVA is available [here](https://datascience.stackexchange.com/questions/74465/how-to-understand-anova-f-for-feature-selection-in-python-sklearn-selectkbest-w).\n",
        "\n",
        "The `SelectKBest` functionality coupled with `f_classif`, will use this score to pick the `K` top features.\n",
        "\n",
        "#### Task:\n",
        "1. Loop over the total count of features (i.e. for variable `k` from 1 to 31)\n",
        "2. Use the [`SelectKBest` class](https://scikit-learn.org/stable/modules/generated/sklearn.feature_selection.SelectKBest.html) with [`f_classif`](https://scikit-learn.org/stable/modules/generated/sklearn.feature_selection.f_classif.html) to pick the top `k` features from our dataset\n",
        "3. Train a new SVM classification with features transformed with the `SelectKBest` object you just created (note: both train and test data have to be transformed)\n",
        "4. Use the `accuracy_score` function to get the accuracy at each iteration\n",
        "5. Repeat steps 2 to 4 for each value of `k`.\n",
        "6. Then plot the accuracy versus number of features in a single plot\n",
        "7. Given this data, discuss the number of features you might use in a final solution? (Use markdown - no wrong answer here)\n",
        "8. How doe the \"best\" accuracy value compare with the SVM before removing any features? \n",
        "\n",
        "this will take a few minutes to run, go get a coffee!"
      ]
    },
    {
      "cell_type": "markdown",
      "metadata": {
        "id": "YYNlG4VVtCqg"
      },
      "source": [
        "<span style=\"color:red\">Insert your code below</span>."
      ]
    },
    {
      "cell_type": "code",
      "execution_count": 41,
      "metadata": {
        "id": "oNLQ321AtCqg"
      },
      "outputs": [],
      "source": [
        "from sklearn.feature_selection import SelectKBest\n",
        "from sklearn.feature_selection import f_classif\n",
        "from sklearn.svm import SVR\n",
        "from sklearn.metrics import mean_squared_error\n",
        "\n",
        "# A list to store all accuracies.\n",
        "accuracies = []\n",
        "\n",
        "# k from 1 to 31.\n",
        "for i in range(1, 32):\n",
        "\n",
        "  # Selecting k number of best features.\n",
        "  kBest = SelectKBest(score_func=f_classif, k=i)\n",
        "  kBest.fit(X_train_std, Y_train)\n",
        "  \n",
        "  # Transform the data that was scaled with the StandardScaler.\n",
        "  X_train_kBest = kBest.transform(X_train_std)\n",
        "  X_test_kBest = kBest.transform(X_test_std)\n",
        "\n",
        "  # Initialize SVC.\n",
        "  clf2 = SVC(kernel='linear')\n",
        "\n",
        "  # Fit and predict.\n",
        "  clf2.fit(X_train_kBest, Y_train)\n",
        "  pred_Y = clf2.predict(X_test_kBest)\n",
        "\n",
        "  # Accuracy score.\n",
        "  ac = round((accuracy_score(Y_test, pred_Y)) * 100, 2)\n",
        "  # Append accuracy score into list.\n",
        "  accuracies.append(ac)"
      ]
    },
    {
      "cell_type": "code",
      "execution_count": 42,
      "metadata": {
        "id": "u8KJJqDwtCqg",
        "colab": {
          "base_uri": "https://localhost:8080/",
          "height": 453
        },
        "outputId": "5ddd3f7c-c923-4fea-fcd0-007e7fb46113"
      },
      "outputs": [
        {
          "output_type": "display_data",
          "data": {
            "text/plain": [
              "<Figure size 640x480 with 1 Axes>"
            ],
            "image/png": "[encoded data removed]"
          },
          "metadata": {}
        }
      ],
      "source": [
        "import matplotlib.pyplot as plt\n",
        "\n",
        "figure(figsize=(8, 6), dpi=80)\n",
        "\n",
        "plt.plot(accuracies)\n",
        "plt.xlabel('Number of features')\n",
        "plt.ylabel('Accuracy')\n",
        "plt.title('Prediction accuracy per k number of features')\n",
        "plt.show()"
      ]
    },
    {
      "cell_type": "markdown",
      "metadata": {
        "deletable": false,
        "editable": false,
        "tags": [],
        "id": "9c8LTD6ntCqh"
      },
      "source": [
        "# Task 2: Dimensionality Reduction via PCA\n",
        "\n",
        "PCA is one of the most commonly used unsupervised transforms, and one of the most commmon means to manipulate data for machine learning. You touched on the PCA in E-tivity 2, where we investigated linear algebra. Here we will use it to reduce the numbers of features needed for a machine learning algorithm.\n",
        "\n",
        "In the last task, we removed features. The first part, we just used some statistics on the features themselves, in independence of the other features and of the output. Then, we looked at the correlation between features and the output. \n",
        "\n",
        "What PCA does is look at correlations *between features*. If we have high correlation between two or more features, PCA will find vectors in the feature space that best describe all features. It doesn't remove features, rather it creates a new feature space, and projects all samples to this feature space. The basis of the new feature space is a linear combination of the original features. Maybe a bit crudely, you can think of it as combining features.\n",
        "\n",
        "Let's look at an example. Here is the first few rows of the dataset."
      ]
    },
    {
      "cell_type": "code",
      "execution_count": 43,
      "metadata": {
        "deletable": false,
        "editable": false,
        "tags": [],
        "colab": {
          "base_uri": "https://localhost:8080/",
          "height": 394
        },
        "id": "wyHa8uIetCqh",
        "outputId": "7ff1943b-e528-4563-88f7-0c5e8f56df95"
      },
      "outputs": [
        {
          "output_type": "execute_result",
          "data": {
            "text/plain": [
              "   duration protocol_type   service flag  src_bytes  dst_bytes  land  \\\n",
              "0         0           tcp  ftp_data   SF        491          0     0   \n",
              "1         0           udp     other   SF        146          0     0   \n",
              "2         0           tcp   private   S0          0          0     0   \n",
              "3         0           tcp      http   SF        232       8153     0   \n",
              "4         0           tcp      http   SF        199        420     0   \n",
              "5         0           tcp   private  REJ          0          0     0   \n",
              "6         0           tcp   private   S0          0          0     0   \n",
              "7         0           tcp   private   S0          0          0     0   \n",
              "\n",
              "   wrong_fragment  urgent  hot  ...  dst_host_same_srv_rate  \\\n",
              "0               0       0    0  ...                    0.17   \n",
              "1               0       0    0  ...                    0.00   \n",
              "2               0       0    0  ...                    0.10   \n",
              "3               0       0    0  ...                    1.00   \n",
              "4               0       0    0  ...                    1.00   \n",
              "5               0       0    0  ...                    0.07   \n",
              "6               0       0    0  ...                    0.04   \n",
              "7               0       0    0  ...                    0.06   \n",
              "\n",
              "   dst_host_diff_srv_rate  dst_host_same_src_port_rate  \\\n",
              "0                    0.03                         0.17   \n",
              "1                    0.60                         0.88   \n",
              "2                    0.05                         0.00   \n",
              "3                    0.00                         0.03   \n",
              "4                    0.00                         0.00   \n",
              "5                    0.07                         0.00   \n",
              "6                    0.05                         0.00   \n",
              "7                    0.07                         0.00   \n",
              "\n",
              "   dst_host_srv_diff_host_rate  dst_host_serror_rate  \\\n",
              "0                         0.00                  0.00   \n",
              "1                         0.00                  0.00   \n",
              "2                         0.00                  1.00   \n",
              "3                         0.04                  0.03   \n",
              "4                         0.00                  0.00   \n",
              "5                         0.00                  0.00   \n",
              "6                         0.00                  1.00   \n",
              "7                         0.00                  1.00   \n",
              "\n",
              "   dst_host_srv_serror_rate  dst_host_rerror_rate  dst_host_srv_rerror_rate  \\\n",
              "0                      0.00                  0.05                      0.00   \n",
              "1                      0.00                  0.00                      0.00   \n",
              "2                      1.00                  0.00                      0.00   \n",
              "3                      0.01                  0.00                      0.01   \n",
              "4                      0.00                  0.00                      0.00   \n",
              "5                      0.00                  1.00                      1.00   \n",
              "6                      1.00                  0.00                      0.00   \n",
              "7                      1.00                  0.00                      0.00   \n",
              "\n",
              "   attack_category  attack_binary  \n",
              "0           benign              0  \n",
              "1           benign              0  \n",
              "2              dos              1  \n",
              "3           benign              0  \n",
              "4           benign              0  \n",
              "5              dos              1  \n",
              "6              dos              1  \n",
              "7              dos              1  \n",
              "\n",
              "[8 rows x 42 columns]"
            ],
            "text/html": [
              "\n",
              "  <div id=\"df-3c8cdff8-67e2-46a2-95e0-7cdd17993428\">\n",
              "    <div class=\"colab-df-container\">\n",
              "      <div>\n",
              "<style scoped>\n",
              "    .dataframe tbody tr th:only-of-type {\n",
              "        vertical-align: middle;\n",
              "    }\n",
              "\n",
              "    .dataframe tbody tr th {\n",
              "        vertical-align: top;\n",
              "    }\n",
              "\n",
              "    .dataframe thead th {\n",
              "        text-align: right;\n",
              "    }\n",
              "</style>\n",
              "<table border=\"1\" class=\"dataframe\">\n",
              "  <thead>\n",
              "    <tr style=\"text-align: right;\">\n",
              "      <th></th>\n",
              "      <th>duration</th>\n",
              "      <th>protocol_type</th>\n",
              "      <th>service</th>\n",
              "      <th>flag</th>\n",
              "      <th>src_bytes</th>\n",
              "      <th>dst_bytes</th>\n",
              "      <th>land</th>\n",
              "      <th>wrong_fragment</th>\n",
              "      <th>urgent</th>\n",
              "      <th>hot</th>\n",
              "      <th>...</th>\n",
              "      <th>dst_host_same_srv_rate</th>\n",
              "      <th>dst_host_diff_srv_rate</th>\n",
              "      <th>dst_host_same_src_port_rate</th>\n",
              "      <th>dst_host_srv_diff_host_rate</th>\n",
              "      <th>dst_host_serror_rate</th>\n",
              "      <th>dst_host_srv_serror_rate</th>\n",
              "      <th>dst_host_rerror_rate</th>\n",
              "      <th>dst_host_srv_rerror_rate</th>\n",
              "      <th>attack_category</th>\n",
              "      <th>attack_binary</th>\n",
              "    </tr>\n",
              "  </thead>\n",
              "  <tbody>\n",
              "    <tr>\n",
              "      <th>0</th>\n",
              "      <td>0</td>\n",
              "      <td>tcp</td>\n",
              "      <td>ftp_data</td>\n",
              "      <td>SF</td>\n",
              "      <td>491</td>\n",
              "      <td>0</td>\n",
              "      <td>0</td>\n",
              "      <td>0</td>\n",
              "      <td>0</td>\n",
              "      <td>0</td>\n",
              "      <td>...</td>\n",
              "      <td>0.17</td>\n",
              "      <td>0.03</td>\n",
              "      <td>0.17</td>\n",
              "      <td>0.00</td>\n",
              "      <td>0.00</td>\n",
              "      <td>0.00</td>\n",
              "      <td>0.05</td>\n",
              "      <td>0.00</td>\n",
              "      <td>benign</td>\n",
              "      <td>0</td>\n",
              "    </tr>\n",
              "    <tr>\n",
              "      <th>1</th>\n",
              "      <td>0</td>\n",
              "      <td>udp</td>\n",
              "      <td>other</td>\n",
              "      <td>SF</td>\n",
              "      <td>146</td>\n",
              "      <td>0</td>\n",
              "      <td>0</td>\n",
              "      <td>0</td>\n",
              "      <td>0</td>\n",
              "      <td>0</td>\n",
              "      <td>...</td>\n",
              "      <td>0.00</td>\n",
              "      <td>0.60</td>\n",
              "      <td>0.88</td>\n",
              "      <td>0.00</td>\n",
              "      <td>0.00</td>\n",
              "      <td>0.00</td>\n",
              "      <td>0.00</td>\n",
              "      <td>0.00</td>\n",
              "      <td>benign</td>\n",
              "      <td>0</td>\n",
              "    </tr>\n",
              "    <tr>\n",
              "      <th>2</th>\n",
              "      <td>0</td>\n",
              "      <td>tcp</td>\n",
              "      <td>private</td>\n",
              "      <td>S0</td>\n",
              "      <td>0</td>\n",
              "      <td>0</td>\n",
              "      <td>0</td>\n",
              "      <td>0</td>\n",
              "      <td>0</td>\n",
              "      <td>0</td>\n",
              "      <td>...</td>\n",
              "      <td>0.10</td>\n",
              "      <td>0.05</td>\n",
              "      <td>0.00</td>\n",
              "      <td>0.00</td>\n",
              "      <td>1.00</td>\n",
              "      <td>1.00</td>\n",
              "      <td>0.00</td>\n",
              "      <td>0.00</td>\n",
              "      <td>dos</td>\n",
              "      <td>1</td>\n",
              "    </tr>\n",
              "    <tr>\n",
              "      <th>3</th>\n",
              "      <td>0</td>\n",
              "      <td>tcp</td>\n",
              "      <td>http</td>\n",
              "      <td>SF</td>\n",
              "      <td>232</td>\n",
              "      <td>8153</td>\n",
              "      <td>0</td>\n",
              "      <td>0</td>\n",
              "      <td>0</td>\n",
              "      <td>0</td>\n",
              "      <td>...</td>\n",
              "      <td>1.00</td>\n",
              "      <td>0.00</td>\n",
              "      <td>0.03</td>\n",
              "      <td>0.04</td>\n",
              "      <td>0.03</td>\n",
              "      <td>0.01</td>\n",
              "      <td>0.00</td>\n",
              "      <td>0.01</td>\n",
              "      <td>benign</td>\n",
              "      <td>0</td>\n",
              "    </tr>\n",
              "    <tr>\n",
              "      <th>4</th>\n",
              "      <td>0</td>\n",
              "      <td>tcp</td>\n",
              "      <td>http</td>\n",
              "      <td>SF</td>\n",
              "      <td>199</td>\n",
              "      <td>420</td>\n",
              "      <td>0</td>\n",
              "      <td>0</td>\n",
              "      <td>0</td>\n",
              "      <td>0</td>\n",
              "      <td>...</td>\n",
              "      <td>1.00</td>\n",
              "      <td>0.00</td>\n",
              "      <td>0.00</td>\n",
              "      <td>0.00</td>\n",
              "      <td>0.00</td>\n",
              "      <td>0.00</td>\n",
              "      <td>0.00</td>\n",
              "      <td>0.00</td>\n",
              "      <td>benign</td>\n",
              "      <td>0</td>\n",
              "    </tr>\n",
              "    <tr>\n",
              "      <th>5</th>\n",
              "      <td>0</td>\n",
              "      <td>tcp</td>\n",
              "      <td>private</td>\n",
              "      <td>REJ</td>\n",
              "      <td>0</td>\n",
              "      <td>0</td>\n",
              "      <td>0</td>\n",
              "      <td>0</td>\n",
              "      <td>0</td>\n",
              "      <td>0</td>\n",
              "      <td>...</td>\n",
              "      <td>0.07</td>\n",
              "      <td>0.07</td>\n",
              "      <td>0.00</td>\n",
              "      <td>0.00</td>\n",
              "      <td>0.00</td>\n",
              "      <td>0.00</td>\n",
              "      <td>1.00</td>\n",
              "      <td>1.00</td>\n",
              "      <td>dos</td>\n",
              "      <td>1</td>\n",
              "    </tr>\n",
              "    <tr>\n",
              "      <th>6</th>\n",
              "      <td>0</td>\n",
              "      <td>tcp</td>\n",
              "      <td>private</td>\n",
              "      <td>S0</td>\n",
              "      <td>0</td>\n",
              "      <td>0</td>\n",
              "      <td>0</td>\n",
              "      <td>0</td>\n",
              "      <td>0</td>\n",
              "      <td>0</td>\n",
              "      <td>...</td>\n",
              "      <td>0.04</td>\n",
              "      <td>0.05</td>\n",
              "      <td>0.00</td>\n",
              "      <td>0.00</td>\n",
              "      <td>1.00</td>\n",
              "      <td>1.00</td>\n",
              "      <td>0.00</td>\n",
              "      <td>0.00</td>\n",
              "      <td>dos</td>\n",
              "      <td>1</td>\n",
              "    </tr>\n",
              "    <tr>\n",
              "      <th>7</th>\n",
              "      <td>0</td>\n",
              "      <td>tcp</td>\n",
              "      <td>private</td>\n",
              "      <td>S0</td>\n",
              "      <td>0</td>\n",
              "      <td>0</td>\n",
              "      <td>0</td>\n",
              "      <td>0</td>\n",
              "      <td>0</td>\n",
              "      <td>0</td>\n",
              "      <td>...</td>\n",
              "      <td>0.06</td>\n",
              "      <td>0.07</td>\n",
              "      <td>0.00</td>\n",
              "      <td>0.00</td>\n",
              "      <td>1.00</td>\n",
              "      <td>1.00</td>\n",
              "      <td>0.00</td>\n",
              "      <td>0.00</td>\n",
              "      <td>dos</td>\n",
              "      <td>1</td>\n",
              "    </tr>\n",
              "  </tbody>\n",
              "</table>\n",
              "<p>8 rows × 42 columns</p>\n",
              "</div>\n",
              "      <button class=\"colab-df-convert\" onclick=\"convertToInteractive('df-3c8cdff8-67e2-46a2-95e0-7cdd17993428')\"\n",
              "              title=\"Convert this dataframe to an interactive table.\"\n",
              "              style=\"display:none;\">\n",
              "        \n",
              "  <svg xmlns=\"http://www.w3.org/2000/svg\" height=\"24px\"viewBox=\"0 0 24 24\"\n",
              "       width=\"24px\">\n",
              "    <path d=\"M0 0h24v24H0V0z\" fill=\"none\"/>\n",
              "    <path d=\"M18.56 5.44l.94 2.06.94-2.06 2.06-.94-2.06-.94-.94-2.06-.94 2.06-2.06.94zm-11 1L8.5 8.5l.94-2.06 2.06-.94-2.06-.94L8.5 2.5l-.94 2.06-2.06.94zm10 10l.94 2.06.94-2.06 2.06-.94-2.06-.94-.94-2.06-.94 2.06-2.06.94z\"/><path d=\"M17.41 7.96l-1.37-1.37c-.4-.4-.92-.59-1.43-.59-.52 0-1.04.2-1.43.59L10.3 9.45l-7.72 7.72c-.78.78-.78 2.05 0 2.83L4 21.41c.39.39.9.59 1.41.59.51 0 1.02-.2 1.41-.59l7.78-7.78 2.81-2.81c.8-.78.8-2.07 0-2.86zM5.41 20L4 18.59l7.72-7.72 1.47 1.35L5.41 20z\"/>\n",
              "  </svg>\n",
              "      </button>\n",
              "      \n",
              "  <style>\n",
              "    .colab-df-container {\n",
              "      display:flex;\n",
              "      flex-wrap:wrap;\n",
              "      gap: 12px;\n",
              "    }\n",
              "\n",
              "    .colab-df-convert {\n",
              "      background-color: #E8F0FE;\n",
              "      border: none;\n",
              "      border-radius: 50%;\n",
              "      cursor: pointer;\n",
              "      display: none;\n",
              "      fill: #1967D2;\n",
              "      height: 32px;\n",
              "      padding: 0 0 0 0;\n",
              "      width: 32px;\n",
              "    }\n",
              "\n",
              "    .colab-df-convert:hover {\n",
              "      background-color: #E2EBFA;\n",
              "      box-shadow: 0px 1px 2px rgba(60, 64, 67, 0.3), 0px 1px 3px 1px rgba(60, 64, 67, 0.15);\n",
              "      fill: #174EA6;\n",
              "    }\n",
              "\n",
              "    [theme=dark] .colab-df-convert {\n",
              "      background-color: #3B4455;\n",
              "      fill: #D2E3FC;\n",
              "    }\n",
              "\n",
              "    [theme=dark] .colab-df-convert:hover {\n",
              "      background-color: #434B5C;\n",
              "      box-shadow: 0px 1px 3px 1px rgba(0, 0, 0, 0.15);\n",
              "      filter: drop-shadow(0px 1px 2px rgba(0, 0, 0, 0.3));\n",
              "      fill: #FFFFFF;\n",
              "    }\n",
              "  </style>\n",
              "\n",
              "      <script>\n",
              "        const buttonEl =\n",
              "          document.querySelector('#df-3c8cdff8-67e2-46a2-95e0-7cdd17993428 button.colab-df-convert');\n",
              "        buttonEl.style.display =\n",
              "          google.colab.kernel.accessAllowed ? 'block' : 'none';\n",
              "\n",
              "        async function convertToInteractive(key) {\n",
              "          const element = document.querySelector('#df-3c8cdff8-67e2-46a2-95e0-7cdd17993428');\n",
              "          const dataTable =\n",
              "            await google.colab.kernel.invokeFunction('convertToInteractive',\n",
              "                                                     [key], {});\n",
              "          if (!dataTable) return;\n",
              "\n",
              "          const docLinkHtml = 'Like what you see? Visit the ' +\n",
              "            '<a target=\"_blank\" href=https://colab.research.google.com/notebooks/data_table.ipynb>data table notebook</a>'\n",
              "            + ' to learn more about interactive tables.';\n",
              "          element.innerHTML = '';\n",
              "          dataTable['output_type'] = 'display_data';\n",
              "          await google.colab.output.renderOutput(dataTable, element);\n",
              "          const docLink = document.createElement('div');\n",
              "          docLink.innerHTML = docLinkHtml;\n",
              "          element.appendChild(docLink);\n",
              "        }\n",
              "      </script>\n",
              "    </div>\n",
              "  </div>\n",
              "  "
            ]
          },
          "metadata": {},
          "execution_count": 43
        }
      ],
      "source": [
        "train_df.head(8)"
      ]
    },
    {
      "cell_type": "markdown",
      "metadata": {
        "deletable": false,
        "editable": false,
        "tags": [],
        "id": "C5y_0kzptCqi"
      },
      "source": [
        "Ok, so in a small handfull of features, we can spot that (perhaps) `num_root` and `num_compromised` are correlated? Let's plot a few of them that might be correlated."
      ]
    },
    {
      "cell_type": "code",
      "execution_count": 44,
      "metadata": {
        "deletable": false,
        "editable": false,
        "tags": [],
        "colab": {
          "base_uri": "https://localhost:8080/",
          "height": 339
        },
        "id": "DDbpFjrMtCqi",
        "outputId": "5be3ee55-24e6-42ec-ab6e-ccf141176a39"
      },
      "outputs": [
        {
          "output_type": "display_data",
          "data": {
            "text/plain": [
              "<Figure size 1440x360 with 3 Axes>"
            ],
            "image/png": "[encoded data removed]"
          },
          "metadata": {}
        }
      ],
      "source": [
        "import matplotlib.pyplot as plt\n",
        "\n",
        "fig, ax = plt.subplots(1, 3, figsize=(20, 5))\n",
        "fig.subplots_adjust(wspace=0.3)\n",
        "\n",
        "ax[0].scatter(train_df['num_compromised'], train_df['num_root']);\n",
        "ax[0].set(xlabel='num_compromised', ylabel='num_root')\n",
        "\n",
        "ax[1].scatter(train_df['srv_serror_rate'], train_df['serror_rate']);\n",
        "ax[1].set(xlabel='srv_serror_rate', ylabel='serror_rate')\n",
        "\n",
        "ax[2].scatter(train_df['srv_rerror_rate'], train_df['rerror_rate']);\n",
        "ax[2].set(xlabel='srv_rerror_rate', ylabel='rerror_rate')\n",
        "\n",
        "plt.show()"
      ]
    },
    {
      "cell_type": "markdown",
      "metadata": {
        "deletable": false,
        "editable": false,
        "tags": [],
        "id": "bAQGvk1EtCqi"
      },
      "source": [
        "Note that the last two plots, while there are outliers in the plots (values at 1.0), most of the data lies along the diagonal. Just the drawing doesn't show this well, though it is highly correlated.\n",
        "\n",
        "Yes, we can see that there is some correlation between the features we selected here. We can probably assume that there is a causal relationship between them - CyberSecurity specialists wish to comment?\n",
        "\n",
        "So there is certainly some redundancy here. And likely there are more hidden correlations that we don't know about!"
      ]
    },
    {
      "cell_type": "markdown",
      "metadata": {
        "deletable": false,
        "editable": false,
        "tags": [],
        "id": "a4l0xy7vtCqi"
      },
      "source": [
        "# Task\n",
        "\n",
        "On to this weeks task. We will perform PCA on the data, before training a linear SVM, and explore some more properties of it, and how it affects the machine learning algorithm.\n",
        "\n",
        "1. Run [`PCA`](https://scikit-learn.org/stable/modules/generated/sklearn.decomposition.PCA.html) on the standard scaled data. Initially, set the desired variance to keep to 95% (`n_components=0.95`, all other parameters set to default)\n",
        "2. Train a Support Vector Classification on the PCA reduced data. As with Task 1, use a linear SVM and keep all other parameters as default\n",
        "3. Try 99% and 90%\n",
        "4. Play around with desired variance to see if you can reduce the number of features while maintaining an accuracy close to the original dataset above\n",
        "\n",
        "Discuss the following points, and compare with the previous task in this e-tivity:\n",
        "\n",
        "1. How many new features are there after the PCA?\n",
        "2. Discuss the \"goodness\" of the model, compared with the one without scaling (from Task 1), by comparing the accuracy\n",
        "3. How about if we set the variance to 99%? And how about 99.9%?\n",
        "4. Can you get better accuracy with fewer features using PCA compared to dropping the features from Task 1?\n",
        "\n",
        "Note that the parameter `n_components` of `PCA` can take either a real value between 0 and 1, in which case it will pick the number of components that maintains that level of variance in the samples, or it can take an integer value, in which case it will keep that number of components."
      ]
    },
    {
      "cell_type": "markdown",
      "metadata": {
        "deletable": false,
        "editable": false,
        "tags": [],
        "id": "6huUb6dVtCqi"
      },
      "source": [
        "<span style=\"color:red\">Insert your code below</span>."
      ]
    },
    {
      "cell_type": "code",
      "execution_count": 58,
      "metadata": {
        "id": "-CBjn3IWtCqi",
        "colab": {
          "base_uri": "https://localhost:8080/",
          "height": 355
        },
        "outputId": "70206e96-870f-4d73-abaf-73e84d12432b"
      },
      "outputs": [
        {
          "output_type": "stream",
          "name": "stdout",
          "text": [
            "X_train_pca95 shape: (25192, 19)\n",
            "\n",
            "Accuracy Score (95% variance): 72.79 %\n",
            "\n",
            "Confusion matrix:\n"
          ]
        },
        {
          "output_type": "display_data",
          "data": {
            "text/plain": [
              "<Figure size 360x288 with 2 Axes>"
            ],
            "image/png": "[encoded data removed]"
          },
          "metadata": {}
        }
      ],
      "source": [
        "from sklearn.decomposition import PCA\n",
        "\n",
        "# Declare PCA(desired variance 95%).\n",
        "pca95 = PCA(n_components=0.95)\n",
        "pca95.fit(X_train_std)\n",
        "\n",
        "# Transform the data that was scaled with the StandardScaler.\n",
        "X_train_pca95 = pca95.transform(X_train_std)\n",
        "X_test_pca95 = pca95.transform(X_test_std)\n",
        "\n",
        "# Initialize SVC.\n",
        "clf3 = SVC(kernel='linear')\n",
        "\n",
        "# Fit and predict\n",
        "clf3.fit(X_train_pca95, Y_train)\n",
        "pred_Y = clf3.predict(X_test_pca95)\n",
        "\n",
        "# Accuracy.\n",
        "ac = accuracy_score(Y_test, pred_Y)\n",
        "cm = confusion_matrix(Y_test, pred_Y)\n",
        "print(\"X_train_pca95 shape:\", X_train_pca95.shape)\n",
        "print(\"\\nAccuracy Score (95% variance):\", round(ac * 100, 2), \"%\")\n",
        "print(\"\\nConfusion matrix:\")\n",
        "\n",
        "# Show cf.\n",
        "sns.set(rc={'figure.figsize':(5, 4)})\n",
        "x_axis_labels = ['benign', 'dos', 'probe', 'r2l', 'u2r']\n",
        "y_axis_labels = ['benign', 'dos', 'probe', 'r2l', 'u2r']\n",
        "\n",
        "sns.heatmap(cm, annot=True, cmap='Blues', fmt='g', xticklabels=x_axis_labels, yticklabels=y_axis_labels)\n",
        "\n",
        "plt.show()"
      ]
    },
    {
      "cell_type": "code",
      "source": [
        "# Declare PCA(desired variance 99%).\n",
        "pca99 = PCA(n_components=0.99)\n",
        "pca99.fit(X_train_std)\n",
        "\n",
        "# Transform the data that was scaled with the StandardScaler.\n",
        "X_train_pca99 = pca99.transform(X_train_std)\n",
        "X_test_pca99 = pca99.transform(X_test_std)\n",
        "\n",
        "# Initialize SVC.\n",
        "clf4 = SVC(kernel='linear')\n",
        "\n",
        "# Fit and predict\n",
        "clf4.fit(X_train_pca99, Y_train)\n",
        "pred_Y = clf4.predict(X_test_pca99)\n",
        "\n",
        "# Accuracy.\n",
        "ac = accuracy_score(Y_test, pred_Y)\n",
        "cm = confusion_matrix(Y_test, pred_Y)\n",
        "print(\"X_train_pca95 shape:\", X_train_pca99.shape)\n",
        "print(\"\\nAccuracy Score (99% variance):\", round(ac * 100, 2), \"%\")\n",
        "print(\"\\nConfusion matrix:\")\n",
        "\n",
        "# Show cf.\n",
        "sns.set(rc={'figure.figsize':(5, 4)})\n",
        "x_axis_labels = ['benign', 'dos', 'probe', 'r2l', 'u2r']\n",
        "y_axis_labels = ['benign', 'dos', 'probe', 'r2l', 'u2r']\n",
        "\n",
        "sns.heatmap(cm, annot=True, cmap='Blues', fmt='g', xticklabels=x_axis_labels, yticklabels=y_axis_labels)\n",
        "\n",
        "plt.show()"
      ],
      "metadata": {
        "colab": {
          "base_uri": "https://localhost:8080/",
          "height": 355
        },
        "id": "EzBnokNGxznh",
        "outputId": "a7e67525-1af2-4ccf-f67b-88f580f829d4"
      },
      "execution_count": 59,
      "outputs": [
        {
          "output_type": "stream",
          "name": "stdout",
          "text": [
            "X_train_pca95 shape: (25192, 23)\n",
            "\n",
            "Accuracy Score (99% variance): 73.02 %\n",
            "\n",
            "Confusion matrix:\n"
          ]
        },
        {
          "output_type": "display_data",
          "data": {
            "text/plain": [
              "<Figure size 360x288 with 2 Axes>"
            ],
            "image/png": "[encoded data removed]"
          },
          "metadata": {}
        }
      ]
    },
    {
      "cell_type": "code",
      "source": [
        "# Declare PCA(desired variance 99.9%).\n",
        "pca999 = PCA(n_components=0.999)\n",
        "pca999.fit(X_train_std)\n",
        "\n",
        "# Transform the data that was scaled with the StandardScaler.\n",
        "X_train_pca999 = pca999.transform(X_train_std)\n",
        "X_test_pca999 = pca999.transform(X_test_std)\n",
        "\n",
        "# Initialize SVC.\n",
        "clf5 = SVC(kernel='linear')\n",
        "\n",
        "# Fit and predict\n",
        "clf5.fit(X_train_pca999, Y_train)\n",
        "pred_Y = clf5.predict(X_test_pca999)\n",
        "\n",
        "# Accuracy.\n",
        "ac = accuracy_score(Y_test, pred_Y)\n",
        "cm = confusion_matrix(Y_test, pred_Y)\n",
        "print(\"X_train_pca95 shape:\", X_train_pca999.shape)\n",
        "print(\"\\nAccuracy Score (99.9% variance):\", round(ac * 100, 2), \"%\")\n",
        "print(\"\\nConfusion matrix:\")\n",
        "\n",
        "# Show cf.\n",
        "sns.set(rc={'figure.figsize':(5, 4)})\n",
        "x_axis_labels = ['benign', 'dos', 'probe', 'r2l', 'u2r']\n",
        "y_axis_labels = ['benign', 'dos', 'probe', 'r2l', 'u2r']\n",
        "\n",
        "sns.heatmap(cm, annot=True, cmap='Blues', fmt='g', xticklabels=x_axis_labels, yticklabels=y_axis_labels)\n",
        "\n",
        "plt.show()"
      ],
      "metadata": {
        "colab": {
          "base_uri": "https://localhost:8080/",
          "height": 355
        },
        "id": "bSR7r7QWMt95",
        "outputId": "cbb97b19-8265-472a-ffd4-e430762d57c2"
      },
      "execution_count": 60,
      "outputs": [
        {
          "output_type": "stream",
          "name": "stdout",
          "text": [
            "X_train_pca95 shape: (25192, 28)\n",
            "\n",
            "Accuracy Score (99.9% variance): 72.98 %\n",
            "\n",
            "Confusion matrix:\n"
          ]
        },
        {
          "output_type": "display_data",
          "data": {
            "text/plain": [
              "<Figure size 360x288 with 2 Axes>"
            ],
            "image/png": "[encoded data removed]"
          },
          "metadata": {}
        }
      ]
    },
    {
      "cell_type": "code",
      "source": [
        "# Declare PCA(desired variance 90%).\n",
        "pca90 = PCA(n_components=0.90)\n",
        "pca90.fit(X_train_std)\n",
        "\n",
        "# Transform the data that was scaled with the StandardScaler.\n",
        "X_train_pca90 = pca90.transform(X_train_std)\n",
        "X_test_pca90 = pca90.transform(X_test_std)\n",
        "\n",
        "# Initialize SVC.\n",
        "clf6 = SVC(kernel='linear')\n",
        "\n",
        "# Fit and predict\n",
        "clf6.fit(X_train_pca90, Y_train)\n",
        "pred_Y = clf6.predict(X_test_pca90)\n",
        "\n",
        "# Accuracy.\n",
        "ac = accuracy_score(Y_test, pred_Y)\n",
        "cm = confusion_matrix(Y_test, pred_Y)\n",
        "print(\"X_train_pca95 shape:\", X_train_pca90.shape)\n",
        "print(\"\\nAccuracy Score (90% variance):\", round(ac * 100, 2), \"%\")\n",
        "print(\"\\nConfusion matrix:\")\n",
        "\n",
        "# Show cf.\n",
        "sns.set(rc={'figure.figsize':(5, 4)})\n",
        "x_axis_labels = ['benign', 'dos', 'probe', 'r2l', 'u2r']\n",
        "y_axis_labels = ['benign', 'dos', 'probe', 'r2l', 'u2r']\n",
        "\n",
        "sns.heatmap(cm, annot=True, cmap='Blues', fmt='g', xticklabels=x_axis_labels, yticklabels=y_axis_labels)\n",
        "\n",
        "plt.show()"
      ],
      "metadata": {
        "colab": {
          "base_uri": "https://localhost:8080/",
          "height": 355
        },
        "id": "TVgBHzrs5O6B",
        "outputId": "cb1a4ce8-61bc-47a0-c13d-84b99f5d4dca"
      },
      "execution_count": 61,
      "outputs": [
        {
          "output_type": "stream",
          "name": "stdout",
          "text": [
            "X_train_pca95 shape: (25192, 16)\n",
            "\n",
            "Accuracy Score (90% variance): 72.63 %\n",
            "\n",
            "Confusion matrix:\n"
          ]
        },
        {
          "output_type": "display_data",
          "data": {
            "text/plain": [
              "<Figure size 360x288 with 2 Axes>"
            ],
            "image/png": "[encoded data removed]"
          },
          "metadata": {}
        }
      ]
    },
    {
      "cell_type": "code",
      "source": [
        "# Declare PCA(desired variance 85%).\n",
        "pca85 = PCA(n_components=0.85)\n",
        "pca85.fit(X_train_std)\n",
        "\n",
        "# Transform the data that was scaled with the StandardScaler.\n",
        "X_train_pca85 = pca85.transform(X_train_std)\n",
        "X_test_pca85 = pca85.transform(X_test_std)\n",
        "\n",
        "# Initialize SVC.\n",
        "clf7 = SVC(kernel='linear')\n",
        "\n",
        "# Fit and predict\n",
        "clf7.fit(X_train_pca85, Y_train)\n",
        "pred_Y = clf7.predict(X_test_pca85)\n",
        "\n",
        "# Accuracy.\n",
        "ac = accuracy_score(Y_test, pred_Y)\n",
        "cm = confusion_matrix(Y_test, pred_Y)\n",
        "print(\"X_train_pca95 shape:\", X_train_pca85.shape)\n",
        "print(\"\\nAccuracy Score (85% variance):\", round(ac * 100, 2), \"%\")\n",
        "print(\"\\nConfusion matrix:\")\n",
        "\n",
        "# Show cf.\n",
        "sns.set(rc={'figure.figsize':(5, 4)})\n",
        "x_axis_labels = ['benign', 'dos', 'probe', 'r2l', 'u2r']\n",
        "y_axis_labels = ['benign', 'dos', 'probe', 'r2l', 'u2r']\n",
        "\n",
        "sns.heatmap(cm, annot=True, cmap='Blues', fmt='g', xticklabels=x_axis_labels, yticklabels=y_axis_labels)\n",
        "\n",
        "plt.show()"
      ],
      "metadata": {
        "colab": {
          "base_uri": "https://localhost:8080/",
          "height": 355
        },
        "id": "_OQ0ZbHa6v7M",
        "outputId": "f0d9be11-e9c0-401e-ef6d-3637aeced205"
      },
      "execution_count": 62,
      "outputs": [
        {
          "output_type": "stream",
          "name": "stdout",
          "text": [
            "X_train_pca95 shape: (25192, 14)\n",
            "\n",
            "Accuracy Score (85% variance): 72.27 %\n",
            "\n",
            "Confusion matrix:\n"
          ]
        },
        {
          "output_type": "display_data",
          "data": {
            "text/plain": [
              "<Figure size 360x288 with 2 Axes>"
            ],
            "image/png": "[encoded data removed]"
          },
          "metadata": {}
        }
      ]
    },
    {
      "cell_type": "code",
      "source": [
        "# Declare PCA(desired variance 80%).\n",
        "pca80 = PCA(n_components=0.80)\n",
        "pca80.fit(X_train_std)\n",
        "\n",
        "# Transform the data that was scaled with the StandardScaler.\n",
        "X_train_pca80 = pca80.transform(X_train_std)\n",
        "X_test_pca80 = pca80.transform(X_test_std)\n",
        "\n",
        "# Initialize SVC.\n",
        "clf8 = SVC(kernel='linear')\n",
        "\n",
        "# Fit and predict\n",
        "clf8.fit(X_train_pca80, Y_train)\n",
        "pred_Y = clf8.predict(X_test_pca80)\n",
        "\n",
        "# Accuracy.\n",
        "ac = accuracy_score(Y_test, pred_Y)\n",
        "cm = confusion_matrix(Y_test, pred_Y)\n",
        "print(\"X_train_pca95 shape:\", X_train_pca80.shape)\n",
        "print(\"\\nAccuracy Score (80% variance):\", round(ac * 100, 2), \"%\")\n",
        "print(\"\\nConfusion matrix:\")\n",
        "\n",
        "# Show cf.\n",
        "sns.set(rc={'figure.figsize':(5, 4)})\n",
        "x_axis_labels = ['benign', 'dos', 'probe', 'r2l', 'u2r']\n",
        "y_axis_labels = ['benign', 'dos', 'probe', 'r2l', 'u2r']\n",
        "\n",
        "sns.heatmap(cm, annot=True, cmap='Blues', fmt='g', xticklabels=x_axis_labels, yticklabels=y_axis_labels)\n",
        "\n",
        "plt.show()"
      ],
      "metadata": {
        "colab": {
          "base_uri": "https://localhost:8080/",
          "height": 355
        },
        "id": "AIs8ox_q8Bvs",
        "outputId": "f83a8ddc-b197-4952-982a-9e6c1b660c6a"
      },
      "execution_count": 64,
      "outputs": [
        {
          "output_type": "stream",
          "name": "stdout",
          "text": [
            "X_train_pca95 shape: (25192, 12)\n",
            "\n",
            "Accuracy Score (80% variance): 71.85 %\n",
            "\n",
            "Confusion matrix:\n"
          ]
        },
        {
          "output_type": "display_data",
          "data": {
            "text/plain": [
              "<Figure size 360x288 with 2 Axes>"
            ],
            "image/png": "[encoded data removed]"
          },
          "metadata": {}
        }
      ]
    },
    {
      "cell_type": "markdown",
      "metadata": {
        "id": "aIKNh2QmtCqk"
      },
      "source": [
        "<span style=\"color:red\">Insert your text answers below</span>."
      ]
    },
    {
      "cell_type": "markdown",
      "metadata": {
        "id": "6Ut-tSx4tCqk"
      },
      "source": [
        "## 1) How many features are there after the PCA?\n",
        "\n",
        "Variance: 95%, 19 features.\n",
        "\n",
        "Variance: 99%, 23 features.\n",
        "\n",
        "Variance: 99.9%, 28 features\n",
        "\n",
        "Variance: 90%, 16 features.\n",
        "\n",
        "Variance: 85%, 14 features.\n",
        "\n",
        "Variance: 80%, 12 features.\n",
        "\n",
        "## 2) Discuss the \"goodness\" of the model, compared with the one without scaling (from Task 1), by comparing the accuracy\n",
        "\n",
        "Accuracy Score (standard): 73.09 %\n",
        "\n",
        "Models before scaling tend to have higher accuracy compared to after scaling.\n",
        "\n",
        "## 3) How about if we set the variance to 99%? And how about 99.9%?\n",
        "\n",
        "Accuracy Score (99% variance): 73.02 %\n",
        "\n",
        "Accuracy Score (99.9% variance): 72.98 %\n",
        "\n",
        "Although just a slight difference in variance, the overall accuracy is still affected.\n",
        "\n",
        "# 4) Can you get better accuracy with fewer features using PCA compared to dropping the features from Task 1?\n",
        "\n",
        "No."
      ]
    },
    {
      "cell_type": "markdown",
      "source": [
        "# Task 3: Exploration"
      ],
      "metadata": {
        "id": "9JHiwKlC7kU5"
      }
    },
    {
      "cell_type": "markdown",
      "source": [
        "![Capture.JPG](data:image/jpeg;base64,/9j/4AAQSkZJRgABAQEAeAB4AAD/4RD0RXhpZgAATU0AKgAAAAgABAE7AAIAAAAOAAAISodpAAQAAAABAAAIWJydAAEAAAAcAAAQ0OocAAcAAAgMAAAAPgAAAAAc6gAAAAgAAAAAAAAAAAAAAAAAAAAAAAAAAAAAAAAAAAAAAAAAAAAAAAAAAAAAAAAAAAAAAAAAAAAAAAAAAAAAAAAAAAAAAAAAAAAAAAAAAAAAAAAAAAAAAAAAAAAAAAAAAAAAAAAAAAAAAAAAAAAAAAAAAAAAAAAAAAAAAAAAAAAAAAAAAAAAAAAAAAAAAAAAAAAAAAAAAAAAAAAAAAAAAAAAAAAAAAAAAAAAAAAAAAAAAAAAAAAAAAAAAAAAAAAAAAAAAAAAAAAAAAAAAAAAAAAAAAAAAAAAAAAAAAAAAAAAAAAAAAAAAAAAAAAAAAAAAAAAAAAAAAAAAAAAAAAAAAAAAAAAAAAAAAAAAAAAAAAAAAAAAAAAAAAAAAAAAAAAAAAAAAAAAAAAAAAAAAAAAAAAAAAAAAAAAAAAAAAAAAAAAAAAAAAAAAAAAAAAAAAAAAAAAAAAAAAAAAAAAAAAAAAAAAAAAAAAAAAAAAAAAAAAAAAAAAAAAAAAAAAAAAAAAAAAAAAAAAAAAAAAAAAAAAAAAAAAAAAAAAAAAAAAAAAAAAAAAAAAAAAAAAAAAAAAAAAAAAAAAAAAAAAAAAAAAAAAAAAAAAAAAAAAAAAAAAAAAAAAAAAAAAAAAAAAAAAAAAAAAAAAAAAAAAAAAAAAAAAAAAAAAAAAAAAAAAAAAAAAAAAAAAAAAAAAAAAAAAAAAAAAAAAAAAAAAAAAAAAAAAAAAAAAAAAAAAAAAAAAAAAAAAAAAAAAAAAAAAAAAAAAAAAAAAAAAAAAAAAAAAAAAAAAAAAAAAAAAAAAAAAAAAAAAAAAAAAAAAAAAAAAAAAAAAAAAAAAAAAAAAAAAAAAAAAAAAAAAAAAAAAAAAAAAAAAAAAAAAAAAAAAAAAAAAAAAAAAAAAAAAAAAAAAAAAAAAAAAAAAAAAAAAAAAAAAAAAAAAAAAAAAAAAAAAAAAAAAAAAAAAAAAAAAAAAAAAAAAAAAAAAAAAAAAAAAAAAAAAAAAAAAAAAAAAAAAAAAAAAAAAAAAAAAAAAAAAAAAAAAAAAAAAAAAAAAAAAAAAAAAAAAAAAAAAAAAAAAAAAAAAAAAAAAAAAAAAAAAAAAAAAAAAAAAAAAAAAAAAAAAAAAAAAAAAAAAAAAAAAAAAAAAAAAAAAAAAAAAAAAAAAAAAAAAAAAAAAAAAAAAAAAAAAAAAAAAAAAAAAAAAAAAAAAAAAAAAAAAAAAAAAAAAAAAAAAAAAAAAAAAAAAAAAAAAAAAAAAAAAAAAAAAAAAAAAAAAAAAAAAAAAAAAAAAAAAAAAAAAAAAAAAAAAAAAAAAAAAAAAAAAAAAAAAAAAAAAAAAAAAAAAAAAAAAAAAAAAAAAAAAAAAAAAAAAAAAAAAAAAAAAAAAAAAAAAAAAAAAAAAAAAAAAAAAAAAAAAAAAAAAAAAAAAAAAAAAAAAAAAAAAAAAAAAAAAAAAAAAAAAAAAAAAAAAAAAAAAAAAAAAAAAAAAAAAAAAAAAAAAAAAAAAAAAAAAAAAAAAAAAAAAAAAAAAAAAAAAAAAAAAAAAAAAAAAAAAAAAAAAAAAAAAAAAAAAAAAAAAAAAAAAAAAAAAAAAAAAAAAAAAAAAAAAAAAAAAAAAAAAAAAAAAAAAAAAAAAAAAAAAAAAAAAAAAAAAAAAAAAAAAAAAAAAAAAAAAAAAAAAAAAAAAAAAAAAAAAAAAAAAAAAAAAAAAAAAAAAAAAAAAAAAAAAAAAAAAAAAAAAAAAAAAAAAAAAAAAAAAAAAAAAAAAAAAAAAAAAAAAAAAAAAAAAAAAAAAAAAAAAAAAAAAAAAAAAAAAAAAAAAAAAAAAAAAAAAAAAAAAAAAAAAAAAAAAAAAAAAAAAAAAAAAAAAAAAAAAAAAAAAAAAAAAAAAAAAAAAAAAAAAAAAAAAAAAAAAAAAAAAAAAAAAAAAAAAAAAAAAAAAAAAAAAAAAAAAAAAAAAAAAAAAAAAAAAAAAAAAAAAAAAAAAAAAAAAAAAAAAAAAAAAAAAAAAAAAAAAAAAAAAAAAAAAAAAAAAAAAAAAAAAAAAAAAAAAAAAAAAAAAAAAAAAAAAAAAAAAAAAAAAAAAAAAAAAAAAAAAAAAAAAAAAAAAAAAAAAAAAAAAAAAAAAAAAAAAAAAAAAAAAAAAAAAAAAAAAAAAAAAAAAAAAAAAAAAAAAAAAAAAAAAAAAAAAAAAAAAAAAAAAAAAAAAAAAAAAAAAAAAAAAAAAAAAAAAAAAAAAAAAAAAAAAAAAAAAAAAAAAAAAAAAAAAAAAAAAAAAAAAAAAAAAAAAAAAAAAAAAAAAAAAAAAAAAAAAAAAAAAAAAAAAAAAAAAAAAAAAAAAAAAAAAAAAAAAAAAAAAAAAAAAAAAAAAAAAAAAAAAAAAAAAAAAAAAAAAAAAAAAAAAAAAAAAAAAAAAAAAAAAAAAAAAAAAAAAAAAAAAAAAAAAAAAAAAAAAAAAAAAAAAAAAAAAAAAAAAAAAAAAAAAAAAAAAAAAAAAAAAAAAAAAAAAAAAAAAAAAAAAAAAAAAAAAAAAAAAAAAAAAAAAAAAAAAAAAAAAAAAAAAAAAAAAAAAAAAAAAAAAAAAAAAAAAAAAAAAAAAAAAAAAAAAAAAAAAAAAAAAAAAAAAAAAAAAAAAAAAAAAAAAAAAAAAAAAAAAAAAAAAAAAAAAAAAAAAAAAAAAAAAAAAAAAAAAAAAAAAAAAAAAAAAAAAAAAAAAAAAAAAAAAAAAAAAAAAAAAAAAAAAExpbnl1YW4gQ2hvbmcAAAWQAwACAAAAFAAAEKaQBAACAAAAFAAAELqSkQACAAAAAzQ1AACSkgACAAAAAzQ1AADqHAAHAAAIDAAACJoAAAAAHOoAAAAIAAAAAAAAAAAAAAAAAAAAAAAAAAAAAAAAAAAAAAAAAAAAAAAAAAAAAAAAAAAAAAAAAAAAAAAAAAAAAAAAAAAAAAAAAAAAAAAAAAAAAAAAAAAAAAAAAAAAAAAAAAAAAAAAAAAAAAAAAAAAAAAAAAAAAAAAAAAAAAAAAAAAAAAAAAAAAAAAAAAAAAAAAAAAAAAAAAAAAAAAAAAAAAAAAAAAAAAAAAAAAAAAAAAAAAAAAAAAAAAAAAAAAAAAAAAAAAAAAAAAAAAAAAAAAAAAAAAAAAAAAAAAAAAAAAAAAAAAAAAAAAAAAAAAAAAAAAAAAAAAAAAAAAAAAAAAAAAAAAAAAAAAAAAAAAAAAAAAAAAAAAAAAAAAAAAAAAAAAAAAAAAAAAAAAAAAAAAAAAAAAAAAAAAAAAAAAAAAAAAAAAAAAAAAAAAAAAAAAAAAAAAAAAAAAAAAAAAAAAAAAAAAAAAAAAAAAAAAAAAAAAAAAAAAAAAAAAAAAAAAAAAAAAAAAAAAAAAAAAAAAAAAAAAAAAAAAAAAAAAAAAAAAAAAAAAAAAAAAAAAAAAAAAAAAAAAAAAAAAAAAAAAAAAAAAAAAAAAAAAAAAAAAAAAAAAAAAAAAAAAAAAAAAAAAAAAAAAAAAAAAAAAAAAAAAAAAAAAAAAAAAAAAAAAAAAAAAAAAAAAAAAAAAAAAAAAAAAAAAAAAAAAAAAAAAAAAAAAAAAAAAAAAAAAAAAAAAAAAAAAAAAAAAAAAAAAAAAAAAAAAAAAAAAAAAAAAAAAAAAAAAAAAAAAAAAAAAAAAAAAAAAAAAAAAAAAAAAAAAAAAAAAAAAAAAAAAAAAAAAAAAAAAAAAAAAAAAAAAAAAAAAAAAAAAAAAAAAAAAAAAAAAAAAAAAAAAAAAAAAAAAAAAAAAAAAAAAAAAAAAAAAAAAAAAAAAAAAAAAAAAAAAAAAAAAAAAAAAAAAAAAAAAAAAAAAAAAAAAAAAAAAAAAAAAAAAAAAAAAAAAAAAAAAAAAAAAAAAAAAAAAAAAAAAAAAAAAAAAAAAAAAAAAAAAAAAAAAAAAAAAAAAAAAAAAAAAAAAAAAAAAAAAAAAAAAAAAAAAAAAAAAAAAAAAAAAAAAAAAAAAAAAAAAAAAAAAAAAAAAAAAAAAAAAAAAAAAAAAAAAAAAAAAAAAAAAAAAAAAAAAAAAAAAAAAAAAAAAAAAAAAAAAAAAAAAAAAAAAAAAAAAAAAAAAAAAAAAAAAAAAAAAAAAAAAAAAAAAAAAAAAAAAAAAAAAAAAAAAAAAAAAAAAAAAAAAAAAAAAAAAAAAAAAAAAAAAAAAAAAAAAAAAAAAAAAAAAAAAAAAAAAAAAAAAAAAAAAAAAAAAAAAAAAAAAAAAAAAAAAAAAAAAAAAAAAAAAAAAAAAAAAAAAAAAAAAAAAAAAAAAAAAAAAAAAAAAAAAAAAAAAAAAAAAAAAAAAAAAAAAAAAAAAAAAAAAAAAAAAAAAAAAAAAAAAAAAAAAAAAAAAAAAAAAAAAAAAAAAAAAAAAAAAAAAAAAAAAAAAAAAAAAAAAAAAAAAAAAAAAAAAAAAAAAAAAAAAAAAAAAAAAAAAAAAAAAAAAAAAAAAAAAAAAAAAAAAAAAAAAAAAAAAAAAAAAAAAAAAAAAAAAAAAAAAAAAAAAAAAAAAAAAAAAAAAAAAAAAAAAAAAAAAAAAAAAAAAAAAAAAAAAAAAAAAAAAAAAAAAAAAAAAAAAAAAAAAAAAAAAAAAAAAAAAAAAAAAAAAAAAAAAAAAAAAAAAAAAAAAAAAAAAAAAAAAAAAAAAAAAAAAAAAAAAAAAAAAAAAAAAAAAAAAAAAAAAAAAAAAAAAAAAAAAAAAAAAAAAAAAAAAAAAAAAAAAAAAAAAAAAAAAAAAAAAAAAAAAAAAAAAAAAAAAAAAAAAAAAAAAAAAAAAAAAAAAAAAAAAAAAAAAAAAAAAAAAAAAAAAAAAAAAAAAAAAAAAAAAAAAAAAAAAAAAAAAAAAAAAAAAAAAAAAAAAAAAAAAAAAAAAAAAAAAAAAAAAAAAAAAAAAAAAAAAAAAAAAAAAAAAAAAAAAAAAAAAAAAAAAAAAAAAAAAAAAAAAAAAAAAAAAAAAAAAAAAAAAAAAAAAAAAAAAAAAAAAAAAAAAAAAAAAAAAAAAAAAAAAAAAAAAAAAAAAAAAAAAAAAAAAAAAAAAAAAAAAAAAAAAAAAAAAAAAAAAAAAAAAAAAAAAAAAAAAAAAAAAAAAAAAAAAAAAAAAAAAAAAAAAAAAAAAAAAAAAAAAAAAAAAAAAAAAAAAAAAAAAAAAAAAAAAAAAAAAAAAAAAAAAAAAAAAAAAAAAAAAAAAAAAAAAAAAAAAAAAAAAAAAAAAAAAAAAAAAAAAAAAAAAAAAAAAAAAAAAAAAAAAAAAAAAAAAAAAAAAAAAAAAAAAAAAAAAAAAAAAAAAAAAAAAAAAAAAAAAAAAAAAAAAAAAAAAAAAAAAAAAAAAAAAAAAAAAAAAAAAAAAAAAAAAAAAAAAAAAAAAAAAAAAAAAAAAAAAAAAAAAAAAAAAAAAAAAAAAAAAAAAAAAAAAAAAAAAAAAAAAAAAAAAAAAAAAAAAAAAAAAAAAAAAAAAAAAAAAAAAAAAAAAAAAAAAAAAAAAAAAAAAAAAAAAAAAAAAAAAAAAAAAAAAAAAAAAAAAAAAAAAAAAAAAAAAAAAAAAAAAAAAAAAAAAAAAAAAAAAAAAAAAAAAAAAAAAAAAAAAAAAAAAAyMDIyOjExOjA5IDIzOjM2OjU4ADIwMjI6MTE6MDkgMjM6MzY6NTgAAABMAGkAbgB5AHUAYQBuACAAQwBoAG8AbgBnAAAA/+ELIGh0dHA6Ly9ucy5hZG9iZS5jb20veGFwLzEuMC8APD94cGFja2V0IGJlZ2luPSfvu78nIGlkPSdXNU0wTXBDZWhpSHpyZVN6TlRjemtjOWQnPz4NCjx4OnhtcG1ldGEgeG1sbnM6eD0iYWRvYmU6bnM6bWV0YS8iPjxyZGY6UkRGIHhtbG5zOnJkZj0iaHR0cDovL3d3dy53My5vcmcvMTk5OS8wMi8yMi1yZGYtc3ludGF4LW5zIyI+PHJkZjpEZXNjcmlwdGlvbiByZGY6YWJvdXQ9InV1aWQ6ZmFmNWJkZDUtYmEzZC0xMWRhLWFkMzEtZDMzZDc1MTgyZjFiIiB4bWxuczpkYz0iaHR0cDovL3B1cmwub3JnL2RjL2VsZW1lbnRzLzEuMS8iLz48cmRmOkRlc2NyaXB0aW9uIHJkZjphYm91dD0idXVpZDpmYWY1YmRkNS1iYTNkLTExZGEtYWQzMS1kMzNkNzUxODJmMWIiIHhtbG5zOnhtcD0iaHR0cDovL25zLmFkb2JlLmNvbS94YXAvMS4wLyI+PHhtcDpDcmVhdGVEYXRlPjIwMjItMTEtMDlUMjM6MzY6NTguNDUzPC94bXA6Q3JlYXRlRGF0ZT48L3JkZjpEZXNjcmlwdGlvbj48cmRmOkRlc2NyaXB0aW9uIHJkZjphYm91dD0idXVpZDpmYWY1YmRkNS1iYTNkLTExZGEtYWQzMS1kMzNkNzUxODJmMWIiIHhtbG5zOmRjPSJodHRwOi8vcHVybC5vcmcvZGMvZWxlbWVudHMvMS4xLyI+PGRjOmNyZWF0b3I+PHJkZjpTZXEgeG1sbnM6cmRmPSJodHRwOi8vd3d3LnczLm9yZy8xOTk5LzAyLzIyLXJkZi1zeW50YXgtbnMjIj48cmRmOmxpPkxpbnl1YW4gQ2hvbmc8L3JkZjpsaT48L3JkZjpTZXE+DQoJCQk8L2RjOmNyZWF0b3I+PC9yZGY6RGVzY3JpcHRpb24+PC9yZGY6UkRGPjwveDp4bXBtZXRhPg0KICAgICAgICAgICAgICAgICAgICAgICAgICAgICAgICAgICAgICAgICAgICAgICAgICAgICAgICAgICAgICAgICAgICAgICAgICAgICAgICAgICAgICAgICAgICAgICAgICAgIAogICAgICAgICAgICAgICAgICAgICAgICAgICAgICAgICAgICAgICAgICAgICAgICAgICAgICAgICAgICAgICAgICAgICAgICAgICAgICAgICAgICAgICAgICAgICAgICAgICAgCiAgICAgICAgICAgICAgICAgICAgICAgICAgICAgICAgICAgICAgICAgICAgICAgICAgICAgICAgICAgICAgICAgICAgICAgICAgICAgICAgICAgICAgICAgICAgICAgICAgICAKICAgICAgICAgICAgICAgICAgICAgICAgICAgICAgICAgICAgICAgICAgICAgICAgICAgICAgICAgICAgICAgICAgICAgICAgICAgICAgICAgICAgICAgICAgICAgICAgICAgIAogICAgICAgICAgICAgICAgICAgICAgICAgICAgICAgICAgICAgICAgICAgICAgICAgICAgICAgICAgICAgICAgICAgICAgICAgICAgICAgICAgICAgICAgICAgICAgICAgICAgCiAgICAgICAgICAgICAgICAgICAgICAgICAgICAgICAgICAgICAgICAgICAgICAgICAgICAgICAgICAgICAgICAgICAgICAgICAgICAgICAgICAgICAgICAgICAgICAgICAgICAKICAgICAgICAgICAgICAgICAgICAgICAgICAgICAgICAgICAgICAgICAgICAgICAgICAgICAgICAgICAgICAgICAgICAgICAgICAgICAgICAgICAgICAgICAgICAgICAgICAgIAogICAgICAgICAgICAgICAgICAgICAgICAgICAgICAgICAgICAgICAgICAgICAgICAgICAgICAgICAgICAgICAgICAgICAgICAgICAgICAgICAgICAgICAgICAgICAgICAgICAgCiAgICAgICAgICAgICAgICAgICAgICAgICAgICAgICAgICAgICAgICAgICAgICAgICAgICAgICAgICAgICAgICAgICAgICAgICAgICAgICAgICAgICAgICAgICAgICAgICAgICAKICAgICAgICAgICAgICAgICAgICAgICAgICAgICAgICAgICAgICAgICAgICAgICAgICAgICAgICAgICAgICAgICAgICAgICAgICAgICAgICAgICAgICAgICAgICAgICAgICAgIAogICAgICAgICAgICAgICAgICAgICAgICAgICAgICAgICAgICAgICAgICAgICAgICAgICAgICAgICAgICAgICAgICAgICAgICAgICAgICAgICAgICAgICAgICAgICAgICAgICAgCiAgICAgICAgICAgICAgICAgICAgICAgICAgICAgICAgICAgICAgICAgICAgICAgICAgICAgICAgICAgICAgICAgICAgICAgICAgICAgICAgICAgICAgICAgICAgICAgICAgICAKICAgICAgICAgICAgICAgICAgICAgICAgICAgICAgICAgICAgICAgICAgICAgICAgICAgICAgICAgICAgICAgICAgICAgICAgICAgICAgICAgICAgICAgICAgICAgICAgICAgIAogICAgICAgICAgICAgICAgICAgICAgICAgICAgICAgICAgICAgICAgICAgICAgICAgICAgICAgICAgICAgICAgICAgICAgICAgICAgICAgICAgICAgICAgICAgICAgICAgICAgCiAgICAgICAgICAgICAgICAgICAgICAgICAgICAgICAgICAgICAgICAgICAgICAgICAgICAgICAgICAgICAgICAgICAgICAgICAgICAgICAgICAgICAgICAgICAgICAgICAgICAKICAgICAgICAgICAgICAgICAgICAgICAgICAgICAgICAgICAgICAgICAgICAgICAgICAgICAgICAgICAgICAgICAgICAgICAgICAgICAgICAgICAgICAgICAgICAgICAgICAgIAogICAgICAgICAgICAgICAgICAgICAgICAgICAgICAgICAgICAgICAgICAgICAgICAgICAgICAgICAgICAgICAgICAgICAgICAgICAgICAgICAgICAgICAgICAgICAgICAgICAgCiAgICAgICAgICAgICAgICAgICAgICAgICAgICAgICAgICAgICAgICAgICAgICAgICAgICAgICAgICAgICAgICAgICAgICAgICAgICAgICAgICAgICAgICAgICAgICAgICAgICAKICAgICAgICAgICAgICAgICAgICAgICAgICAgICAgICAgICAgICAgICAgICAgICAgICAgICAgICAgICAgICAgICAgICAgICAgICAgICAgICAgICAgICAgICAgICAgICAgICAgIAogICAgICAgICAgICAgICAgICAgICAgICAgICAgICAgICAgICAgICAgICAgICAgICAgICAgICAgICAgICAgICAgICAgICAgICAgICAgICAgICAgICAgICAgICAgICAgICAgICAgCiAgICAgICAgICAgICAgICAgICAgICAgICAgICA8P3hwYWNrZXQgZW5kPSd3Jz8+/9sAQwAHBQUGBQQHBgUGCAcHCAoRCwoJCQoVDxAMERgVGhkYFRgXGx4nIRsdJR0XGCIuIiUoKSssKxogLzMvKjInKisq/9sAQwEHCAgKCQoUCwsUKhwYHCoqKioqKioqKioqKioqKioqKioqKioqKioqKioqKioqKioqKioqKioqKioqKioqKioq/8AAEQgB8wMiAwEiAAIRAQMRAf/EAB8AAAEFAQEBAQEBAAAAAAAAAAABAgMEBQYHCAkKC//EALUQAAIBAwMCBAMFBQQEAAABfQECAwAEEQUSITFBBhNRYQcicRQygZGhCCNCscEVUtHwJDNicoIJChYXGBkaJSYnKCkqNDU2Nzg5OkNERUZHSElKU1RVVldYWVpjZGVmZ2hpanN0dXZ3eHl6g4SFhoeIiYqSk5SVlpeYmZqio6Slpqeoqaqys7S1tre4ubrCw8TFxsfIycrS09TV1tfY2drh4uPk5ebn6Onq8fLz9PX29/j5+v/EAB8BAAMBAQEBAQEBAQEAAAAAAAABAgMEBQYHCAkKC//EALURAAIBAgQEAwQHBQQEAAECdwABAgMRBAUhMQYSQVEHYXETIjKBCBRCkaGxwQkjM1LwFWJy0QoWJDThJfEXGBkaJicoKSo1Njc4OTpDREVGR0hJSlNUVVZXWFlaY2RlZmdoaWpzdHV2d3h5eoKDhIWGh4iJipKTlJWWl5iZmqKjpKWmp6ipqrKztLW2t7i5usLDxMXGx8jJytLT1NXW19jZ2uLj5OXm5+jp6vLz9PX29/j5+v/aAAwDAQACEQMRAD8A+kaKK898V/EHU7fxYvhfwbpa6nqqxCWdpZNkUKn1PJz+FAHoVFed+G/iLqQ8Tnw3430uPS9RaMywSRSb4plHXBwOR9K7dNZ06XT2vo72FrVM7pg42jHvQBdorOu/EOkWEEM17qNtBHOMxNJIBvHtTp9d0q2soryfULeO2mIEcpkG1yfQ0AX6KzLbxJo15crb2up200rkhUSQEkjriotZ1yO0sb5LCe2k1C3i8wQyybQPTcewoA2KKw7HxFBF4bstQ8QXNpZSTxqz4mBTcRztbuKuDX9Jaziu11C3NvK2xJQ4Ks3pn1oA0KKqnVLEah9gN1F9r2b/ACd3zbfXFLZ6jaagJDZXEc4jco5Rs7WHUUAWaKzr/X9J0uZYtR1G2tpGGQssgUmub+Ivj+Pwd4TXUtPNtd3M7olvG8uFfcwG7IzwAc/hQB2tFYfhLU77VvC1tfap9lNzKpZvskm+P8DgV57pXxC+IHiOa/fw/wCHNPntbW6e3Dy3RUkqcdNpoA9eorHg1sWGiWtz4olttNuZF/eI0vyhvQE9auJq+nPpp1BL2A2YGTP5g2AfWgC5RWVa+J9Evlmaz1S1nEKGSTy5QdqjqTWF4Q+Jei+LNPv7yOVLWKznaMiVxkqP4zjoCc/lQB2VFVJNVsIkt3ku4lW5IEJLf6w+3rVefxLottdG2uNTtY5w4QxtIA249Bj8aANOisybxJotvfCzn1S1juW6RNKA35Vos6pGzk/KoySPSgB1FePP8UvF2s/2jf8AhDQLS802wleIrLc7ZpSvXC4NehaH4stNU8JWuu3wOmRTRhnS6+Qxk9jmgDforntZ8XWVr4N1TXNJuIL9bC3kmxG4IJVScfpVbwp40t9X+H+l+I9Zkg08X0Qch5AFUkngE9elAHVUVUs9VsNQszdWN3DPAOskbgqPxqta+JtEvrhoLPVLWaVASyJKCRjrxQBqUVw+lfEqx8RWutjRDCbnTWZYkmlCiUA4398L71vaZryDwva6nrs9raNIgMjCUGMH2Y4zQBtUVSs9Z03UbZ7ixvoLiKP77xuCF+tVV8V6A0kSLq9mWmx5Y84fNnpigDXoqtqElzHps0mnxLNchCYkZsBm7c15BL8S/iLF4wi8Nt4Z077fLCZlX7WcbRjvs9xQB7RRWDb+J7WysbVPE13Z6dqMiAyW5mHyn2z2rUu9UsLC0F1e3cMEDdJHcBT+NAFqiuX8S+M7XTfBGpa9o00GofY49wVJAQTnGCRVnQPF2mavY2O++tVvrmBZDbrKCwJGcYoA36KzLvxJo1hJIl7qdrA0bBXWSQAqT0FZ/iLxDPZ6VaXmhmzulnnRC0s+1SpIBIODk+1AHR0Vm3niDStNaKPUtQtrWWUAqkkgBNO/t7SvsxuP7Qt/JWTyzJvG0NnGM+uaANCiq0mo2cVxBBJcxrLcDMSFuX+lVpvEejW+oCxm1O1juiceS0oDflQBpUVn6jr2laSUGp6hb2pf7olkAzVq0u7e+tluLOeOeF+VkjbIP40ATUUUUAFFFFABRRRQAUUUUAFFFFABRRRQAUUUUAFFFFABRRRQAUUUUAFFFFABRRRQAUUUUAFFFFABRRRQAUUUUAFFFFABRRRQAUUUUAFFFcl4y1m+0u5tUsZvLEisW4znGKqMXN2RM5KCuzraK8t/4SzWv+fv/wAdo/4SzWv+fv8A8drf6tMw+swPUqK8t/4S3WgObz/x2uD1P4meNb3XmtND1FVAOxIxbhixHuSKznScFdlwqqbsj6OorxS2m+JEtvHJceK7O3eSIuIZLZQ+7+7jdXL6145+JHh++FrqetRpKVDgC1BGD+NZGx9J0V4n4Z+I2u6vYkz3gM0fDkJjPvW1/wAJZrX/AD9/+O1vGhKSujnlXjF2Z6lRXlv/AAlmtf8AP3/47R/wlmtf8/f/AI7VfVpi+swPUqKwvCWoXOo6U0t5J5kgcjOMVu1hKLi7M3jJSV0V6KKKkosV4kupW3w/+P2r3viaU2tjrUCfZruUYjyoAK7ug6V7bVW+0yx1OMR6haRXKDoJEBxQB4xrGoWfxI+N3h3/AIRqb7VZ6Mkkt3dRAmIhsAIWHB6HisDVbTUNO8QXvwugjc22ramt3C6DAS3Lea4yPyr6GsdLsdMQpp9pDbK3URoBmntY2r3i3bW8ZuFGFlK/MB9aAPAPFttJp3xaNrqUmjQadDpiRWP9tqTBgbs7eQN369KxNd05IPg5o9rJfwX9pN4hTyTCGCKpLfKhbnGOmK+lL/R9O1QKNRsobnb93zEBxSnSNPa1itmsoTDEQ0cewYUjuBQB5d8Q/Cll4S0DSvEnhmxS2k0O4SebyV5eLI8zPr8uayNItzrXw58ZeN7sfvNZiPkF+NsK9B+ZNe4TQRXEDQzxrJE42sjDII9KjWwtUsfsa28Yttu3ygvy49MUAfNN+9ykfw4N5Lp8emf2Wuw6qCbXzfL/AI+3TOM1saf4cn1r4f8AjGLTdQsL+MTfaLSHTAwignVQcIx6DoeD3r3mfRdNurNLS4sYJbePhI2QEL9KktNNsrG1NtZ2sUEJ6pGoANAHy+viG/uLo/FO2WcqJP7NeA84TYwB+u4LXu/wr0NtE8BWYmB+03ha7mLDB3SMX5+m7FdKNH05bP7ItlALfdu8oINufXFXFUIgVAAqjAA7CgDwSJ/DcfxH8Y/8LLeASkj7D9uIC+Vg/wCrz3z6c1zr6etz8DVubm3ke0XWUGmPdA7xbtOAAC3OCp/Kvo++0PS9SkEl/YQXDr0aRASKmk02zltUtpLaJoI8bYyvyrjpxQBX0axtdO8PWttYQR28CQDbHGuFGRnpXjHw18Fv4ht9auo9e1Cw2apKPLtZtqn5jzivdwoVQoGABgCoraztrNWW1hSEM25gi4yfWgDw34nx3dl8UPDcF9daeNLjsisb61k2zyDOS/ON2PWqFjf2uhfDfxHd3stlrukz36pFbWIdbaBz1Gc/c6d8V77f6XY6pEI9RtIrlAcgSIDimLo+nJp5sUsoFtT1hCDafwoA+f8Aw3JZT/GjTbeO40CWO50yWOWHRgBE/wAhOxhn5jVDw/a6Wnwb8a2ljFANYE84khjA84RA/L8vXHWvou18P6TZSJJaadbQvH9xkjAK/jT49E0yGaaWKxgSScYlYIMuPegDw/WvE2jazF8O7XS7+3upYLuPzUicMYz5bDDAdD9a0vC/hjS9a+NXjK71G1juZ7aWLyBJzsby1IYD1r1qDw7o9sQbfTbaMq24FYwMH1q3FZW0FxJPDAiSy/6x1XBb60AfLFsk9xpfiG38Q6h4fsdUOoMGe/DG8Tpt8vBzj6V9L+HkurfwjYpeyLdXCWiB2UEeYQvoeefepp/D+kXV4Lq4062knBz5jRgmtEAAYAwKAPmydvAuoPq2pWusXngrW7e5fzrRZym9h3EZ4O7joKZrOreJNb+H/gy+17ykt/teLiW9UiBxtOxpQMcH+eK+hLnw5o15cm4utMtZZicl2jBJqzNp1nc2f2Se2ikt8Y8pkBX8qAPn6ys1XSvH95Y6ppM9tLpEgkttHDfZ0fyz8w5K5xjpWLcrP/wh/wALnne1TTVt5C7ahu+yiTI2+Zg49cZ96+lrbRdMs7WS2tbGCKGQYeNEADD3pZdG06exSzmsoHtk+7EyAqv0FAHgMdtqcXgnxrceG9SsblJtp8nR1YQxDI37Ccjld3St/wAOXPw1N94Vi0mKObWpItgFmcupIG/ztvv/AHq9itNMsbC1NvZ2kMMLdURAAahtNB0qxujc2en28Mx6yJGAaAPCfDEWg2Wj/EK1jW0i1WKSdI4xgSLCD0A67elNu/sY0H4bt4k/5FwRf6TvJEPmc7d/bGcda96GiaYLqa5FhAJ5wVlk2DLg+tPl0qwnsVs5rSF7ZekTICo/CgDwzSDav8VvEL+CzGfDH9isJzakGAz84xjjOM9K56LQtLg/Z10bVY7WI3322E/aiMuv75eA3UD2r6Ts9J0/T7doLKzhgif7yIgANH9k6f8AYls/scP2ZTkRbBtB69KAH6cd2l2pznMKHPr8ory2+I/4acsRnn+zH/mtetKoRQqjAAwAO1QGwtWvRdtbxm4A2iXb8wHpmgD5w12My+OfGcHiG50K3Ew2xNrYbf5ZQf6nkY/DvWhfwQ6Za/D638XXv2zw/GsgluJQwiZ/l2b93bG771e8Xmh6XqMwmvrC3nkXgPJGCRUtzplleWgtbq1hlgHSN0BA/CgDxjW5/CEvgbxsvguPbF5I86WEn7OzZH3MfL+VVtV0DS9H0n4cXumWiW9095AHnT77hsZDN1I+te2w6LptvYtZw2MCWz/eiVAFP1FSPp1nKkKSW0bLAcxAr9w+1MDyLTfDula78WPG51eziuxFAgRZRuVSQ3OOmffrXHrtj+DelRFy0cPiMRoGbO1Rc4AH4V9HpZW0c0s0cCLJNxIwXlvrUX9j6cbcQfYofKV94TYMBs5z9aQHil03h+L4va43j1rYQGwi/s/7aQEx82dm7jPTpzXLQ+UfgTfT2of7JFr4k3NklYxcdTn2r6Q1DQtN1PDXtjBPIikI0iAla5/wR4HHhrQ7/TtRaG8ju7yW427PlAZywGPbNAHBX/ifStd+KXg2HQ72K8a3tJN0kJDIrEDC7hxu46delcCkctxpWu2+t6hoFlqb6iwMl8rG+Rt/ylMHOPpX03a6DpVk0ZtNPt4TGSUKRgFSaSfw/pFzeC7n062kuM58xowTmgDxDxhawxeJNGku9c0j+1IdIRZoNbhAt51xjcpfgMT75rv/AIN6suqeDH8vTIrBILhowLdi0MnT5kJJ+WuzvtF0zU9v9oWMFwUGFMiA4qzbWsFlbrBaQpDEvREXAFAEtFFFABRRRQAUUUUAFFFFABRRRQAUUUUAFFFFABRRRQAUUUUAFFFFABRRRQAUUUUAFFFFABRRRQAUUUUAFFFFABRRRQAUUUUAFFFFABXB/EH/AI/bL/cf+ld5XB/EH/j9sv8Acf8ApW1D+IjCv/DZyNFFFekeaMmOIJD/ALJ/lXI/DmGC48eEzwmR1LPGQ+0I2Tz7117/AOrbjPB4ryhruWw1yS4gzG0c5YLn0PSuPE9DswvUteJbrUpPEt417NMJ/OOPmI2+mK63xm8k/wAP9Gk1KRBqBUFhIuJZFxwc0WnxIs7yWCTVdEt7i+80DzcYAT/Guh8Qx2HiLVP7JvLW48xLczQ3PGyPjIXNch2HDeA3YXc6Z+UrnFd1XEeC/wBxq13agbgpPz/Su3r0KH8NHnV/4jCiiitzA9D8Cf8AIEf/AK6GunrmPAn/ACBH/wCuhrp68ur8bPVpfAivRRRWZoWKKKKACiiigAooooAKKKKACiiigAooooAKKKKACiiigAooooAKKKKACiiigAooooAKKKKACiiigAooooAKKKKACiiigAooooAKKKKACiiigAooooAKKKKACiiigAooooAKKKKACiiigAooooAKKKKACiiigAooooAKKKKACiiigAooooAKKKKACiiigAooooAKKKKACiiigAooooAKKKKACiiigAooooAKKKKACuD+IP8Ax+2X+4/9K7yuD+IP/H7Zf7j/ANK2ofxEYV/4bORooor0jzQrzbxbpbWOrNN/yzn+ZfrXpNcx45WE6ShcDzA/ynvWFeKcDehJqfqef9CCDzW//wAJvrY0v7D9q/d7dm7HzbfTNYH09OadHs85N/3Nw3fTvXnHpHfeDNMa2smu5sb5zkeoFdPVewEYsIfI/wBXsGKsV6sIqMUkeTOTlJthRRRVkHofgT/kCP8A9dDXT1zHgT/kCP8A9dDXT15dX42erS+BFeiiiszQsUUUUAFFFFABRRRQAUUUUAFFFFABRRRQAUUUUAFFFFABRRRQAUUUUAFFFFABRRRQAUUUUAFFFFABRRRQAUUUUAFFFFABRRRQAUUUUAFFFFABRRRQAUUUUAFFFFABRRRQAUUUUAFFFFABRRRQAUUUUAFFFFABRRRQAUUUUAFFFFABRRRQAUUUUAFFFFABRRRQAUUUUAFFFFABRRRQAUUUUAFFFFABRRRQAUUUUAFcH8Qji8sv9x/6V3lcD8Rm23VmR12P/StqH8RGFf8Ahs5Dd3z2pryrGuZHCgdycVgeI9ek0iOMW6hpH5BPQVxF7q97ftm4ncj+6DgV11K0YO3U5KdCU1fod1qfi6xsVZIZPPmHZegrhdT1WfVbrzrhhz91QeBXoHg/wtpms+B45pbaNrz7aA0mOTH3H0rTfwjoZ1PxFCLKILjZZAD7jeWDkfjXJOrKe52U6UYbHj+V3Y3c4yRnmjPuPzr07+zvD1ndabotzpKm4nVXW5Cncx5yGPpWongmws4XF9p0G9ppvLwQfkydvT8KyNTzzQ/Fc2lr5U/76DP97la7Sw8Q6dqS5trpd3QoTyDW1c+CtCAtrmHT4TG5jR1xxuzz+fFedeOrb+zfED28Wm2unKjHZ9lI+cdicd62hWlFW3MJ0Iy12O8DZHBo3e/vXmVh4m1GwwBL5qf3ZOa77Tb/APtDT4bnaV3jkZziuynVjPY46lKUNz1XwF/yA5Mf89T/ADrqK5X4f86C+f8Anqf511VcFX42ehS+BFeiiiszQsUUUUAFFFFABRRRQAUUUUAFFFFABRRRQAUUUUAFFFYXime4itrJLad4POugjtGcErtY4/QU1qwehu0VyP2W4/6Cd7/39P8AjSfZrj/oJ3v/AH9P+NaeykZ+0idfRXIfZrj/AKCd7/39P+NH2a4/6Cd7/wB/T/jR7KQe0idfRXIfZrj/AKCd7/39P+NH2a4/6Cd7/wB/T/jR7KQe0idfRXIfZrj/AKCd7/39P+NH2a4/6Cd7/wB/T/jR7KQe0idfRXIfZrj/AKCd7/39P+NH2a4/6Cd7/wB/T/jR7KQe0idfRXIfZrj/AKCd7/39P+NH2a4/6Cd7/wB/T/jR7KQe0idfRXIfZrj/AKCd7/39P+NH2a4/6Cd7/wB/T/jR7KQe0idfRXIfZrj/AKCd7/39P+NH2a4/6Cd7/wB/T/jR7KQe0idfRXIfZrj/AKCd7/39P+NNktrkRORqd6CFJH70+n1o9lIPaROxorO8PzSz6DayXEhkkKnc56nBIrRrI0CiiigAooooAKKKKACiiigAooooAKKKKACiiigAooooAKKKwvFM08dpbJb3EkHmzhWaM4OPrQtQ2N2iuRNrcf8AQTvf+/p/xpPs1x/0E73/AL+n/GtfZSM/aROvorkPs1x/0E73/v6f8aPs1x/0E73/AL+n/Gj2Ug9pE6+iuQ+zXH/QTvf+/p/xo+zXH/QTvf8Av6f8aPZSD2kTr6K5D7Ncf9BO9/7+n/Gj7Ncf9BO9/wC/p/xo9lIPaROvorkPs1x/0E73/v6f8aPs1x/0E73/AL+n/Gj2Ug9pE6+iuQ+zXH/QTvf+/p/xo+zXH/QTvf8Av6f8aPZSD2kTr6K5D7Ncf9BO9/7+n/Gj7Ncf9BO9/wC/p/xo9lIPaROvorkPs1x/0E73/v6f8aPs1x/0E73/AL+n/Gj2Ug9pE6+iuQ+zXH/QTvf+/p/xo+zXH/QTvf8Av6f8aPZSD2kTr6K497a5EbEaneggEj96f8a3fDk01x4ftJbmQyyNGCzt1NRKLjuVGSlsadFFFSUFFFFABRRRQAUUUUAFFFFABRRRQAV558SmxeWK+qOf5V6HXnHxPfbfWHc7Hx/47W1H40Y1/wCGzxvxq+bq3X0U1zOM9K3vFrbtSi7Yj6elYP8AFxSqu82OkrQR6N4T1/UdAtrLS49NaWe7DPEN33wec1tDX9eh1k2droqNOQZriPduJTbjg9jxWfb2Fw/ijwndi3le3Wy2s6jjO3pn1rR8JWi2niTVruGCXTUa4EWL2TG7J5wcnrmszQhj1i9udLj1a28OM8isEabzM4Vc9BjrzUUGpazZB4H0SUu8rzcv2kyR2/2q3oIbeztY7YLIt1tl8pgfkAyucj8q0HuI7y1DkgTW80cTfTHFAHLrr+tW9sfP0WUwTyLLGA/9zg9q5HxxpbJKuqx6TPYx3bF3Msu/LHn04r1JLmGbTZLWZvmt4nlj/wC+jn+Vch4/tSuj3lwZJUD3CFVZvkkGDyBQB5bXoHheUHQ4x02nmvP+1dp4TmC6WykHIcnj0rbDu0zDEK8D3L4eHPh9/wDrqa6yuQ+GxJ8Nvk5Ilb+Zrr6ir8bNKXwIr0UUVmaFiiiigAooooAKKKKACiiigAooooAKKKKACiiigArn/Fn+r03/AK/B/wCgNXQVz/iz/V6b/wBfg/8AQGqo7oUtiI9TSUp6mkrsOMKKKKAClxWV4nkeHwnqkkTFHS1cqw6g4rxHwjN4e1bR9POqeLdcj1GfCvHGzbd2eMHFQ5Wdi1G6ufQVFcTrHj0aPqR0XSdMudWurSFZJ9jKNi9sknk8VOvxAt7vwvbavpGn3V+1xJ5Qt4wN0bjqGJOBgg0+ZC5WdfRXnJ+Jtzeafrlta6PPDq+mQCUxFlKkHOCCD2xVTw98R7zT/hzp2qa/p9xI80scAn3A+cW/jHPSlzIfKz1Giuev/F0Fj4r0zQ3gdpdQiMiyA8LgE4P5Viad8TDqeqz29vol2LW0maO6vDt8uPA69c/pT5kKzO8orz21+LNtNNDcS6TdxaRcTCGG/YrtYk4BxnOCf516ErBlDKcgjINNNPYTTQUUUUxBSP8A6p/90/ypaR/9U/8Aun+VAGn4b/5F21+jf+hGtSsvw3/yLtr9G/8AQjWpXCdoUUUUAFFFFABRRRQAUUUUAFFFFABRRRQAUUUUAFFFFABXP+LP9VYf9fK/yroKwPFf+qsOf+Xlacd0KWxCepoxQepryPxLY3OvfGtNGbVb2ztGsjIVtpNvIIH9a627HKlc9coryzRJ9Q8HfFBPC0+o3Wo6fqFs00DXB3NGwByM/hTdG8f6d4c8ASaysepX0D6o1rtnYNJuPpz04pc3cfKeqUV50firOmrvpUvhfUV1B4vNt7f5N0i9eecDirlt8U9Ml8H3GuXFrPC9vcfZXtCBvM3HyjnHcU+ZC5WdzRXHaD8QBqWqHTNU0ufTL1oDcQxysp8xB6EHryKxH+MJGm3OpR+G797CzmaOe5G3aNrYOOeelHMg5WemUtcRrXxIt9P1Cx0+wspLq6vbf7SiswRQn1J689KqeJfFMN/8Om1O9tNQ04C4jjaJSBKD5gHBBxgn9KOZBys9BoritT8eJpd1ZaNpOm3Wq6lJbLMYosfu07FiT7Goh8UrEeENR1mWxuIZtMkEV1ZuB5iknHrRzIOVndUVwWnfE77VrGl2t9od7YW+qqPss823DH6A1Jr3xEn0a7u9ug3UtlZnE1yzKoP+6CeaOZBys7qivMda8QtqXjvwPc6bcSrZagjyGPOA4KMRkVk6l4sutM8HeJ7rw+bxp4b9onlncHyDtHI/2eaXMh8rPY6K8/0b4gTQL4dsta0u5gk1YFEmcggMBnLfXmug0fxXFrXibVNKtraQJprBJLgkbWYgHA/OmpJicWjff/Vv/un+VaPhj/kW7L/rmKzn/wBW/wDun+VaPhj/AJFuy/65isqvQ1pdTWooorA2CiiigAooooAKKKKACiiigAooooAK8y+Kx/0ywx/df+lem15f8WZNt9pykEgo/QE+la0naZlWV4M8U8SuX1TnqEFZHU+lXdeuEGryht4xj/lk5/pWd9pj4+aT/vy/+FTPWTZUNIpHq2geH7jUvC3h+5i1G7Rbi52TKsnCJtPI/HFLe+HDNpeuz3Go3UkllKxtd79Qozk+vSqfhP4iaRpHhm1sLz7QZYosE+Q/D5HPT0zVn/hY/h5WeBoJ5IrgS+ZKYXBXdnGBjmpKGXVjpFhdaZDeXmovNOAA4kO2UN1we2MVZutK0y3h1ee2j1SdbKRVZIpCST/eOPSsW98V+G4dJsbWxa6mEdysyrJbt+4HcA4p6+L9Gu4dchfUb2x+2Sh43it3JI9DTA2T4d08aXHcyT6hDuiDyStIdpVifl+tc14402TRrS1tbi8nuJDITEjvkLF2P8quaj490248Py6Ys9zLGLQJGDbv/rATz0+lc74x8SWmu6hazwNM/l2yxkvA4weM9qQGF2rp/C0n+izL1wfyrlPtEX/TT/v0/wDhXQeF7kM0yoHPAJzGw/pV0naaZnVV4NH0H8MiT4bfP/PU12dcV8LW3eGHPP8Arm6jHc12tKprJlU9IIr0UUVBZYooooAKKKKACiiigAooooAKKKKACiiigAooooAK5/xZ/q9N/wCvwf8AoDV0Fc/4s/1em/8AX4P/AEBqqO6FLYiPU0lKeppK7DjCiignAyeBQBneIbaW98Naja2y75prd0Rc9SRxWN8PvD7aP4H02y1SwhjvIYyJAyKxBye9TN8Q/Ca6ibE65a/aA/llN3RvSujR1kQOhDKwyCO4qdG7lapWPJvFXgnVI/Hl5rNppU2rWt9CqhLe7MDROufvfMMjn9KNQ8G+IrbwZpdpp9myKtwZr+wsboxNIGycB9wOcnnmvUdR1K00iwkvdRnW3tovvyOcBamhmjuYEmgYPHIoZGHcHoaXKh8zPKPDngvWLfxBr88mmCwtdQ09YbdTLvKsN3DHJyeetVh4S8Uaj8JrbRLrSxbXukzRPAnmqftAU88g8V7JRn1o5EHMzzCDSfE+s/ETQdb1PSRYWlnbvG6GRWZGwRk4Pf2rQ8JeFL+38P8AiOx1KH7M+o3crxEsDlSBg8V195rumWGmzaheXsUdpCcSTFvlU1dilSeFJYm3I6hlYdxRyoOZnh+jfD7XrOOx0i60Lz/s8y+ZfSXpMDIpyCI93B49Ote4RRiKFI16KoFPopqKQnJsSiiiqJCkf/VP/un+VLSSf6p/90/yoA0/Df8AyLtr9G/9CNalc/4W05YtDhk+03DGRWGGcYX5j04rSh0tYbeWIXNy3mdXZwWX6cVwnaXqKof2Un2L7N9qucZzv3jd+eKWXS0lto4ftNyoj6MrjJ+vFAF6iqM+lrPJE5ubhPLAACOAGx68U86epvluftE4I/gDDafwxQBboqmmnKl49x9ouCXzlC42jPtimwaWkHnYubh/NBB3uDt+nFAF6iqEelJHayQC6uSHP3y43D6HFKdKQ2QtvtNyADneHG4/jigC9RVGfSlnhijN1cp5Y4ZHALfXill01ZbiOY3NwpQD5VcAH68UAXaKp/2av2/7V9ouM/8APPeNn5Yoh01YLh5Rc3DbwQVZwVH04oAuUVRg0pII5UF1ct5gxlnBK/TigaUosTbfarkgtneXG4fjigC9RVGTSkktI4PtNyoQ53q43H6nFLPpiz+Vm4uE8oADY4G768UAXawPFfMVj7XK1pSaasl4twbi4Urj5FcbT+GKw/E1iI7iyuRPMSboHyyw28gjpiqjuhS2JD1NeW+J9M8UWHxWj8R6Doo1KBbQwkGVV5JB7kelepHqaM11NXOVOx534d8Oa7q3jY+LfFdrFZSxQGG1tEk3eXnIJJBI5zXMR+AfEP8AwrS30prLF4uuC7ZPMXiLn5s5r2uo5pkt4HmmYJHGpZmPYUuVD5mcXLoGot8WrfWRb5sV08wmXI4f0x1rkW+HOuXvg/W7J4FiuX1g31sjSDEqhVxyDx0ruE+KfgqRlVPENqdxwPmrqbe4iu7dJ7aRZYnGVdTkEUuVMOZo8z8J+FtRHiL7fdaC+mx29syK1zdmeR2I/hO44H/1qhh8Ha2vwe1nRmtMX91cTvFFvHzBnJHPToa9Xqlqer2OjQJPqdylvHJIsas56sTgD8zT5UHMzzjxT4U1C+ttIiuvDcerWsFqEYQTCK5ikH+3kcfjVBfA3iYfC+8024864nnvo5ra0mnDtbxiUNtLk84A9a9iB3AEHg8g0tHIg5meaXeheJPDfi+PxFoOnpqcdxZR29xbGQK6sueQSQMc1lTeBfEN34O8R3d3bqdW1uaKRbNWUeSivnbnoTXr9UbzW9NsNPlvrq8jjtoW2SS54U5xj86OVBzM4rxL4Z1W+vvBUlpbbl0x0N0dwHlgKAfr+Fc7rfg/xLqN7r0N3pc2pSXWfslzLd/uIk7Dy92M++K9jhmSeBJoWDxyKGVh3B5Bp9HKmCk0eU2PhDW4r3wFJJZFV0mApefOP3Z8sj8eT2qL/hB9cm8G+MbA2wjuNRvWmtVLj94u1QPpyK9boo5UHMzyTxVBey/Ca2udWhj0jWdIdZbaOSZSSV+XIwecgniul+FOjS6Z4Lju77BvtTka7nbBySxyBz6DA/Ct3WfCmjeILy3utXsxcS22fLLMcD8O/StdEWKNUjUKijCqOgFCjZ3By0sD/wCrf/dP8q0fDH/It2X/AFzFZz/6t/8AdP8AKtHwx/yLdl/1zFZ1ehpS6mtRRRWBsFFFFABRRRQAUUUUAFFFFABRRRQAVFLbQTkGeGOQjpvQHH51LRQBVOmWB62Vsf8Atkv+FH9l6f8A8+Nt/wB+V/wq1RQBV/syw5/0K356/ul/wo/syw/58bb/AL8r/hVqigCr/Zlh/wA+Nt/35X/Cj+zLDn/Qrfnr+6X/AAq1RQBV/sywHSxtv+/K/wCFH9l6f/z423/flf8ACrVFAFX+y9P/AOfG2/78r/hSjTbEdLK3/wC/S/4VZooAZFDFAu2GNI19EUAU+iigCvRRRQBYooooAKKKKACiiigAooooAKKKKACiiigAooooAK5/xZ/q9N/6/B/6A1dBXP8Aiz/V6b/1+D/0BqqO6FLYiPU0lKeppK7DjCq2pQrcaXcwvL5KyRspkzjZx1zVmorq2jvLSW2nG6OVCjD1BpDPBX0nUfDfhv8AszVfCtnr3h5cs2pWUil9vr25rotZ8fC2k8OeH/Dd3JplpeWQn+2NEZWjjUEBdoySeMVeHwk1CG3bTbPxbfw6Mxx9jCocL/dztzitjV/hrb3C6RNod42m3mkx+VDMEV96YwVYEH3rLlfQ0uupxup+KL/xD8LfE1rqbGd7GVEjuzCY/PXPDbSBirur+MdQtdQ0Tw9YamNJiGnJNNci3MzE7RhQAD+ddKPh5JJ4N1DRr3WJrm41Bw8tyyKNvsAAABS6v8PWu7jTr7S9Tey1CythbGby1cSqBjkEH607SC8TmofiZrSeCJ3eNJNVS/FjFcvGUSTdjEmCPf07V0Vrp3jSyF3HqWuW17bTWjFZTHseGTHYY5HWpZfhxbXngyXRNR1C4nmlk877Z8quj9iuBgY+lM0DwDe2GqG+1zxHe6tIsLQxJJhVRT7KBk/WnaXUV10PN9JfUtN+B+tXs1zDd25mlRbeWEMofzCGY565OTiuwv8AxVrOo+KtJ8G+HrhNNmfTlu5rsxhgF6BVFTQ/CiaPw5q2hPrsr2F9IzxRlF/cktuPOOetaWvfDr+0bqx1LSdVm0rVrO3FuLqFVO9PQgg+lJJpDbVzHsvF/iKy07xZpmr3ENxqWiQmWG8iTAdSMrlfXkVUPiPxfpkPhvWb7VoLm21eZIZLJYQoQHHOcda6XTvh0ln4f1a1utRmvNQ1aMpc30oG4/QAAcVY1DwKl9oug6ebtkGjypIrbf8AWbcf4U7SFdHXUlLSVoZhSP8A6p/90/ypaR/9U/8Aun+VAGn4b/5F21+jf+hGtSsvw3/yLtr9G/8AQjWpXCdoUUUUAFFFFABRRRQAUUUUAFFFFABRRRQAUUUUAFFFFABXP+K8CKx9TcrXQVgeK8+VYY/5+VzTjuhS2IT1NJSnqaSu04wrM8S/8itqf/Xs/wDKtOq2o2Y1DTLmzZtgnjMZYds0hnzlp+t2+m/DCyt7/wAFh1vE+zxapKqGPc3AYkEkY9xXaXmsX3w38B+FfD9peRrPqEjJ9tRPMWFSc5Axk/e9K7fTvAdnbfD1fCl8/wBrtxGU8xlGRnofqKyJvhb9o8Lafpk2rzG70qYy2N7tUtGOu0gjBH4VlytI05kzL0f4hajZQa9BfXLaqmnWwnt7427RbyeNpBA9RWD4nHie88GaLq+t6vFdW19fW8otVhC+Vl1IAPftXoej+A3t7bVF13VJNTk1JPLfMaosa/7IAFYL/CO+ntbSyuvFN5LY2MyyW1sUTaoU5AJ25OPrTalYE43NnSfEWo3HxI1bRpZVNlaWMcsSbeQxznn8BXOf8LE1mDwNe3peOW/k1VrC2dlwsYMpQE+uBXR6x8P57vxMda0jWp9NnmgEFyI1VvMUdOoOOpqG0+F1nD4NutAur2acTXLXMdwcB433bgenXNFpBeIWeneOrNrhNQ160vLSezLCUx7ZIZcH7oxyOlebeEb3UrH4E6rqbXEc8Ru8LBNGHw/mAMxz1z+leneHfAF9purfb9b8RXmrPHEYoUkwqop9QoGT9azLD4RtY+G9V0BdZlbTb2QSQxFB+5O4NnOOc4oaYJoff69rmo6zovhjw/cx6c8+nR3U90UDbV2/dVfwqC08Ya7ZWHijStTnjn1LRYBLFdqoAkBzjI9eK19f+HZ1ObTL/StXuNL1XT7cW63UQB3oBjBBBFN0v4aQ2Oh6xBdalPealrC7bm+lxuI7AADAHXtTtIXunI3HjHxhpWmeFfEFzqMN3a6xNFDLZiEKEDjru65r2cHKg+ozXD6l8NodQ8NeHtH+3yRpos0UquAMy7Ox4ruAMKB6DFOKa3FJp7BRRRVkCP8A6t/90/yrR8Mf8i3Zf9cxWc/+rf8A3T/KtHwx/wAi3Zf9cxWFXob0uprUUUVgbBRRRQAUUUUAFFFFABRRRQAUUUUAFFFFABRRRQAUUUUAFFFFABRRRQAUUUUAFFFFAFeiiigCxRRRQAUUUUAFFFFABRRRQAUUUUAFFFFABRRRQAVz/iz/AFem/wDX4P8A0Bq6CqWqaTbaxbpDeB9qOHUxyFCDgjqOe9NOzuJ6oxz1NJVj/hD9O/563v8A4GSf/FUf8Idpv/PS9/8AAyT/AOKrf2qMfZMr0VY/4Q7Tf+el7/4GSf8AxVH/AAh2m/8APS9/8DJP/iqPaoPZMr0VY/4Q7Tf+el7/AOBkn/xVH/CHab/z0vf/AAMk/wDiqPaoPZMr0VY/4Q/Tf+et7/4GSf8AxVZOpWOg2Ev2dJb+6uzwtvBdSu2ffB+X6mj2qD2TL9FZEPgm91G4Se6vbvTLdc4torpnZv8AebJ/Q1G3he80NT9qa91i0DZ8yO6dZox7gEbvwyaPaoPZs2qKh03R9A1aLfZ3d4zD70bXcquh9CpORV7/AIQ7Tf8Anpe/+Bkn/wAVR7VB7JleirH/AAh2m/8APS9/8DJP/iqP+EO03/npe/8AgZJ/8VR7VB7JleirH/CHab/z0vf/AAMk/wDiqP8AhDtN/wCel7/4GSf/ABVHtUHsmV6R/wDVP/un+VWf+EO03/npe/8AgZJ/8VSHwdppUgyXuCMH/TJP/iqPaoPZMt+G/wDkXbX6N/6Ea1Khs7SKxs47a3BEcYwoJyfzqauc3CiiigAooooAKKKKACiiigAooooAKKKKACiiigAooooAKwPFf+qsOf8Al5Wt+qWqaTa6xbrDeByqMHUxyFCCPcc007O4nqjHPU0lWP8AhD9O/wCet7/4GSf/ABVH/CHab/z0vf8AwMk/+Krf2qMfZMr0VY/4Q7Tf+el7/wCBkn/xVH/CHab/AM9L3/wMk/8AiqPaoPZMr0VY/wCEO03/AJ6Xv/gZJ/8AFUf8Idpv/PS9/wDAyT/4qj2qD2TK9FWP+EO03/npe/8AgZJ/8VR/wh2m/wDPS9/8DJP/AIqj2qD2TK9FWP8AhDtN/wCel7/4GSf/ABVH/CHab/z0vf8AwMk/+Ko9qg9kyvRVj/hDtN/56Xv/AIGSf/FUf8Idpv8Az0vf/AyT/wCKo9qg9kyvRVj/AIQ7Tf8Anpe/+Bkn/wAVR/wh2m/89L3/AMDJP/iqPaoPZMr0VY/4Q7Tf+el7/wCBkn/xVH/CHab/AM9L3/wMk/8AiqPaoPZMr0VY/wCEO03/AJ6Xv/gZJ/8AFUf8Idpv/PS9/wDAyT/4qj2qD2TKz/6t/wDdP8q0fDH/ACLdn/1zFVj4O00ggyXvPH/H5J/8VWvYWMOm2MVpahhFCoVQzFjge55NZzmpFwi4liiiiszQKKKKACiiigAooooAKKKKACiiigAooooAKKKKACiiigAooooAKKKKACiiigAooooAr0UUUAWKKKKACiiigAooooAKKKKACiiigAooooAKKKKACiiigAooooAKKKzdS16w0z5Zpd85+7BENzsfoP60AaVZepeIbHTZBC7tNct9y3hG52/CqCLruurulJ0e0b+BTmZh7kcL+BrT0zRLHSEb7HCBI/MkrcvIfUnvQBmfZtc1xgbuX+y7I/8ALCLmZh7t0H0xWtp2kWOlR7LKBUz1Y8sfxNXaKACiiigDK1Lw7Zag3mqGtbkcrcQHawP8j+NUBf61oeRqkH9o2g6XNsuHUf7S85+vFdJRQBU0/VLPVbcTWM6yofQ8irdY1/4atbq4a7s3exvjz9og4LH/AGvUVUGsaporbNdtvtFsOl7bDOB/tL1H4A0AdJRVezvrW/hEtnOkyHup6f4VYoAKKKKACiiigAooooAKKKKACiiigAooooAKKKKACiiigAooooAKKKKACiiigAooooAKKKKACiiigAooooAKKKKACiiigAooooAKKKKACiiigAooooAKKKKACiiigAooooAKKKKACiiigAooooAKKKKACiiigAooooAKKKKACiiigAooooAKKKKAK9FFFAFiiiigAooooAKKKKACiiigAooooAKKKKACiiigAooqjqOs2OlR7rydVJ+6g5ZvoKAL1Z+p65YaSFF3MPNk/wBXCnzO/wBFHJrM8/XdcfFrH/ZNln/WyjdM49l6L9cmtDTfD9jpjtLGhluH+/PKdzt+NAGcTr2uj5QdHs27kAzMPx4X8RmtPTdBsNLG63h3TH708hLu34mtGigAooooAKKKKACiiigAooooAKCAwIYZB6g0UUAYd74Yhef7VpUz6ddZzuhPyN/vL0/TNQrr15pOI/EdrsjBwLyAExn3Yfw/jXRUjKrqVdQwPUEUAR29zDdwLNaypLEwyrocg1LWDceGhBK1zoVy2nzscsoG6Nz7rTIPEdxYOIPElobRs4W4jO+J/wAeoPtigDoaKZFNHPGJIXV0boynINPoAKKKKACiiigAooooAKKKKACiiigAooooAKKKKACiiigAooooAKKKKACiiigAooooAKKKKACiiigAooooAKKKKACiiigAooooAKKKKACiiigAooooAKKKKACiiigAooooAKKKKACiiigAooooAKKKKACiiigAooooAKKKKACiiigCvRRRQBYooooAKKzJPEmjRSvHJqVurocMpfoab/wlGif9BO3/AO+6ANWisr/hKNE/6Cdv/wB90f8ACUaJ/wBBO3/77oA1aKyv+Eo0T/oJ2/8A33R/wlGif9BO3/77oA1aKyv+Eo0T/oJ2/wD33R/wlGif9BO3/wC+6ANWisr/AISjRP8AoJ2//fdV77xloVjYy3L6hFIIlLbI2yzewHrQBu1T1DVrLSofMvrhI8/dXOWb2C9T+FeX+F/itqPi6S9tZrePQfKlytzdAnfGegUcc8frXYafJ4Ysn8+bU4ry6PLTXEgZs+w6D8qdhFj7breuj/iWxf2XaNx9onUGRh6qp6fiKvab4bsdOk88q1zdHrcXB3v+BPQewo/4SjRB/wAxO3/77pf+Eo0T/oJ2/wD33QBq0Vlf8JRon/QTt/8Avuj/AISjRP8AoJ2//fdIZq0Vlf8ACUaJ/wBBO3/77o/4SjRP+gnb/wDfdAGrRWV/wk+if9BO3/77rQtrqC9t1ntZVlib7rocg0AS0UUUAFFFFABRRQTgc0AFFZbeJtFR2RtStwykhhv6EdRSf8JRon/QTt/++6ANWisr/hKNE/6Cdv8A990f8JRon/QTt/8AvugDVpskSTRtHKiujDBVhkH8KzP+En0T/oJ2/wD33R/wlGif9BK3/wC+6AKcnhybT5XuPDl0bRm5NtIS0LH/AHf4fwp0Hif7NcLa6/bNp8x4WRuYn+jdB9DirP8AwlGif9BK3/77qO417w9dQtFc3trKh6qxBpiNlWV1DIwZTyCDkGlriHubDS5TN4c163RCctZzvujbnnB6g/ifpWT4a+Lseo+Lr7SNasX0+KM/6PdE5jc9xu/LH40WC56bRWV/wlGif9BO3/77o/4SjRP+gnb/APfdIZq0Vlf8JRon/QTt/wDvuj/hKNE/6Cdv/wB90AatFZX/AAlGif8AQTt/++6P+Eo0T/oJ2/8A33QBq0Vlf8JRon/QTt/++6P+Eo0T/oJ2/wD33QBq0Vlf8JRon/QTt/8AvuprXXdLvbgQWl9DNKwJCK2SQKAL9FFFABRRRQAUUUUAFFFFABRRRQAUUUUAFFFFABRRRQAUUUUAFFFFABRRRQAUUUUAFFFFABRRRQAUUUUAFFFFABRRRQAUUUUAFFFFABRRRQAUUUUAFFFFABRRRQAUUUUAFFFFABRRRQBXooooAsUUUUAcZpaL9lkO0ZMz54+lXNif3F/Kqml/8eb/APXZ/wClXK7I7I5JbibE/uL+VGxP7i/lSkgdTj60ZAGSePWqJE2J/cX8qNif3F/KlooATYn9xfyo2J/cX8qWigBNif3F/KgxocfIvHtS0UAJtXuoP4UbF/ur+VLRQAmxP7i/lRsX+4v5UpIHU4ooATYn9xfyo2J/cX8qWigBNif3F/KjYn9xfypdw3YyM+lFACbE/uL+VW/CH/IAGOP383/oxqq1a8If8gAf9d5v/RjVjV2NqW5uUUUVzm4UUUUAFNk/1bfQ06myf6tvoaAON0pFNi2VH+uk7f7Rq7sX+4v5VU0n/jxP/XaT/wBCNXK7Fscj3E2J/cX8qNi/3F/KloqiRNi/3V/KjYv91fyoZ1QZdgo9ScUoOQCOQehoATYn91fyo2L/AHV/KlooATYn9xfyoMaNjKKQOmRS0UAJsT+4v5UbE/uL+VLRkDqQPSgBNif3F/KjYn9xfypaKAE2J/cX8qNif3F/KloyM4zz6UAJsT+4v5UbE/uL+VLRQAmxP7i/lUMaqPEemkKAcSdv92p6hT/kYtN/7af+y1E/hZcPiR1lFFFch1BRRRQAUUUUAFFFFABRRRQAUUUUAFFFFABRRRQAUUUUAFFFFABRRRQAUUUUAFFFFABRRRQAUUUUAFFFFABRRRQAUUUUAFFFFABRRRQAUUUUAFFFFABRRRQAUUUUAFFFFABRRRQBXooooAsUUUUAcbpf/Hm//XZ/6Vcqnpf/AB5v/wBdn/pVyuyOyOSW5yHxUuJbX4b6pNbu0ciplWU4Iq9rkjj4c3ciuwf7FncDyDxzVnxXoQ8S+Fr7SfM8o3MRVX/unsa5q6TxhqXh/wDsCTSbeBpI1hmu/OBQL3IGc549KT3GtiePxPqNlaaJpOl6b/aF7cabHKrSS7FyEGdzYOOnpT/+E9lg8OXV3f6b9n1G1uBbSW3mZQORwd+Pu++KvWnh65svEunTx7Xs7PT1td5b5iQMVRutA1YR68YbSzuhe3SyJBcnckseOQfQ0veHoPt/GOpw6LqV5rWkRwmygM6va3HnRSAfwhsDn8K0r/xMLLT9Huhb7xqckaBd2Nm8A/1rk7LwLdSjV47G1Oi6dfWLQLYmXcnmn+MKCQPwqzJpPifU4NAspbCC3h0qeMzyvLkyBMYKgew70XYrIu3XjLWnutSGkaCtzb6ZKUuJZbjZuUZyUG05PHTipdQ8d5t9PTQbWO6vb+ETpFcziFUTvubBweDxisnT7nXGvPE1npthHcRT3bpHN5gHlsc5LDPSo734fNbzaRdy6fBrAtbXybmFyAS3JLJnjqaLsdkabfEIw+HLu8uLBRf2Uywz2sUu8EnoVbHI/AVcsPFWpLr9npviDTItPF8HNtIk5feQCQp+UYO0E/hWRB4Muhotytrpdlp0s90kiww4BEa5+8R1PNb/AIz0K71rRUOkskWqWsgltZWA+Vuh+mRkfjT94Whj6v4pgvlxJZu9vbaxDaRyLJje5wd3TkDP6U6bx5qc2tXcGkaNFd2tlcG3m3XOyckHBKx7eR+NLN4MuI/COjaZaBfOtb+O7uMtwTv3PjPuaoa94X1DUdRvWbQ7Zr6Z/wDRdUtZBE6Lngscg5paj0NjW/GF9b6sNM0HTYLu6SJZbj7Xc+QsYPRc4OTTB4/S40OKexsWn1KW5NoLPfwsoGTlvQZHOO9ZWo+DLqLWlv73S4NfWW0jhmLkCQSKAM84GDip4PCeq2Wk6fd6faWNnf2d205tIBhHQjBXP97gc0XkHuiaNqerXfxa8nWLP7DImkktFHL5kbHevIOBn8q9Arj9K0/W7z4gtr2p2kVpZiw+zQxhwXBLAndj6V2FVElhVrwh/wAgAf8AXeb/ANGNVWrXhD/kAD/rvN/6Mas6uyNKW5uUUUVzm4UUUUAFNk/1bfQ06myf6tvoaAOP0n/jxP8A12k/9CNXKp6T/wAeJ/67Sf8AoRq5Xatjke4UUUUyTzXxQsEPjW6m8ZRXc+gvbp9l8oExRuCd24DnJyuPpWhoOp22j+HdT1LSdU/tXTUcPbwPw8GSAVJ9OeOKvXi+KNJ167uLKFNV0y5AKwNIFkhbnOM4GDxWXD4R1W7s/EN5NBbWN3qqp5VrHjauzGCxHc45+tZ630NNLHT3niAWmoaNamHcdUB5z9zAB/HrXPDx1rE8E9/Z6Asmm2czx3UrT7XAU4LIu35h36inpp3iDVNc8P3N7YRWdvpauJcyBmclQMjB6cVkaFJ4hvPDGp6XZWMMkVzdTRRXDOAI0JwSw65x0ou7hZWN7U/HEjXVtaeGrSC9uJ7ZbrNzceTGsbdOcHn2xUNx8RVi8PpexWBnvPtwsJLWOTO2Ugnhscj3rLvfh81lq1ldf2bDrdrFYR2kkUhCurIMBhnA9KsDwZfvo1hHFYWVi8WrJeNBbnAWNVI5PduaPeD3Tc0jxLqUmsR6Z4j0yLTrmWBpk8qfzVIB6ZKjnHOMdqonxNDq81hcG1fyDqBhtpUkwHxgFsY6ZyMe1XPHfh+/1qzt7jQmSLU7WQmCRzjaGBVvx2sajl8LzwWfh+2skj26fKJJjwOc5Jx9c03cWhSh8d6ne6pL/Z2jw3WnQ3BgkYXWLgEHBIi29PxqzqvjS7XWp9O8PWVreSWePtZubryQhIDYHynJwRWHrHhPVNRu5mh0e3tNVadWj1e0kEeYwwPzYIOSO2KW78CPZ+JdQvpdFg1uLUAjhnYB4pAgUg5/hOM/jSvIdkbU3j4XGl6cdEsTd6nqJYQ2jvsC7cbizDOAMjsetR+GNR1C98c6omqWhs547dA8Kyb0BwOVOBkfhVZPCWpaV/YmqadZ2i3enCVZbKDCoySbc7TxyNg/OtfQbHWT4ov9V1WCK3huIlSGJWBZcYyGx9KNbi0todPRRRWhAVCn/Ixab/20/wDZamqFP+Ri03/tp/7LUT+Flw+JHWUUUVyHUFFFFABRRRQAUUUUAFFFFABRRRQAUUUUAFFFFABRRRQAUUUUAFFFFABRRRQAUUUUAFFFFABRRRQAUUUUAFFFFABRRRQAUUUUAFFFFABRRRQAUUUUAFFFFABRRRQAUUUUAFFFFAFeiiigCxRRRQBxul/8eb/9dn/pVys60kurRZoZtMvCVmYgqqkMOORzU/2yb/oGXv8A3yv/AMVXVGUbbnM4u5apaqfbJv8AoGXv/fK//FUfbJv+gZe/98r/APFU+ePcnll2LVFVftk3/QMvf++V/wDiqPtk3/QMvf8Avlf/AIqjnj3Dll2LVFVftk3/AEDL3/vlf/iqPtk3/QMvf++V/wDiqOePcOWXYfbWVvaPM1tEsbTvvkI/ib1qeqv2yb/oGXv/AHyv/wAVR9sm/wCgZe/98r/8VRzR7j5ZFqiqv2yb/oGXv/fK/wDxVH2yb/oGXv8A3yv/AMVRzx7i5Zdi1S1U+2Tf9Ay9/wC+V/8AiqPtk3/QMvf++V/+Ko549w5Zdi3SVV+2Tf8AQMvf++V/+Ko+2Tf9Ay9/75X/AOKo549w5Zdi1RVX7ZN/0DL3/vlf/iqPtk3/AEDL3/vlf/iqOePcOWXYtVa8If8AIAH/AF3m/wDRjVlm8m/6Bl7/AN8L/wDFVr+FIZoNBRbmF4HaWRtj4yAXYjp7Gsqkk1oa0009TZooorE2CiiigApsn+rb6GnU1xmNgPQ0AcfpP/Hif+u0n/oRq5WZYy3VtBJFNpd5uWaTBCqQRuOD96rP2yb/AKBl7/3yv/xVdalG25yuLuWqKq/bJv8AoGXv/fK//FUfbJv+gZe/98r/APFUc8e4uWXYtUVV+2Tf9Ay9/wC+V/8AiqPtk3/QMvf++V/+Ko549w5Zdi1UNpZ29jEY7SJYkLFiq9yepqP7ZN/0DL3/AL5X/wCKo+2Tf9Ay9/75X/4qjmj3HyyLVFU2v5EQs+nXiqOpYIAP/HqyJvHekQXz2ciXhnjXcwSAsAP94cfrT5o9xcrOjornrTxtpV7dtawR3fnKMlXhKcfVsA1rC+kZQV029IPQhVP/ALNRzR7hyvsW6Wqn2yb/AKBl7/3yv/xVH2yb/oGXv/fK/wDxVLnj3Dll2LVFVftk3/QMvf8Avlf/AIqj7ZN/0DL3/vlf/iqOePcOWXYtUVV+2Tf9Ay9/75X/AOKo+2Tf9Ay9/wC+V/8AiqOePcOWXYtVCn/Ixab/ANtP/Zaj+2Tf9Ay9/wC+V/8AiqWyNzc+I7E/YLmKOJXLSSBQBnGBwamUk4sqMWmdfRRRXMdIUUUUAFFFFABRRRQAUUUUAFFFFABRRRQAUUUUAFFFFABRRRQAUUUUAFFFFABRRRQAUUUUAFFFFABRRRQAUUUUAFFFFABRRRQAUUUUAFFFFABRRRQAUUUUAFFFFABRRRQAUUUUAV6KKKALFFFFAB1ox196KKADHSjFFFAB3oxRRQAY6+9GOlFFABijvRRQAYox196KKADHSjFFFAB3oxRRQAY6+9GOlFFAB0ooooAKKKKACiiigAooooAMUY6+9FFABjmjFU7zVrCwjL3d1HGF65PP5VmHxO11xo2m3F5zjzCNkY/H/wCtQBv4qG4ure0j8y6mSFB/E7YH61hCz8S6j/x930OnRsOY7ZS7g/75x/KrMHhTTUkEtysl5NnPmXD7jmgCKTxbZuxTS4Z9RcgkfZ0JQ+2/oKTd4k1BcIlvpkfqx8yTH4cVuxwxwqFijVAOyjFPoAwI/CkMjiTVb26v5Bn78hRf++VwD+VWtTs7az0G6W1gjiGz+BQM81q1Q1z/AJAl1/uf1oARdOs7/TYVu7aOXMajLLyOPXrWc3hT7PL5uj6ld2TbgxTzPMQ+2HzgfStqy/48IP8Armv8qnoA5/7R4jsF/wBItINRjA5aBtj/AJE/yp0Pi7TfN8u+83T5QQpF0hjGT6E8Gt6opraC4UrPEkg9GXNACxSxTxB4JFkQ9GVsg1Jjr71hS+E7AOZNPeawl5+a3fH6HNRGHxNp2fKmt9UiBGFkBicDv83OT+FAHRY6UYrBTxVFAdurWVzYNzlpEyn5j/CtW11G0vUD2txHKCM/K1AFnvRRRQAUUUUAFFFFABRRRQAUUUUAFFFFABRRRQAUUUUAFFFFABRRRQAUUUUAFFFFABRRRQAUUUUAFFFFABRRRQAUUUUAFFFFABRRRQAUUUUAFFFFABRRRQAUUUUAFFFFABRRRQAUUUUAFFFFAFeiiigCxRRRQAUUUUAFFFFABRRRQAUUUUAFFFFABRRRQAUUUUAFFFFABRRRQAUUUUAFFFNd1jUs7BQOpJoAdRWJc+LdKhmaGCVrudSAYrZd7DPsKjN9r9/xY6fHYocjzLolj9doxQBvkgDJOBWbeeIdMsjtlu0aT/nnF87fkuTWePDE94d2t6rcXOQMwxkRxg+2Of1rVtNH0+xH+i2kaHruxk/meaAMoa/qmof8gjSJAhAKz3Z2Kfw+9+lP/sbV74g6pqzRpnmG0G0Y9N3BrfooAyLHwvpNhIJI7VZJgMedN87n/gR5rXAwMCiigAooooAKKKKACqGuf8gS6/3P61fqhrn/ACBLr/c/rQBYsv8Ajwg/65r/ACqeoLL/AI8IP+ua/wAqnoAKKKKACiiigBGUMpVgCD1B71j3XhTSbmRpY7f7LM2CZbY+Wxx7ritmigDAGma5p6n+z9UW7QZIivF/TcMmm/8ACR3tlka1pFxCqgfvoB5qH6AZb9K6Gjr1oAoWet6bf8W13GWzjYx2tn/dPNX6z7zQtNv8/aLSMsf4kyrfmMVmt4dv7P5tF1iaIAALDcgSRj+TfrQB0VFYH9q61YNjUdK+0R5/11m2cD12cn9antPFOk3Uoh+0iCcjPkz/ACOPwNAGxRSAhhkHI9qWgAooooAKKKKACiiigAooooAKKKKACiiigAooooAKKKKACiiigAooooAKKKKACiiigAooooAKKKKACiiigAooooAKKKKACiiigAooooAKKKKACiiigAooooAKKKKAK9FFFAFiiiigAooooAKKKKACiiigAooooAKKKKACiiigAooooAKKKpX2r6fpq7r27hh4yFZwCfoO9AF2iuf/AOEnmu2K6RpV1dYbG+RDEv1y2Mj6UGx8Q6ipF5fxWEZyClqgLfm2f0oA2ri8trVc3M8cQ/22ArHm8WWrFk0u3uNRlAPEEeBn0y2Kkt/CumxP5lxG93JkEtcyGTkdwCcD8K2I4o4U2RIqKP4VGBQBgKfE2o5yLbTIjgg5Mj49xgAfnT18KW053atcz6i3PEzfJ/3zW9RQBBbWNrZRiO1gjiQDACrip6KKACiiigAooooAKKKKACiiigAooooAKoa5/wAgS6/3P61fqhrn/IEuv9z+tAFiy/48IP8Armv8qnqCy/48IP8Armv8qnoAKKKKACiiigAooooAKKKKACiiigAqre6ZZajEY761inQ9Q65q1RQBgnwuttzo9/c2HOdituj/AO+aj8/xNpxHn29vqcQXl4m2SE/7pGP1roqKAMSHxXp7SCK8E1lLnGyeMjn6jI/WteG5guUD28ySqehRgaJoIbhNlxEkq/3XUEfrWNN4R0/zPNsGmsJQMKbeQqo/4Dnb+lAG7RWAIPElgf3NzBqUX92ZQj4+owKRfFQt2VNZ0+6sXIJLFC6D/gS8CgDoKKrWeo2eoR77K6inXGf3bhsflVmgAooooAKKKKACiiigAooooAKKKKACiiigAooooAKKKKACiiigAooooAKKKKACiiigAooooAKKKKACiiigAooooAKKKKACiiigAooooAKKKKAK9FFFAFiiiigAorO1fWI9IjhLwyztM+xEjxkn8az/APhKz/0CL3/xz/Gmk3sJtLc6Giue/wCErP8A0CL3/wAc/wAaX/hKm/6BF7/45/jT5Zdhcy7nQUVz3/CVH/oEXv8A45/jR/wlZ/6BF7/45/jRyy7BzLudDRXPf8JUf+gRe/8Ajn+NL/wlTf8AQIvf/HP8aOWXYOZdzoKK57/hKz/0CL3/AMc/xpf+EqP/AECLz/xz/Gjll2DmXc6CkJCjLEAeprxvX/FHxLvPGFo+jaI1nosEmHDyRl5B/eIB6D0rpmlmumzq41a8HdI2WJDz6BuaOV9g5kdZe+I9LsHCT3SmRjgInzEn0ql/bmq36/8AEo0h1VhxLdt5YH4YOapWOp2Omgix8OzwljklEjBJ9Sc1c/4Ss/8AQIvf/HP8aOV9g5l3FGiatetu1TWHVN2fKtE8sY9CSTn9KuWPhzS9PO6C1Uv3eQ7ifzql/wAJWf8AoEXv/jn+NH/CVn/oEXv/AI5/jRyy7BzROgACjCgAe1LXPf8ACVn/AKBF7/45/jR/wlZ/6BF7/wCOf40csuwcy7nQ0Vz/APwlR/6BF5+af/FVY03xDHqF+bRrSe2k2bx5uMEZx2Jo5Wh8yNiiiipGFFFFABRRRQAUVi3/AIkSy1GSzSyuLh41Bcx7cDPTqRUH/CVn/oEXv/jn+NPlbFzJHQ0Vz/8AwlTf9Ai9/wDHP8aT/hKj/wBAi9/8c/xp8suwuZdzoaK57/hKz/0CL3/xz/Gj/hKz/wBAi8/8c/xo5Zdg5l3Ohorn/wDhKj/0CL3/AMc/xpP+ErP/AECL3/xz/Gjll2DmXc6GsrxLeW1loNw93OkKsuAXbAJzVP8A4Ss/9Ai9/wDHP8a57xzHa+NvCtxo99pF0BIQ0blUbYw7jnrjNHLLsHMu53Wnukum2zxsHRolKspyCMVYrk9K1qPSdJtdPttGvEhtYlhRRswAowO/tVv/AISs/wDQIvf/ABz/ABo5Zdg5l3Ohorn/APhKj/0CLz80/wDiqT/hKz/0CL3/AMc/xo5Zdg5l3Ohorn/+Eqb/AKBF7/45/jSf8JWf+gRe/wDjn+NHLLsHMu50NFc9/wAJWf8AoEXv/jn+NH/CVn/oEXv/AI5/jRyy7BzLudDRXPf8JWf+gRe/+Of41e0nW49WknjW3lt5IMbklxnBzg8fSk4tbjTT2NOiiikMKKKKACiiigAorn38WRi5nig0+6nELlC6bcE4B4yfej/hKm/6BF7/AOOf41XK+xPMjoKRkV1w6hh6EZrn/wDhKj/0CL3/AMc/xo/4Ss/9Ai9/8c/xo5Zdg5l3Ld34Z0u7fzDb+TKDkSQnaQaqHSdcsMHS9WFxGoP7q9TcT6fMCMflR/wlZ/6BF7/45/jR/wAJWf8AoEXv/jn+NHLLsHNHuKPEF7YgDWdJmj5AMtsfMT69sVoWOvaZqI/0S7jc5IKk4II+tZ//AAlTf9Ai9/8AHP8AGs6/vdO1P5rzw5cSPg4k2puX6HORRyvsHMu52IORkciivNtQudVs9OuP+Ec/tWKby8RQ3DLIuewyzcVQ+HXinx5a2Js/HmiTTuq5ju4pIyT/ALLDd196OV9g5kesUVz3/CVn/oEXv/jn+NL/AMJU3/QIvf8Axz/Gjll2DmXc6Ciue/4So/8AQIvf/HP8aP8AhKz/ANAi9/8AHP8AGjll2DmXc6Giue/4So/9Ai9/8c/xpf8AhKm/6BF7/wCOf40csuwcy7nQUVz3/CVn/oEXv/jn+NL/AMJUf+gRef8Ajn+NHLLsHMu50FFc/wD8JUf+gRe/+Of41paTqsWr2ZuIY5I8OyMkg5BBwaTTW4009i9RRRSGFFFFABRRRQAUUUUAFFFFABRRRQAUUUUAFFFFABRRRQAUUUUAFFFFABRRRQAUUUUAV6KKKALFFFFAGB4l/wCPrTP+u/8ASocmpvEv/H1pn/Xf+lQV00vhOep8QuTRk0lFamQuTRk0lFAC5NGTVZNQtX1KSwWUG6jQSPHjop6H9as0DDJ9aMmoo7iKWWSOKRWeI4cA/dPvUd1f21lNBFcuVe4fZENpO4/h0oAs5oyfWiigQZPrRk+tVbjULa1u7a2nkKzXRKwrtJ3Edee3XvVqgYZPrRk+tJRQIXJ9aMn1pKKAFzTbD/kaYf8Ar2P8zS0mn/8AI0w/9ex/mazqfCXD4jp6KKK5TqCiiigAooooA5a4/wCRm1E/7Mf/AKCKkyajuP8AkZdR/wB2P/0EU+uuHwo5Z/Excn1oyaSirIFyaw9e1y40fUtJjEStaXk5hnlbP7r5Tt/M4H41t1znjyw+3eEp3Cs72jx3SBTyTG4f+lJ7DW5U1XxrLp/jm10cQp9ibatxcPnKO5IRR25xV7/hJiPFt9pz+XHZafbq9zO5xtZz8oz0xjNcZaWVz4g+Heq+IYFJvby4+22izrgwtGoUD81J/GoLxjrPwo1zXJIm36rNCwVlw2wSrgH8DUczLsj0VfFWiPYyXianbm3ifY8gcYDen1qWz8Q6Vf2D3tnfwy26ffkVxhfrXG+JprXRrzw1Z2Wm2UbSZZbm6OyKDCcnock9Oa5mOTfeePPOu47tTb22XhhMaHBkyAO/1ocmhKKZ6xaeINLvr1rS0v4ZbhRkxq4JxUc/ifRra5W3n1KBJWbaFLjr6GuJu5tFurbwlB4b8s3KTxtEsS4aOPZ8270+XPWq9reeHE0rxhBqPlidryRZEkGWk/dpjaO/WjmYcqPRdR1rT9IhWXUbyK3Rj8pdsZ+lL/bOnmwS9+2w/ZpDhZd42n8a8tgivLfxRo0mrX8Vi66SVjkuod6ZymRknAaqt/p9rN4enW31Fr+0uNdtyQsBSNTvQMFGeQTk59zRzMfKj17TdVstXsxdaZdR3MBJUSRtkZFW8moLS1gs7dYrWFIkwDtQYFTVZAuT60ZPrSUUxC5NL4dOdd1X/di/9mptO8O/8h3Vf92L/wBmrKp8JpT+I6SiiiuY6QooooAKKKKAOO0//WX3/X038hVzJqnp/wDrL7/r6b+Qq3XZH4Uckt2Lk0ZPrWTrnifSPDYgOs3X2f7QxWIBGYsRyeADVOw8d+HdUuHhsb5pHRDIwMDrhR1PIp3QrM6LJ9aMn1rOtte027uobeC5DSzW32qNSpBMXHzc/UVctrmG8gE1rIssbEgOpyDjigCXJ9aMn1oopiDJ9aM1k/8ACTaR/wAJJ/YH2xf7U8vzfs+Dnb656U/VvEOl6HLax6rdrbveSeVApBO9vTildDszTyaMmkHIBFRS3MMMsccsqq8pwik8sfamBNk0ZNVLHU7TUjN9imEvkSGOTA+6w6irdABk0ZNFU59VsrbVLbTppgt3dKzQxY5YL1oAuZPrRk0UlAhcmpvCP/IPuv8Ar8m/9DNQ1N4Q/wCQddf9fk3/AKGaxq7GtLc36KKK5zoCiiigAooooAKKKKACiiigAooooAKKKKACiiigAooooAKKKKACiiigAooooAKKKKAK9FFFAFiiiigDA8S/8fWmf9d/6VBU/iX/AI+tM/67/wBKgrppfCc9T4gooorUyCiiigDh9TuJbTxj4huLY7ZYtIDIfQjbiqAu/EOn6Loeu3GsNO9zcRxXFqY18tkc444zkV1l34aiu9S1G7adla+tPsrAD7o45/SmXfheO78P2Gltcuq2UscquByxQ5wazsy7o5KKK+0v/hM7611KYzRzDyg6rhSScHp2q7C2t6WfD51DV2vZNQlQzBo1AX5AcDArXuvB7T6hqcseoyx22poBNb7QQHBBDA/nWhd6BHdnSi0zKdNZWXj7+ABz+VFmO6ONim8Q6jpGuagNakt2sLlxbJHGpBUAHDZHNR6j4q1ae30W+uhfWul31ikryWFuZXSZgD84AJC9fauxtPDMVppOo2SzuwvpHdmI+7uHaqP/AAhs9pb2K6Rq81tJa2q2rb1DpKoAGSvHPHWizsF1cz7HXryc+GSNRgvhcTTLNLEgG8LjA9iO9GmDxB4h0ybWrbVxbTNcEW9uVHkqgPRuOSR+tamneCbTTRpvlXErNZTSTMzY/es+M59OlV5PAzKJ7Sz1a4ttLuJfNktUAyDnJCt2HtiizC6OsjLGJN+C+0btvTPenU2KJYIUijGERQqj2FOrQgKKKKBBSWH/ACNMP/Xsf5mlpLD/AJGmH/r2P8zWdT4S4fEdPRRRXKdQUUUUAFFFFAHLXH/Iy6j/ALsf/oIp9MuP+Rl1H/dj/wDQRT664fCjln8TCiiirIChkEilGXcrDBBHUUVxHxRn1SLRbRdDuJILp5xtKfx452/jjH40m7K40rs7RLeKODyI4kSLGAirgY+lM+xWwtfsv2eMQD/llsG38q5DWPEdxN8NYrrTpdmoXiCCN1G7ZL0J/AiqnhjxXJpfgbRl1JpdR1S8JiRVPzSsBkknsOKXMrj5XY7e902x1K2FvqNnBdQjBEc0YdfyNUtV8PW1/otxZWsUVoZoxGJI4wNoB6dKwNX8aznw3rQs7SS11awhLNHIchcrkOD3Az7dKym8UarF4k8M+fDcu95Yyl7SMja7gphice/60m0NJnd6Zothpaq1vaW6XGwLJMkSqz4HUkCs3SPB9hYXV5c3kFveT3F21zHJJApaLKqMA4/2arw+PdPXS7+51CGW0n06UQz2zDLbycKF9dxIx9alsvF4fVoNP1TTrjT5LuMyWzycrIB1GezD096fui1Ny906y1ODyNRs4LuLrsmjDj8jQun2cdvHAlrCsMRBSMIAqkdMCuD8U+OJ7jwnc3ek2d5HaNOkUV+mOfnAJA/unpn3rbn8YfZ7k2FhYT6hcWtuktzsIGAVBwPVvai6CzOpoqtp18mpafDdxJJGsq5CSDDL7EVZqhBRRRQIKd4d/wCQ7qv+7F/7NTad4d/5Duq/7sX/ALNWVT4TSn8R0lFFFcx0hRRRQAUUUUAcdp/+svv+vpv5CrdVNP8A9Zff9fTfyFW67I/CjkluzhvHT3UfjLwk1hbLdTCafETkAH92fWtWe91aPRNSuLvTILF4bdmidCrEn8K0NS0OPUdc0rUnlZH013ZFA4bcuOau6haLqGnXFpISqzxlCR2zRbUL6HmujT3Gsa3pVxczkXF14UEkkqKAdxKkkDpVPS9VvND8H6BpVlc3HmapPPmaOIO0So/IVQOpz6V3WleDrbS7qxmjnkf7Hpg04Bv4kGOfrxVKHwAsGkw2cepzq9ncNPZTADdDuOSp9QT9KmzKujNt9d1ezTV4V+2y2sNg9xBdXcGxo3GPl5Az1z+Fb3gmHU30O31LVdUkvnv4I5gjIqiLKg4GAKSDwlK8eoPq2qTXtzewG3L42rGh/ur/APXrb0yxTTNItLCJiyWsKQqx6kKMf0ppMTaPKfEubb4n6lrVtG5n0mK3lfyxlpI2Lgr9OAam8dTLrXiGC/jy1tpt1bxQtj5XZ2UllPfAJFd2/hK1l1zVdRlldjqVstvJH2AXdgj3+asy1+HFjaeE7PQ4bqYR2tytx5pOWdlbdzUuLGpIxJPEepa1rGsRRXWoWUVg4gthaWvmBm2A7mO0564x7VHu1PXtU8J3urPPY3bblmhVcAMF6811Fx4Olj1K7u9E1WbTvtxBuogoZWIGNy+hwB69KfP4LiFnpUVhfXEEuluGjlY7y4xghvXOadmF0cfpNhrH2bxVe2GsNafZ7qV7eJUBG4D+LI55rZtNa1TxRrFnpUF2bFIrJbm8ljUbpCxIUKT0HynP4V0Fl4YjsrDU7YTs39oO7O2Pulh2qnN4KVPsFzpt/JaahYxGFbgLkOhOSGXv09aLNBdHOXfinXtLj1XRBcLcXkF3DBa3jKMiOQjJYdMqDx9Kfc6VqOm/E7QXl1J7/dZz+UJwoKvgZPGMg8fSt9PAVi2k3lve3E1xdXsonmuycP5inKkegBAwPamW3gmZvENrq+q6xcXs1rA8CJtCrtbqfr70WYXRzWleItSOq2iaxqd3pmpGYC5trm3xbS5B+SN9uOuMEGvUq41fABZLeyutUln0u1kWSG2dRuG3oC/cV2dON+pMrdAqbwh/yDrr/r8m/wDQzUNTeEP+Qddf9fk3/oZqKuxdLc36KKK5zoCiiigAooooAKKKKACiiigAooooAKKKKACiiigAooooAKKKKACiiigAooooAKKKKAK9FFFAFiiiigDA8S/8fWmf9d/6VBWjrekzamLZra4EEkEm8FlyD7VR/sLVv+ghB/36P+NbQmoqzMZwbd0Mop/9hat/0EIP+/R/xo/sLVv+ghB/36P+Nae0iR7OQyin/wBhat/0EIP+/R/xo/sLVv8AoIQf9+j/AI0e0iHs5DKKf/YWrf8AQQg/79H/ABo/sLVv+ghB/wB+j/jR7SIezkMop/8AYWrf9BCD/v0f8aP7D1Yf8xCD/vyf8aPaRD2chlFVtK0/V9Q0yG6a/t1MgJIEJ45+tXP7C1b/AKCEH/fo/wCNHtIh7OQyin/2Fq3/AEEIP+/R/wAaP7C1b/oIQf8Afo/40e0iHs5DKKf/AGFq3/QQg/79H/Gj+wtW/wCghB/36P8AjR7SIezkMop/9hat/wBBCD/v0f8AGj+wtW/6CEH/AH6P+NHtIh7OQyk0/wD5GmH/AK9j/M1J/YWrf9BCD/v0f8an03Q7u21b7beXaTbYvLVETb3Jz+tRKaasiowadzcooorA3CiiigAooooA5a4/5GbUf92P/wBBFPqe+0G8m1ee8s7xIhMqhkdM4wMVH/YWrf8AQQg/79H/ABrojUilYwlBt3GUU/8AsLVv+ghB/wB+j/jR/YWrf9BCD/v0f8ar2kSfZyGVzviywur6fSTaRGQQ3avJj+FfWul/sLVv+ghB/wB+j/jR/YWrf9BCD/v0f8aTqRY1TkjznS/DmrW3i69tZYF/sa0D3Fiy4ADyDlcexGf+BVlx+EdQttF8P3txp8l0dPDx3Nokm19rfxLzgnIHevWv7D1f/oIwf9+T/jR/YWr/APQRg/79H/Gp5oFcszzWPw7JqGl6/PYaH/Z8lzZNBbtcODLKdvRsZwM1Z0Sw1G61/wAPX89jNax2tlJDMkpGUbK+hPXFeg/2Fq3/AEEYP+/R/wAarahpesWenzTpf27GNcgGI/40c0RcsjzrVvCusXmpeJLi0gCs95a3Nt5hG2YR7Sw9uhHPetGcal4v1bT45NLuNNtbPLzyzlQWbAwFwT6V3MGjavLbxyf2hB86g/6k/wCNSf2Fq/8A0EYP+/R/xo54hyyPK2ttesvBDeE00We4uIXRVugU8qRA4O7rnOB0xVrxJpTyamJLvQruV/syJbX2mShJlIAyrHIPXNelf2Fq3/QRg/79H/Gj+w9X/wCgjB/36P8AjRzRDlkYnhSHU7fwvZxa65kvlT94xOT7ZPritin/ANhat/0EIP8Av0f8aP7C1b/oIQf9+j/jVe0iL2chlFP/ALC1b/oIQf8Afo/40f2Fq3/QQg/79H/Gn7SIvZyGU7w7/wAh3Vf92L/2al/sLVv+ghB/36P+NW9E0afTbi6nu7lZ5LjaPlXaFAz/AI1E5pqyLhBp3ZsUUUVgbBRRRQAUUUUAcdp/+svv+vpv5CrdKPDmoQ3Fw1tqEYjmlMgV48lcgcfpTv7C1b/oIQf9+j/jXRGpFI53Tk2Mop/9hat/0EIP+/R/xo/sLVv+ghB/36P+NV7SIvZyGUU/+wtW/wCghB/36P8AjR/YWrf9BCD/AL9H/Gj2kQ9nIZRT/wCwtW/6CEH/AH6P+NH9hat/0EIP+/R/xo9pEPZyGUU/+wtW/wCghB/36P8AjWVrVh4ktWtINLvrBri5kKD7RCxUAKT2YHtR7SIezkaVFYMA8VWcRGvRRl92BJY27OmPXGSR+dXLG4/tF1jt9dtPNb/lk8e1/wAs5o9pEPZyNKin/wBh6semowf9+j/jR/YWrf8AQQg/79H/ABo9pEPZyGUU/wDsLVv+ghB/36P+NH9hat/0EIP+/R/xo9pEPZyGUU/+wtW/6CEH/fo/40f2Fq3/AEEIP+/R/wAaPaRD2chtTeEP+Qddf9fk3/oZqP8AsLVv+ghB/wB+j/jWjoelPpNi8Ms/nu8ryM2McsScfrWdSaktDSEWnqaVFFFYmoUUUUAFFFFABRRRQAUUUUAFFFFABRRRQAUUUUAFFFFABRRRQAUUUUAFFFFABRRRQBXooooAsUUUUAFFFFABRRRQAUUUUAFFFFABQTgGikb7poAy/DP/ACLtr9D/ADNatZXhn/kXbXjHB/ma1aACiiigAooooAKKKKACiiigAooooAKKKKACiiigAooooAKKKKACiiigAooooAKoa5/yBLr/AHP61fqhrg/4kl1/uf1oAsWX/HhB/wBc1/lU9QWX/HhB/wBc1/lU9ABRRRQAUUUUAFFFFABRRRQAUUUUAFFFFABRRRQAUUUUAFFFFABRRRQAUUUUAFZGq/8AIc0b/ru//otq16yNV/5Dmjf9d3/9FtQBr1SvdH0/UUK3lpFKCMcrV2igDAPhhrbJ0jUrmy4AWPO+Mf8AAeKb9p8S2Dfv7W31GLPLwuUfH+7jH610NFAGFB4usCVS+iuLCRs/JcR4/UZFa9veW90ga2njlBGRtYGnywxzoUmjSRTwVdQQaxrnwlpkzF7ZJLGQ/wAVpIYv0UgUAblFc/8A2f4hsSTZ6lFeJu/1d0gBA9AVH86Q+I7yxA/tnR7iEckyW485cfRcmgDoaKzrLxBpd/xb3sW/AJjdtrj6qea0aACiiigAooooAKKKKACiiigAooooAKKKKACiiigAooooAKKKKACiiigAooooAKKKKACiiigCvRRRQBYooooAKKKKACiiigAooooAKKKKACg9Dmig9DnmgDK8M/8AIu2ufQ/zNatZXhnjw7a/Q/zNatABRRRQAUUUUAFFFFABRRRQAUUUUAFFFFABRRRQAUUUUAFFFFABRRRQAUUUUAFUNc/5Al1/uf1q/VDXP+QJdf7n9aALFl/x4Qf9c1/lU9QWX/HhB/1zX+VT0AFFFFABRRRQAUUUUAFFFFABRRRQAUUUUAFFFFABRRRQAUUUUAFFFFABRRRQAVkar/yHNG/67v8A+i2rXrI1X/kOaN/13f8A9FtQBr0UUUAFFFFABRRRQAUEZGDzRRQBQvNE02/Ui6s42z1IG0/mKoP4cntvm0bVLi25z5cmJI/pjg/rW9RQBz8d54jscC9sYL+MZ3SWzFG/74Oc/nUkPizTi4jvPNsZSPuXKba3KjmgiuYjFcRrIjdVYZBoAIriKdd0MiuPVTmpKwn8IaYkhk08Sae5bcTaOYwx9wOtM+x+IrBP9Fv4L9Rk7LldjH2yAaAOgornV8T3FoxXWdIurUKBmWMCRCfbaSf0rUtNa0294t7yJm/uFtrD8DzQBeooooAKKKKACiiigAooooAKKKKACiiigAooooAKKKKACiiigAooooAr0UUUAWKKKKACiiigAooooAKKKKACiiigAoPANFBOAaAMrwz/AMi7a/Q/zNatZXhn/kXbX6H+ZrVoAKKKKACiiigAooooAKKKKACiiigAooooAKKKKACiiigAooooAKKKKACiiigAqhrn/IEuv9z+tX6oa5/yBLr/AHP60AWLL/jwg/65r/Kp6gsv+PCD/rmv8qnoAKKKKACiiigAooooAKKKKACiiigAooooAKKKKACiiigAooooAKKKKACiiigArI1X/kOaN/13f/0W1a9ZGq/8hzRv+u7/APotqANeiiigAooooAKKKKACiiigAooooAKKKKACiq19qNppsIlvplhRmCgkHk/hVL/hKNG/5/k/75b/AAoA1iM9eaz7vQdLvTm4soy2c70Gxs/VcGof+Eo0b/n+T/vlv8KP+Eo0b/n+T/vlv8KdmK6Kn/CN3lk4bSNXuIUUHEE2JEJ9yRu/WnDUPEFiv+nabHeKo5ktGwT/AMBOTVn/AISjRv8An+T/AL5b/Cj/AISjRv8An+T/AL5b/CjUNCKPxdpW8R3krWMhbaEu18sk+2etbMcqTIHidXU9CpzWLPr3h65TbPcQyD0aNj/SsdofC0b+Zp2oyWEmSQbcsBk+oxRYLnaUVw7eILywH+iava6mAOEmjaJj/wACANc9oPxiup/Ft3pmvaJc21l5uy3vI0LJ+PTj3oswues0Vk/8JRo3/P8AJ/3y3+FH/CUaN/z/ACf98t/hRZhdGtRWT/wlGjf8/wAn/fLf4Uf8JRo3/P8AJ/3y3+FFmF0a1FZP/CUaN/z/ACf98t/hR/wlGjf8/wAn/fLf4UWYXRrUVk/8JRo3/P8AJ/3y3+FH/CUaN/z/ACf98t/hRZhdGtRWT/wlOjD/AJfk/wC+W/wrSt7iK7t0ntnEkUg3Kw6EUhklFFFABRRRQBXooooAsUUUUAFFFFABRRRQAUUVxtrf61eRGb+0IowzkBRAeB+dVGLlsJyS3Oyork/O1r/oJx/9+D/jR52tf9BOP/vwf8ar2ciPaROsrN8Q6sdC8PXupi1lu/ssLSmGEZdwBnA96xfO1r/oJx/9+D/jTJTq88LxSalEUdSrDyDyD+NHs5B7SJF8LPFUfizwbHeQWFxZxRyNGvnY+fvkfnXaVweiaVeeHtJi03S75I7aHOxTDk8nPXNaHna1/wBBOP8A78H/ABo9nIPaROsork/O1r/oJx/9+D/jR52tf9BOP/vwf8aPZyD2kTrKK5GSfW1idhqcWVUn/UH/ABrf0S6lvdEtbm4KmWRMsVGATmplFx3KUlLYv0UUVJQUUUUAFFFFABRRRQAUUUUAFFFFABRRRQAUVW1GZ7fTZ5YiA6ISpI71y1pda7NZQSyalFvkjVjiA4yRn+9VRi5bEuSjudlRXJ+drX/QTj/78H/Gjzta/wCgnH/34P8AjVezkT7SJ1lcn8SPEw8KeDLnUJLKa8jyEZYcZXPc57UedrX/AEE4/wDvwf8AGqerWGoa3pc2n6hqEclvOMOvke+fWj2cg9pE6jQbz+0PD1hd+W0Xn26PsfquVBwa0K5CE6vBAkMWpRhI1CqPIPQfjT/O1r/oJx/9+D/jR7OQe0idZRXJ+drX/QTj/wC/B/xo87Wv+gnH/wB+D/jR7OQe0idZRXHyX+s2s1s738UsbTqjp5JGQc9DmuwqZRcdy1JPYKKKKkYUUUUAFFFFABRRRQAUUUUAFFFFABRRRQAUVk+Jb25sNFeaydUmMkaBmXcBucA8fQ1k+drX/QTj/wC/B/xqoxctiXJLc6yiuT87Wv8AoJx/9+D/AI0edrX/AEE4/wDvwf8AGq9nIn2kTrK4Xx74vj8M+JPDUDafcXsl3dFEEJHGVYZ59M5q952tf9BOP/vwf8az9Q0m91O/sry7v43lsZDJCfI6Egj19DR7OQe0id2p3KDjGRnB7Utcn52tf9BOP/vwf8aPO1r/AKCcf/fg/wCNHs5B7SJ1lFcn52tf9BOP/vwf8aPO1r/oJx/9+D/jR7OQe0idZRXLWF9qseuWkF3dxzwzhgVERUggE5zn2rqahpp2ZaaaugooopDCiiigAooooAwPFABbTtwz/pAqAqufuj8qn8T/AH9O/wCvgVCeprppfCc9TcTA/ur+VGB/dX8qKK1MgwP7q/lRgf3V/Kiq2p38WlaXc39wGMVtE0rheuAMmgZZwP7q/lRgf3V/KvP7L4u6fqMUctnoerywykBZVt8qffNd9G4kjVwMbgDg9RSTT2BprcdtH90flQABwAMelFRXV1DZWkt1dSLHDCpd3J4UCmBLgf3V/KjA/uj8qq6ZqVtq+nQ31i++CYbkb1HrVqkAYH90flRgf3R+VLSUxBgf3V/KjA/uj8qKKADA/uj8qMD+6PyoooARgNjfKvT0q/4U/wCRU0/t+5Xp9KoN9xvpV/wp/wAipp//AFxX+VYVehtS6mxRRRWBuFFFFAFeiiigCxRRRQAUUUUAFFFFABXGaP8A8g4f77fzrs64zR/+QcP99v51tS3Mquxdopa5DxX4o1zw3Z3uoLpEM9hapv8AMMuGYY9M1u3YwSuddRWHouq6rcq0uuWUFhAUVonEud2ex5rVN/ZiATG7hEROBJ5g25+tFwsT0UxJ4pIfOjlR4sZ3q2R+dNt7y2u932W4im2/e8tw2PyoAloqBL60kuDBHdQtMOsYcFvyqemA2b/j3l/3D/KtPwz/AMi1Zf8AXP8AqazJv+PeX/cP8q0/DP8AyLVl/wBc/wCprCrsjWluzVooorA3CiiigAooooAKKKKACiiigAooooAKKKKAKer/APIHuv8Arma56w/5Blr/ANcU/lXQ6v8A8ge6/wCuZrnrD/kGWv8A1xT+Vb0upjV6E9FFZHinW28OeGrrVEhE7QbQIycbizBf61sYmvRXIal4o1/RdIbVdS0SF7KNBJMYJssiYyWxk5wKbqXja7XXtM0zQ9PS9fULVrlGd9oCjH/xVLmQ+VnY0VzE/iDW9N0PUdS1nSoYEtITKixyZ3kdutV7HX/Fl/Y293FoNsIp4xIuZucHn1o5gsdfRTYi7RKZF2uR8wHY06qJKuofdtv+vlP612FcfqH3Lb/r5T+tdhXNV3OilsFFFFZGoUUUUAFFFFABRRRQAUUUUAFFFFABRRRQBh+L/wDkAH/rvD/6MWqtWvF//IAP/XeH/wBGLVWuilsYVdwoorl5vE+o3niC+0rw7psdy2n7VuJp5NqhioYKBkZ4IrVuxla51FFcoPHUNr4butT1izksprOUQz27Hnd/snuPeujbULOOBJpLuFI5B8rNIAD9DRdBZliisnW/EljomlLfTSxyRu4RNrj5ifQ1efUbKJUMt3AnmDKbpAN30ougsWKKAQQCDkHoRRTERRf8jJpv1f8A9BNdXXKRf8jJpv1f/wBBNdXXLU+I6afwhRRRWZoFFFFABRRRQBgeJ/v6d/18CoT1NTeJ/v6d/wBfAqE9TXTS+E56m4lFFFamQVieNP8AkRda/wCvKX/0E1t1X1Cxg1TTbixvFL29zG0cigkZUjB5FJ7DW55d8LrXxkfBWjyWmo2SaYVyImj+cJk5GcVl+JdU1bWPiTrGntBrFxb2EAEEWm3Kw+WSAd7Zdc817Bo2kWeg6Rb6ZpkZjtbddsaEk4H1NZGueAtD1/Uvt95FNFdFdjy287xF19G2kZqOV2sXzK9zgZtcvZPAejWXiSfUU1K5uGjhtrGVfOugp4BcNgdcday9N+23dp400e7k1G3tYbNZkgurnzZImH8JYEj6816lqHgLQNR0qzsJbZ44rI5geKVkdD3+YHNGm+AtB0r7YbW3lJvYfJuGlmdzIvuSevvS5WHMjzCOCTw/8LvDVxYahchr6/t2lBmOFBdQVHovtXXapqcp+MemWUN43lHTJZJIUk4z8uCR+dbEXwz8OR+HpdFME72UkolCvcOTGwxjac5HQdKl0n4d+HtG1KPULSCZruONoxNLO7sVOMglifSnysOZHn/haHUptC1zxPPqt/cTaZPdfZrbzj5fBYDIzzisbQ9S8RG20jWbODWpLu4uQZ7i5vYzbyqW5VUMmc9ule26R4c03RLGe0sINsFxI0kiMS24sSW6+uTWNZ/DHwzY6hFdQWs37mXzYoWuZDGj5zkKWx1pcjHzI6xGLRqzDaSMkelLRRWpkFFFFACN9xvpV/wp/wAipp//AFxX+VUG+430q/4U/wCRU0//AK4r/KsKvQ2pdTYooorA3CiiigCvRRRQBYooooAKKKKACiiigArjNH/5Bw/32/nXZ1xmkf8AIOH++3862pbmVXYu1yXxT/5JjrX/AF7t/KutqG7s7e/tXtr2BJ4JBh45FyrD3FbvVGC0ZxnjW2jvPB2k20+TFLNCrgHGR6VieIdNbTvHWnaXpmm2J06K1Z7e3u5TFF5hZtxDYOW9q9MnsLW5ijiuII5EiIZFZchSOmKi1PRdO1mNE1SyhuljbcnmIDsPqPQ1LjcpSseU3AvrPwjq8drLamFr+MNb28rGKLIO5d+Pu9O1aFjZT2/iqxYDTNMXyZFkWwnaVpYdhxkYGMHBz7V6LbaJplnprafa2FvFaNndCsY2tn1HeotO8N6NpMzTabpttbSsuwvHGAdv93Pp7UuUfMeYwLHo15pUl3b2Gq2RvdsF/bTlbhXZu6YPA7817DnPNZFt4S0C0vxeWukWkVwHLh0iAwx6sOOvvWvVRViW7jZv+PeX/cP8q0/DP/ItWX/XP+prMm/495f9w/yrT8M/8i1Zf9c/6msquyNKW7NWiiisDcKKKKACiiigAooooAKKKKACiiigAooooAp6v/yB7r/rma56w/5Blr/1xT+VdDq//IHuv+uZrnrD/kGWv/XFP5VvS6mNXoT1yvxNx/wrvUge5iHHbMqc11VRXVpb31s1veQpPC+N0ci5Bwcjj6itnqjFaM8y8XaJqOn6TZXOpaze33h/CDUYOjeXgc5/u+o9M03X9Oi1n4neHLbStQuLCH+zJWins2AbblMD6V6fPawXVo9rcwpLbyJseJ1yrLjGCPSq8GjabbTQy29jBHJboY4XVADGp6qPQcCp5SuY5XxFos2i/DnXo59WvNT32rkPdsCV46Csrw1o9uNB06U+PL5P3EbeSbldq8fdx6V6Rc20N5bvb3USywyDa6OMhh6EVhf8IB4S7eHNN/8AAVP8KdtRXOgRlaNSjB1I4YHrS0yGGO3hSGBAkaDaqqOAPSn1QirqH3bb/r5T+tdhXH6h922/6+U/rXYVzVdzelsFFFFZGoUUUUAFFFFABRRRQAUUUUAFFFFABRRRQBh+L/8AkAH/AK7w/wDoxaq1a8X/APIAP/XeH/0YtVa6KWxhV3CvPr210PXfEeoNBq914e1a2cRzvFKIzMNoweeoxivQaydW8K6Frswm1fSbS8lUYEksSswHpkitGrmadjzXWry51P4feIrHVriHVBp1xGIr+OPaJMnkdTkjufetfXHs5fE1nZaHpVlePBaB993cmOGOI4ztwDk813cWiaXBpZ02Gwt47IjBt1jAQj6VXfwroUiwq2lWpWCPyox5Y+VP7v09qXKx8yPLktLO9+G+oRX0UDxW2qjaqsSkY4JwfStXXbBR4gv59KfTdThWBFnsLyUxeQmDzG2DnOOmPxr0EeHtHWymsxptsLac5lh8obX7cjvUVz4V0K88v7TpVq5jTYpMY4X+79Palyj5hnhG6t7zwrYy2UDwQ+XtWNzkrg469xxxWzTIIIrW3SC3jWKKNQqIgwFA7AU+rWxBFF/yMmm/V/8A0E11dcpF/wAjJpv1f/0E11dc1T4jop/CFFFFZmgUUUUAFFFFAGB4n+/p3/XwKhPU1N4n+/p3/XwKhPU100vhOepuJWD431m58PeC9S1WyCme1hLpvGRkVvVyXxTRn+GOtqilmNswAAyTxWj2M1uWNP8AGempo+nS61fQ293d23n7DnkYGSPzp3/CwvCn2AXv9tW/2csVDc9fcYyK84g06K88ceBBeWxljj01jh0JCthcZqTSdEsjJ8RpX0+MnLohMXbyweOPUnpWfMy+VHqN34p0Swt7ae71KCKO6UtAxbiQDrj86NG8T6L4gWRtG1CK6EX39uQV/A14Rf8A2S18N/DR9XtjJbxSSeZG0Rc7cjjbjJ7V1UiJrvjzXLrwbbSJCdHkheWNDEskpX5QM45o53cOVHoa+OfDL6qNNXWLc3ZbaI8nr6Z6VPq3izQtDm8nVtShtpdofY+c4Pf9a8T8/RpPhFBoVrpkw8S+aU8s2zeas27727HuOc12B0eO++M2lR6xZrcCHSCT5qbgHyg6njPWjmbDlRt6N8UdJ1vx3c6BauohjiUxXBJ/fOeSoGOw71sjx54XOpfYBrNv9p37NnP3vTOMV57pVvZ6F8ePEH2uzVVvLRPsCCE7WYKMgHGB0rj9fvjqng9DEkFjImoB/wCzLOxw0Zz95m25GfXNHM0h8qbPe9T8WaFo0skWp6lFbyRqHdGySAehwPrUtr4h0i+0g6pa38MlkoJM4b5Rj1rgrGxhvvjYZbq1E0a6QpVpI8qCQvc98GuJm0u7l+G/imGxtpzDFrnmSQRAgtCApIAHUdafMxcqPa9H8YaB4gmeHR9SiuZEG5lGQQPXmmJ428OSax/ZaatAb3ds8rn73pnGM1xVprPh/WdStYPDejyy3/8AZrhbyOExrb8D5Wzjn/CuC0myN14Ti0XUtSks71dRJMMdgWnWTzSQ27bnHQ5zik5sFFH0fRUVqhjs4UYlmVACT1PFS1qQI33G+lX/AAp/yKmn/wDXFf5VQb7jfSr/AIU/5FTT/wDriv8AKsKvQ1pdTYooorA3CiiigCvRRRQBYooooAKKKKACiiigArjNIB/s4cfxt/OuzrCHhHTlLeXJdxqWLbUnIAz7VcJcrInHmRXxRirP/CJWP/Pxe/8AgQ1H/CJWP/Pxe/8AgQ1a+1Rn7JlbFGKs/wDCJWP/AD8Xv/gQ1H/CJWP/AD8Xv/gQ1HtUHsmVsUYqz/wiVj/z8Xv/AIENR/wiVj/z8Xv/AIENR7VB7JlbFGKs/wDCJWP/AD8Xv/gQ1H/CJWP/AD8Xv/gQ1HtUHsmU5Qfs8n+4f5Vp+Gf+Rasv+uf9TVc+EbBlIM97gjB/0hq17O0isbOO2twViiXaoJzxWc5qRcIuJNRRRWZoFFFFABRRRQAUUUUAFFFFABRRRQAUUUUAU9X/AOQPdf8AXM1z2n86Za/9cU/lXU3ECXNu8Moyki7Wwe1Ysfg/T4o0jSe9CooVR9obgCtISUTOcXIgxRirP/CJWP8Az8Xv/gQ1H/CJWP8Az8Xv/gQ1ae1RHsmVsUYqz/wiVj/z8Xv/AIENR/wiVj/z8Xv/AIENR7VB7JlbFGKs/wDCJWP/AD8Xv/gQ1H/CJWP/AD8Xv/gQ1HtUHsmVsUYqz/wiVj/z8Xv/AIENR/wiVj/z8Xv/AIENR7VB7JmXqHC23/Xyn9a7CsRPCmnpNFI0l1IYnDqsk5YZHtW3WU5czNIR5VYKKKKgsKKKKACiiigAooooAKKKKACiiigAooooAw/F/wDyAD/13h/9GLVbFbeo6dBqli9rdhjGxBO04IIOQQfqKzf+ESsf+fi9/wDAhq1hNRRnODkytijFWf8AhErH/n4vf/AhqP8AhErH/n4vf/Ahqv2qI9kytijFWf8AhErH/n4vf/AhqP8AhErH/n4vf/AhqPaoPZMrYoxVn/hErH/n4vf/AAIaj/hErH/n4vf/AAIaj2qD2TK2KMVZ/wCESsf+fi9/8CGo/wCESsf+fi9/8CGo9qg9kyhF/wAjJpv1f/0E11dZNn4bsrK+ju0a4kljBCebKWAz7GtasZS5nc1irKwUUUVJQUUUUAFFFFAGB4n+/p3/AF8CoT1NWPFENy8NnLaWkl0YpwzJERkD15IrMNzf5/5Al9/5D/8Aiq3pySWphUi29C1SOiSIUkVXU9VYZBqr9ov/APoCX3/kP/4qj7Rf/wDQEvv/ACH/APFVpzR7mfLLsTi3hDKwijDIMKdoyo9qUQRLvxEg8z7+FHzfX1qv9ov/APoCX3/kP/4qj7Rf/wDQEvv/ACH/APFUc0e4+WRieIfBlvrut6JfmTyV0mUyLEqja+ccY/CujighgyIIY4gxyQigZqv9ov8A/oCX3/kP/wCKo+0X/wD0BL7/AMh//FUc0Q5ZEws7YTeaLeISf39gz+dP8qPzfN8tfMxjftGcfWq32i//AOgJff8AkP8A+Ko+0X//AEBL7/yH/wDFUc0e4csidraB5lmeGNpV+65UEj8aYLCzDM32WDLfePljn61H9ov/APoCX3/kP/4qj7Rf/wDQEvv/ACH/APFUc0Q5ZFgQxq+9Y0DYxuCjOPShYIkVgkSKGOWAUDP1qv8AaL//AKAl9/5D/wDiqPtF/wD9AS+/8h//ABVHNHuHLImhtbe3JMEEcRPXYgGfyo+yWwm877PF5v8Af2DP51D9ov8A/oCX3/kP/wCKo+0X/wD0BL7/AMh//FUc0Q5ZFuiqn2i//wCgJff+Q/8A4qj7Rf8A/QEvv/If/wAVT549xcsuxab7jfSr/hT/AJFTT/8Ariv8qxWuNQKkf2JfdP8Apn/8VW/4bt5rXw3YwXMZilSFQ6Hqp9KxqNO1jWmmtzTooorE2CiiigCvRRRQBYooooAKKKKACiiigAooooAKKKKACiiigAooooAKKKKACiiigAooooAKKKKACiiigAooooAKKKKACiiigAooooAKKKKACiiigAooooAKKKKACiiigAooooAKKKKACiiigAooooAKKKKACiiigAooooAKKKKACiiigAooooAKKKKACiiigAooooAKKKKACiiigAooooAKKKKACiiigAooooAKKKKACiiigAooooAKKKKACiiigAooooAKKKKACiiigAooooAKKKKAK9FFFAFiiiigAooooAKKKKACiiigAooooAKKKKACiiigAooooAKKKKACiiigAooooAKKKKACiiigAooooAKKKKACiiigAooooAKKKKACiiigAooooAKKKKACiiigAooooAKKKKACiiigAooooAKKKKACiiigAooooAKKKKACiiigAooooAKKKKACiiigArnNblur3xFaaPDdvZwywtK7xnDtjsDXR1n6potrqxjecvHLFny5Ymwy560AYi6td6RdJo8dwuq3b73VnIHlxr2YjvyKrp46nuZLg2mm74bO3M1zIzgYIYhlHPUY+lareD9LNskaCWORWLeer/vCT1yfeqf/AAg1m+sPKxZbP7OsIgRsb8HJ3euaBCv4zCxui2Tm5VziEsMlAM7+vTtWYPG91HNYTXlhJDJfWiSQwiQFQXZQA2D1561tW/hnf4kvNSvUiCvALaFY85Cc5zz9KXU/ClrcWafY41E8MCwQlySAgIOPrx1pgZNx4k1qbUYLdLJbeeG8MLoZAUlXap3ZByOpHPNLpHivU9W8YWVqLdIbKWylklQkFldWQfl8xq54c8HjTjLcagd9xJcm4ADk7TtVepPP3RWlbeF9Ns9RgvbeNkngV1Vg3VWIJB/ECkM569v9R1PWJI4tQWxSFjtUsV6HGOOp4zz2NWNd1TU2+Ht1PY3Ii1BDsSdRwSD1ra1Hwxp2pXQuJ42WTILFGxu+tWZ9Is7jTBYPFi3GPlU+lAHCX3irVrm88OGymWOJZMamvHJ2Ebfb5sVqyeP/ALMbj7RaKwjjZ0EbZ3YJGM9O3atk+EtILSsLfHnT+e+GPLY/+vUMXgnSIy2+OSUFGjw7cBT2H50AZ2o65r0OpafELKON3kO5BICsi7SfXI6VXPjmb7cDHYTPIYF/d+YuzcZSmOvtnPpXQWnhbT7WZJ8zSzoxIklkJPQj6d6F8JaUk4mWE7wAM7vRy/8AM0AY1147kspFs7my237SMoQZZcAA54571JoHiO51rxQgAeK1k0/zfJYfdfcB/U1rXvhbTb5mkkR0maTzBKh+ZTjBxVZvBOl/aIZ4GuLeWGHyFeKUjKZzg59xQBSn8eRx61LaJas8UNytu7hTnJAOfTHNQSfEFotQktvsPmn7PJNH5bZzsIGCemTnsa2m8Jaa16LhhIeQzpu+V2AwGPvxVaHwDokFwJUik3IjRxgyHCIxBKj8h15oAz28b6km8yaOFWGxS+lPmA4Vv4Rz94flU3/CV3Au2gsbNp5JXdwJXAChQp9fett/DunyLMGiJE1sLZ/m6xjtSReHNPhuhcRxsJAGAO7+8AD/ACFMDD/4Ta7l0v7bbaXlIoFlnVpACpOPlHPJ5rH07xZqcOsa59sn8yCUB9PjI5RtgJj/AD5/GtXWfBUl1IlvYeXFaFFjY7iGADA8889K108H6SDC0kJdoZhOpLfxgAZ/JRxRoI5bQPF+q6f4VsxrOy8vwG+0PnkkEAgAfXr0raXxlK+rfZDY+SjKpR5Wx5m5Q2QenfGOvFW5fBOkSMCFkThg21/vAkEg/iBUi+ENLF5FOVkYRbSsbPlcqAAf0FAznrfx7eW1jaRaharJfGAzT+WGKgbsDGO9XU8cXMzXNxFpbCwtZY0kmZwDh8ZbGegzzWi3gvSmWMKJUKZG5X5ZSc7T7U7UfDsZ0bULPTIo1OoL5cokJICkbSR74oAZ/wAJSG0W41GG2MkazeVb4Yfv+mCPQZyPwpkviHUorlLFtPjN6ytJtEny7B1Oc+4/OrVt4XsYNEh0xt5t44BDsDYHHf689ajfwhp7wqpe484Enz/M+c56jPTFIDDm+Ic7W9xPYaWZ47WLfLlwDu3FSo59R9K6XRNWn1Lz47u3EEsJGQrZBBGRUQ8J6StvLAlvtSaMRuAx5AOfzrQtdPgs5pZYFIabG7J9OlAFqiiigCvRRRQAUUUUAFFFFABRRRQAUUUUAFFFFABRRRQAUUUUAFFFFABRRRQAUUUUAFFFFABRRRQAUUUUAFFFFABRRRQAUUUUAFFFFABRRRQAUUUUAFFFFABRRRQAUUUUAFFFFABRRRQAUUUUAFFFFABRRRQAUUUUAFFFFABRRRQAUUUUAFFFFABRRRQAUUUUAFFFFABRRRQAUUUUAFFFFABRRRQAUUUUAFFFFABRRRQAUUUUAFFFFABRRRQAUUUUAFFFFABRRRQAUUUUAFFFFABRRRQB/9k=)\n",
        "\n",
        "\n"
      ],
      "metadata": {
        "id": "BpD6Gq2CwNu3"
      }
    },
    {
      "cell_type": "markdown",
      "source": [
        "The figure above shows feature selection is mainly broken down into two sections: unsupervised and supervised. Unsupervised methods do not use the target variable (e.g. remove redundant variables), an example of this is the correlation. Supervised methods use the target variable (e.g. remove irrelevant variables). Three primary examples of this are wrapper, filter, and intrinsic. The wrapper method searches for well-performing subsets of features, RFE is a typical example of that. The filter method selects subsets of features based on their relationship with the target, examples of this are Statistical Methods and Feature Importance Methods. The intrinsic method uses algorithms that perform automatic feature selection during training, such as Decision Trees. Dimensionality reduction, on the other hand, projects input data into a lower-dimensional feature space (Brownlee, 2017).\n",
        "\n",
        "The selection of an appropriate feature selection method is dependent on the data variable type. Data variable types are mainly broken down into two main categories: numeric (integer, float) and categorical (nominal, ordinal, boolean). The more that is known about the data type of a variable, the easier it is to choose an appropriate statistical measure for a filter-based feature selection method. There are a total of 4 possible cases and each result in different feature selection methods:\n",
        "\n",
        "* Numerical Input, Numerical Output\n",
        "  * Pearson’s correlation coefficient (linear).\n",
        "  * Spearman’s rank coefficient (nonlinear)\n",
        "* Numerical Input, Categorical Output\n",
        "  * ANOVA correlation coefficient (linear).\n",
        "  * Kendall’s rank coefficient (nonlinear). \n",
        "* Categorical Input, Numerical Output\n",
        "  * Use the same “Numerical Input, Categorical Output” methods but in reverse.\n",
        "* Categorical Input, Categorical Output\n",
        "  * Chi-Squared test (contingency tables).\n",
        "  * Mutual Information.\n"
      ],
      "metadata": {
        "id": "aedN1iCp7bZi"
      }
    },
    {
      "cell_type": "markdown",
      "source": [
        "![Capture.JPG](data:image/jpeg;base64,/9j/4AAQSkZJRgABAQEAeAB4AAD/4RD0RXhpZgAATU0AKgAAAAgABAE7AAIAAAAOAAAISodpAAQAAAABAAAIWJydAAEAAAAcAAAQ0OocAAcAAAgMAAAAPgAAAAAc6gAAAAgAAAAAAAAAAAAAAAAAAAAAAAAAAAAAAAAAAAAAAAAAAAAAAAAAAAAAAAAAAAAAAAAAAAAAAAAAAAAAAAAAAAAAAAAAAAAAAAAAAAAAAAAAAAAAAAAAAAAAAAAAAAAAAAAAAAAAAAAAAAAAAAAAAAAAAAAAAAAAAAAAAAAAAAAAAAAAAAAAAAAAAAAAAAAAAAAAAAAAAAAAAAAAAAAAAAAAAAAAAAAAAAAAAAAAAAAAAAAAAAAAAAAAAAAAAAAAAAAAAAAAAAAAAAAAAAAAAAAAAAAAAAAAAAAAAAAAAAAAAAAAAAAAAAAAAAAAAAAAAAAAAAAAAAAAAAAAAAAAAAAAAAAAAAAAAAAAAAAAAAAAAAAAAAAAAAAAAAAAAAAAAAAAAAAAAAAAAAAAAAAAAAAAAAAAAAAAAAAAAAAAAAAAAAAAAAAAAAAAAAAAAAAAAAAAAAAAAAAAAAAAAAAAAAAAAAAAAAAAAAAAAAAAAAAAAAAAAAAAAAAAAAAAAAAAAAAAAAAAAAAAAAAAAAAAAAAAAAAAAAAAAAAAAAAAAAAAAAAAAAAAAAAAAAAAAAAAAAAAAAAAAAAAAAAAAAAAAAAAAAAAAAAAAAAAAAAAAAAAAAAAAAAAAAAAAAAAAAAAAAAAAAAAAAAAAAAAAAAAAAAAAAAAAAAAAAAAAAAAAAAAAAAAAAAAAAAAAAAAAAAAAAAAAAAAAAAAAAAAAAAAAAAAAAAAAAAAAAAAAAAAAAAAAAAAAAAAAAAAAAAAAAAAAAAAAAAAAAAAAAAAAAAAAAAAAAAAAAAAAAAAAAAAAAAAAAAAAAAAAAAAAAAAAAAAAAAAAAAAAAAAAAAAAAAAAAAAAAAAAAAAAAAAAAAAAAAAAAAAAAAAAAAAAAAAAAAAAAAAAAAAAAAAAAAAAAAAAAAAAAAAAAAAAAAAAAAAAAAAAAAAAAAAAAAAAAAAAAAAAAAAAAAAAAAAAAAAAAAAAAAAAAAAAAAAAAAAAAAAAAAAAAAAAAAAAAAAAAAAAAAAAAAAAAAAAAAAAAAAAAAAAAAAAAAAAAAAAAAAAAAAAAAAAAAAAAAAAAAAAAAAAAAAAAAAAAAAAAAAAAAAAAAAAAAAAAAAAAAAAAAAAAAAAAAAAAAAAAAAAAAAAAAAAAAAAAAAAAAAAAAAAAAAAAAAAAAAAAAAAAAAAAAAAAAAAAAAAAAAAAAAAAAAAAAAAAAAAAAAAAAAAAAAAAAAAAAAAAAAAAAAAAAAAAAAAAAAAAAAAAAAAAAAAAAAAAAAAAAAAAAAAAAAAAAAAAAAAAAAAAAAAAAAAAAAAAAAAAAAAAAAAAAAAAAAAAAAAAAAAAAAAAAAAAAAAAAAAAAAAAAAAAAAAAAAAAAAAAAAAAAAAAAAAAAAAAAAAAAAAAAAAAAAAAAAAAAAAAAAAAAAAAAAAAAAAAAAAAAAAAAAAAAAAAAAAAAAAAAAAAAAAAAAAAAAAAAAAAAAAAAAAAAAAAAAAAAAAAAAAAAAAAAAAAAAAAAAAAAAAAAAAAAAAAAAAAAAAAAAAAAAAAAAAAAAAAAAAAAAAAAAAAAAAAAAAAAAAAAAAAAAAAAAAAAAAAAAAAAAAAAAAAAAAAAAAAAAAAAAAAAAAAAAAAAAAAAAAAAAAAAAAAAAAAAAAAAAAAAAAAAAAAAAAAAAAAAAAAAAAAAAAAAAAAAAAAAAAAAAAAAAAAAAAAAAAAAAAAAAAAAAAAAAAAAAAAAAAAAAAAAAAAAAAAAAAAAAAAAAAAAAAAAAAAAAAAAAAAAAAAAAAAAAAAAAAAAAAAAAAAAAAAAAAAAAAAAAAAAAAAAAAAAAAAAAAAAAAAAAAAAAAAAAAAAAAAAAAAAAAAAAAAAAAAAAAAAAAAAAAAAAAAAAAAAAAAAAAAAAAAAAAAAAAAAAAAAAAAAAAAAAAAAAAAAAAAAAAAAAAAAAAAAAAAAAAAAAAAAAAAAAAAAAAAAAAAAAAAAAAAAAAAAAAAAAAAAAAAAAAAAAAAAAAAAAAAAAAAAAAAAAAAAAAAAAAAAAAAAAAAAAAAAAAAAAAAAAAAAAAAAAAAAAAAAAAAAAAAAAAAAAAAAAAAAAAAAAAAAAAAAAAAAAAAAAAAAAAAAAAAAAAAAAAAAAAAAAAAAAAAAAAAAAAAAAAAAAAAAAAAAAAAAAAAAAAAAAAAAAAAAAAAAAAAAAAAAAAAAAAAAAAAAAAAAAAAAAAAAAAAAAAAAAAAAAAAAAAAAAAAAAAAAAAAAAAAAAAAAAAAAAAAAAAAAAAAAAAAAAAAAAAAAAAAAAAAAAAAAAAAAAAAAAAAAAAAAAAAAAAAAAAAAAAAAAAAAAAAAAAAAAAAAAAAAAAAAAAAAAAAAAAAAAAAAAAAAAAAAAAAAAAAAAAAAAAAAAAAAAAAAAAAAAAAAAAAAAAAAAAAAAAAAAAAAAAAAAAAAAAAAAAAAAAAAAAAAAAAAAAAAAAAAAAAAAAAAAAAAAAAAAAAAAAAAAAAAAAAAAAAAAAAAAAAAAAAAAAAAAAAAAAAAAAAAAAAAAAAAAAAAAAAAAAAAAAAAAAAAAAAAAAAAAAAAAAAAAAAAAAAAAAAAAAAAAAAAAAAAAAAAAAAAAAAAAAAAAAAAAAAAAAAAAAAAAAAAAAAAAAAAAAAAAAAAAAAAAAAAAAAAAAAAAAAAAAAAAAAAAAAAAAAAAAAAAAAAAAAAAAAAAAAAAAAAAAAAAAAAAAAAAAAAAAAAAAAAAAAAAAExpbnl1YW4gQ2hvbmcAAAWQAwACAAAAFAAAEKaQBAACAAAAFAAAELqSkQACAAAAAzA5AACSkgACAAAAAzA5AADqHAAHAAAIDAAACJoAAAAAHOoAAAAIAAAAAAAAAAAAAAAAAAAAAAAAAAAAAAAAAAAAAAAAAAAAAAAAAAAAAAAAAAAAAAAAAAAAAAAAAAAAAAAAAAAAAAAAAAAAAAAAAAAAAAAAAAAAAAAAAAAAAAAAAAAAAAAAAAAAAAAAAAAAAAAAAAAAAAAAAAAAAAAAAAAAAAAAAAAAAAAAAAAAAAAAAAAAAAAAAAAAAAAAAAAAAAAAAAAAAAAAAAAAAAAAAAAAAAAAAAAAAAAAAAAAAAAAAAAAAAAAAAAAAAAAAAAAAAAAAAAAAAAAAAAAAAAAAAAAAAAAAAAAAAAAAAAAAAAAAAAAAAAAAAAAAAAAAAAAAAAAAAAAAAAAAAAAAAAAAAAAAAAAAAAAAAAAAAAAAAAAAAAAAAAAAAAAAAAAAAAAAAAAAAAAAAAAAAAAAAAAAAAAAAAAAAAAAAAAAAAAAAAAAAAAAAAAAAAAAAAAAAAAAAAAAAAAAAAAAAAAAAAAAAAAAAAAAAAAAAAAAAAAAAAAAAAAAAAAAAAAAAAAAAAAAAAAAAAAAAAAAAAAAAAAAAAAAAAAAAAAAAAAAAAAAAAAAAAAAAAAAAAAAAAAAAAAAAAAAAAAAAAAAAAAAAAAAAAAAAAAAAAAAAAAAAAAAAAAAAAAAAAAAAAAAAAAAAAAAAAAAAAAAAAAAAAAAAAAAAAAAAAAAAAAAAAAAAAAAAAAAAAAAAAAAAAAAAAAAAAAAAAAAAAAAAAAAAAAAAAAAAAAAAAAAAAAAAAAAAAAAAAAAAAAAAAAAAAAAAAAAAAAAAAAAAAAAAAAAAAAAAAAAAAAAAAAAAAAAAAAAAAAAAAAAAAAAAAAAAAAAAAAAAAAAAAAAAAAAAAAAAAAAAAAAAAAAAAAAAAAAAAAAAAAAAAAAAAAAAAAAAAAAAAAAAAAAAAAAAAAAAAAAAAAAAAAAAAAAAAAAAAAAAAAAAAAAAAAAAAAAAAAAAAAAAAAAAAAAAAAAAAAAAAAAAAAAAAAAAAAAAAAAAAAAAAAAAAAAAAAAAAAAAAAAAAAAAAAAAAAAAAAAAAAAAAAAAAAAAAAAAAAAAAAAAAAAAAAAAAAAAAAAAAAAAAAAAAAAAAAAAAAAAAAAAAAAAAAAAAAAAAAAAAAAAAAAAAAAAAAAAAAAAAAAAAAAAAAAAAAAAAAAAAAAAAAAAAAAAAAAAAAAAAAAAAAAAAAAAAAAAAAAAAAAAAAAAAAAAAAAAAAAAAAAAAAAAAAAAAAAAAAAAAAAAAAAAAAAAAAAAAAAAAAAAAAAAAAAAAAAAAAAAAAAAAAAAAAAAAAAAAAAAAAAAAAAAAAAAAAAAAAAAAAAAAAAAAAAAAAAAAAAAAAAAAAAAAAAAAAAAAAAAAAAAAAAAAAAAAAAAAAAAAAAAAAAAAAAAAAAAAAAAAAAAAAAAAAAAAAAAAAAAAAAAAAAAAAAAAAAAAAAAAAAAAAAAAAAAAAAAAAAAAAAAAAAAAAAAAAAAAAAAAAAAAAAAAAAAAAAAAAAAAAAAAAAAAAAAAAAAAAAAAAAAAAAAAAAAAAAAAAAAAAAAAAAAAAAAAAAAAAAAAAAAAAAAAAAAAAAAAAAAAAAAAAAAAAAAAAAAAAAAAAAAAAAAAAAAAAAAAAAAAAAAAAAAAAAAAAAAAAAAAAAAAAAAAAAAAAAAAAAAAAAAAAAAAAAAAAAAAAAAAAAAAAAAAAAAAAAAAAAAAAAAAAAAAAAAAAAAAAAAAAAAAAAAAAAAAAAAAAAAAAAAAAAAAAAAAAAAAAAAAAAAAAAAAAAAAAAAAAAAAAAAAAAAAAAAAAAAAAAAAAAAAAAAAAAAAAAAAAAAAAAAAAAAAAAAAAAAAAAAAAAAAAAAAAAAAAAAAAAAAAAAAAAAAAAAAAAAAAAAAAAAAAAAAAAAAAAAAAAAAAAAAAAAAAAAAAAAAAAAAAAAAAAAAAAAAAAAAAAAAAAAAAAAAAAAAAAAAAAAAAAAAAAAAAAAAAAAAAAAAAAAAAAAAAAAAAAAAAAAAAAAAAAAAAAAAAAAAAAAAAAAAAAAAAAAAAAAAAAAAAAAAAAAAAAAAAAAAAAAAAAAAAAAAAAAAAAAAAAAAAAAAAAAAAAAAAAAAAAAAAAAAAAAAAAAAAAAAAAAAAAAAAAAAAAAAAAAAAAAAAAAAAAAAAAAAAAAAAAAAAAAAAAAAAAAAAAAAAAAAAAAAAAAAAAAAAAAAAAAAAAAAAAAAAAAAAAAAAAAAAAAAAAAAAAAAAAAAAAAAAAAAAAAAAAAAAAAAAAAAAAAAAAAAAAAAAAAAAAAAAAAAAAAAAAAAAAAAAAAAAAAAAAAAAAAAAAAAAAAAAAAAAAAAAAAAAAAAAAAAAAAAAAAAAAAAAAAAAAAAAAAAAAAAAAAAAAAAAAAAAAAAAAAAAAAAAAAAAAAAAAAAAAAAAAAAAAAAAAAAAAAAAAAAAAAAAAAAAAAAAAAAAAAAAAAAAAAAAAAAAAAAAAAAAAAAAAAAAAAAAAAAAAAAAAAAAAAAAAAAAAAAAAAAAAAAAAAAAAAAAAAAAAAAAAAAAAAAAAAAAAAAAAAAAAAAAAAAAAAAAAAAAAAAAAAAAAAAAAAAAAAAAAAAAAAAAAAAAAAAAAAAAAAAAAAAAAAAAAAAAAAAAAAAAAAAAAAAAAAAAAAAAAAAAAAAAAAAAAAAAAAAAAAAAAAAAAAAAAAAAAAAAAAAAAAAAAAAAAAAAAAAAAAAAAAAAAAAAAAAAAAAAAAAAAAAAAAAyMDIyOjExOjEwIDAwOjIyOjEzADIwMjI6MTE6MTAgMDA6MjI6MTMAAABMAGkAbgB5AHUAYQBuACAAQwBoAG8AbgBnAAAA/+ELIGh0dHA6Ly9ucy5hZG9iZS5jb20veGFwLzEuMC8APD94cGFja2V0IGJlZ2luPSfvu78nIGlkPSdXNU0wTXBDZWhpSHpyZVN6TlRjemtjOWQnPz4NCjx4OnhtcG1ldGEgeG1sbnM6eD0iYWRvYmU6bnM6bWV0YS8iPjxyZGY6UkRGIHhtbG5zOnJkZj0iaHR0cDovL3d3dy53My5vcmcvMTk5OS8wMi8yMi1yZGYtc3ludGF4LW5zIyI+PHJkZjpEZXNjcmlwdGlvbiByZGY6YWJvdXQ9InV1aWQ6ZmFmNWJkZDUtYmEzZC0xMWRhLWFkMzEtZDMzZDc1MTgyZjFiIiB4bWxuczpkYz0iaHR0cDovL3B1cmwub3JnL2RjL2VsZW1lbnRzLzEuMS8iLz48cmRmOkRlc2NyaXB0aW9uIHJkZjphYm91dD0idXVpZDpmYWY1YmRkNS1iYTNkLTExZGEtYWQzMS1kMzNkNzUxODJmMWIiIHhtbG5zOnhtcD0iaHR0cDovL25zLmFkb2JlLmNvbS94YXAvMS4wLyI+PHhtcDpDcmVhdGVEYXRlPjIwMjItMTEtMTBUMDA6MjI6MTMuMDkxPC94bXA6Q3JlYXRlRGF0ZT48L3JkZjpEZXNjcmlwdGlvbj48cmRmOkRlc2NyaXB0aW9uIHJkZjphYm91dD0idXVpZDpmYWY1YmRkNS1iYTNkLTExZGEtYWQzMS1kMzNkNzUxODJmMWIiIHhtbG5zOmRjPSJodHRwOi8vcHVybC5vcmcvZGMvZWxlbWVudHMvMS4xLyI+PGRjOmNyZWF0b3I+PHJkZjpTZXEgeG1sbnM6cmRmPSJodHRwOi8vd3d3LnczLm9yZy8xOTk5LzAyLzIyLXJkZi1zeW50YXgtbnMjIj48cmRmOmxpPkxpbnl1YW4gQ2hvbmc8L3JkZjpsaT48L3JkZjpTZXE+DQoJCQk8L2RjOmNyZWF0b3I+PC9yZGY6RGVzY3JpcHRpb24+PC9yZGY6UkRGPjwveDp4bXBtZXRhPg0KICAgICAgICAgICAgICAgICAgICAgICAgICAgICAgICAgICAgICAgICAgICAgICAgICAgICAgICAgICAgICAgICAgICAgICAgICAgICAgICAgICAgICAgICAgICAgICAgICAgIAogICAgICAgICAgICAgICAgICAgICAgICAgICAgICAgICAgICAgICAgICAgICAgICAgICAgICAgICAgICAgICAgICAgICAgICAgICAgICAgICAgICAgICAgICAgICAgICAgICAgCiAgICAgICAgICAgICAgICAgICAgICAgICAgICAgICAgICAgICAgICAgICAgICAgICAgICAgICAgICAgICAgICAgICAgICAgICAgICAgICAgICAgICAgICAgICAgICAgICAgICAKICAgICAgICAgICAgICAgICAgICAgICAgICAgICAgICAgICAgICAgICAgICAgICAgICAgICAgICAgICAgICAgICAgICAgICAgICAgICAgICAgICAgICAgICAgICAgICAgICAgIAogICAgICAgICAgICAgICAgICAgICAgICAgICAgICAgICAgICAgICAgICAgICAgICAgICAgICAgICAgICAgICAgICAgICAgICAgICAgICAgICAgICAgICAgICAgICAgICAgICAgCiAgICAgICAgICAgICAgICAgICAgICAgICAgICAgICAgICAgICAgICAgICAgICAgICAgICAgICAgICAgICAgICAgICAgICAgICAgICAgICAgICAgICAgICAgICAgICAgICAgICAKICAgICAgICAgICAgICAgICAgICAgICAgICAgICAgICAgICAgICAgICAgICAgICAgICAgICAgICAgICAgICAgICAgICAgICAgICAgICAgICAgICAgICAgICAgICAgICAgICAgIAogICAgICAgICAgICAgICAgICAgICAgICAgICAgICAgICAgICAgICAgICAgICAgICAgICAgICAgICAgICAgICAgICAgICAgICAgICAgICAgICAgICAgICAgICAgICAgICAgICAgCiAgICAgICAgICAgICAgICAgICAgICAgICAgICAgICAgICAgICAgICAgICAgICAgICAgICAgICAgICAgICAgICAgICAgICAgICAgICAgICAgICAgICAgICAgICAgICAgICAgICAKICAgICAgICAgICAgICAgICAgICAgICAgICAgICAgICAgICAgICAgICAgICAgICAgICAgICAgICAgICAgICAgICAgICAgICAgICAgICAgICAgICAgICAgICAgICAgICAgICAgIAogICAgICAgICAgICAgICAgICAgICAgICAgICAgICAgICAgICAgICAgICAgICAgICAgICAgICAgICAgICAgICAgICAgICAgICAgICAgICAgICAgICAgICAgICAgICAgICAgICAgCiAgICAgICAgICAgICAgICAgICAgICAgICAgICAgICAgICAgICAgICAgICAgICAgICAgICAgICAgICAgICAgICAgICAgICAgICAgICAgICAgICAgICAgICAgICAgICAgICAgICAKICAgICAgICAgICAgICAgICAgICAgICAgICAgICAgICAgICAgICAgICAgICAgICAgICAgICAgICAgICAgICAgICAgICAgICAgICAgICAgICAgICAgICAgICAgICAgICAgICAgIAogICAgICAgICAgICAgICAgICAgICAgICAgICAgICAgICAgICAgICAgICAgICAgICAgICAgICAgICAgICAgICAgICAgICAgICAgICAgICAgICAgICAgICAgICAgICAgICAgICAgCiAgICAgICAgICAgICAgICAgICAgICAgICAgICAgICAgICAgICAgICAgICAgICAgICAgICAgICAgICAgICAgICAgICAgICAgICAgICAgICAgICAgICAgICAgICAgICAgICAgICAKICAgICAgICAgICAgICAgICAgICAgICAgICAgICAgICAgICAgICAgICAgICAgICAgICAgICAgICAgICAgICAgICAgICAgICAgICAgICAgICAgICAgICAgICAgICAgICAgICAgIAogICAgICAgICAgICAgICAgICAgICAgICAgICAgICAgICAgICAgICAgICAgICAgICAgICAgICAgICAgICAgICAgICAgICAgICAgICAgICAgICAgICAgICAgICAgICAgICAgICAgCiAgICAgICAgICAgICAgICAgICAgICAgICAgICAgICAgICAgICAgICAgICAgICAgICAgICAgICAgICAgICAgICAgICAgICAgICAgICAgICAgICAgICAgICAgICAgICAgICAgICAKICAgICAgICAgICAgICAgICAgICAgICAgICAgICAgICAgICAgICAgICAgICAgICAgICAgICAgICAgICAgICAgICAgICAgICAgICAgICAgICAgICAgICAgICAgICAgICAgICAgIAogICAgICAgICAgICAgICAgICAgICAgICAgICAgICAgICAgICAgICAgICAgICAgICAgICAgICAgICAgICAgICAgICAgICAgICAgICAgICAgICAgICAgICAgICAgICAgICAgICAgCiAgICAgICAgICAgICAgICAgICAgICAgICAgICA8P3hwYWNrZXQgZW5kPSd3Jz8+/9sAQwAHBQUGBQQHBgUGCAcHCAoRCwoJCQoVDxAMERgVGhkYFRgXGx4nIRsdJR0XGCIuIiUoKSssKxogLzMvKjInKisq/9sAQwEHCAgKCQoUCwsUKhwYHCoqKioqKioqKioqKioqKioqKioqKioqKioqKioqKioqKioqKioqKioqKioqKioqKioq/8AAEQgCQgNuAwEiAAIRAQMRAf/EAB8AAAEFAQEBAQEBAAAAAAAAAAABAgMEBQYHCAkKC//EALUQAAIBAwMCBAMFBQQEAAABfQECAwAEEQUSITFBBhNRYQcicRQygZGhCCNCscEVUtHwJDNicoIJChYXGBkaJSYnKCkqNDU2Nzg5OkNERUZHSElKU1RVVldYWVpjZGVmZ2hpanN0dXZ3eHl6g4SFhoeIiYqSk5SVlpeYmZqio6Slpqeoqaqys7S1tre4ubrCw8TFxsfIycrS09TV1tfY2drh4uPk5ebn6Onq8fLz9PX29/j5+v/EAB8BAAMBAQEBAQEBAQEAAAAAAAABAgMEBQYHCAkKC//EALURAAIBAgQEAwQHBQQEAAECdwABAgMRBAUhMQYSQVEHYXETIjKBCBRCkaGxwQkjM1LwFWJy0QoWJDThJfEXGBkaJicoKSo1Njc4OTpDREVGR0hJSlNUVVZXWFlaY2RlZmdoaWpzdHV2d3h5eoKDhIWGh4iJipKTlJWWl5iZmqKjpKWmp6ipqrKztLW2t7i5usLDxMXGx8jJytLT1NXW19jZ2uLj5OXm5+jp6vLz9PX29/j5+v/aAAwDAQACEQMRAD8A+kaKKKACiiigAooooAKKKKACiiigAooooAKKKKACiiigAooooAKKKKACiiigAooooAKKKKACio55fJt5JcZ2KWx64FeRaT8ZvE2vWX23Rfh3d3lpvZFmS8XBIOD1WgD2GiuA8MfFW21fXl0LXtIvfD+rSDMUF4Btl/3WHWugufEV1B44s9CTSZ5La4t3ma/GfLjK9FPHU/WgDfooooAKKKKACiiigAooooAKKwNW8R3WneLNI0iHSZ7mDUBJ5t4mdlvtGRu47/UVv0AFFFFABRRRQAUVQ13VBonh++1MxeaLOB5jGDjdtGcZrmP+FgXE3gfR/ENjoc92dSeMG2ibcYg38RIHIFAHbUVi33irT9P1/TdFuTIL7UgTCgXgADJJNbVABRRRQAUUUUAFFFFABRXM+E/GK+KNQ1m1W0Nv/Zd0bYsX3eZjv04rpqACiiigAorG1zxRp3h+9020v2fz9TuBb26oucsfX0FRah4hurPxhp2jR6VNPb3kTyPernZCR0B47/WgDeooooAKKKKACiiigAooooAKKKKACiiigAooooAKKKKACiiigAooooAKKKKACiiigAooooAKKKKACiiigAooooAKKKKACiiigAooooAKKKKACiiigAooooAKKKKACiiigAooooAKKKKACiiigAooooAKKKKACiiigAooooAKKKKACiiigAooooAKKKKACiiigAooooAKKKKAIL//AJB1x/1yb+Vecfs/f8kqg/6+p/8A0Ya9HvgTp9wByTE38q8C+F/xNs/BPgtNG1XRtXa5jnlYmK1YqQXJHNAHV/HmCO20fRdYhULe2mpReVIv3sE4IrTvPEGpr8cNA0lLqRbC50uWaW3z8rOMYNc7eSax8YPEelKujXel+HNPnFxLLeJsadh0AFbeq2k5/aL0CdIXMEelTqZAvyqewzQBjaPeeM/GHjLxVpFn4gk02w0+/ZVmVd0gHZFz0A/rUfhq+8ea/reseEZvEAg/smXEmppGDLIp6D0H1rd+GFrPB448dvPC8aS6oWjZlIDDHUetL4BtZ4fix42mlhdI5JY9jspAbjsaAIvBPifWdI1TxXovizUP7SGgxLcpdlcM8ZUnB9+K5jS/F994ws21m8+IcHh7zWJttPhK/u1zxvz1NdHp2iS6p8TPiBaTRvHDf2EUCSlSAcqw4P41y3hmXR/BWiroHjbwTJNqNmTHFcw2PmrdLn5SGA60AdL4b+Id/rfgXxNHNeRTanosbqLy2+7KMZVxVLw7Y/EDxh4Dste/4S2TTpmtt8EEUYIkx3c984q/pNlqMvw28SXd1oFvo4u4ZPstrDDtkKY43gd66b4ZwSwfCTRoZo2jkWywyMMEHntQBycHxJ1uT4GN4i8pW1SKQ28siplVIbaXx+Gap6Zd+Irq2tdT8L+P4tdumZGm0+4KqjA/eAHUYo8Exa/p3wWuv7J01bm7W+mZ7S4j/wBbH5hyAD3xXM+IbXw34hsgnhHwpquneKGK7fJgeJYnzyWPTFAHpPirX9Vsvi14L02C5eG1vknN1Ap+VyqAjP0NUP7V8TfEHxjq+n6Dq76JpGkS/Z3mhUGWaQdeT0FQa5p2pJ8UvhwbxHnltraZbmZVJUP5YBJP1qOyvLz4WeM9dOp6Zd3Wi6tcm7gurWIyeWx6qwHNAGnoWveIfDHxCh8JeKL/APtWC/haSyvWXa+V6q3rWH4YufGvjfVfEljB4jk02x07U5IlnRQ0reiAnoo/rWjpKaj4++KNl4n/ALOubDRtJgdIGuk2PO7dwp7Vc+D9rPbX/jM3ELxCTW5GTepG4YHIoAX4eeIdfTxD4h8L+I7sanc6RteG527WlVhkA+9Y0134h1EXN74k8cp4YcSsILCBk+RR03dzmrWmWOon4s+PJLOJ45JrONbeUrgFtvGDXKeDpND0nT2s/E3hDUtR8UCRvNMtq0vmtnghjxigDoPDXjC/8V/CLxjFql0l9Npiz2y3aLtE6bMhsVSbXNR0L4E+DZtJuntpJZ7eJ2Q/eUnkVB4GsdRtvBfxJtdQ0xrG6mlllW2VeAGi4C46+nFGr6feN8CvBsC2spmjurcvGEO5cHuKAJ/HWgalffG3wz5HiC8tWu4pDEY8f6Phedv1rqrTWtW8P/Gb+wtXv5brTdVsVksTKfuSpw4H161mfEeefQfH/hPxJLYXV1YWaPHO1tGXKFlwMgVf+LkLT+DtO8YaYjC60WZL6MEYYxnG9fyNAF1Nb1LWvjG+mafdyR6XpFtm7RD8skrdAfpXc3jtHZTOhwyxkg+nFcL8INMnj8Kya5qKkX2tzNdy7uoDfdH5V3N8CbCcAZJjb+VAHkXwz/4TLxhocGuan4nuLe2t7qRFgRQfPRXOd5P5fhVIeOrjxlrWoMfGsPhjTrOdoIIoyBLKV43EntXX/BW0mg+F0EF1E8Tm4uMq64ODI1cLpOm6d8O9V1TTvGPhRtQs5rlprPUIrTztysc7TgZBoA6XwN8RZv7b1bQdX1aDWVsLU3cGoQ4HmRjqGx3FQeGk8bfEPSG8TxeJZNGt7h2NhZQRgrsBIBfPXOKt+DtPk8RXWszxeGrfQ9FuLY29qzW/lzybhgk+1Zvg3xZd/Djw+nhLxHomoyXVgzR2ktrAZEukySpBHQ896AKHw3udW0/w34/uL+UJqkFzIzyRjHzheor0n4d6neat8NNL1DUJ2nuprcs8rHljk81wnw7sdW1nR/HK6lYyWV3qFzJsikGMZXgUzwX45vfD3hGDwndeG9UbW7RWgSNYDsfk4bd0A5oAn8N/ETUtO+DOqeItUme/vYb+a3g8w9T5m1B9BVseH/iO2grrsXiqSTU2QTDThGPIPfZ/9eue8LeDtW1v4B6npDxGHVF1KadEcYDOsmcfQ10C/FO9Xw+ulW3h3VV8RrEIVgNs21Xxjdu6YoA574k6dreseIfAl3eajdaXdXl0kbW0ZGLaTBy6+9dfqOp6tpHxW8J6D/ak89tLYyG5Ln/Xsv8AE3vWJ4/h13TtL8E63rVvNqFxpd6s2ofZY9xXI7AenSr2o3B134w+C9Ys7acWkunTMWeMjZnoG9DQAW+peJ/iP4l1WHRdafQ9G0yc24kt1BkmcdTk9BVzwz4g1/QPiH/whniq9GpLc27XFjeldrsF6q3vWRpF/dfCjxJrVtq+l3lxpGoXJura8tYjIFJ6qwHIq54eg1Lxv8VofF82nXGn6Tptq8Fp9pTY8zN1bHpigDL8JTeN/HTa5DH4ll020sdTnhjmjUNI+G4XJ6KBgV0vwy8Qa5cavrvhzxNdLfXWkShUuguDIp6ZFRfBm1ntbPxILmF4i+t3DLvUjILdRSeB7WeL4ueM5pYXSOR49jspAbjsaAPS6KKKACiiigAooooAKKKKACiiigAooooAKKKKACiiigAooooAKKKKACiiigAooooAKKKKACiiigAooooAKKKKACiiigAooooAKKKKACiiigAooooAKKKKACiiigAooooAKKKKACiiigAooooAKKKKACiiigAooooAKKKKACiiigAooooAKKKKACiiigAooooAKMUUUAFFFFABRRRQAUUUUAFFFFABRRRQAUUUUAFFFFABRRWfreuWHh7S5NR1WcQW0eAzn1PAoA0KK53xN4zs/DFnpdzcwyTJqV1HbRbP4S/Qn2rogcqD60AFcD428JeKfFurJp6ata2vheTY11CIiZ5NpyV3dMHiu+ooAitreO0tYreBQscShFUdgKlornte8YWmgeIdG0m4gkkl1eYxROp4QgZ5oA6GiiigAooooAKKKKACiiigAooooAKKKKACiiigAooooAKKKKACiiigAooooAKKKKACiiigAooooAKKKKACiiigAooooAKKKKACiiigAooooAKKKKACiiigAooooAKKKKACiiigAooooAKKKKACiiigAooooAKKKKACiiigAooooAKKKKACiiigAooooAKKKKACiiigAooooAKKKKACiiigAooooAKKKKACiiigAooooAKKKKACiiigAooooAKKKKACiiigCrqs722j3k8JxJFA7qfQhSRXj/hnXPiT4x8DJrljqFjYLCjECSIs1yVzk/7I4r1zXBnw/qAHX7NJ/wCgmuE+EiMnwStVdSreRLwRg9TQBj+H/EfxB+IHhj+1NIuLHRlt90beYhkNxIvXHoK0tJ+KskfweufFOt26/bbOZ7R4ozhZJlbaMexNSfBNHT4Xsrqyn7TPwRj+I1w+m+Fr3xP8ANcsLGAyXUetT3EcLDHm7ZM7fxGaAOj/ALX8djSjrZ8TaJ5oTzv7KwMbeu3fnrisn4ma9d+N/gjb67pt2tpAZVW6tim4s4YDAPbBqnFe/ClfDymXwX/xPFj2nTWs5d5lxjHpjPetvxZo9zF+z28cGgRaXLuSd7CzVmEY3Ang5OcUAU/iXBrelfDnwr9vuk1bUF1eB4iqeWG4+Vcf1rU8Rat8RvBumxeI9Sv9Pu7JZEFzYRxEGNWOOG74qp431+x8VeC/B97ozSSxR61bRvujKlWUcgg11fxnRn+FV8qKWOY+AM/xCgBni7xzqaX2i6D4ThifVtYj81ZJvuQR4yWPrWVq+t+N/h01pqfiO/tdb0eadIblooTG9uWOAw9RmqfiKC88NeJvCfjVLKe8sLexFreLAhZ4lZR820dcUzx74wtfiPo8HhXwZBc3817cRm4nMDJHbxqwJLEgc8dKAN/xL4u1zVPGVv4T8FvBBcNbi5ub2ZdwhQ9AB3Ncbr8Hiyy+Lngm08UXNvfwLdloLuFChY45UitnU0k+HXxTj8RX1tPPo99YpazTwxl/IdBjJA7VQ8Q+M7bxf8UvBi6JbXMun296Wa8eFkRmKngZFAGxrHi/Xda+I2peGNH1qx0BNORCJLpN0lwzDPygkcCup8FXnitp76x8Wwwyi3YfZ7+AYS4X6djXDeN5/C994yvrD4meHfs8CKp0/V7eOQmRcchmXoQe1O+EFvcW3i/Vo9AutTuPCSxr9nbUd3+s77NwzigD2WiiigAooooAKKKKACiiigAooooAKKKKACiiigAooooAKKKKACiiigAooooAKKKKACiiigAooooAKKKKACiiigAooooAKKKKACiiigAooooAKKKKACiiigAooooAKKKKACiiigAooooAKKKKACiiigAooooAKKKKACiiigAooooAKKKKACiiigAooooAKKKKACiiigAooooAKKKKACiiigAooooAKKKKACiiigAooooAKKKKACiiigAooooAKKKKAAgEEEZB6imJFHFH5caKqf3VGBT6KAGRxRxJsiRUX0UYFEcUcKlYkVATkhRjmn0UAQ/ZLbzfN8iPzP72wZ/OpWUMpVgCD1BFLRQBCtnbKgRbeMKG3BQgwD61JJGkqFJUV1PZhkU6sjWNSnstT0mCHbsurgxyZHbGeKANYopTYVBXGMY4qOK2ggz5EMceeu1QM1LRQA140lQrIiup6hhkUxbS3TbsgjXYcrhRwfapaKAI5beG4XE8SSD0dQadHGkShYkVFHQKMU6igAooooAKKKKACiiigAooooAKKKKACiiigAooooAKKKKACiiigAooooAKKKKACiiigAooooAKKKKACiiigAooooAKKKKACiiigAooooAKKKKACiiigAooooAKKKKACiiigAooooAKKKKACiiigAooooAKKKKACiiigAooooAKKKKACiiigAooooAKKKKACiiigAoorP16/bTPD99exjLwwsy59ccfrQAt7rul6bJ5d9f28L/3Gcbvy61T/wCEw0D/AKCUf5N/hTNA8OWNlYxzzQrPeTqJJp5RuZ2PPU1sfZLb/n3i/wC+BQBlf8JhoH/QSj/75b/Cj/hMNA/6CUf/AHy3+Fav2S2/54Rf98Cj7Jbf88Iv++BQBlf8JhoH/QSj/wC+W/wo/wCEw0D/AKCUf/fLf4Vq/ZLb/nhF/wB8Cj7Jbf8APCL/AL4FAGV/wmGgf9BKP/vlv8KP+Ew0D/oJR/8AfLf4Vq/ZLb/nhF/3wKPslt/zwi/74FAGV/wmGgf9BKP/AL5b/Cj/AITDQP8AoJR/98t/hWr9ktv+eEX/AHwKPslt/wA8Iv8AvgUAZX/CYaB/0Eo/++W/wo/4TDQP+glH/wB8t/hWr9ktv+eEX/fAo+yW3/PCL/vgUAZX/CYaB/0Eo/8Avlv8KP8AhMNA/wCglH/3y3+Fav2S2/54Rf8AfAo+yW3/ADwi/wC+BQBlf8JhoH/QSj/75b/Cj/hMNA/6CUf/AHy3+Fav2S2/54Rf98Cj7Jbf88Iv++BQBlf8JhoH/QSj/wC+W/wo/wCEw0D/AKCUf/fLf4Vq/ZLb/nhF/wB8Cj7Jbf8APCL/AL4FAGV/wmGgf9BKP/vlv8KP+Ew0D/oJR/8AfLf4Vq/ZLb/nhF/3wKPslt/zwi/74FAGV/wmGgf9BKP/AL5b/Cj/AITDQP8AoJR/98t/hWr9ktv+eEX/AHwKPslt/wA8Iv8AvgUAZX/CYaB/0Eo/++W/wo/4TDQP+glH/wB8t/hWr9ktv+eEX/fAo+yW3/PCL/vgUAZX/CYaB/0Eo/8Avlv8KP8AhMNA/wCglH/3y3+Fav2S2/54Rf8AfAo+yW3/ADwi/wC+BQBlf8JhoH/QSj/75b/Cj/hMNA/6CUf/AHy3+Fav2S2/54Rf98Cj7Jbf88Iv++BQBkt4y0BRn+0UPsqMT+grnvEGpXniC/02fwtbSzjTp/tEsksZjSRcY2LuwSTXcC1tx0gjH/ABUgUKMKAB7CgDCh8Z6O0Y+1TPZy/xRTxMrKfTpg/hT/8AhMNA/wCglH/3y3+Fa7wQyHMkSMfUqDTfslt/zwi/74FAGV/wmGgf9BKP/vlv8KP+Ew0D/oJR/wDfLf4Vq/ZLb/nhF/3wKPslt/zwi/74FAGV/wAJhoH/AEEo/wDvlv8ACj/hMNA/6CUf/fLf4Vq/ZLb/AJ4Rf98Cj7Jbf88Iv++BQBlf8JhoH/QSj/75b/Cj/hMNA/6CUf8A3y3+Fav2S2/54Rf98Cj7Jbf88Iv++BQBlf8ACYaB/wBBKP8A75b/AAo/4TDQP+glH/3y3+Fav2S2/wCeEX/fAo+yW3/PCL/vgUAZX/CYaB/0Eo/++W/wo/4TDQP+glH/AN8t/hWr9ktv+eEX/fAo+yW3/PCL/vgUAZX/AAmGgf8AQSj/AO+W/wAKP+Ew0D/oJR/98t/hWr9ktv8AnhF/3wKPslt/zwi/74FAGV/wmGgf9BKP/vlv8KP+Ew0D/oJR/wDfLf4Vq/ZLb/nhF/3wKPslt/zwi/74FAGV/wAJhoH/AEEo/wDvlv8ACj/hMNA/6CUf/fLf4Vq/ZLb/AJ4Rf98Cj7Jbf88Iv++BQBlf8JhoH/QSj/75b/Cj/hMNA/6CUf8A3y3+Fav2S2/54Rf98Cj7Jbf88Iv++BQBlf8ACYaB/wBBKP8A75b/AAo/4TDQP+glH/3y3+Fav2S2/wCeEX/fAo+yW3/PCL/vgUAZX/CYaB/0Eo/++W/wo/4TDQP+glH/AN8t/hWr9ktv+eEX/fAo+yW3/PCL/vgUAZX/AAmGgf8AQSj/AO+W/wAKP+Ew0D/oJR/98t/hWr9ktv8AnhF/3wKPslt/zwi/74FAGV/wmGgf9BKP/vlv8KP+Ew0D/oJR/wDfLf4Vq/ZLb/nhF/3wKPslt/zwi/74FAGbH4s0GVwq6pbgk4G9tufzrXVldQyMGUjIIOQaq3GlWF1E0dxZwyIwwQUFYvhyM6Vrmo6JGzNawqk9urHOxW6r9M0AdLRRRQAUUUUAFFFFABRRRQAUUUUAFFFFABRRRQAUUUUAFFFFABRRRQAUUUUAFFFFABRRRQAUUUUAFFFFABRRRQAUUUUAFFFFABRRSMwRSzEADqT2oAWisafxZotvIUe9UsOu0E1F/wAJpof/AD9/+OGuR43Cp2dRfejP2tNfaRvUVg/8Jpof/P3/AOOGj/hNND/5+/8Axw0vr2F/5+R+9C9tT/mRvUVg/wDCaaH/AM/f/jho/wCE00P/AJ+//HDR9ewv/PyP3oPbU/5kb1FYP/CaaH/z9/8Ajho/4TTQ/wDn7/8AHDR9ewv/AD8j96D21P8AmRvUVg/8Jpof/P3/AOOGj/hNND/5+/8Axw0fXsL/AM/I/eg9tT/mRvVk+KLSa+8L39taoZJpYiqKO5qv/wAJpof/AD9/+OGj/hNND/5+/wDxw0fXsL/z8j96D21P+ZGzaqUs4UYYZUUEfhUtYP8Awmmh/wDP3/44aP8AhNND/wCfv/xw0fXsL/z8j96D21P+ZG9RWD/wmmh/8/f/AI4aP+E00P8A5+//ABw0fXsL/wA/I/eg9tT/AJkb1FYP/CaaH/z9/wDjho/4TTQ/+fv/AMcNH17C/wDPyP3oPbU/5kb1FYP/AAmmh/8AP3/44aP+E00P/n7/APHDR9ewv/PyP3oPbU/5kb1FYP8Awmmh/wDP3/44aP8AhNND/wCfv/xw0fXsL/z8j96D21P+ZG9RVSx1Wy1JS1lcJLjqAeR+FW66ozjNc0XdGiaaugoooqhhRRRQAUUUUAFFFFABRRRQAUUUUAFFFFABRRRQAUUUUAFFFFABRRRQAUUUUAFFFFABRRRQAUUUUAFFFFABRRUc88VtCZbiRY0XqzHApNpK7AkorDfxjoaMVN4Dj0Umm/8ACaaH/wA/f/jhrk+vYX/n5H70Ze2p/wAyN6isH/hNND/5+/8Axw0f8Jpof/P3/wCOGj69hf8An5H70Htqf8yN6isH/hNND/5+/wDxw0f8Jpof/P3/AOOGj69hf+fkfvQe2p/zI3qKwf8AhNND/wCfv/xw0f8ACaaH/wA/f/jho+vYX/n5H70Htqf8yN6isH/hNND/AOfv/wAcNH/CaaH/AM/f/jho+vYX/n5H70Htqf8AMjeorB/4TTQ/+fv/AMcNH/CaaH/z9/8Ajho+vYX/AJ+R+9B7an/MjerEtrK4Txre3jRkW8lqiK/YkHkUz/hNND/5+/8Axw0f8Jpof/P3/wCOGj69hf8An5H70Htqf8yN6isH/hNND/5+/wDxw0f8Jpof/P3/AOOGj69hf+fkfvQe2p/zI3qKwf8AhNND/wCfv/xw0f8ACaaH/wA/f/jho+vYX/n5H70Htqf8yN6isH/hNND/AOfv/wAcNH/CaaH/AM/f/jho+vYX/n5H70Htqf8AMjeorB/4TTQ/+fv/AMcNH/CaaH/z9/8Ajho+vYX/AJ+R+9B7an/MjeorB/4TTQ/+fv8A8cNH/CaaH/z9/wDjho+vYX/n5H70Htqf8yN6iqVhrFhqf/HlcpIR1Xofyq7XTCcakeaDujRNNXQUUUVYwooooAKKKKACiiigAooooAKKKKACiiigAooooAKKKKACiiigAooooAKKKKACuE8f65LFImmWzlAV3ykHr6Cu7ryrx3/yNUv/AFzT+VeFn1adLBvkdrtI48ZJxpaHOUUUV+dniBRRRQAUUUUAFFFFABRRRQAUUUUAFFFFABRRRQAUUUUAFFFFABRRRQBa0/ULjTbxLi1cq6nP19q9l068XUNOguk4EqBseleIV6/4S/5Fay/3P619Xw3Wn7WdK+lrnpYGT5nHobNFFFfbHqhRRRQAUUUUAFFFFABRRRQAUUUUAFFFFABRRRQAUUUUAFFFFABRRRQAUUUUAFFFFABRRRQAUUUUAFFFFABXlvjPXJr/AFaS1RyLeA7QoPU9zXqR6GvE9X/5DV5/12b+dfM8RVpwoRhF6N6nBjpNQSXUp0UUV8IeOFFFFABRRRQAUUUUAFFFFABRRRQAUUUUAFFFFABRRRQAUUUUAFFFFABRRRQBPaXc1jcpPbOUdDkEGvYtF1AappEF30Lr8w968Wr1fwP/AMivD/vGvqOHK01XlSvo1c9DAyfO49DoaKKK+5PXCiiigAooooAKKKKACiiigAooooAKKKKACiiigAooooAKKKKACiiigAooooAK8q8d/wDI1S/9c1/lXqteVeO/+Rql/wCua/yr53iL/c16r9Thx38L5nOVp6Fp0eo6jsuCRDGhkkx1IHasytLQtRTTtQ3zgmGRDHJj0NfEYbk9tH2m1zyaduZc2xcg1PT7m9W2l0u3S2kbYCgw654BzRN4XmSa6xcRRw28m0vIccdqINN0+2vluZNShe2jbeFX77egxUt9q8V/o98zOFkmuQyx5524r0lGEqb+sWurtWt28ul7WN7Jr39w03RPs2reVeCKeOS3eSNhyp461mS6NcJJZqpVxeAGMr9cYNb1rqVoj2G6dR5dm6Nz0JHApNDvIh4flmuRmTTmLQE/7Yxj8+av6vh52pp23f8A6S3+F7FckHp/XQ502v2fVltpGWTbKFYjoea1da0Qpe3c8YjtrWMgLnjccdAKxoZc38csh/5aBmJ+tdTq2q2msfarWaZF8nD20nYkDkVzYeFGpSmpb30+59f61M4KDi7/ACMeLw3cvHFvngimmXdHC7fMw7VFbaFcTRSSzyR20cb7C0pxlvQV0TarBdy211Hd2sKpGocSJl0IHaoo9ZhvbCSEXECTLMzg3CcOD3rqeEwl9H6a77ef+Rp7OmY0fhu8kv3tQ0YKx+aHLfKy+oNQ3ujy2dot0k0VxAW2F4jnafQ10tpcR3+pTw/a1dI7F0MiLhV+ntWNcyW+n+HXsEuUuZp5hIfL5CgCs6uFoRpuS211v1Wyt1JlTgldeYzRtKt77Tb6aeVFeJMpuJ+X3q/f+H47iPT/ALNLbQPLCPlY4MjVQ0OaEWeoW80yRNNFhC54Jqze3ludR0dkmVlgRRIQeFwaKSofV1zRWtuuvxf5BHk5NV/VzPt9CuZfPaZ47eOB/Ld5Dxu9BVfUNOm06VUlKsrruR0OQw9q6g6tbTrf20U8CObtpUaZcq6msXxDeLcNbxLcRz+UmCY0woPoKzxGHw8KLcHd+vmKcIKN0MtNAlubGO7a5ghikcopkJHNSy+FrqFpY2ngM8SlzCG+YqO9JLdQnw3YwCQeZHcMzL6D1rSk1G1Pi68uBOpie3Kq+eCdoGKqFHCuKT393r3Tv9w1Gnb7jJg8PzSwRSTXEFuZv9WkjYLUReHro+ebh47ZIHCM0h4yfpWhO1nqy2M/22O3NugSRHPPHcVaGrx3N3dyWt7FEGZQIrhfkkAGM/WrjhsNfX5a76foxqnTKOn+HY/PvYr6aLMUG+Mhjg56Nx2rnmG1iAc4PUd6637Xpp1S5SCWOITWnls4+4X749q5N12SMuQ2DjI71y4ynShGKp23fW/UzqqKS5RteveEf+RWsv8Ac/rXkNeveEf+RWsv9z+terw3/vMvT9UdOB/iP0Nqiiivuz1wooooAKKKKACiiigAooooAKKKKACiiigAooooAKKKKACiiigAooooAKKKKACiiigAooooAKKKKACiiigAPQ14nq//ACGbz/rs3869sPQ14nq//IZvP+uzfzr5PiX+HT9Webj/AIYlOuk8P2ok0S8njsYru4R1CLIm7iubrasL1LfwzfRCbZM7qVAOCRXy+ClGNVuXZ/kefSaUrssFLmfVLO2l0m0tneT5QY8B/Y+1V/8AhHppYmupJ7e3iaVkG4kAEHoKi0S92eILOa8mOyOQEs5zgVa1W9gm0aCKKVWdbqRyoPQE8GuqPsalKVSetr2V/wDD2+Zp7souT/rYrDw9d/bpbZ2jQRLveUt8oX1q1qmmQ2Xhm1kUxSyPOwM0f8Qx0q/calZXUtzaG4VFuLdFWXsGA6Gs/VPs1v4atbOG7juJVnZ2CHgZFaTo0KcKnJro9b+e1vQpxhFO39amdYaY99HJL50UMUf3nkbHNGpaXLppiLukkcq7keM5BFaOhPZLp04keBbveNn2j7u3/Gn+J7uC6tbEQzxzNGpV/LGAD9K5/q9H6r7S/vW7+ZHJH2d+pnWWjy3do1080VvAG2h5TjJ9BUw8OXXnyrJJCkUQBaYt8vPTFT272+o+HYrF7lLaaCYuPMOAwIqyJNNfT7nSYbzblldZpD8rMByPpWkMPQcU/Lvu7PS3r/Wo1CFl/mUB4bunvIII5InWcExyqflOKefDM3ktMLy2MUbbZXDHCH3rUsb+ysHsLP7Uknkl2klH3QSOlZaXcI8M6jAZB5slyrKueSOeat0MLFa769drJO336D5Ka/ryLel6B5epT212IZQ1qZIpM5X2NUH0Oa3aGaOSC5iaUJlTkA+hrZt7+yeWFJLpY1On+UWz0b0qrDPaaXp6Wguo53luFdinRFBrSVHD8iS2V9b+ll5lOMLFefw9PLLd3DyW1tFDN5b8kKpx2qs/h66S/W28yIho/MEu75dvrWlrOoW0+l6hHDMrNJfB1APVdvWp4rvTJpLIXEsZMdmFXeflD+hqZYfDSnyr77+bE4U27GSdAZBDL9qglt3lEbOhPyn3q9f6MlpcanHZrBLFFEpO7JaP6e9WL2/thoXktc27SrOr7IBgAf1p11e2iT6xOl1G4uoUMYB5JBHFaeww8E0rd99tJfrYrkglb+tmZCeGrlgiPPAk8i7lgZvmNNh8OzvZi5nnht03mP8AeEggjtWrLJYXetQ6v9vjjjUKzRH7wIHTFVNY1KC90eLy3G83TOU7gGsZ4fDQjKXa9td9tSHCmk2ZGoWE2m3jW9xtLAAgqcgg9DVy30Caa3illuIbfzv9UsjYLUviS5hutRie3cOot41JHqBzV2U2mrwWEpvY7drdAkiOcHjuKwjQo+2qRWttle3Xv5EKEeZol0vSI7Oz1CW+W3M8GFVZgSF965hzmRjgDJPTpXS3+rWt3bar5cgHmLGsYPV8HrXMVON9nFQhS2V/zYVeVWUQr1fwP/yK8P8AvGvKK9X8D/8AIrw/7xr0uHf97fo/0N8D/E+R0NFFFffHshRRRQAUUUUAFFFFABRRRQAUUUUAFFFFABRRRQAUUUUAFFFFABRRRQAUUUUAFeVeO/8Akapf+ua/yr1WvKvHf/I1S/8AXNf5V87xF/ua9V+pw47+F8znKKKK+APGHtDKsKytGwjckKxHBIpldJY6VDd2OkLNJKVuJ5EZd3AAHYdqeNN0R7W8mVLhRZvhvn/1n+Feh9RnJJppadX5Jv8AA29i2r/13OYq3JqdzLp6WRZRAhztVQM/U963oNC024vLV1MqW1xA0hUtkqR71Xj0mw1WzkfShLFJDKqMJGyGDHANUsHXimota9L7rR/kP2U1sznqK6UaVpMuoyaXF54uVBAmLfKWHtTTYaZp+n2c13FNLNMxBCvgDBqPqNTVtqy3f3K34i9i+5zpBBwRg+9JXW6va2N34omRoZzsiUlIuS5wMD2GKiufD9sI7KZYZrcTTeW8TvuOPXNVLL6ilJRaaTt+NhujK7t0OftL2eyMht2C+YhRsjOQagIIAyCAenvXSyaTpUs1/aWqzrNaozh2fIbHbFR+JDa/2fpQghZGNsCCWzxk8Up4ScabcpK0dvvswdNqLbexhwWlxchjbwyShRltik4qE8da6nS5IB4SmRY5BJJMqFlkxknp+FT/APCLWouBZtDceYV5udw2hsenpWiy+c4RdN3uvz2Q/YtpOJx9KAT0GcV0Gn6PatABNa3N1N5hR/LO1Uwcde9aMFhZ6XJrFu0byBYQwJbBwe1RTy+pJKUmkn/k3+go0ZPVnG0VtXWl20d1paR7gt2qlwT6tirkmkaZaR6lNcrK6Wtz5Uaq+CRWawVRt6rT/K/5E+ykczRXVxeHbRLe3eS2uJjcDdlHAEYPT602Dw3bRy3iSB7qSFwEhSQKSp71p/ZtfTz/AMr/ANWuV7CZy1FX9YtIbPUGitxKqYB2yjDL7VQrhqQdOTg+hi1Z2YV694R/5Fay/wBz+teQ1694R/5Fay/3P619Hw3/ALzL0/VHfgf4j9Daooor7s9cKKKKACiiigAooooAKKKKACiiigAooooAKKKKACiiigAooooAKKKKACiiigAooooAKKKKACiiigAooooAD0NeJ6v/AMhm8/67N/OvbD0NeJ6v/wAhm8/67N/Ovk+Jf4dP1Z5uP+GJTooor4o8oKKKKACiitHQbGLUtZgtbjcI3znaeehNXTpupNQju9BxTk7IzqK6BtM069sLp9OWaOW2dVJkbIcE4/Cr/wDwi9qkyWjw3BkZObkMNoOPT0rtjl9afw2a7/h+hsqMnschRXSx+HbeSawwzeWzulyc9NnJI/CotQ0K3sIdQlcsVjkCW/PXPOfyqXgKyi5PZf5X/rzF7GaVzDgt5rmQR28byuf4UGTTZI3ikZJVKOpwVIwRXQ+FJYYo9QaSNy6wE7lbHFWU0C28i3muLe5uGuvnLI4/dqTx9TWlPAyq0ozg9Xv5a2HGi5RTRydKAScAZPtXQpoVtb313BPHPdtEwCJDxkHuTWlZ6Vaab4hsj5MgWeJmEbtkofr3op5dVk1zNLWz8tbAqEnucXRWzqNjajSVvrdXRpLpo9rNnAArRXQdPjvZFm80xR2izkBuSSKzjgakpcqa6fj/AMMJUpN2OVorp7XRbK4sW1BLW4kid9kcKycj1JNSL4ZtV1Mo7OY3g82KEuAxOcbc1ay6u0mra/1/XUfsJs5SitbW7CCyaLyYZ4GYfPHLzg+x71k1xVacqU3CW5lKLi7MKKKKzJCiiigAr1fwP/yK8P8AvGvKK9X8D/8AIrw/7xr6Ph3/AHt+j/Q7sD/E+R0NFFFffHshRRRQAUUUUAFFFFABRRRQAUUUUAFFFFABRRRQAUUUUAFFFFABRRRQAUUUUAFeVeO/+Rql/wCua/yr1WvLPHqMvih2I4aJSPevneIv9zXqv1OHHfwvmc1RRRXwB4xt2WvJawachhZvscryEg/eyKgTVVWyv4PLObtgwOfu81l0V1fWqtkr7f5W/I09pL+vuOs8P6nFPd2kLpgW1vIrbj97IrOfW4LW1aHSbdoS8gkkZ2yTg5AHtWKCR0JH0pK1eOq+zUVur6/JL5aIr20uWx0J8QWS3T30Vky3rqQWLfKCepxWfeap9qs7OLYQ1uSWY/xZOazqKyni6s003v5fP9CXUk1Y6X/hJrU3s8/2aQfaYgkpVsEEd1NMfxFbC3t4YbaQLBOJdzvktXO0Vq8wrvr+C9fzK9tM2IdaSLUr65MRIuo3UDP3c1FqGpQ32m2cXlMs9tH5e7PBFZlFYvE1XFxb0f6u5PtJWsaMGp+Ro72iod5mEgf0xWi/iK0mkFzPaytc7cEeZ8hOOuK52inDF1YKyenp2BVJI6CLxBbtp8EF1byFoCSPKfaGyc806TxHBNqF1LJbP5VzCI2UHkYrnaKv69Xslf8ABdFb8h+2mdBFr1iVtGubN3ls+IyGwCM5GagvdbS6tr6IRMpurjzgc/dGOlY1FKWMrSjyt/h5W/IHVk1Y3otet5LW3jv4JXe3G1WjkwGHoaji1i0eSc3Noy73DI0L4ZPbNYtFH1ytpe33L0D2sjR1nVP7Vu0kVCiRoEUE5JA7k1nUUVzVKkqk3OW7IlJyd2FeveEf+RWsv9z+teQ17B4URo/C9kGGD5ea+j4b/wB5n6fqjuwP8R+hsUUUV92euFFFFABRRRQAUUUUAFFFFABRRRQAUUUUAFFFFABRRRQAUUUUAFFFFABRRRQAUUUUAFFFFABRRRQAUUUUAB6GvE9X/wCQzef9dm/nXth6V4rrSNHrl4rjB85v518pxL/Cp+rPOx/wxKNFFFfEnkhRRRQAVe0e/XTNUiu3QuI8/KO+RiqNFXCcqc1OO6Gm07o07PVha2t7EEJa5IKnP3cHNX28RWk7rcXNrK1yFwQJMIx9cVztFdEMZWguVPT0+f6lqpJKxtWfiA22k3toYstcElGB+5ng/pSavrx1PT7S28soYV+ds/fOMZrGopPGVnT9m3pa343D2k7cty/pmorYJdKyFvPiMYx2zV+LXraS1to9Qgld7YbVMcmAw9DWDRSp4qrTXKnp/TCNSUVZHQQ+IoDDcw3Fu6xzSbx5L4I9s05/EsJvbGaO2ZVtVKlS2dwPvXO0Vr9fr2tf8F3v+Y/bTN0axYPZvZ3FrI8Am86LDYIJHINSXHiSKa4uJEt2RZbYQhc9Md656il9drWtdfcv66h7WRsWGsxRab9hvY5HiD70aN9pU0861ZveMZLI/Z/L8tcP86/7WfWsSipWLqqKj28kL2krWNbVtYS+tYLWCN1ihyQ0jZY596yaKKwq1ZVZc09yZScndhRRRWZIUUUUAFer+B/+RXh/3jXlFeseCUZPC8G4Y3EkV9Hw7/vb9H+h3YH+J8joKKKK++PZCiiigAooooAKKKKACiiigAooooAKKKKACiiigAooooAKKKKACiiigAooooAK57xX4aGuWyyQELdRfdJ/iHpXQ0VhXoU8RTdKorpkThGceWR4tcaHqVrMY5bOXI9FyKi/sy+/59Jv++DXtxAPUUm1f7o/Kvmnw1TvpUf3HB9Qj/MeJf2Zff8APpN/3waP7Mvv+fSb/vg17btX+6Pyo2r/AHR+VL/VqH/Px/cH1BfzHiX9mX3/AD6Tf98Gj+zL7/n0m/74Ne27V/uj8qNq/wB0flR/q1D/AJ+P7g+oL+Y8S/sy+/59Jv8Avg0f2Zff8+k3/fBr23av90flRtX+6Pyo/wBWof8APx/cH1BfzHiX9mX3/PpN/wB8Gj+zL7/n0m/74Ne27V/uj8qNq/3R+VH+rUP+fj+4PqC/mPEv7Mvv+fSb/vg0f2Zff8+k3/fBr2mWWCBQZ3jjB6FiBTEvLORwsc8LMegDgk0f6tQ/5+P7g+oL+Y8Z/sy+/wCfSb/vg0f2Zff8+k3/AHwa9t2r/dH5UbV/uj8qP9Wof8/H9wfUF/MeJf2Zff8APpN/3waP7Mvv+fSb/vg17btX+6Pyo2r/AHR+VH+rUP8An4/uD6gv5jxL+zL7/n0m/wC+DR/Zl9/z6Tf98Gvbdq/3R+VG1f7o/Kj/AFah/wA/H9wfUF/MeJf2Zff8+k3/AHwaP7Mvv+fSb/vg17btX+6Pyo2r/dH5Uf6tQ/5+P7g+oL+Y8S/sy+/59Jv++DR/Zl9/z6Tf98Gvbdq/3R+VG1fQflR/q1D/AJ+P7g+oL+Y8u0Hwbe6hcJJextBbA5bd1b2FeoRRrDEscY2ogAAHYU6ivcwOX0sDBqnq3uzro0I0lZBRRRXom4UUUUAFFFFABRRRQAUUUUAFFFFABRRRQAUUUUAFFFFABRRRQAUUUUAFFFFABRRRQAUUUUAFFFFABRRRQAVxfi7wjJfzm/00AykfvI/73uK7SiuXF4Sli6Xs6mxnUpxqR5ZHib6TqEbFXs5gR/sGm/2Zff8APpN/3wa9tKg9QPyo2r/dH5V87/q1T/5+P7jh+oL+Y8S/sy+/59Jv++DR/Zl9/wA+k3/fBr23av8AdH5UbV/uj8qX+rUP+fj+4PqC/mPEv7Mvv+fSb/vg0f2Zff8APpN/3wa9t2r/AHR+VG1f7o/Kj/VqH/Px/cH1BfzHiX9mX3/PpN/3waP7Mvv+fSb/AL4Ne27V/uj8qNq/3R+VH+rUP+fj+4PqC/mPEv7Mvv8An0m/74NH9mX3/PpN/wB8Gvbdq/3R+VG1f7o/Kj/VqH/Px/cH1BfzHiX9mX3/AD6Tf98Gj+zL7/n0m/74Ne27V/uj8qNq/wB0flR/q1D/AJ+P7g+oL+Y8S/sy+/59Jv8Avg0f2Zff8+k3/fBr23avoPyo2r/dH5Uf6tQ/5+P7g+oL+Y8S/sy+/wCfSb/vg0f2Zff8+k3/AHwa9t2r/dH5UbV/uj8qP9Wof8/H9wfUF/MeJf2Zff8APpN/3waP7Mvv+fSb/vg17btX+6Pyo2r/AHR+VH+rUP8An4/uD6gv5jxL+zL7/n0m/wC+DR/Zl9/z6Tf98Gvbdq/3R+VG1f7o/Kj/AFah/wA/H9wfUF/MeJf2Zff8+k3/AHwaP7Mvv+fSb/vg17btX+6Pyo2r/dH5Uf6tQ/5+P7g+oL+Y8S/sy+/59Jv++DR/Zl9/z6Tf98Gvbdq/3R+VG1fQflR/q1D/AJ+P7g+oL+Y8p0Xwhf6lcKZ4mggB+ZnGCR7CvUrW2jtLWOCEbUjXaBUtFe3gMto4GL5NW92ddGhGitAooor0jcKKKKACiiigAooooAKKKKACiiigAooooAKKKKACiiigAooooAKKKKACiiigAooooAKKKKACiiigAooooAKKKKACiiigDwb9qieWDwno5hleMm7OdjEZ+U14d8JL26f4seH1e5mZTdDIMhIPBr239q3/AJFLRv8Ar8P/AKCa8M+EX/JW/D3/AF9D+RoA+8KKKKACiiigAooooAKKKKACiiigAooooAKKKKACiiigAooooAKKKKACiiigAooooAKKKKACiiigAooooAKKKKACiiigAooooAKKKQsB1IH1NAC0U3zE/vL+dHmJ/eX86AHUU3zE/vL+dHmJ/eX86AHUU3zE/vL+dHmJ/eX86AHUU3zE/vL+dHmJ/eX86AHUU3zE/vL+dHmJ/eX86AHUU3zE/vL+dHmJ/eX86AHUU3zE/vL+dHmJ/eX86AHUU3zE/vL+dHmJ/eX86AHUU3zE/vL+dHmJ/eX86AHUU3zE/vL+dI88SKWeRFUdSWAoAxNPuJn8batA8jGKOGEohPCkg5rergbXxBHb/EjULlv+QVcxR263n8HnKORn056+1d2k8Uiho5UZT0IYHNAD6Kb5if3l/OjzE/vL+dADqKb5if3l/OjzE/vL+dADqKb5if3l/OjzE/vL+dADqKb5if3l/OjzE/vL+dADqKb5if3l/OjzE/vL+dADqKb5if3l/OjzE/vL+dADqKb5if3l/OjzE/vL+dADqKb5if3l/OjzE/vL+dADqKb5if3l/OjzE/vL+dADqKb5if3l/OlBB6EH6UALRRRQAUUUUAFFFFABRRRQAUUUUAFFFFABRRRQAUUUUAFFFFABRRRQAUUUUAFFFFABRRRQAUUUUAeBftW/8ilo3/X4f/QTXhnwi/5K34e/6+h/I17n+1b/AMilo3/X4f8A0E14Z8Iv+St+Hv8Ar6H8jQB94UUUUAFFFFABRRRQAUUUUAFFFFABRRRQAUUUUAFFFFABRRRQAUUUUAFFFFABRRRQAUUUUAFFFFABRRRQAUUUUAFFFFABRRRQBheIb+8FzZ6VpTiO6vWOZiM+VGoyzY9ew9zUUfgnTtubue8u5DyzyznJP4UXPPxFsPawm/8AQkroqAOf/wCEK0b/AJ5Tf9/2/wAaP+EK0b/nlN/3/b/GugooA5//AIQrRv8AnlN/3/b/ABo/4QrRv+eU3/f9v8a6CigDn/8AhCtG/wCeU3/f9v8AGj/hCtG/55Tf9/2/xroKKAOf/wCEK0b/AJ5Tf9/2/wAaP+EK0b/nlN/3/b/GugooA5//AIQrRv8AnlN/3/b/ABo/4QrRv+eU3/f9v8a6CigDn/8AhCtG/wCeU3/f9v8AGj/hCtG/55Tf9/2/xroKKAOf/wCEK0b/AJ5Tf9/2/wAaP+EK0b/nlN/3/b/GugooA5//AIQrRv8AnlN/3/b/ABo/4QrRv+eU3/f9v8a6CigDn/8AhCtG/wCeU3/f9v8AGj/hCtG/55Tf9/2/xroKKAOf/wCEK0b/AJ5Tf9/2/wAacvgzRAMNbPIM52vKxH863qKAKv8AZll9h+x/ZYvs2MeVtG38qyj4J0PJ2Wzxj+6krAD9a36KAOf/AOEK0b/nlN/3/b/Gj/hCtG/55Tf9/wBv8a6CigDn/wDhCtG/55Tf9/2/xo/4QrRv+eU3/f8Ab/GugooA5/8A4QrRv+eU3/f9v8aP+EK0b/nlN/3/AG/xroKKAOf/AOEK0b/nlN/3/b/Gj/hCtG/55Tf9/wBv8a6CigDn/wDhCtG/55Tf9/2/xo/4QrRv+eU3/f8Ab/GugooA5/8A4QrRv+eU3/f9v8aP+EK0b/nlN/3/AG/xroKKAOf/AOEK0b/nlN/3/b/Gj/hCtG/55Tf9/wBv8a6CigDn/wDhCtG/55Tf9/2/xo/4QrRv+eU3/f8Ab/GugooA5/8A4QrRv+eU3/f9v8aP+EK0b/nlN/3/AG/xroKKAOf/AOEK0b/nlN/3/b/Go5vB0MI83R727srheUIlLIT7g9RXSUUAZXhzVJdU0stdoEuoJGgnVem9e4+owfxrVrnfC/Gpa+B0+3/+01roqACiiigAooooAKKKKACiiigAooooAKKKKACiiigAooooAKKKKACiiigAooooAKKKKACvPfif8TLr4cx29y2hyX9lNw06PgI3oa9CrO1/QrHxJotxpeqQrNb3CFWBHT3HvQB8ifFv4yw/EvR7Kyi0trI20xlLGTdu4Ix+tcH4O19fC/jDTtaeEzrZzeYYwcbuDWv8TPh7ffD3xRJY3Cs9nIS1rPjh19PqK5G3t5bu5jt7aNpJZWCoijJYntQB9UeHf2kJPE+u22laX4XmlnncKAJfujuTxXuyFjGpcYYjkehryr4J/CiLwLoa6hqcatrN2gMhIz5K/wB0V6tQAUUUUAFFFFABRRRQAUUUUAFFFFABRRRQAUUUUAFFFFABRRRQAUUUUAFFFFABRVLVdXsdFs2utRnWGMdyeT9K4qb4xaIkhWO2uZFHRgoGa66GCxGIV6UG0ctbF0KDtUkkz0KivOv+Fy6P/wA+V1+Q/wAaP+Fy6P8A8+V1+Q/xrp/snHf8+2Yf2ng/+fiPRaK86/4XLo//AD5XX5D/ABo/4XLo/wDz5XX5D/Gj+ycd/wA+2H9p4P8A5+I9Forzr/hcuj/8+V1+Q/xo/wCFy6P/AM+V1+Q/xo/snHf8+2H9p4P/AJ+I9Forzr/hcuj/APPldfkP8aP+Fy6P/wA+V1+Q/wAaP7Jx3/Pth/aeD/5+I9Forzr/AIXLo/8Az5XX5D/Gj/hcuj/8+V1+Q/xo/snHf8+2H9p4P/n4js5dLMniS31TzMCG3eHZjruIOf0rSrzr/hcuj/8APldfkP8AGj/hcuj/APPldfkP8aP7Jx3/AD7Yf2ng/wDn4j0WivOv+Fy6P/z5XX5D/Gj/AIXLo/8Az5XX5D/Gj+ycd/z7Yf2ng/8An4j0WivOv+Fy6P8A8+V1+Q/xo/4XLo//AD5XX5D/ABo/snHf8+2H9p4P/n4j0WivOv8Ahcuj/wDPldfkP8aP+Fy6P/z5XX5D/Gj+ycd/z7Yf2ng/+fiPRaK86/4XLo//AD5XX5D/ABp0fxi0V5AJLW5Re7FQcUv7Jx3/AD7Y/wC08H/z8R6HRWfo+uWGu2YudMuFmTvjqp9CK0K86cJQk4yVmjujKM1zRd0FFFFSUFFFFABRRRQAUUUUAFFFFABRRRQAUUUUAFFFFABRRRQAUUUUAFFc54h8daN4ck8m7mMk/wDzyjGSPr6Vzv8AwuTR/wDnyuvyH+Nd9LLsXWjzwpto4qmPw1KXLOaTPRaK86/4XLo//PldfkP8aP8Ahcuj/wDPldfkP8a1/snHf8+2Z/2ng/8An4j0WivOv+Fy6P8A8+V1+Q/xo/4XLo//AD5XX5D/ABo/snHf8+2H9p4P/n4j0WivOv8Ahcuj/wDPldfkP8aP+Fy6P/z5XX5D/Gj+ycd/z7Yf2ng/+fiPRaK86/4XLo//AD5XX5D/ABo/4XLo/wDz5XX5D/Gj+ycd/wA+2H9p4P8A5+I9Forzr/hcuj/8+V1+Q/xo/wCFy6P/AM+V1+Q/xo/snHf8+2H9p4P/AJ+I7PStLOnXWozGTf8AbLjzgMfd+UDH6VpV51/wuXR/+fK6/If40f8AC5dH/wCfK6/If40f2Tjv+fbD+08H/wA/Eei0V51/wuXR/wDnyuvyH+NH/C5dH/58rr8h/jR/ZOO/59sP7Twf/PxHotFedf8AC5dH/wCfK6/If40f8Ll0f/nyuvyH+NH9k47/AJ9sP7Twf/PxHotFedf8Ll0f/nyuvyH+NH/C5dH/AOfK6/If40f2Tjv+fbD+08H/AM/Eei0V51/wuXR/+fK6/If40f8AC5dH/wCfK6/If40f2Tjv+fbD+08H/wA/Eei0VwVl8XdCuZ1jnSe3DHG91yB+VdxbXUN5bpPayLLE4yrKcg1yV8JXw/8AFi0dNHE0a/8ACkmS0UUVzHQFFFFABRRRQAUUUUAFFFFABRRRQAUUUUAFFFFAHK/ELwHp3xA8LzaXfqFlALW84HzRP2P0ry/4KfAybwxq0+ueLoY3vYJWjs4QdyqAceZ9T2r3qigAooooAKKKKACiiigAooooAKKKKACiiigAooooAKKKKACiiigAooooAKKKKACiiigDwH4ka7Pq3iqeBnP2e1by40zx7muRrW8Vf8jVqP8A13asmv1fCU408PCMVpZH5nipyqV5ylvdhRRRXUcwUUUUAFFFFABRRRQAUUUUAFFFFABRRRQAUUUUAFFFFABRRRQB03gHXZ9F8VWwjc+RcuIpUzwc9DX0MOa+YtB/5GGw/wCvhP8A0IV9OL90fSvh+JKcY1oTS1aPscgnJ0pxeyYtFFFfLH0gUUUUAFFFFABRRRQAUUUUAFFFFABRRRQAUUUUAFFFFABWV4n1RtG8N3l8n34ozt+tatcv8Rv+REv/APdH866cLBTxEIy2bX5nPiZOFCclukzwC5uZby6kuLlzJLIxZmY9TUVFFfq6SSsj8zbbd2FFKyspwwIPuKCpX7wIz6imAlFFFAgoopSjDOVIwcHI6UDEooooEFFFFABRRRQAUUUUAFFABJwBk0EEHBGDQMKKKKBBRSlSuMgjPTIpKBhXp3wf12cX82jyuWhZDJGCfukdcV5jXbfCf/kdk/65N/KvMzWnGeCqcy2Vz0MsnKGLhy9XY92ooor8xP0QKKKD0oA8q1LxNrEWqXMcd66okhAGBwKrf8JVrf8Az/v+Qqnqv/IYu/8Arq386q1jCCcbs9HEYidOq4xtZeS/yNb/AISrW/8An/f8hR/wlWt/8/7/AJCsmir9nEw+t1fL7l/ka3/CVa3/AM/7/kKP+Eq1v/n/AH/IVk0UeziH1ur5fcv8jW/4SrW/+f8Af8hR/wAJVrf/AD/v+QrJoo9nEPrdXy+5f5Gt/wAJVrf/AD/v+Qo/4SrW/wDn/f8AIVk0UeziH1ur5fcv8jW/4SrW/wDn/f8AIUf8JVrf/P8Av+QrJoo9nEPrdXy+5f5Gt/wlWt/8/wC/5Cj/AISrW/8An/f8hWTRR7OIfW6vl9y/yNb/AISrW/8An/f8hR/wlWt/8/7/AJCsmij2cQ+t1fL7l/ka3/CVa3/z/v8AkKP+Eq1v/n/f8hWTRR7OIfW6vl9y/wAjW/4SrW/+f9/yFH/CVa3/AM/7/kKyaKPZxD63V8vuX+Rrf8JVrf8Az/v+Qo/4SrW/+f8Af8hWTRR7OIfW6vl9y/yNb/hKtb/5/wB/yFH/AAlWt/8AP+/5Csmij2cQ+t1fL7l/ka3/AAlWt/8AP+/5CvRPCV5Pf+HYZ7uQySsWyx+teSV6p4G/5FW3+rfzNTZRmrGjqSq4eTlbRrol37HQ0UUVqcIUUUUAFFFFABRRRQAUUUUAFFFFAHzT4q/5GrUf+u7Vk1reKv8AkatR/wCu7Vk1+t4f+DD0X5H5hX/iy9WFFFavhnS4dZ8QW1jcsyxytglDz0q6k1Tg5y2REIOclFbsyqKmu4Vgv5oVyVjlZB6kA4rUu/D9zLqDQ6VYXhCRqzJKAWGR147UnVhG13a5Spyley2MWirl5o+oafNHFeWksTyfcVl+99KkvNA1XT7cT3ljNDF03svA/wAKPa09PeWu2u4vZz1916GfRWnF4b1ie1FxFp07RFdwYL1HrTLXQdUvbcz2tjLJECQXA4BHWl7al/MvvH7Kp/K/uM+ip7Sxub+48izheaXBOxBk4HWr58La4rop0y4y/wB35etOVWnF2lJL5ijTnJXjFsyaKu/2PqP9o/YPsc32r/nlt+arUHhnU31i10+5tZLd7hgFLL27mk61OK1ku/yGqVRvSL7GRRXXnwNMlvqqBJpLq0dVhVQP3gPfFc5c6PqFpdpa3NnLHPJ9xCvLfSop4mjVbUZf1a5dTD1aaTkv62KdFX77Q9T02IS31lLCjHAZhxn0rV8P+D73Ur6H7daXEVnIpPmgY7cU54ilCHtHJWFChVnPkUXc5uitSLw7qd20rWFlNPCkjIHUdcGsx0aORkkUqynBUjBBrSNSEnaLM5QlFXaEoooqyC/oP/Iw2H/Xwn/oQr6cX7o+lfMeg/8AIw2H/Xwn/oQr6cX7o+lfFcS/xKfoz67h/wCCp6oWiiivkz6cKKKKACiiigAooooAKKKKACiiigAooooAKKKKACiiigArl/iN/wAiJf8A+6P511Fcv8Rv+REv/wDdH8668D/vVP8AxL8zlxn+7VPR/kfPdKn31+tJSqcMD6Gv1Y/NT0rxjpVpq9r/AMS+JU1CwhRpEUY8yMjr+FUNY0EatqVgm9LW3h01ZZ5dv3VHU+5rNv8AxWieLodV00sY0jRHVxjeAMEEVq6h4z0i615mSGUadc2X2aZQuGjz3HrivnYUsVSjBRT2b9L7r/I96dTDVZTcmt0vXs/8zHPhezvLSO80a/a4txcJBOHj2tGWPBx6VauPBuni7vbC01Rpb61QuUMWFIHUZ9abBrWjaJpy2Oly3Fz511HNPNLGF2qh4AGetNg8R2EfjHUtSYyfZ7mORY/l5yRxkV082Kbbi3ZXtorvbfT17HOo4ZWUkru19dt9tfQ5yxhkF/blo22+auSRx1rttf0t7m41ry5lig/tOOIxCMdSOue30rm08Wao8EVncXW6zRlzGI1+6DnrjNbl74r02c6l5Zl/0jUorlMp/AvX8avELEOpGSj92vVeRNB0FTceb79Oj8yGfwZp4vrrTbbVGkv7eMybDFhTgZxn1qva+ErdNPtZ9WvJIHvP9UkUJfA6Zb0qWLxJYJ43vdUJk+zTRuqfLzkjA4q3beLbW60uygudU1DTZLQFGW2UMsq5z68GsZSxkYpa9L6a7O+y726GijhG29OtvvXn28zK/wCEVgstQvbfWL4Q/ZWCqsS73lzyCB6Yq4PA8TaxZW6XrC2vIWlWR48MuOxFW7bxbpj/ANoj7ReWU00qmK8KiaUoBjaSenrxUs/jHSnv9OmE93MLa3kikkmXLMSOD1qZVcbfRPbt5enfzZUaeDtq1v38/Xt5HF6rBY2935em3L3EYGGd02811CeCdPN1Y2Umqsl3fW6zRJ5WQMjPJri3O6RiOhJNdg3ibTz4q0e/Bk8i0tEil+XncFIOK7sSq6ilTb2fbe2nQ48O6Lk3US3X3dStceFLV9PuJdLvzcz2sojmQptGSccHvVv/AIQaA3P9mrfOdT8vds8k+Xuxnbu9ao6b4gt7Gz1UDcZbiVZIRt4OGzzW7N4ysLi6OoPq2qxlkybGM7V34xw+eB+FclSWNi7RvbvbrZeW2/b1OqnHCSV5Wv6+b899u/oJY6ZpcGk+HZPmF094yvmP75BwQfpVbWvDen3+q6t/Z9/uvLfdK0Pl4XHcA1XsvEGmNpeli8lmjuLG7aYqE3B1Zs9c9ais/EVlB4g1m8cyeVeRusWF5yemaiNPERnKavdX+fvflYpzoSjGLtZ2/wDSf8xqeFtPtxZwatqhtry8QOkax7lQN93ce2aaPCKWMV3Pr139lht5zApRNxdvYelWpNW8P6tJp99qsl1Dc2kaJJDFGGWXb0wc8U648Uad4ht7211ozWiSXRuIJIVD7cjG0jitefFX1v56ba/Z76epnyYby8td9Ovb8DS1fw3b6td6Ta2twvkR2JkMqJ8zgeg7muT1zR7TToYZbK8aYSEq0UqbJEI9R6VvXWv6A9/YLby30UFrbeUs8fyujf3sZ5+lU/FHiG01LRrWyjuJtQuYpC7Xk8QRtuPu8dfxqcL9YhOEXfl9PXy/VFYj2E4ykrX9fT+upyldt8J/+R2T/rk38q4mu2+E/wDyOyf9cm/lXZmX+51fRnJl/wDvdP1R7tRRRX5afo4UHpRQelAHiuq/8hi7/wCurfzqrVrVf+Qxd/8AXVv51VqKfwo6sX/HkFFFFWcoUUUUAFFFFABRRRQAUUUUAFFFFABRRRQAUUUUAFFFFABRRRQAUUUUAJXqngb/AJFW3+rfzNeV16p4G/5FW3+rfzNQ/jXz/Q6of7vP1j+p0NFFFWcoUUUUAFFFFABRRRQAUUUUAFFFFAHzT4q/5GrUf+u7Vk1reKv+Rq1H/ru1ZNfreH/gw9F+R+YV/wCLL1YV0XgM48aWGePnP8q52nRyPE4eJ2Rh0ZTginWp+1pyh3VhUp+zqRn2dzc1Tw5qsV/dXMlnIsIlZy/bG7rXaajcNDLr0kMm1/7PhAIPPSvNX1C8kQq93OynqDISDUZuZ23bppDuGGyx5FcdTCVKvLztaeXmn+h108VClfkT18/Jr9T0TQLuA6V4dn1OQOFvHXdIc444/Wprnfb2usmewljjmUq8tzc7lYk8FR615mZZDGELtsU5C54Bp8l3cTRhJZ5XQdFZyQKyll158yl/V79zSOPtDl5f6tbsesadY/ZtfsvM+1XeIh/pbTARAY6AVzGvXMtv4NEcMhTdqcu4KcZFceL26CBBczBV6LvOBTHmlkXa8jsuc4LE8+tFLL5RqKcpXtbp2v8A5hUx0ZQcYxtv+Nv8jpfh9IY/E7OG2kWspBz321bGpXQ+Hd232l97X2M7ucVx0cjxNuidkOMZU4o82TyzHvbYTkrnjP0rpqYRVKvtH/d/C/8Amc9PFOFPkXn+Nv8AI9XtriB7t1ceZeTaSgjCvtZz3APriqDz/ZbHSoZrN7Qf2grRmefdIB3/AArzjz5t6v5r7lGFbccj6UstzPO4aaaSRh0LMSRXIsts/i0/pdzqeYXXw/19x6HfvdWOneKWLvE8kylDu5Kk9qsaNdRG28OyXUq+e0E6RSSHo+Pl5rzV7u4lUiSeRweCGcnNMMshVVMjEJ90bj8v0qnl3NDlcvw/u8pKx9p8yX9c1zvdKhvNL0XVj4mJEEjxiNJWyWcNyR+Fa0Ftqknj4X1vIf7MaLKuH+TZt6V5dLczzgCeaSQDpvcnFOW9ukjCJcyqg6KHIAongJy5pcyu7rbTVJaa76BDHRjZWdlbrr13+89F0tp57C1ins3mhS5fybi0m2vEd38QrifE8Ig8TX0a3P2oCU/vf71Z8d3cwqRFcSoG6hXIzURJJyeSa6MPhXRqOd9H/n/WxhXxKq01C2wUUUV3HEX9B/5GGw/6+E/9CFfTi/dH0r5j0H/kYbD/AK+E/wDQhX04v3R9K+K4l/iU/Rn13D/wVPVC0UUV8mfThRRRQAUUUUAFFFFABRRRQAUUUUAFFFFABRRRQAUUUUAFcv8AEb/kRL//AHR/Ouorl/iN/wAiJf8A+6P5114H/eqf+JfmcuM/3ap6P8j57ooor9WPzQns7Oe/ult7VN8jdBV2Tw5qUejPqhhBtEfYzhs4OcVp+FkEGh63qC/66GAIh9N3U11Xh90n8B2WmT/c1BpYhn+9jK/qK8rE4ydKXurRNJ/dd/genh8JCpH3nq02vvsvxPPtN0O/1W2uriyh3xWqb5WzjaKz69O8PQHR/DNzp0i7bm6s57mYdwB8qj9DVPRdIt/sunrPpNqkc4HmS3swV5M91GaSzG0puS0T0/r5FfULxgk9Wtf6+Z57Viyspr+4MNvt3hS3zNjgda7abTtL0bTtcuG0+O6a1vFjhEhOADU0Oj6Zdatpl0lmkUd7pkkzwAnarqDyKuWYR5W0nbv8r9+xEcDLmSbXp87fmcb/AGBf/wBkf2kyKttkgMzAFseg71m16Xst9Y0vw/p81rFHFMXyUzlQp7fWsu2j0vX31Swj0uOza1ieSCZGOfk7N9amnjpWbnHZ/cr276jqYJXShLf8Xa5yWoabc6XMkV4mx3jWRRnOVYZFDabcppaagyf6NI5jVs9SK9B1WxtGurjVL6AXIsdMtykJOAzMMZPtWRrl7BffDyyltrRbQfamDIh+XPqKKeOlU5Elu0m+mquFTBxg53eybS9HY5WHTbmfTp76NMwW5USNnoT0qrXWeHoPtPgvVoM7fNuIEz6ZbFdHdaBo1tqUmlzQ6fFaxpsM7XIEwbH3iM+vaqnj40pyhJXs+nZJf5kwwTqQjKLtdfjd/wCR5hRXfaTpEENjbFtMtWSSQh7m9mCiQZ/gGaludK0rRpPEcxsI7hbMxGBHJwpb+lN5hDmcUm38u6X6gsBPlUm7ff2b/Q88qxBYzXNtPPFt2QDL5bB/D1rsZZtLs/D2k350a3kmvpXDgk4VQ+MCp7rQNPtp9eWOAbI443iBP3NxGRQ8cv5WtfLo0n1BYJ/zJ/8ABV0ef0V6U1noz+MovD40iERTQAtNuO4MUzkVjyQab4e0XTXm06O+lvmZneQn5VDYwPenHHqVkou7tZabO/8AkxSwTjduSsr336W/zOWtLC4vUma2Tf5Kb3APOKrV3k0VtpnxLtIbCAQ28yorRDphhzXH6xbLZ63eW8f3I5mVfpmtqGI9rLbRpNGVbD+yje+qbTKddt8J/wDkdk/65N/KuJrtvhP/AMjsn/XJv5VnmX+51fRl5f8A73T9Ue7UUUV+Wn6OFB6UUHpQB4rqv/IYu/8Arq386q1a1X/kMXf/AF1b+dVain8KOrF/x5BRRSVZyi0UVsJ4fzFbtLewRPcKGRGzk5oAx6KnuLKa3u5Ld0JkjOCFGaiEbl9oRi3pjmgBtFWk0+V9Plu+ixOEKkc5NVzE643Iwz0yOtADaKXY/Pytx146UrRSLjdGwz0yOtADaKf5Mu4Dy3yeg2mp7ywkso7d5SP38fmAegzjmgCrRThG5XcEYr644q8dIkW1jneVFWSJpFB9u1AGfRT/ACZcZ8t8eu01LBZtM7K58oqpb5weaAK9FP8AJk27vLbHrtpFikZdyoxHqBQA2irsWlTukEkmI45s7XYccVV8lzu2qzBTgkDigBlFOWKRhlY2I9QKb0oASvVPA3/Iq2/1b+ZryuvVPA3/ACKtv9W/mah/Gvn+h1Q/3efrH9ToaKKKs5QooooAKKKKACiiigAooooAKKKKAPmnxV/yNWo/9d2rJrc8aW0lr4w1COUYJlLD3BrDr9awzTowa7L8j8xxCarST7sKKKK3MAooooAKKKKACiiigAooooAKKKKACiiigAooooAKKKKACiiigC/oP/Iw2H/Xwn/oQr6cX7o+lfNPhi2ku/FGnRRDLGdT+AOa+lwMKBXxXErXtaa8mfX8Pp+zm/NBRRRXyZ9MFFFFABRRRQAUUUUAFFFFABRRRQAUUUUAFFFFABRRRQAVy/xG/wCREv8A/dH866iud8e20l14J1COIZby92B7V14JpYmm33X5nNi03h5pdn+R860UUV+rH5mb3hfUIbeS7sb1wlvfQmMseit2NR/8JDd21lZ2EQj22FwZY5Fzlj/hWLRXO8PBzcmt/wA9vyOhV5qCiun/AA/5nRXHjO+udYvNQkih33VubcoAdqKfSpIvG1wqWrTadZXFzaqEiuJEJYAdO+K5mip+p0LJcpX1qte/MbmoeKbrULW+gkhiVb2ZZnK54I9KfB4vvLf7FthhP2O1e2TIPKt1J561gUVX1Wjy8vLp/wAC35E/Wat+bm1/4N/zNj/hJb1YtPWHZG1gSY3UcnJzzVq68YzzW1zHa2FnZyXY2zzQIQzjuOTxn2rnaKHhqLd3H+t/zBYiqlbm/rb8joR4yvv7Q+0tDA6NbLbSQMpKSIowMj1qLV/E8mq6VDpy2VtaW8Ll0WBSOfxNYdFJYWipKSjqgeJqtOLluaFprM9npF1YQquy5dHL87lKnIxWs3je4djcSadYvfmPYbwx/OeMZ64z74rmaKc8NSm7yj/X9IUcRVgrRZ0cPjOcWlvFdWFndyWv+pmmQll/XBqLUPFt3qKaiJYYV/tAJ5pUHjb0xWDRSWEoKXMo/wBXv+ZTxVZqzl/VrfkaNxrU9xpVhYsiCOxZijDOWyc81fn8YXk8l6zQwg3iIj4B4C9Mc1z9FU8PSe8f6bv+ZKr1Vs/6tb8jdHiu7HiePW/Ji8+NQoTB28Lit/RL6G50S2We502YxTM/lX6kGDJz8pHUe1cHRWVXB05xSjpa34X/AMzWni5wk3LW/wCtv8jubnWtPuvHU+stMnkWkeYxjHmsBgYH1rirm4e6u5biTl5XLn6k1HRV0cPGjt2S+SM61eVXfu382Fdt8J/+R2T/AK5N/KuJrvPhFbSS+LWmUfJFCdx+tYZm0sFUv2ZvlybxdO3c9wooor8uP0YKD0ooPSgDxXVf+Qxd/wDXVv51Vq1qv/IYu/8Arq386q1FP4UdWL/jyErktF0HX7PxjeX9/qHm2EmfLi35+nHbFddRVnKFdoRP5GlNDpQvAIV/eEH5a4ur0Vlqjwq0MVyY2Hylc4IoA6prcxzXstu8kpaZQwgUM4OOhPYUuoxMk1+dOj/04xREAAFtuOSPeuKYzW8jIxeN8/MMkGmiWQNuDsGAwDuOaAO4tX8mylbXI495ePIXsccFhUVlC0lxcxagVZ7OUXKtjhk9vauLMjnOXY5OTk9aXzZP77dMfePSgDt5Fia7t5IfLVtTkWbDDIAVemPrmntGWslaeObct0u0zqAevYelcJvbj5m+Xpz0qRDcTyBEaSRz0AJJNAHVNcXVzJqy2p33cbgRKAMhc84rP8UefjTvtYxN9mG8e+TWFvdJCQzK+eTnmkZ2c5dmY+5zQB3EYVY7T7LFNLa+R8yxovlnjnJJ61GgQ2CbQAv2KbAPOOa4+Hz5D5MBkbP8Ck8/hTN8i/LuYY4xn9KAO2e7lXWJ4AV8qOwDqm0Y3bRz9ajs5Dc6dbzz4eVreQFiOTXG+Y+c72zjGc9qfElxIVWISNnhQueaAOvFzIdbsrPK/Z3tPmTAwflNTaTA8cenJtkeJ4st5SAR85+8T1NcOXcPkswZeM55FAmkVdqyOF9AxoA7aDznawA3GBJJFYY4HpUSrd/aNO/sxAbI/wCvIUFc5+bd+FccJpAMCRwM54Y0CWRVKq7AHqAetAHX3V39lh09NPYLDJdSDgD5l39PpXO62ix63dKgAUSHAFUdzYA3HA6c9KQkscsST6mgBK9U8Df8irb/AFb+ZryuvVPA3/Iq2/1b+ZqH8a+f6HVD/d5+sf1OhoooqzlCiiigAooooAKKKKACiiigAooooA4zxx4Bi8UKLq0dYL5BgMRw49DXmE3w28TwyFBpzSYP3kYEGvoKivawmc4nCw9mrNeZ5OKynD4mfO7p+R88/wDCu/FH/QLk/MUf8K78Uf8AQLk/MV9DUV2f6yYn+WP4/wCZyf2Bh/5n+H+R88/8K78Uf9AuT8xR/wAK78Uf9AuT8xX0NRR/rJif5Y/j/mH9gYf+Z/h/kfPP/Cu/FH/QLk/MUf8ACu/FH/QLk/MV9DUUf6yYn+WP4/5h/YGH/mf4f5Hzz/wrvxR/0C5PzFH/AArvxR/0C5PzFfQ1FH+smJ/lj+P+Yf2Bh/5n+H+R88/8K78Uf9AuT8xR/wAK78Uf9AuT8xX0NWTrXinQ/DrRrrep29k0oygmfG6j/WTE/wAsfx/zD+wMP/M/w/yPD/8AhXfij/oFyfmKP+Fd+KP+gXJ+Yr2jSvHHhrW75bLSdatLu5YErFFJliBya3qP9ZMT/LH8f8w/sDD/AMz/AA/yPnn/AIV34o/6Bcn5ij/hXfij/oFyfmK+hqKP9ZMT/LH8f8w/sDD/AMz/AA/yPnn/AIV34o/6Bcn5ij/hXfij/oFyfmK+hqKP9ZMT/LH8f8w/sDD/AMz/AA/yPnn/AIV34o/6Bcn5ij/hXfij/oFyfmK+hqKP9ZMT/LH8f8w/sDD/AMz/AA/yPnn/AIV34o/6Bcn5inxfDfxPLIF/s1kyerMABX0HRS/1jxX8sfx/zH/YGG/mf4f5HD+Bvh6nhpvtt+6z3zDA2/djHt713FFFeFiMTVxNR1Kruz2aFCnh4KnTVkFFFFc5uFFFFABRRRQAUUUUAFFFFABRRRQAUUUUAFFFFABRRRQAU2SNZY2SRQysMEHuKdRQB5D4p+FF2LuS68PlZYnO7yGOCv09a5f/AIV34o/6Bcn5ivoaivoKPEGLpwUXZ27nh1ckw1Sbkrr0Pnn/AIV34o/6Bcn5ij/hXfij/oFyfmK+hqK2/wBZMT/LH8f8zL+wMP8AzP8AD/I+ef8AhXfij/oFyfmKP+Fd+KP+gXJ+Yr6Goo/1kxP8sfx/zD+wMP8AzP8AD/I+ef8AhXfij/oFyfmKP+Fd+KP+gXJ+Yr6Goo/1kxP8sfx/zD+wMP8AzP8AD/I+ef8AhXfij/oFyfmKP+Fd+KP+gXJ+Yr6Goo/1kxP8sfx/zD+wMP8AzP8AD/I+ef8AhXfij/oFyfmKP+Fd+KP+gXJ+Yr6Gqjq2tadoVl9r1i8is7fO3zJWwM0f6yYn+WP4/wCYf2Bh/wCZ/h/keD/8K78Uf9AuT8xR/wAK78Uf9AuT8xXr8HxI8H3VxHBb+IbGSWVgiIsvLE8AV09H+smJ/lj+P+Yf2Bh/5n+H+R88/wDCu/FH/QLk/MUf8K78Uf8AQLk/MV9DUUf6yYn+WP4/5h/YGH/mf4f5Hzz/AMK78Uf9AuT8xR/wrvxR/wBAuT8xX0NRR/rJif5Y/j/mH9gYf+Z/h/kfPP8AwrvxR/0C5PzFH/Cu/FH/AEC5PzFfQ1FH+smJ/lj+P+Yf2Bh/5n+H+R88/wDCu/FH/QLk/MUf8K78Uf8AQLk/MV9DUUf6yYn+WP4/5h/YGH/mf4f5HgVj8MPEl3cKktoLZM8vKwwK9e8JeFLXwrpvkQnzJ35llx94/wCFb9Fefjc2xGMjyTsl2R3YTLKGFlzw1fdhRRRXknphQelFB6UAeK6r/wAhi7/66t/OqtWtV/5DF3/11b+dVain8KOrF/x5BXI6L4j1m+8Y3mnXmneTZxZ2S4Pbpz7111JVnKLXVXz2yaVpnn3k8DfZxgRjg1ytWLm9mu4oY5SNsCbEwO1AGsIbK0sLe4nga8e6kI3MxGAP61cvNN07SbOeWS3+0YuQi7mxtUqDWJaazdWcAhQRyRq25RIm7afUVHcapdXVu8M771eXzWJHJbGKAOl/4Ry0eK6KL802Da89sA1Aul2UbTH7OrCErGWlfam7v+NZCa/fp9l2yD/RRiPj+dNg1u7hWVf3ciyvvYSJkbvWgDdvNK07T472c24lCLEyLuOBuHNOs4rKw1i2t0tMyPFv80MeCRn8qwbrXLy8ilSdkIlChsLjO3pT7fxDfW8aKnlsY12q7JlgPTNACaZBbXGtsl7nytzE+mff2raTQra4vIXMCJCI3ctHJlJMds9q5q1vp7O7+0QMA+TnIyDnqKtNr16ZImjMcSxZ2oi4XnrkUAb9jZWaXttPAIo5QzK0cb7gRjrUa6TYwx25uEic3BLO7ybSoz2FYh1678yN41hj8skhUTAyaIddu4Y1TEUgQkoZEyUz6UAaM9lp+lQQGWA3n2iRxvB6KDgY96vwx20lvpsCW5RTI+GJwwxXPW+u3kEe3Mcg3l18xM7Se4pY9fvo1UZRyrl1ZlyQT1oA02s7C0ms7ea1M7XZy0m45XJxxU0+m6dp32SGS2895p3jZy2OA2M1jw6/ewRqo8tihJRnTJTPoagfVbqQW+9wxt3LoSOck5OaAG6nbLaanPBH9xHIGfSqtSXNw93cvPNgu5ycCo6ACiiigBK9U8Df8irb/Vv5mvK69U8Df8irb/Vv5mofxr5/odUP93n6x/U6GiiirOUKKKKACiiigAooooAKKKKACiiigAooooAKKKKACiiigAooooAKKKKACvmT9rD/AJCuhf8AXJ/519N18yftYf8AIV0L/rk/86AOL/Zz/wCSyaf/ANcZv/QDX2fXxh+zn/yWXT/+uM3/AKAa+z6ACiiigAooooAKKKKACiiigAooooAKKKKACiiigAooooAKKKKACiiigAooooAKKKKACiiigAooooAKKKKACiiigAooooAKKKKACiiigAooooAK8e/aZ/5JX/29JXsNePftM/8AJK/+3pKAPlbwd/yO+if9f8P/AKGK/Qqvz18Hf8jvon/X/D/6GK/QqgAooooAKKKKACiiigAooooAKKKKACiiigAoPSig9KAPFdV/5DF3/wBdW/nVWrWq/wDIYu/+urfzqrUU/hR1Yv8AjyCuf03xlpuqeIbjR7bzPtEGcll4OOtdBVC20TTrTUJL63tI47mX78gHJqzlL9dd9jnNnpw0+2s2MkIZ/NRdzH8ea5GtK71Yy/YTAGje1jC5z1IoAv3umWl3q0wt5FhSKMGRY0Jy/cKKafDASZvMutkIt/PDtHg4zjBHrTx4htDJM/kSRPcIA7xkAhh3H1ouvEcE0LokUgzbeQCzZP3s5oArjw+rvE8N0GtpIzIZSuNoHXirZ0W3utLtEsZkffKxecpghQMnNVLXXY4LW3t3hLxrG0coz1BOeKmj1+0s4beGzt38uNm3hzywYYNAEUXh+O7MTWN4JYml8p2KYKHscelObQLRYZJjqP7uKTy5D5ff25pbbW7PTxHHYwSCPzhLIXPJwMACqjaohsLiDYcyziUH0HpQBFd6etjqotZpMx5B3gdQfatzWNLtZLiVllS2tLUKhKwjJYjOPesPU79b7UBcIpUBVXB9hV+XXbe6ku47qFzb3DK42n5lYDFAAvhtP3kj3gFssQlWUJncPpSxeHEdIS10ym4P7nERII9T6Uk2vxNazW0UDLEYRFGCeR7mnW/iCP7Hbx3PnhrcbR5T4DD3oAYnhsrb77ucxMXZMLGWCkHHJHSpk0O1udPsVgm23EzsGYrwcU2z8QwQ4d45lkV2YhH4kz/ezTF122aKHz7Zi0UjMApwMGgClqemx2AQxzs5YkFXjKsKz619V1iK9so7aJZG2OW8yU5b6VkUAFFFFABRRRQAleqeBv8AkVbf6t/M15XXqngb/kVbf6t/M1D+NfP9Dqh/u8/WP6nQ0UUVZyhRRRQAUUUUAFFFFABRRRQAUUUUAFFFFABRRRQAUUUUAFFFFABRRRQAV8yftYf8hXQv+uT/AM6+m6+ZP2sP+QroX/XJ/wCdAHF/s5/8ll0//rjN/wCgGvs+vjD9nP8A5LLp/wD1xm/9ANfZ9ABRRRQAUUUUAFFFFABRRRQAUUUUAFFFFABRRRQAUUUUAFFFFABRRRQAUUUUAFFFFABRRRQAUUUUAFFFFABRRRQAUUUUAFFFFABRRRQAUUUUAFePftM/8kr/AO3pK9hrx79pn/klf/b0lAHyt4O/5HfRP+v+H/0MV+hVfnr4O/5HfRP+v+H/ANDFfoVQAUUUUAFFFFABRRRQAUUUUAFFFFABRRRQAUHpRQelAHiuq/8AIYu/+urfzqrVrVf+Qxd/9dW/nVWop/Cjqxf8eQUUUVZyhRRRQAUUUUAFFFFABRRRQAUUUUAFFFFABRRRQAUUUUAFFFFABRRRQAleqeBv+RVt/q38zXldeqeBv+RVt/q38zUP418/0OqH+7z9Y/qdDRRRVnKFFFFABRRRQAUUUUAFFFFABRRRQAUUUUAFFFFABRRRQAUUUUAFFFFAHkHxk+IfjP4d3MF7pWn2d1o0wC+a6sWik9Gwe/avm74h/E3VfiPcWk2sW9vA1qpVPIB5z65r7g1zRLHxFotzpeqwrNa3KFHVh+o9xXxB8Tvh3ffD3xPJZzqz2UpLWs+OHX0+ooAy/BXjC98DeJodb0yKKW4hVlVZQdp3DB6fWvoP4YfGHx38RPFCWUOmWEdjDhru4CthF9Bz1PavnTwt4Y1Hxd4gttI0iEyTzsATjhB3Y+wr7k8AeBtO8A+F4NJ05AXA3XE5HzSv3J/pQB09FFFABRRRQAUUUUAFFFFABRRRQAUUUUAFFFFABRRRQAUUUUAFFFFABRRRQAUUUUAFFFFABRRRQAUUUUAFFFFABRRRQAUUUUAFFFFABRRRQBwnxW8ReKvCvhsax4Usre9jtyTdxyqSyr2YY7DvXzD47+N2v+PvD/8AZGq2dnDD5gk3Qg7sj6mvteWJJonilUOjgqysMgg9q+P/AI6fCV/BurvrOiwsdHunJKqP9Qx7fSgDyfTb6TS9Vtb+AK0lrMsyBuhKnIz+Ve9+Gv2g/H3ivxBbaRpGj6fLcXDY4VsKO7HngCvALW1nvruK2tImlmlYIiIMliegr7O+C3wqg8AeHxd6hGr61eIGnfr5Q7IP60Ael2vni0i+2FDPsHmFPu7u+KloooAKKKKACiiigAooooAKKKKACiiigAoPSig9KAPFdV/5DF3/ANdW/nVWrWq/8hi7/wCurfzqrUU/hR1Yv+PIKKKKs5QooooAKKKKACiiigAooooAKKKKACiiigAooooAKKKKACiiigAooooASvVPA3/Iq2/1b+ZryuvVPA3/ACKtv9W/mah/Gvn+h1Q/3efrH9ToaKKKs5QooooAKKKKACiiigAooooAKKRmCqWY4AGST2ql/bWmf8/9v/38FJtLcuMJS+FXL1FUf7a0z/n/ALf/AL+Cj+2tM/5/7f8A7+ClzR7lexq/yv7i9RVH+2tM/wCf+3/7+Cj+2tM/5/7f/v4KOaPcPY1f5X9xeoqj/bWmf8/9v/38FH9taZ/z/wBv/wB/BRzR7h7Gr/K/uL1FUf7a0z/n/t/+/go/trTP+f8At/8Av4KOaPcPY1f5X9xeoqj/AG1pn/P/AG//AH8FH9taZ/z/ANv/AN/BRzR7h7Gr/K/uL1ct8QPAun+PfDM2mX6AS4LQTY5jfsa2/wC2tM/5/wC3/wC/go/trTP+f+3/AO/go5o9w9jV/lf3HDfCT4UWnw50mR5ylxqtwT5s4HReyivR6o/21pn/AD/2/wD38FH9taZ/z/2//fwUc0e4exq/yv7i9RVH+2tM/wCf+3/7+Cj+2tM/5/7f/v4KOaPcPY1f5X9xeoqj/bWmf8/9v/38FH9taZ/z/wBv/wB/BRzR7h7Gr/K/uL1FUf7a0z/n/t/+/go/trTP+f8At/8Av4KOaPcPY1f5X9xeoqj/AG1pn/P/AG//AH8FH9taZ/z/ANv/AN/BRzR7h7Gr/K/uL1FUf7a0z/n/ALf/AL+Cj+2tM/5/7f8A7+Cjmj3D2NX+V/cXqKRHWRA6MGVhkEd6WqMgooooAKKKKACiiigAooooAKKKKACiiigAooooAKKKKACiiqcmrafFIUkvYFZTgqZACKTaW5UYSl8KuXKKo/21pn/P/b/9/BR/bWmf8/8Ab/8AfwUuaPcv2NX+V/cXqKo/21pn/P8A2/8A38FH9taZ/wA/9v8A9/BRzR7h7Gr/ACv7i9RVH+2tM/5/7f8A7+Cj+2tM/wCf+3/7+Cjmj3D2NX+V/cXqKo/21pn/AD/2/wD38FH9taZ/z/2//fwUc0e4exq/yv7i9RVH+2tM/wCf+3/7+Cj+2tM/5/7f/v4KOaPcPY1f5X9xeqjrWjWWv6PcabqcKzW1whV1YfrR/bWmf8/9v/38FH9taZ/z/wBv/wB/BRzR7h7Gr/K/uPLPhr8B7HwV4rvNYvpEvCkhFgpGfLU9z79q9hqj/bWmf8/9v/38FH9taZ/z/wBv/wB/BRzR7h7Gr/K/uL1FUf7a0z/n/t/+/go/trTP+f8At/8Av4KOaPcPY1f5X9xeoqj/AG1pn/P/AG//AH8FH9taZ/z/ANv/AN/BRzR7h7Gr/K/uL1FUf7a0z/n/ALf/AL+Cj+2tM/5/7f8A7+Cjmj3D2NX+V/cXqKo/21pn/P8A2/8A38FH9taZ/wA/9v8A9/BRzR7h7Gr/ACv7i9RVH+2tM/5/7f8A7+Cj+2tM/wCf+3/7+Cjmj3D2NX+V/cXqKjguIbmPzLeVZUzjchyKkqjNpp2YUHpRRQI8V1b/AJDN3/11b+dVM17W2m2TsWe1iLHkkoOaT+y7D/n0h/74FZJTSsd1Sph6k3Np3foeK5ozXtX9l2H/AD6Q/wDfAo/suw/59If++BVe/wCRnfDdpfh/keK5ozXtX9l2H/PpD/3wKP7LsP8An0h/74FHv+QXw3aX4f5HiuaM17V/Zdh/z6Q/98Cj+y7D/n0h/wC+BR7/AJBfDdpfh/keK5ozXtX9l2H/AD6Q/wDfAo/suw/59If++BR7/kF8N2l+H+R4rmjNe1f2XYf8+kP/AHwKP7LsP+fSH/vgUe/5BfDdpfh/keK5ozXtX9l2H/PpD/3wKP7LsP8An0h/74FHv+QXw3aX4f5HiuaM17V/Zdh/z6Q/98Cj+y7D/n0h/wC+BR7/AJBfDdpfh/keK5ozXtX9l2H/AD6Q/wDfAo/suw/59If++BR7/kF8N2l+H+R4rmjNe1f2XYf8+kP/AHwKP7LsP+fSH/vgUe/5BfDdpfh/keK5ozXtX9l2H/PpD/3wKP7LsP8An0h/74FHv+QXw3aX4f5HiuaM17V/Zdh/z6Q/98Cj+y7D/n0h/wC+BR7/AJBfDdpfh/keK5r1TwP/AMirb/Vv5mtb+y7D/n0h/wC+BViKGOCMJCioo6KowKSUua7HKpSVJwpp6tb+V/8AMfRRRWhyBRRRQAUUUUAFFFFABRRRQBXv/wDkG3P/AFyb+VeJYHP1r22//wCQbc/9cm/lXiQ/rWbSc9ex2QnKOGbi7ar8mGBRgUtFVyx7GHtqv8z+8TAowKWijlj2D21X+Z/eJgUYFLRRyx7B7ar/ADP7xMCjApaKOWPYPbVf5n94mBRgUtFHLHsHtqv8z+8TAowKWijlj2D21X+Z/eJgUYFLRRyx7B7ar/M/vEwKMCloo5Y9g9tV/mf3iYFGBS0Ucsewe2q/zP7xMCjApaKOWPYPbVf5n94mBRgUtFHLHsHtqv8AM/vEwKQgU6kNKUY8r0NaNar7SPvPddT2jRv+QJZ/9cV/lV2qWjf8gSz/AOuK/wAqu047IyrfxJerCiiiqMgooooAKKKKACiiigAooooAKKKKACiiigAooooAK8Z10Z8QXuf+ezfzr2avGtd/5GC+/wCuzfzrOSTkrnZRlKNGo4u235mfgUYFLRVcsexh7ar/ADP7xMCjApaKOWPYPbVf5n94mBRgUtFHLHsHtqv8z+8TAowKWijlj2D21X+Z/eJgUYFLRRyx7B7ar/M/vEwKMCloo5Y9g9tV/mf3iYFGBS0Ucsewe2q/zP7xMCjApaKOWPYPbVf5n94mBRgUtFHLHsHtqv8AM/vEwKMCloo5Y9g9tV/mf3iYFGBS0Ucsewe2q/zP7xMCjApaSjlj2H7ar/M/vPUPAX/IsJ/11aulrmvAX/IsJ/11aulpU/gRpjP94n6hRRRVnKFFFFABRRRQAUUUUAFFFFABRRRQAUUUUAFFFFABRRRQAUUUUAFFFFABRRRQAUUUUAFFFFABRRRQAUUUUAFFFFABRRRQAUUUUAV7/wD5Btz/ANcm/lXiQ/rXtt//AMg25/65N/KvEh/Wo+38jqX+7P8AxL8mLRRRVnKFFFFABRRRQAUUUUAFFFFABRRRQAUUUUAFFFFABRRRQAUUUUAFFFFABSGlpDUy+FmtH+LH1R7Ro3/IEs/+uK/yq7VLRv8AkCWf/XFf5VdojsgrfxJerCiiiqMgooooAKKKKACiiigAooooAKKKKACiiigAooooAK8a13/kYL7/AK7N/OvZa8a13/kYL7/rs386iXxI6qX8Gp8vzKFFFFWcoUUUUAFFFFABRRRQAUUUUAFFFFABRRRQAUUUUAFFFFABRRRQAUUUUAFJS0lAHqHgL/kWE/66tXS1zXgL/kWE/wCurV0tRT+BHVi/48vUKKKKs5QooooAKKKKACiiigAooooAKKKKACiiigAooooAKKKKACiiigAooooAKKKKACiiigAooooAKKKKACiiigAooooAKKKKACiiigCvf/8AINuf+uTfyrxIf1r22/8A+Qbc/wDXJv5V4kP61H2/kdS/3Z/4l+TFpk0qwQPK/wB1FLH6Cn0hAZSGGQeCDVnKYHhjxfZeKftIso5ENu2GDjr710cIzMgPTcKo2Wl2Omh/sFrFb+Ycv5a43GriNskVuuDmgDuLiC4j1rY1rarp427mdQPlwM1k3bW2k6fHPYxRyPcuxV3XO1QeAKyNVv8A+0tRkuVQxhwPlJzjAxU9tqcB05bLUbdpo423RtG+1lz26UASoI9b1KzjitvKkY4lKj5W96t+JLWKa1iv7W38lEdoHXbjp0P4ioB4hjhDLaWvkhIjHCQ3Kk9WJ7mq0GsyixurW9Mlyk6jbufOxgeDzQBmUUUUAFFFFABRRRQAUUUUAFFFFABRRRQAUUUUAFIaWkNTL4Wa0f4sfVHtGjf8gSz/AOuK/wAqu1S0b/kCWf8A1xX+VXaI7IK38SXqwoooqjIKKKKACiiigAooooAKKKKACiiigAooooAKKKKACvGtd/5GC+/67N/OvZa8a13/AJGC+/67N/Ool8SOql/BqfL8yhRRRVnKc5ZeNLC+8VTaFFHKJ4sguR8pI610dU49KsIb972K0hS6f70wX5j+NXKAOyj0W3uNP066dVIjtS3krw0zAmsiKx/tb7Rf3H+jwxtsCRJk59MVBNrbn+zmt1McllHtzn73OauDxHBunRbaaKGch2EMu0q3cg46UAIfDkcPnyXNyyQRRCVWC8sCfT1pV0CzY2i/bWD3ilohs+vWoJ9dSWC7iSCQLPGEUvKWIwc5JNMXWlW402TyT/oSBSN33+T/AI0AWIvDYEURupnR5mIQIm4D3NN1SxFloUEbovmrcOrMB14qRfEiPEiXMVx+7YlPJn2Ag9jVG/1YXtglv5RQrK0mS2evagDYsYbkeF7WTT7eGSRpXDs6g8dutSz21mryXkkUTz21uGlij+7vrnpdR8zRbexCFTC7MXz1zSaZqJ0+Z90YlhlXZJGTjcPrQBNLqiXljLFc2qeZ1ikjXG36+1bS6Un9hCwNv/pRg+0+bt79dufpWWmrWFtE0VnYuFlYea0kgYlQc7RxxTW8R3Z1n7YJJBFvz5G87dvp+VAGQRg4NFS3csc93LLChjR2JCk5xUVABRRRQAUUUUAFFFFABSUtJQB6h4C/5FhP+urV0tc14C/5FhP+urV0tRT+BHVi/wCPL1CiiirOUKKKKACiiigAooooAKKKKACiiigAooooAKKKKACiiigAooooAKKKKACiiigAooooAKKKKACiiigAooooAKKKKACiiigAooooAr3/APyDbn/rk38q8SH9a9tv/wDkG3P/AFyb+VeJD+tR9v5HUv8Adn/iX5MWkJCqSTgDkmlqOaJZ4JIn+66lTj0NWcpDZ6lZ6gHNlcRz7DhtjZwatoN0ig9ziud8LeD7Twr9pNpNJKbhsnf2ro4ziRSegIoA39R07TdPuHhNreSFVB8wHjkZ9KistDiudGednZbhwzQJ/eA60utazNcapIlrdn7MyqvB4xgA1Zl8QQ2moW8VrFFLb26hBIRyR3oA5np1oq3qiwLqUxtHDws25SPftVSgAooooAKKKKACiiigAooooAKKKKACiiigAooooAKQ0tIamXws1o/xY+qPaNG/5Aln/wBcV/lV2qWjf8gSz/64r/KrtEdkFb+JL1YUUUVRkFFFFABRRRQAUUUUAFFFFABRRRQAUUUUAFFFFABXjWu/8jBff9dm/nXsteNa7/yMF9/12b+dRL4kdVL+DU+X5lCiiirOUqx6nZS3z2cdzG1wn3ow3zCrVc1Y+CrKx8Vz67HNKZpcnyz0BPWuloA0dQ0hrCws7kuG+0JuIB6c1PpumW8umSXtys0219gjh6j3NPub6D+y9OkTyZnhiMbwydQdxOcUtjNBLE0kF6NOut2SuSEYUATWWiadeap5SzyLCYDIQ3DRkdjVaLRNkmoxXe4Pax7kI6Nz1+mK031SyE5DXEckwtHR5lGA7HoKistZtptAuY7xwt4kXlIx/wCWi5yPyoAivdN06xlWJrW8lJQMXQ8cj6Vz8u3zm8sMq54DdRXV6hdm6mR7TWYIY/LUbC3Q4rlrhdtw48xZefvr0b3oAjooooAKKKKACiiigAooooAKKKKACiiigApKWkoA9Q8Bf8iwn/XVq6Wua8Bf8iwn/XVq6Wop/Ajqxf8AHl6hRRRVnKFFFFABRRRQAUUUUAFFFFABRRRQAUUUUAFFFFABRRRQAUUUUAFFFFABRRRQAUUUUAFFFFABRRRQAUUUUAFFFFABRRRQAUUUUAV7/wD5Btz/ANcm/lXiQ/rXtt//AMg25/65N/KvEh/Wo+38jqX+7P8AxL8mLRRUc6u9vIsLbZCpCt6HHFWcpJSopd1UdWOBXJ+CtK1/TPtn/CQXf2gSPmIbt2K6+3/4+Y/94fzoAkv7KTT72S2mKl0xkr06ZrQPhyRTGr3tqkkihljZiCc9O1TeJbC6k1y5mSB2jwDuA4xtFT6zp93d6jaNbwsy+TH8w6DigDHh0i6m1X+z9oSbODuPA96gvLWSyvJLafG+M4OOhrrbqS1t5L2+mkYbkW2R4+TuxyRWVr6w3dnaalaszKy+TIWHO5ehP4UAYNFFFABRRRQAUUUUAFFFFABRRRQAUUUUAFFFFABSGlpDUy+FmtH+LH1R7Ro3/IEs/wDriv8AKrtUtG/5Aln/ANcV/lV2iOyCt/El6sKKKKoyCiiigAooooAKKKKACiiigAooooAKKKKACiiigArxrXf+Rgvv+uzfzr2WvGtd/wCRgvv+uzfzqJfEjqpfwany/MoUUUVZyhRXIadpHiKHxzc3t3e79MfOyLd+QxXX0AaFzo1xa6Tb6g5Uwz/dweR9alj8PXclvaTbo1W7bamSePrW/Eq32j2OlswHnWu9CezK5/oalS4WaSyWMjy4rsxp9AMUAc4/h6bbL9nure4kiBLRxsd3HXgimW+hzTWsc8txBbrMf3YlbBetPS7K4tfEUt5cI0VvGzsztwCOaWL7U2n2yyWUeo2rZMZX70eT0z2oA567tJbK6eC4Xa6Hmoa0tet47bVXSJ2cbQSGbJU+mazaACiiigAooooAKKKKACiiigAooooAKKKKACkpaSgD1DwF/wAiwn/XVq6Wua8Bf8iwn/XVq6Wop/Ajqxf8eXqFFFFWcoUUUUAFFFFABRRRQAUUUUAFFFFABRRRQAUUUUAFFFFABRRRQAUUUUAFFFFABRRRQAUUUUAFFFFABRRRQAUUUUAFFFFABRRRQBXv/wDkG3P/AFyb+VeJD+te23//ACDbn/rk38q8SH9aj7fyOpf7s/8AEvyYtFFRzu0VvJIib2VSQo7nHSrOUkpUVmcBASxPAFcp4L8S6p4g+2f2rp32PyXwh2kbvzrqgxVgVJBHQjtQBpG31oqQ0d4VIwQQ1VDeXajYZ5QBxt3HituS9uv+EMik+0S7/tbDdvOcbRVk6dprXkdqbQl2tvNaUyHO7GelAHLGR2TYXYqDnBPGaPMfy/L3HZnO3PGa39H0m0ure1e4jJ8y5MbYYjK4qS30rT9VhP2aFrUx3QhJDltynPr34oA5qit4W+mXl0bWCyuI3jl25jbdvHvnoa0DpVjHAblLaNWgnQbFmL7gTj5vQ/SgDkSCDgjBorsbvTrSe61C9e2jYpceUsbTbFPGSxP9KqXGk6dZx3F7t+0RIF2wrJwpPqRQBzbxPGFMiMoYZXI6ipYrK6nj8yG3kdP7yqSK1PEbRuuntAhRDb8KTnHNXor+OSGyikurjTJ4UUKu3Mb+hwPWgDmWhkSMSNGwQnAYjgmnxWdxOAYYJJATgFVJya6KaOe7j1HTrkIbhG8+PyxwfXFW9Pk+y6ha6dGceRbO74/vlaAOTmsrq3XdPbyRr6spFQV0GhXU92L63u5XmgNuzESHIUjoeelc+etABRRRQAUUUUAFIaWkNTL4Wa0f4sfVHtGjf8gSz/64r/KrtUtG/wCQJZ/9cV/lV2iOyCt/El6sKKKKoyCiiigAooooAKKKKACiiigAooooAKKKKACiiigArxrXf+Rgvv8Ars3869lrxrXf+Rgvv+uzfzqJfEjqpfwany/MoUUUVZyhRXI6d4o1a78cXOkT6WY7OPO2fae3Q56c111AExa5jWKQmRVwfLbJHHtTFnlXG2Rhg5GD0PrXTQ29tc6fo6Xp/diGUjkgE7uMkdBQ2h2pm8+S2McEcRdhFLvWQj0PUUAc3Jd3Eq7ZZ5HX0ZiaSK5nhUrFM6A9lYiul07StN1Nbe6Fu0MZdkkiDkg4UkEHrUaQaS1hb3f2Bv3lwYNnmnGP7315oA5oksxLEknqTRXVLolnbzTB4BIom2K00uxQPbHJNJeaXpmlwXk0ls1x5cqrGvmEAAjPOKAOWorR1uyhs7qI2oZYp4VlVGOSuR0rOoAKKKKACiiigAooooAKKKKACiiigApKWkoA9Q8Bf8iwn/XVq6Wua8Bf8iwn/XVq6Wop/Ajqxf8AHl6hRRRVnKFFFFABRRRQAUUUUAFFFFABRRRQAUUUUAFFFFABRRRQAUUUUAFFFFABRRRQAUUUUAFFFFABRRRQAUUUUAFFFFABRRRQAUUUUAV7/wD5Btz/ANcm/lXiQ/rXtt//AMg25/65N/KvEh/Wo+38jqX+7P8AxL8mLRRRVnKIAB0AH0paKKALBvpm01bE48lZDIOOckYqf+2bsXsd0CokjQIOOCMYwaoUUAax8R3g8rYsKLE+9VVABmqsOq3NvC8ULBQ8olJA5DCqdFAGsfEd6GDRCKJt25iiAbz702XxBdyQPCqQxo7BjsQDJBzmsuigDVbxDdPLK7pCyzEF0KDaSO+PWmLrt2J5JCI2WQBWjKDbgdOKzaKALeoalNqUkb3AQeWu1Qi4AFWYtfuo4Y43SGbyhhGkjBKj61l0UAXItWuodT+3h8z5ySRwadBq9zb6m9+u1pnzu3DI5qjRQBpT65cS2rwRxwwJJ9/ykClqzaKKACiiigAooooAKQ0tIamXws1o/wAWPqj2jRv+QJZ/9cV/lV2qWjf8gSz/AOuK/wAqu0R2QVv4kvVhRRRVGQUUUUAFFFFABRRRQAUUUUAFFFFABRRRQAUUUUAFeNa7/wAjBff9dm/nXsteNa7/AMjBff8AXZv51EviR1Uv4NT5fmUKKKKs5RMDOcDPrS0UUAaEOtXcCW6oV2wKyKCucgnJBqQ+Ib0SRtH5caRggRquFIPXIrLooA1P+EhvBLG0YjjWPO1ETC5IwTiqq6jOtpFbjbsil81eP4qq0UAa3/CR3jbvMWGTL7xvQHafarY8SM+m3HnLHJcyyqSrJlSAK56igCe8vJr+5M9w2WIAAAwAB2FQUUUAFFFFABRRRQAUUUUAFFFFABRRRQAUlLSUAeoeAv8AkWE/66tXS1zXgL/kWE/66tXS1FP4EdWL/jy9QoooqzlCiiigAooooAKKKKACiiigAooooAKKKKACiiigAooooAKKKKACiiigAooooAKKKKACiiigAooooAKKKKACiiigAooooAKKKKAK9/8A8g25/wCuTfyrxIf1r22//wCQbc/9cm/lXiQ/rUfb+R1L/dn/AIl+TFoooqzlCiiigAooooAKKKKACiiigAooooAKKKKACiiigAooooAKKKKACiiigApDS0hqZfCzWj/Fj6o9o0b/AJAln/1xX+VXapaN/wAgSz/64r/KrtEdkFb+JL1YUUUVRkFFFFABRRRQAUUUUAFFFFABRRRQAUUUUAFFFFABXjWu/wDIwX3/AF2b+dey141rv/IwX3/XZv51EviR1Uv4NT5fmUKKKKs5QooooAKKKKACiiigAooooAKKKKACiiigAooooAKKKKACiiigAooooAKSlpKAPUPAX/IsJ/11aulrmvAX/IsJ/wBdWrpain8COrF/x5eoUUUVZyhRRRQAUUUUAFFFFABRRRQAUUUUAFFFFABRRRQAUUUUAFFFFABRRRQAUUUUAFFFFABRRRQAUUUUAFFFFABRRRQAUUUUAFFFFAEN4jS2M6IMs0bAD1OK8q/4RDXBn/QW/wC+hXrdFQ43d7nRTrKEHBxTT11v+h5J/wAIhrv/AD4N/wB9Cj/hENd/58G/76Fet0Ucr7le2p/8+1+P+Z5J/wAIhrv/AD4N/wB9Cj/hENd/58G/76Fet0Ucr7h7an/z7X4/5nkn/CIa7/z4N/30KP8AhENd/wCfBv8AvoV63RRyvuHtqf8Az7X4/wCZ5J/wiGu/8+Df99Cj/hENd/58G/76Fet0Ucr7h7an/wA+1+P+Z5J/wiGu/wDPg3/fQo/4RDXf+fBv++hXrdFHK+4e2p/8+1+P+Z5J/wAIhrv/AD4N/wB9Cj/hENd/58G/76Fet0Ucr7h7an/z7X4/5nkn/CIa7/z4N/30KP8AhENd/wCfBv8AvoV63RRyvuHtqf8Az7X4/wCZ5J/wiGu/8+Df99Cj/hENd/58G/76Fet0Ucr7h7an/wA+1+P+Z5J/wiGu/wDPg3/fQo/4RDXf+fBv++hXrdFHK+4e2p/8+1+P+Z5J/wAIhrv/AD4N/wB9Cj/hENd/58G/76Fet0Ucr7h7an/z7X4/5nkn/CIa7/z4N/30KP8AhENd/wCfBv8AvoV63RRyvuHtqf8Az7X4/wCZ5J/wiGu/8+Df99Cj/hENdP8Ay4t/30K9bopcjfUccRCLTVNfj/mVdMieDSraKUbXSNVYehxVqiirSsrHNKTlJyfUKKKKZIUUUUAFFFFABRRRQAUUUUAFFFFABRRRQAUUUUAFeYav4W1m41i6mgs2eOSQsp3DkV6fRUyjfU3pVvZppxTT7/8AAPJP+EQ13/nwb/voUf8ACIa7/wA+Df8AfQr1uilyvuX7an/z7X4/5nkn/CIa7/z4N/30KP8AhENd/wCfBv8AvoV63RRyvuHtqf8Az7X4/wCZ5J/wiGu/8+Df99Cj/hENd/58G/76Fet0Ucr7h7an/wA+1+P+Z5J/wiGu/wDPg3/fQo/4RDXf+fBv++hXrdFHK+4e2p/8+1+P+Z5J/wAIhrv/AD4N/wB9Cj/hENd/58G/76Fet0Ucr7h7an/z7X4/5nkn/CIa7/z4N/30KP8AhENd/wCfBv8AvoV63RRyvuHtqf8Az7X4/wCZ5J/wiGu/8+Df99Cj/hENd/58G/76Fet0Ucr7h7an/wA+1+P+Z5J/wiGu/wDPg3/fQo/4RDXf+fBv++hXrdFHK+4e2p/8+1+P+Z5J/wAIhrv/AD4N/wB9Cj/hENd/58G/76Fet0Ucr7h7an/z7X4/5nkn/CIa7/z4N/30KP8AhENd/wCfBv8AvoV63RRyvuHtqf8Az7X4/wCZ5J/wiGu/8+Df99Cj/hENd/58G/76Fet0Ucr7h7an/wA+1+P+Z5J/wiGu/wDPg3/fQo/4RDXf+fBv++hXrdFHK+4e2p/8+1+P+ZheELC503QVt7yMxyiRjtJ7Vu0UVUVyqxjVqOpNzfUKKKKZmFFFFABRRRQAUUUUAFFFFABRRRQAUUUUAFFFFABRRRQAUUUUAFFFFABRRRQAUUUUAFFFFABRRRQAUUUUAFFFFABRRRQAUUUUAFFFFABRRRQAUUUUAFFFFABRRRQAUUUUAFFFFABRRRQAUUUUAFFFFABRRRQAUUUUAFFFFABRRRQAUUUUAFFFFABRRRQAUUUUAFFFFABRRRQAUUUUAFFFFABRRRQAUUUUAFFFFABRRRQAUUUUAFFFFABRRRQAUUUUAFFFFABRRRQAUUUUAFFFFABRRRQAUUUUAFNkcRxs7dFBJp1RXUAurSWAsVEqFCw6jIxQBw1v47vLWx3SafNqMrpJcnYyoI4g2BmtGDx2GgvZbvS5bQW8Ec8YllUear5C/wC6eKuL4Os0tJ4EmkUTQLbk+ij/ABpuq+DLTVFuc3EsMk7RMrpj935YIUAdxyaAM3T/AIjRanYFrTTXlvvOMKWscwYMQMk7+mMGqt58V7Oytk8/T3ju3kZPs8swXG37x3Y96i1TwNe6ZYwjw6009157ytceaI3UsMH2xVu2+HET6TYpdXksd3EjCeRMN5m45IOf50Ab6+J7RvCkWuqjmGZFZIwPmZmOAo988VnHxleRxiKfw/cx6hI+2G18xT5gxndu6AVrX/h+1vfD66SpaCKMJ5Txn5oypBUj3BFZkngsSWsIGr3q3sTlvtm7LnPUY6YoAh/4Tp5Y7eO00eea+lMge2EgHllBzlumPep4fHFrJbec9tJGGtFuEUkZZi5Tyx77hj8azh4Cf+1t1vfXNpDDBsWaN8vKWOX3fXFWofCnmeJ7KaS3EGn6TB5VsN+TOTg5Yexz+JoAjuvG0kkcypYTwRxzCBrkOvD9wARz3pyeOmN1DHJpU8dtcBzBds4w4RSSxHbpWjN4Vtjp6wKzSeXM9xtY/fds9fzrl9C8EarNezHW5JYLWO3kt7eLzg+wP1Ix0GKAHWnj3Vo/Dkj3Wkym9Nibu3kd1Aly2AMdvvD612ejXeoXNnCdSs/IkMKs53hvmI5HSqN/4Rtb5X/fywk28VuhT+BY23DH1Na9rbSW6uJLh5tx+XcPuj0FAHmGteLb9vEeoJHqur2kMM4t7ZLSzjeJ2x3dh3Jx1rsLXxRNa6VMNWtybyxtoWudpADSOPuj36fnV1vC1o/h+40p3cpO7SGT+IMTnI9xVG68DQXmqPdzajdbJJIpZIAfld4wACfyHFAFbSvGTXmu6hZxq108cp2woQPJRRySe/NU7j4g3F34f1W4s9OktprddkB3q7M5baAV6g5PQ1tx+CrGHa0Mskcn7zfIhw0m/rk1WsfAVtazedcX9xdSebG5aTAyEOVU46896AIv+E6e10u8k1DTHgurOVYTFJOo8wlQwO7oODyO1Mg+Iq3mnWc2n6VLdXF08iCCOVcLs6nd0x71d1PwRbaj5j/a5oZnumufNUA4JULjB7YAp+keCrPR40SCeV/LieNS2M/Ock/WgCY+JFk8Ez66YWt/Lt5JDGxyVK54z35FcRonibUx9jvF1zUNUAjMt7bzWQjjjUJk4baDnPA61303h23m8M/2IZHWDYEZh1YZyfzq3faZDfaZLZH91HKu1igwcUAcpqHxG/s7T4bq40loxON6JLcqhKeuP6U+8+IqwIZbTR7m7gSCKeWRHA2CQ4Ax3PtVrXfAdprlwkrXk9uBCIHWMAhlHTr0qzF4Ps4rNrcSyFHlhkb38rG1fpxQBSXxzITPbtos41BJxDFa+YpMmVDZz0HBGaF8cvNCsdto88uoBmWW0EgHlbepLdKt33g6G7lkuIb24tbtrhp1uIiNykgKV+mAKrS+AbYwxC01G7tZVVllmjb5pg3XdQBz3/Cb6x/YU15bwyTXjLJJDbsVUAGQRop49cmtG28aalDrlxHd6bLJaLPFas6uoEMhQFu3zck1pr4Es47NIILueIoIQkgxkeW24fmetXR4VtfJWN5ZGAu3u2z/ABO2ev0zQBm2vj+2uvFi6ILbHmMUjmWdWJI65UdB+NddXJ6R4BtNJ1qLUVvJ5mgLmKNwMIG6/WusoAKKKKACiiigAooooAKKKKACiiigAooooAKKKKACiiigAooooAKKKKACiiigAooooAKKKKACiiigAooooAKKKKACiiigAooooAKKKKACiiigAooooAKKKKACiiigAooooAKKKKACiiigAooooAKKKKACiiigAooooAKKKKACiiigAooooAKKKKACiiigAooooAKKKKACiiigAooooAKKKKACiiigAooooAKKKKACiiigAooooAKKKKACiiigAooooAKKKKACiiigAooooAKKKKACiiigAooooAKKKKACiiigAooooAKKKKACiiigAooooAKKKKACiiigAooooAKKKKACiiigAooooAKKKKACiiigAooooAKKKKACiiigAooooAKKKKACiiigAooooAKKKKACiiigAooooAKKKKACiiigAooooAKKKKACiiigAooooAKKKKACiiigAooooAKKKKACiiigAooooAKKKKACiiigAooooAKKKKACiiigAooooAKKKKACiiigAooooAKKKKACiiigAooooAKKKKACiiigAooooAKKKKACiiigAooooAKKKKACiiigAooooAKKKKACiiigAooooAKKKKACiiigAooooAKKKKACiiigAooooAKKKKACiiigAooooAKKKKACiiigAooooAKKKKACiiigAooooAKKKKACiiigAooooAKKKKACiiigAooooAKKKKACiiigAooooAKKKKACiiigAooooAKKKKACiiigAooooAKKKKACiiigAooooAKKKKACiiigAooooA//2Q==)"
      ],
      "metadata": {
        "id": "GzbYZZVt7tPW"
      }
    },
    {
      "cell_type": "markdown",
      "source": [
        "There are mainly two types of dimensionality reduction methods. One way is to only keep the most important features, while the other is to find a combination of new features. By keeping only the most important features, we can implement methods such as backward elimination, forward selection, and random forests. As for finding a combination of new features, this method is further broken down into two categories: linear and non-linear methods (manifold learning). A few examples of linear methods are PCA, FA, LDA, and Truncated SVD. Non-linear method examples are Kernel PCA, t-SNE, MDS, and Isomap. \n",
        "\n",
        "LDA is typically used for multi-class classification., but can also be used for reducing dimensionality LDA best separates training instances by their classes. The major difference between LDA and PCA is that LDA finds a linear combination of input features that optimizes class separability while PCA attempts to find a set of uncorrelated components of maximum variance in a dataset. Another major difference is that LDA is a supervised algorithm that takes class labels into account while PCA is an unsupervised algorithm (Pramoditha, 2021). Below shows the code for implementing one of the linear dimensionality reduction methods, LDA(Linear Discriminant Analysis).\n",
        "\n",
        "___\n",
        "\n",
        "from sklearn.preprocessing import StandardScaler\n",
        "\n",
        "sc = StandardScaler()\n",
        "X_scaled = sc.fit_transform(X)\n",
        "\n",
        "\n",
        "lda = LinearDiscriminantAnalysis(n_components=2, solver='svd')\n",
        "X_lda = lda.fit_transform(X, y)\n",
        "___\n"
      ],
      "metadata": {
        "id": "caEZ-nwi74oj"
      }
    },
    {
      "cell_type": "markdown",
      "source": [
        "# References\n",
        "\n",
        "Brownlee, J. (2017) How to choose a feature selection method for machine learning, Machine Learning Mastery. Available at: https://machinelearningmastery.com/feature-selection-with-real-and-categorical-data/ (Accessed: November 9, 2022).\n",
        "\n",
        "Pramoditha, R. (2021) 11 dimensionality reduction techniques you should know in 2021, towardsdatascience.com. Available at: https://towardsdatascience.com/11-dimensionality-reduction-techniques-you-should-know-in-2021-dcb9500d388b (Accessed: November 10, 2022). "
      ],
      "metadata": {
        "id": "l6Dxkk0y-RPL"
      }
    }
  ],
  "metadata": {
    "kernelspec": {
      "display_name": "Python 3 (ipykernel)",
      "language": "python",
      "name": "python3"
    },
    "language_info": {
      "codemirror_mode": {
        "name": "ipython",
        "version": 3
      },
      "file_extension": ".py",
      "mimetype": "text/x-python",
      "name": "python",
      "nbconvert_exporter": "python",
      "pygments_lexer": "ipython3",
      "version": "3.9.11"
    },
    "colab": {
      "provenance": [],
      "collapsed_sections": []
    }
  },
  "nbformat": 4,
  "nbformat_minor": 0
}