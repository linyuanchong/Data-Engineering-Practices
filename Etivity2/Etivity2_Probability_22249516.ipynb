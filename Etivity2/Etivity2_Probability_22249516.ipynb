{
  "cells": [
    {
      "cell_type": "markdown",
      "metadata": {
        "id": "eeWVGleUaPsT"
      },
      "source": [
        "### Student Details"
      ]
    },
    {
      "cell_type": "markdown",
      "metadata": {
        "id": "8xZ5muzqaPsV"
      },
      "source": [
        "Student Name: Lin Yuan Chong"
      ]
    },
    {
      "cell_type": "markdown",
      "metadata": {
        "id": "oGuy_75qaPsW"
      },
      "source": [
        "Student ID: 22249516"
      ]
    },
    {
      "cell_type": "markdown",
      "metadata": {
        "id": "heAPw0bSaPsW"
      },
      "source": [
        "# Task 1: Probability Theory\n",
        "\n",
        "PROBLEM 1: Batman characters face-off.\n",
        "- Two factions: Comrades and villains, each with certain power value.\n",
        "- Comrades include:\n",
        " - Nightwing (5)\n",
        " - Alfred (4)\n",
        " - Batgirl (3)\n",
        " - Robin (2)\n",
        " - Gordon (1)\n",
        "- Villains include:\n",
        " - Joker (5)\n",
        " - Catwoman (4)\n",
        " - Penguin (3)\n",
        " - Bane (2)\n",
        " - Two-face (1)\n",
        "- Calculate result and decide which factor wins for each iteration.\n",
        "___\n",
        "PROBLEM 2: Time needed for elavator to travel.\n",
        "- Reads in a current level and assume the time needed for the elevator to travel to a selected level.\n",
        "- There are a total of 5 levels.\n",
        "- Time needed to travel one level is two seconds, thus:\n",
        " - time = |(current level - selected level)| * 2\n",
        "- Calculate the result and decided how long the elevator typically takes to travel from one level to another."
      ]
    },
    {
      "cell_type": "markdown",
      "metadata": {
        "id": "KEUE_nzeaPsX"
      },
      "source": [
        "## Approach\n",
        "\n",
        "PROBLEM 1: Batman characters face-off.\n",
        "- Create libaries for both comrades and villains, and for results. This approach is to keep track of each variable's frequency.\n",
        "- Within the loop(1000 iterations):\n",
        " - Select 2 random numbers vary from 0-4 to pick a random comrade and villain.\n",
        " - The dictionary is updated each time a comrade and a villain is selected.\n",
        " - Comrade and villain power is decided accordingly.\n",
        " - Result is calculated and stored into the results dictionary for each iteration.\n",
        "- How is the result calculated:\n",
        " - result = comrade's power - villain's power\n",
        " - Result may vary from -4 to 4.\n",
        " - Negative value indicates villain won, positive value indicates comrade won.\n",
        " - A zero indicates a draw.\n",
        "- All results are plotted:\n",
        " - Frequency of all comrades.\n",
        " - Frequency of all villains.\n",
        " - Frequency of all possible outcomes.\n",
        "___\n",
        "PROBLEM 2: Time needed for elavator to travel.\n",
        "- Create libraries for current level and selected level, and for results. This approach is to keep track of each variable's frequency.\n",
        "- Within the loop(10000 iterations):\n",
        " - Select a random number from 1-5 to represent current floor.\n",
        " - Select another random number from 1-5 but not the number previously selected, as it is not logical to travel to the same floor.\n",
        " - Calculate the travel distance by deducting the selected floor from the current floor. Absolute the value to positive.\n",
        " - Calculate the travel time by multiplying the distance with 2(time needed to travel 1 floor is 2 seconds).\n",
        " - Assign all the frequencies to corresponding dictionaries.\n",
        "- All results are plotted:\n",
        " - Frequency of all current levels.\n",
        " - Frequency of all selected levels.\n",
        " - Frequency of all travel time."
      ]
    },
    {
      "cell_type": "markdown",
      "metadata": {
        "id": "wFisrEEtaPsX"
      },
      "source": [
        "## PROBLEM 1"
      ]
    },
    {
      "cell_type": "code",
      "execution_count": 24,
      "metadata": {
        "id": "H23HqrLSaPsY"
      },
      "outputs": [],
      "source": [
        "import random\n",
        "from random import choice\n",
        "import matplotlib.pyplot as plt\n",
        "import numpy as np\n",
        "from matplotlib import colors\n",
        "from matplotlib.ticker import PercentFormatter"
      ]
    },
    {
      "cell_type": "code",
      "source": [
        "resultDict = {'-4':0, '-3':0, '-2':0, '-1':0, '0':0, '1':0, '2':0, '3':0, '4':0, }\n",
        "\n",
        "#Comrade side.\n",
        "comrades = {\"Nightwing\":0, \"Alfred\":0, \"Batgirl\":0, \"Robin\":0, \"Gordon\":0}\n",
        "comradePow = 0\n",
        "\n",
        "#Villain side.\n",
        "villains = {\"Joker\":0, \"Catwoman\":0, \"Penguin\":0, \"Bane\":0, \"Two-Face\":0}\n",
        "villainPow = 0\n",
        "\n",
        "for x in range(1000):\n",
        "  #Select a comrade and a villain.\n",
        "  comradeInt = random.randint(0, 4)\n",
        "  villainInt = random.randint(0, 4)\n",
        "\n",
        "  #Get comrade's name and power.\n",
        "  if (comradeInt == 0):\n",
        "    comrades.update({\"Nightwing\": (int(comrades['Nightwing'])+1)})\n",
        "    comradePow = 5\n",
        "  elif (comradeInt == 1):\n",
        "    comrades.update({\"Alfred\": (int(comrades['Alfred'])+1)})\n",
        "    comradePow = 4\n",
        "  elif (comradeInt == 2):\n",
        "    comrades.update({\"Batgirl\": (int(comrades['Batgirl'])+1)})\n",
        "    comradePow = 3\n",
        "  elif (comradeInt == 3):\n",
        "    comrades.update({\"Robin\": (int(comrades['Robin'])+1)})\n",
        "    comradePow = 2\n",
        "  elif (comradeInt == 4):\n",
        "    comrades.update({\"Gordon\": (int(comrades['Gordon'])+1)})\n",
        "    comradePow = 1\n",
        "\n",
        "  #Get villain's name and power.\n",
        "  if (villainInt == 0):\n",
        "    villains.update({\"Joker\": (int(villains['Joker'])+1)})\n",
        "    villainPow = 5\n",
        "  elif (villainInt == 1):\n",
        "    villains.update({\"Catwoman\": (int(villains['Catwoman'])+1)})\n",
        "    villainPow = 4\n",
        "  elif (villainInt == 2):\n",
        "    villains.update({\"Penguin\": (int(villains['Penguin'])+1)})\n",
        "    villainPow = 3\n",
        "  elif (villainInt == 3):\n",
        "    villains.update({\"Bane\": (int(villains['Bane'])+1)})\n",
        "    villainPow = 2\n",
        "  elif (villainInt == 4):\n",
        "    villains.update({\"Two-Face\": (int(villains['Joker'])+1)})\n",
        "    villainPow = 1\n",
        "\n",
        "  #Evaluate battle result.\n",
        "  evaluation = comradePow - villainPow\n",
        "\n",
        "  if (evaluation == -4):\n",
        "    resultDict.update({\"-4\": (int(resultDict['-4'])+1)})\n",
        "  elif (evaluation == -3):\n",
        "    resultDict.update({\"-3\": (int(resultDict['-3'])+1)})\n",
        "  elif (evaluation == -2):\n",
        "    resultDict.update({\"-2\": (int(resultDict['-2'])+1)})\n",
        "  elif (evaluation == -1):\n",
        "    resultDict.update({\"-1\": (int(resultDict['-1'])+1)})\n",
        "  elif (evaluation == 0):\n",
        "    resultDict.update({\"0\": (int(resultDict['0'])+1)})\n",
        "  elif (evaluation == 1 ):\n",
        "    resultDict.update({\"1\": (int(resultDict['1'])+1)})\n",
        "  elif (evaluation == 2):\n",
        "    resultDict.update({\"2\": (int(resultDict['2'])+1)})\n",
        "  elif (evaluation == 3):\n",
        "    resultDict.update({\"3\": (int(resultDict['3'])+1)})\n",
        "  elif (evaluation == 4):\n",
        "    resultDict.update({\"4\": (int(resultDict['4'])+1)})"
      ],
      "metadata": {
        "id": "Hl825yTrji5P"
      },
      "execution_count": 25,
      "outputs": []
    },
    {
      "cell_type": "code",
      "source": [
        "comOutcome = list(comrades.keys())\n",
        "comFreq = list(comrades.values())\n",
        "  \n",
        "comFig = plt.figure(figsize = (5, 3))\n",
        " \n",
        "# creating the bar plot\n",
        "plt.bar(comOutcome, comFreq, color ='blue', width = 0.9)\n",
        " \n",
        "plt.xlabel(\"Comrades\")\n",
        "plt.ylabel(\"Frequency\")\n",
        "plt.title(\"Frequency of comrades\")\n",
        "plt.show()\n",
        "\n",
        "print(\"Expected result:\\t\" + str(max(comrades, key=comrades.get)))\n",
        "print(\"Frequency:\\t\\t\" + str(comrades[(max(comrades, key=comrades.get))]))\n",
        "\n",
        "###############################################################################\n",
        "\n",
        "vilOutcome = list(villains.keys())\n",
        "vilFreq = list(villains.values())\n",
        "  \n",
        "vilFig = plt.figure(figsize = (5, 3))\n",
        " \n",
        "# creating the bar plot\n",
        "plt.bar(vilOutcome, vilFreq, color ='red', width = 0.9)\n",
        " \n",
        "plt.xlabel(\"Villains\")\n",
        "plt.ylabel(\"Frequency\")\n",
        "plt.title(\"Frequency of villains\")\n",
        "plt.show()\n",
        "\n",
        "print(\"Expected result:\\t\" + str(max(villains, key=villains.get)))\n",
        "print(\"Frequency:\\t\\t\" + str(villains[(max(villains, key=villains.get))]))\n",
        "\n",
        "###############################################################################\n",
        "\n",
        "outcome = list(resultDict.keys())\n",
        "frequency = list(resultDict.values())\n",
        "  \n",
        "fig = plt.figure(figsize = (5, 3))\n",
        " \n",
        "# creating the bar plot\n",
        "plt.bar(outcome, frequency, color ='green', width = 0.9)\n",
        " \n",
        "plt.xlabel(\"Battle Results\")\n",
        "plt.ylabel(\"Frequency\")\n",
        "plt.title(\"Frequency of battle results\")\n",
        "plt.show()\n",
        "\n",
        "print(\"Expected result:\\t\" + str(max(resultDict, key=resultDict.get)))\n",
        "print(\"Frequency:\\t\\t\" + str(resultDict[(max(resultDict, key=resultDict.get))]))"
      ],
      "metadata": {
        "colab": {
          "base_uri": "https://localhost:8080/",
          "height": 745
        },
        "id": "-yKBcq8Yovhn",
        "outputId": "093c5054-dbe3-42c8-c2c6-5e06def8e2a0"
      },
      "execution_count": 26,
      "outputs": [
        {
          "output_type": "display_data",
          "data": {
            "text/plain": [
              "<Figure size 360x216 with 1 Axes>"
            ],
            "image/png": "[encoded data removed]"
          },
          "metadata": {
            "needs_background": "light"
          }
        },
        {
          "output_type": "stream",
          "name": "stdout",
          "text": [
            "Expected result:\tRobin\n",
            "Frequency:\t\t215\n"
          ]
        },
        {
          "output_type": "display_data",
          "data": {
            "text/plain": [
              "<Figure size 360x216 with 1 Axes>"
            ],
            "image/png": "[encoded data removed]"
          },
          "metadata": {
            "needs_background": "light"
          }
        },
        {
          "output_type": "stream",
          "name": "stdout",
          "text": [
            "Expected result:\tJoker\n",
            "Frequency:\t\t213\n"
          ]
        },
        {
          "output_type": "display_data",
          "data": {
            "text/plain": [
              "<Figure size 360x216 with 1 Axes>"
            ],
            "image/png": "[encoded data removed]"
          },
          "metadata": {
            "needs_background": "light"
          }
        },
        {
          "output_type": "stream",
          "name": "stdout",
          "text": [
            "Expected result:\t0\n",
            "Frequency:\t\t190\n"
          ]
        }
      ]
    },
    {
      "cell_type": "code",
      "source": [
        "print(\"Standard deviation of comrade selection:\\t\" + \n",
        "      str(np.std([comrades['Nightwing'], comrades['Alfred'], comrades['Batgirl'], comrades['Robin'], comrades['Gordon']])))\n",
        "print(\"Standard deviation of villain selection:\\t\" + \n",
        "      str(np.std([villains['Joker'], villains['Catwoman'], villains['Penguin'], villains['Bane'], villains['Two-Face']])))\n",
        "print(\"Standard deviation of results:\\t\\t\\t\" + \n",
        "      str(np.std([resultDict['-4'], resultDict['-3'], resultDict['-2'], resultDict['-1'], resultDict['0'], resultDict['1'], resultDict['2'], resultDict['3'], resultDict['4']])))"
      ],
      "metadata": {
        "colab": {
          "base_uri": "https://localhost:8080/"
        },
        "id": "ju6-XXWRqZmM",
        "outputId": "be97a7b7-75ed-4403-beb3-72f2208b5c04"
      },
      "execution_count": 27,
      "outputs": [
        {
          "output_type": "stream",
          "name": "stdout",
          "text": [
            "Standard deviation of comrade selection:\t12.441864811996632\n",
            "Standard deviation of villain selection:\t15.011995203836166\n",
            "Standard deviation of results:\t\t\t53.121337927520955\n"
          ]
        }
      ]
    },
    {
      "cell_type": "code",
      "source": [
        "curLevelDict = {'1':0, '2':0, '3':0, '4':0, '5':0}\n",
        "selLevelDict = {'1':0, '2':0, '3':0, '4':0, '5':0}\n",
        "timeDict = {'2':0, '4':0, '6':0, '8':0}\n",
        "\n",
        "for x in range(10000):\n",
        "  curLevel = random.randint(1, 5)\n",
        "  selLevel = choice([i for i in range(0,6) if i not in [curLevel]])\n",
        "\n",
        "  if (curLevel == 1):\n",
        "    curLevelDict.update({\"1\": (int(curLevelDict['1'])+1)})\n",
        "  elif (curLevel == 2):\n",
        "    curLevelDict.update({\"2\": (int(curLevelDict['2'])+1)})\n",
        "  elif (curLevel == 3):\n",
        "    curLevelDict.update({\"3\": (int(curLevelDict['3'])+1)})\n",
        "  elif (curLevel == 4):\n",
        "    curLevelDict.update({\"4\": (int(curLevelDict['4'])+1)})\n",
        "  elif (curLevel == 5):\n",
        "    curLevelDict.update({\"5\": (int(curLevelDict['5'])+1)})\n",
        "\n",
        "  if (selLevel == 1):\n",
        "    selLevelDict.update({\"1\": (int(selLevelDict['1'])+1)})\n",
        "  elif (selLevel == 2):\n",
        "    selLevelDict.update({\"2\": (int(selLevelDict['2'])+1)})\n",
        "  elif (selLevel == 3):\n",
        "    selLevelDict.update({\"3\": (int(selLevelDict['3'])+1)})\n",
        "  elif (selLevel == 4):\n",
        "    selLevelDict.update({\"4\": (int(selLevelDict['4'])+1)})\n",
        "  elif (selLevel == 5):\n",
        "    selLevelDict.update({\"5\": (int(selLevelDict['5'])+1)})\n",
        "\n",
        "  dist = selLevel-curLevel\n",
        "  time = abs(dist*2)\n",
        "\n",
        "  if (time == 2):\n",
        "    timeDict.update({\"2\": (int(timeDict['2'])+1)})\n",
        "  elif (time == 4):\n",
        "    timeDict.update({\"4\": (int(timeDict['4'])+1)})\n",
        "  elif (time == 6):\n",
        "    timeDict.update({\"6\": (int(timeDict['6'])+1)})\n",
        "  elif (time == 8):\n",
        "    timeDict.update({\"8\": (int(timeDict['8'])+1)})"
      ],
      "metadata": {
        "id": "WaRf1FSFEeRj"
      },
      "execution_count": 28,
      "outputs": []
    },
    {
      "cell_type": "code",
      "source": [
        "allCurrLevel = list(curLevelDict.keys())\n",
        "allCurrLevelFreq = list(curLevelDict.values())\n",
        "  \n",
        "curLevFig = plt.figure(figsize = (5, 3))\n",
        " \n",
        "# creating the bar plot\n",
        "plt.bar(allCurrLevel, allCurrLevelFreq, color ='red', width = 0.9)\n",
        "\n",
        "plt.xlabel(\"Current Levels\")\n",
        "plt.ylabel(\"Frequency\")\n",
        "plt.title(\"Frequency of current levels\")\n",
        "plt.show()\n",
        "\n",
        "print(\"Expected result:\\t\" + str(max(curLevelDict, key=curLevelDict.get)))\n",
        "print(\"Frequency:\\t\\t\" + str(curLevelDict[(max(curLevelDict, key=curLevelDict.get))]))\n",
        "\n",
        "###############################################################################\n",
        "\n",
        "allSelLevel = list(selLevelDict.keys())\n",
        "allSelLevelFreq = list(selLevelDict.values())\n",
        "  \n",
        "allLevFig = plt.figure(figsize = (5, 3))\n",
        " \n",
        "# creating the bar plot\n",
        "plt.bar(allSelLevel, allSelLevelFreq, color ='blue', width = 0.9)\n",
        " \n",
        "plt.xlabel(\"Selected Levels\")\n",
        "plt.ylabel(\"Frequency\")\n",
        "plt.title(\"Frequency of selected levels\")\n",
        "plt.show()\n",
        "\n",
        "print(\"Expected result:\\t\" + str(max(selLevelDict, key=selLevelDict.get)))\n",
        "print(\"Frequency:\\t\\t\" + str(selLevelDict[(max(selLevelDict, key=selLevelDict.get))]))\n",
        "\n",
        "###############################################################################\n",
        "\n",
        "allTime = list(timeDict.keys())\n",
        "timeFreq = list(timeDict.values())\n",
        "  \n",
        "timeFig = plt.figure(figsize = (5, 3))\n",
        " \n",
        "# creating the bar plot\n",
        "plt.bar(allTime, timeFreq, color ='green', width = 0.9)\n",
        " \n",
        "plt.xlabel(\"Time\")\n",
        "plt.ylabel(\"Frequency\")\n",
        "plt.title(\"Frequency of time\")\n",
        "plt.show()\n",
        "\n",
        "print(\"Expected result:\\t\" + str(max(timeDict, key=timeDict.get)))\n",
        "print(\"Frequency:\\t\\t\" + str(timeDict[(max(timeDict, key=timeDict.get))]))"
      ],
      "metadata": {
        "colab": {
          "base_uri": "https://localhost:8080/",
          "height": 745
        },
        "id": "oJDY-qUhNed0",
        "outputId": "c4a09275-5f91-4972-9a83-8f0c7bb50e3c"
      },
      "execution_count": 29,
      "outputs": [
        {
          "output_type": "display_data",
          "data": {
            "text/plain": [
              "<Figure size 360x216 with 1 Axes>"
            ],
            "image/png": "[encoded data removed]"
          },
          "metadata": {
            "needs_background": "light"
          }
        },
        {
          "output_type": "stream",
          "name": "stdout",
          "text": [
            "Expected result:\t2\n",
            "Frequency:\t\t2051\n"
          ]
        },
        {
          "output_type": "display_data",
          "data": {
            "text/plain": [
              "<Figure size 360x216 with 1 Axes>"
            ],
            "image/png": "[encoded data removed]"
          },
          "metadata": {
            "needs_background": "light"
          }
        },
        {
          "output_type": "stream",
          "name": "stdout",
          "text": [
            "Expected result:\t4\n",
            "Frequency:\t\t1666\n"
          ]
        },
        {
          "output_type": "display_data",
          "data": {
            "text/plain": [
              "<Figure size 360x216 with 1 Axes>"
            ],
            "image/png": "[encoded data removed]"
          },
          "metadata": {
            "needs_background": "light"
          }
        },
        {
          "output_type": "stream",
          "name": "stdout",
          "text": [
            "Expected result:\t2\n",
            "Frequency:\t\t3641\n"
          ]
        }
      ]
    },
    {
      "cell_type": "code",
      "source": [
        "print(\"Standard deviation of current level:\\t\" + \n",
        "      str(np.std([curLevelDict['1'], curLevelDict['2'], curLevelDict['3'], curLevelDict['4'], curLevelDict['5']])))\n",
        "print(\"Standard deviation of selected level:\\t\" + \n",
        "      str(np.std([selLevelDict['1'], selLevelDict['2'], selLevelDict['3'], selLevelDict['4'], selLevelDict['5']])))\n",
        "print(\"Standard deviation of time taken:\\t\" + \n",
        "      str(np.std([timeDict['2'], timeDict['4'], timeDict['6'], timeDict['8']])))"
      ],
      "metadata": {
        "colab": {
          "base_uri": "https://localhost:8080/"
        },
        "id": "IJ__V8CvW8BQ",
        "outputId": "6666f180-181b-40e1-e74b-e4d767d20d61"
      },
      "execution_count": 30,
      "outputs": [
        {
          "output_type": "stream",
          "name": "stdout",
          "text": [
            "Standard deviation of current level:\t28.192197502145874\n",
            "Standard deviation of selected level:\t39.0148689604361\n",
            "Standard deviation of time taken:\t912.8913886657054\n"
          ]
        }
      ]
    },
    {
      "cell_type": "markdown",
      "metadata": {
        "id": "vpb3Mfa5aPsZ"
      },
      "source": [
        "# Task 2: Naive Bayes Classifier\n",
        "\n",
        "Data obtained from https://github.com/johnmyleswhite/ML_for_Hackers\n"
      ]
    },
    {
      "cell_type": "code",
      "execution_count": 31,
      "metadata": {
        "colab": {
          "base_uri": "https://localhost:8080/",
          "height": 74
        },
        "id": "-dkqrbIsaPsa",
        "outputId": "863b24d4-39e8-4207-ac12-20390c53e0af"
      },
      "outputs": [
        {
          "output_type": "display_data",
          "data": {
            "text/plain": [
              "<IPython.core.display.HTML object>"
            ],
            "text/html": [
              "\n",
              "     <input type=\"file\" id=\"files-90142dda-ab2c-449f-873f-8f707b630408\" name=\"files[]\" multiple disabled\n",
              "        style=\"border:none\" />\n",
              "     <output id=\"result-90142dda-ab2c-449f-873f-8f707b630408\">\n",
              "      Upload widget is only available when the cell has been executed in the\n",
              "      current browser session. Please rerun this cell to enable.\n",
              "      </output>\n",
              "      <script>// Copyright 2017 Google LLC\n",
              "//\n",
              "// Licensed under the Apache License, Version 2.0 (the \"License\");\n",
              "// you may not use this file except in compliance with the License.\n",
              "// You may obtain a copy of the License at\n",
              "//\n",
              "//      http://www.apache.org/licenses/LICENSE-2.0\n",
              "//\n",
              "// Unless required by applicable law or agreed to in writing, software\n",
              "// distributed under the License is distributed on an \"AS IS\" BASIS,\n",
              "// WITHOUT WARRANTIES OR CONDITIONS OF ANY KIND, either express or implied.\n",
              "// See the License for the specific language governing permissions and\n",
              "// limitations under the License.\n",
              "\n",
              "/**\n",
              " * @fileoverview Helpers for google.colab Python module.\n",
              " */\n",
              "(function(scope) {\n",
              "function span(text, styleAttributes = {}) {\n",
              "  const element = document.createElement('span');\n",
              "  element.textContent = text;\n",
              "  for (const key of Object.keys(styleAttributes)) {\n",
              "    element.style[key] = styleAttributes[key];\n",
              "  }\n",
              "  return element;\n",
              "}\n",
              "\n",
              "// Max number of bytes which will be uploaded at a time.\n",
              "const MAX_PAYLOAD_SIZE = 100 * 1024;\n",
              "\n",
              "function _uploadFiles(inputId, outputId) {\n",
              "  const steps = uploadFilesStep(inputId, outputId);\n",
              "  const outputElement = document.getElementById(outputId);\n",
              "  // Cache steps on the outputElement to make it available for the next call\n",
              "  // to uploadFilesContinue from Python.\n",
              "  outputElement.steps = steps;\n",
              "\n",
              "  return _uploadFilesContinue(outputId);\n",
              "}\n",
              "\n",
              "// This is roughly an async generator (not supported in the browser yet),\n",
              "// where there are multiple asynchronous steps and the Python side is going\n",
              "// to poll for completion of each step.\n",
              "// This uses a Promise to block the python side on completion of each step,\n",
              "// then passes the result of the previous step as the input to the next step.\n",
              "function _uploadFilesContinue(outputId) {\n",
              "  const outputElement = document.getElementById(outputId);\n",
              "  const steps = outputElement.steps;\n",
              "\n",
              "  const next = steps.next(outputElement.lastPromiseValue);\n",
              "  return Promise.resolve(next.value.promise).then((value) => {\n",
              "    // Cache the last promise value to make it available to the next\n",
              "    // step of the generator.\n",
              "    outputElement.lastPromiseValue = value;\n",
              "    return next.value.response;\n",
              "  });\n",
              "}\n",
              "\n",
              "/**\n",
              " * Generator function which is called between each async step of the upload\n",
              " * process.\n",
              " * @param {string} inputId Element ID of the input file picker element.\n",
              " * @param {string} outputId Element ID of the output display.\n",
              " * @return {!Iterable<!Object>} Iterable of next steps.\n",
              " */\n",
              "function* uploadFilesStep(inputId, outputId) {\n",
              "  const inputElement = document.getElementById(inputId);\n",
              "  inputElement.disabled = false;\n",
              "\n",
              "  const outputElement = document.getElementById(outputId);\n",
              "  outputElement.innerHTML = '';\n",
              "\n",
              "  const pickedPromise = new Promise((resolve) => {\n",
              "    inputElement.addEventListener('change', (e) => {\n",
              "      resolve(e.target.files);\n",
              "    });\n",
              "  });\n",
              "\n",
              "  const cancel = document.createElement('button');\n",
              "  inputElement.parentElement.appendChild(cancel);\n",
              "  cancel.textContent = 'Cancel upload';\n",
              "  const cancelPromise = new Promise((resolve) => {\n",
              "    cancel.onclick = () => {\n",
              "      resolve(null);\n",
              "    };\n",
              "  });\n",
              "\n",
              "  // Wait for the user to pick the files.\n",
              "  const files = yield {\n",
              "    promise: Promise.race([pickedPromise, cancelPromise]),\n",
              "    response: {\n",
              "      action: 'starting',\n",
              "    }\n",
              "  };\n",
              "\n",
              "  cancel.remove();\n",
              "\n",
              "  // Disable the input element since further picks are not allowed.\n",
              "  inputElement.disabled = true;\n",
              "\n",
              "  if (!files) {\n",
              "    return {\n",
              "      response: {\n",
              "        action: 'complete',\n",
              "      }\n",
              "    };\n",
              "  }\n",
              "\n",
              "  for (const file of files) {\n",
              "    const li = document.createElement('li');\n",
              "    li.append(span(file.name, {fontWeight: 'bold'}));\n",
              "    li.append(span(\n",
              "        `(${file.type || 'n/a'}) - ${file.size} bytes, ` +\n",
              "        `last modified: ${\n",
              "            file.lastModifiedDate ? file.lastModifiedDate.toLocaleDateString() :\n",
              "                                    'n/a'} - `));\n",
              "    const percent = span('0% done');\n",
              "    li.appendChild(percent);\n",
              "\n",
              "    outputElement.appendChild(li);\n",
              "\n",
              "    const fileDataPromise = new Promise((resolve) => {\n",
              "      const reader = new FileReader();\n",
              "      reader.onload = (e) => {\n",
              "        resolve(e.target.result);\n",
              "      };\n",
              "      reader.readAsArrayBuffer(file);\n",
              "    });\n",
              "    // Wait for the data to be ready.\n",
              "    let fileData = yield {\n",
              "      promise: fileDataPromise,\n",
              "      response: {\n",
              "        action: 'continue',\n",
              "      }\n",
              "    };\n",
              "\n",
              "    // Use a chunked sending to avoid message size limits. See b/62115660.\n",
              "    let position = 0;\n",
              "    do {\n",
              "      const length = Math.min(fileData.byteLength - position, MAX_PAYLOAD_SIZE);\n",
              "      const chunk = new Uint8Array(fileData, position, length);\n",
              "      position += length;\n",
              "\n",
              "      const base64 = btoa(String.fromCharCode.apply(null, chunk));\n",
              "      yield {\n",
              "        response: {\n",
              "          action: 'append',\n",
              "          file: file.name,\n",
              "          data: base64,\n",
              "        },\n",
              "      };\n",
              "\n",
              "      let percentDone = fileData.byteLength === 0 ?\n",
              "          100 :\n",
              "          Math.round((position / fileData.byteLength) * 100);\n",
              "      percent.textContent = `${percentDone}% done`;\n",
              "\n",
              "    } while (position < fileData.byteLength);\n",
              "  }\n",
              "\n",
              "  // All done.\n",
              "  yield {\n",
              "    response: {\n",
              "      action: 'complete',\n",
              "    }\n",
              "  };\n",
              "}\n",
              "\n",
              "scope.google = scope.google || {};\n",
              "scope.google.colab = scope.google.colab || {};\n",
              "scope.google.colab._files = {\n",
              "  _uploadFiles,\n",
              "  _uploadFilesContinue,\n",
              "};\n",
              "})(self);\n",
              "</script> "
            ]
          },
          "metadata": {}
        },
        {
          "output_type": "stream",
          "name": "stdout",
          "text": [
            "Saving 01_heights_weights_genders.csv to 01_heights_weights_genders (1).csv\n"
          ]
        }
      ],
      "source": [
        "# import dependencies\n",
        "import numpy as np\n",
        "import pandas as pd\n",
        "from google.colab import files\n",
        "import sklearn\n",
        "from sklearn.model_selection import train_test_split\n",
        "from sklearn.metrics import accuracy_score, confusion_matrix, classification_report\n",
        "\n",
        "uploaded = files.upload()"
      ]
    },
    {
      "cell_type": "code",
      "execution_count": 32,
      "metadata": {
        "id": "YmGuPlQ7aPsa"
      },
      "outputs": [],
      "source": [
        "# Read the data from the .csv, using the first row as the headers of the data\n",
        "data = pd.read_csv('01_heights_weights_genders.csv',header=0)\n",
        "\n",
        "#Height converter.\n",
        "def heightConv(height):\n",
        "  return (height*2.54)\n",
        "\n",
        "#Weight converter.\n",
        "def weightConv(weight):\n",
        "  return (weight*0.453592)"
      ]
    },
    {
      "cell_type": "code",
      "execution_count": 125,
      "metadata": {
        "colab": {
          "base_uri": "https://localhost:8080/",
          "height": 607
        },
        "id": "chjpmSDLaPsb",
        "outputId": "058f40e5-25f9-4157-fb20-8070c0ef4e91"
      },
      "outputs": [
        {
          "output_type": "execute_result",
          "data": {
            "text/plain": [
              "      Gender     Height      Weight\n",
              "920     Male  65.975207  171.076831\n",
              "8975  Female  62.845533  150.258937\n",
              "2193    Male  67.624477  193.769780\n",
              "4197    Male  69.351832  174.359599\n",
              "8103  Female  70.361119  163.945040\n",
              "4048    Male  64.805303  147.363350\n",
              "7064  Female  63.642597  135.422802\n",
              "8732  Female  70.817538  184.860624\n",
              "9801  Female  61.581975  140.585718\n",
              "9711  Female  66.538077  143.664714"
            ],
            "text/html": [
              "\n",
              "  <div id=\"df-d9937404-4dc4-4197-83e2-6de117b9a2e2\">\n",
              "    <div class=\"colab-df-container\">\n",
              "      <div>\n",
              "<style scoped>\n",
              "    .dataframe tbody tr th:only-of-type {\n",
              "        vertical-align: middle;\n",
              "    }\n",
              "\n",
              "    .dataframe tbody tr th {\n",
              "        vertical-align: top;\n",
              "    }\n",
              "\n",
              "    .dataframe thead th {\n",
              "        text-align: right;\n",
              "    }\n",
              "</style>\n",
              "<table border=\"1\" class=\"dataframe\">\n",
              "  <thead>\n",
              "    <tr style=\"text-align: right;\">\n",
              "      <th></th>\n",
              "      <th>Gender</th>\n",
              "      <th>Height</th>\n",
              "      <th>Weight</th>\n",
              "    </tr>\n",
              "  </thead>\n",
              "  <tbody>\n",
              "    <tr>\n",
              "      <th>920</th>\n",
              "      <td>Male</td>\n",
              "      <td>65.975207</td>\n",
              "      <td>171.076831</td>\n",
              "    </tr>\n",
              "    <tr>\n",
              "      <th>8975</th>\n",
              "      <td>Female</td>\n",
              "      <td>62.845533</td>\n",
              "      <td>150.258937</td>\n",
              "    </tr>\n",
              "    <tr>\n",
              "      <th>2193</th>\n",
              "      <td>Male</td>\n",
              "      <td>67.624477</td>\n",
              "      <td>193.769780</td>\n",
              "    </tr>\n",
              "    <tr>\n",
              "      <th>4197</th>\n",
              "      <td>Male</td>\n",
              "      <td>69.351832</td>\n",
              "      <td>174.359599</td>\n",
              "    </tr>\n",
              "    <tr>\n",
              "      <th>8103</th>\n",
              "      <td>Female</td>\n",
              "      <td>70.361119</td>\n",
              "      <td>163.945040</td>\n",
              "    </tr>\n",
              "    <tr>\n",
              "      <th>4048</th>\n",
              "      <td>Male</td>\n",
              "      <td>64.805303</td>\n",
              "      <td>147.363350</td>\n",
              "    </tr>\n",
              "    <tr>\n",
              "      <th>7064</th>\n",
              "      <td>Female</td>\n",
              "      <td>63.642597</td>\n",
              "      <td>135.422802</td>\n",
              "    </tr>\n",
              "    <tr>\n",
              "      <th>8732</th>\n",
              "      <td>Female</td>\n",
              "      <td>70.817538</td>\n",
              "      <td>184.860624</td>\n",
              "    </tr>\n",
              "    <tr>\n",
              "      <th>9801</th>\n",
              "      <td>Female</td>\n",
              "      <td>61.581975</td>\n",
              "      <td>140.585718</td>\n",
              "    </tr>\n",
              "    <tr>\n",
              "      <th>9711</th>\n",
              "      <td>Female</td>\n",
              "      <td>66.538077</td>\n",
              "      <td>143.664714</td>\n",
              "    </tr>\n",
              "  </tbody>\n",
              "</table>\n",
              "</div>\n",
              "      <button class=\"colab-df-convert\" onclick=\"convertToInteractive('df-d9937404-4dc4-4197-83e2-6de117b9a2e2')\"\n",
              "              title=\"Convert this dataframe to an interactive table.\"\n",
              "              style=\"display:none;\">\n",
              "        \n",
              "  <svg xmlns=\"http://www.w3.org/2000/svg\" height=\"24px\"viewBox=\"0 0 24 24\"\n",
              "       width=\"24px\">\n",
              "    <path d=\"M0 0h24v24H0V0z\" fill=\"none\"/>\n",
              "    <path d=\"M18.56 5.44l.94 2.06.94-2.06 2.06-.94-2.06-.94-.94-2.06-.94 2.06-2.06.94zm-11 1L8.5 8.5l.94-2.06 2.06-.94-2.06-.94L8.5 2.5l-.94 2.06-2.06.94zm10 10l.94 2.06.94-2.06 2.06-.94-2.06-.94-.94-2.06-.94 2.06-2.06.94z\"/><path d=\"M17.41 7.96l-1.37-1.37c-.4-.4-.92-.59-1.43-.59-.52 0-1.04.2-1.43.59L10.3 9.45l-7.72 7.72c-.78.78-.78 2.05 0 2.83L4 21.41c.39.39.9.59 1.41.59.51 0 1.02-.2 1.41-.59l7.78-7.78 2.81-2.81c.8-.78.8-2.07 0-2.86zM5.41 20L4 18.59l7.72-7.72 1.47 1.35L5.41 20z\"/>\n",
              "  </svg>\n",
              "      </button>\n",
              "      \n",
              "  <style>\n",
              "    .colab-df-container {\n",
              "      display:flex;\n",
              "      flex-wrap:wrap;\n",
              "      gap: 12px;\n",
              "    }\n",
              "\n",
              "    .colab-df-convert {\n",
              "      background-color: #E8F0FE;\n",
              "      border: none;\n",
              "      border-radius: 50%;\n",
              "      cursor: pointer;\n",
              "      display: none;\n",
              "      fill: #1967D2;\n",
              "      height: 32px;\n",
              "      padding: 0 0 0 0;\n",
              "      width: 32px;\n",
              "    }\n",
              "\n",
              "    .colab-df-convert:hover {\n",
              "      background-color: #E2EBFA;\n",
              "      box-shadow: 0px 1px 2px rgba(60, 64, 67, 0.3), 0px 1px 3px 1px rgba(60, 64, 67, 0.15);\n",
              "      fill: #174EA6;\n",
              "    }\n",
              "\n",
              "    [theme=dark] .colab-df-convert {\n",
              "      background-color: #3B4455;\n",
              "      fill: #D2E3FC;\n",
              "    }\n",
              "\n",
              "    [theme=dark] .colab-df-convert:hover {\n",
              "      background-color: #434B5C;\n",
              "      box-shadow: 0px 1px 3px 1px rgba(0, 0, 0, 0.15);\n",
              "      filter: drop-shadow(0px 1px 2px rgba(0, 0, 0, 0.3));\n",
              "      fill: #FFFFFF;\n",
              "    }\n",
              "  </style>\n",
              "\n",
              "      <script>\n",
              "        const buttonEl =\n",
              "          document.querySelector('#df-d9937404-4dc4-4197-83e2-6de117b9a2e2 button.colab-df-convert');\n",
              "        buttonEl.style.display =\n",
              "          google.colab.kernel.accessAllowed ? 'block' : 'none';\n",
              "\n",
              "        async function convertToInteractive(key) {\n",
              "          const element = document.querySelector('#df-d9937404-4dc4-4197-83e2-6de117b9a2e2');\n",
              "          const dataTable =\n",
              "            await google.colab.kernel.invokeFunction('convertToInteractive',\n",
              "                                                     [key], {});\n",
              "          if (!dataTable) return;\n",
              "\n",
              "          const docLinkHtml = 'Like what you see? Visit the ' +\n",
              "            '<a target=\"_blank\" href=https://colab.research.google.com/notebooks/data_table.ipynb>data table notebook</a>'\n",
              "            + ' to learn more about interactive tables.';\n",
              "          element.innerHTML = '';\n",
              "          dataTable['output_type'] = 'display_data';\n",
              "          await google.colab.output.renderOutput(dataTable, element);\n",
              "          const docLink = document.createElement('div');\n",
              "          docLink.innerHTML = docLinkHtml;\n",
              "          element.appendChild(docLink);\n",
              "        }\n",
              "      </script>\n",
              "    </div>\n",
              "  </div>\n",
              "  "
            ]
          },
          "metadata": {},
          "execution_count": 125
        },
        {
          "output_type": "display_data",
          "data": {
            "text/plain": [
              "<Figure size 540x252 with 1 Axes>"
            ],
            "image/png": "[encoded data removed]"
          },
          "metadata": {
            "needs_background": "light"
          }
        }
      ],
      "source": [
        "# Show just the first few samples so we know it's read correctly\n",
        "\n",
        "x = data['Height'].tolist()\n",
        "y = data['Weight'].tolist()\n",
        "\n",
        "#Color map.\n",
        "color_map = {\"Male\":\"blue\", \"Female\":\"red\"}\n",
        "\n",
        "plt.scatter(x, y, c = data['Gender'].map(color_map))\n",
        "\n",
        "data.sample(10)"
      ]
    },
    {
      "cell_type": "markdown",
      "metadata": {
        "id": "MjpHl78oaPsb"
      },
      "source": [
        "### Visualise\n"
      ]
    },
    {
      "cell_type": "code",
      "execution_count": 64,
      "metadata": {
        "colab": {
          "base_uri": "https://localhost:8080/",
          "height": 485
        },
        "id": "0V8fBAclaPsc",
        "outputId": "81ba71f2-7200-4a4c-a149-f4cb39fbc2d1"
      },
      "outputs": [
        {
          "output_type": "stream",
          "name": "stdout",
          "text": [
            "Contents in csv file:\n",
            "       Gender     Height      Weight\n",
            "0       Male  73.847017  241.893563\n",
            "1       Male  68.781904  162.310473\n",
            "2       Male  74.110105  212.740856\n",
            "3       Male  71.730978  220.042470\n",
            "4       Male  69.881796  206.349801\n",
            "...      ...        ...         ...\n",
            "9995  Female  66.172652  136.777454\n",
            "9996  Female  67.067155  170.867906\n",
            "9997  Female  63.867992  128.475319\n",
            "9998  Female  69.034243  163.852461\n",
            "9999  Female  61.944246  113.649103\n",
            "\n",
            "[10000 rows x 3 columns]\n"
          ]
        },
        {
          "output_type": "display_data",
          "data": {
            "text/plain": [
              "<Figure size 504x216 with 1 Axes>"
            ],
            "image/png": "[encoded data removed]"
          },
          "metadata": {
            "needs_background": "light"
          }
        }
      ],
      "source": [
        "#Show brief data and plot overall data shape of csv.\n",
        "plt.rcParams[\"figure.figsize\"] = [7.00, 3]\n",
        "plt.rcParams[\"figure.autolayout\"] = True\n",
        "columns = [\"Name\", \"Marks\"]\n",
        "\n",
        "print(\"Contents in csv file:\\n\", data)\n",
        "\n",
        "plt.plot(data.Gender, data.Weight)\n",
        "plt.plot(data.Gender, data.Height)\n",
        "plt.show()"
      ]
    },
    {
      "cell_type": "code",
      "source": [
        "#Plotting the overall result of the dataset and show summary.\n",
        "plt.rcParams[\"figure.figsize\"] = [7.50, 3.50]\n",
        "plt.rcParams[\"figure.autolayout\"] = True\n",
        "\n",
        "headers = ['Gender', 'Height', 'Weight']\n",
        "data.set_index('Gender').plot()\n",
        "\n",
        "#data.plot(x=\"Gender\", y=[\"Weight\"])\n",
        "#plt.show()\n",
        "\n",
        "plt.show()\n",
        "\n",
        "summary = data.describe()\n",
        "print(summary)"
      ],
      "metadata": {
        "colab": {
          "base_uri": "https://localhost:8080/",
          "height": 417
        },
        "id": "HXCpIR8k4AeY",
        "outputId": "37c8f697-0e38-49a4-deab-241a3771eed9"
      },
      "execution_count": 65,
      "outputs": [
        {
          "output_type": "display_data",
          "data": {
            "text/plain": [
              "<Figure size 540x252 with 1 Axes>"
            ],
            "image/png": "[encoded data removed]"
          },
          "metadata": {
            "needs_background": "light"
          }
        },
        {
          "output_type": "stream",
          "name": "stdout",
          "text": [
            "             Height        Weight\n",
            "count  10000.000000  10000.000000\n",
            "mean      66.367560    161.440357\n",
            "std        3.847528     32.108439\n",
            "min       54.263133     64.700127\n",
            "25%       63.505620    135.818051\n",
            "50%       66.318070    161.212928\n",
            "75%       69.174262    187.169525\n",
            "max       78.998742    269.989699\n"
          ]
        }
      ]
    },
    {
      "cell_type": "code",
      "source": [
        "#Calculating the means.\n",
        "mHeightMean = data[\"Height\"].loc[data['Gender'] == 'Male'].mean()\n",
        "fHeightMean = data[\"Height\"].loc[data['Gender'] == 'Female'].mean()\n",
        "\n",
        "mWeightMean = data[\"Weight\"].loc[data['Gender'] == 'Male'].mean()\n",
        "fWeightMean = data[\"Weight\"].loc[data['Gender'] == 'Female'].mean()\n",
        "\n",
        "print(\"Male average height:\\t\" + str(round(mHeightMean, 2)) + \"\\t(\" + str(round(heightConv(mHeightMean), 2)) + \" cm)\")\n",
        "print(\"Male average height:\\t\" + str(round(fHeightMean, 2)) + \"\\t(\" + str(round(heightConv(fHeightMean), 2)) + \" cm)\")\n",
        "print(\"Female average weight:\\t\" + str(round(mWeightMean, 2)) + \"\\t(\" + str(round(weightConv(mWeightMean), 2)) + \" kg)\")\n",
        "print(\"Female average weight:\\t\" + str(round(fWeightMean, 2)) + \"\\t(\" + str(round(weightConv(fWeightMean), 2)) + \" kg)\")"
      ],
      "metadata": {
        "colab": {
          "base_uri": "https://localhost:8080/"
        },
        "id": "vPUjgmHd94Tt",
        "outputId": "9df81c64-e3df-4d78-c99b-fe8730b932b0"
      },
      "execution_count": 36,
      "outputs": [
        {
          "output_type": "stream",
          "name": "stdout",
          "text": [
            "Male average height:\t69.03\t(175.33 cm)\n",
            "Male average height:\t63.71\t(161.82 cm)\n",
            "Female average weight:\t187.02\t(84.83 kg)\n",
            "Female average weight:\t135.86\t(61.63 kg)\n"
          ]
        }
      ]
    },
    {
      "cell_type": "code",
      "source": [
        "#Plotting the means.\n",
        "heightMean = {'Male':mHeightMean, 'Female':fHeightMean}\n",
        "hDictKeys = list(heightMean.keys())\n",
        "hDictVals = list(heightMean.values())\n",
        "\n",
        "weightMean = {'Male':mWeightMean, 'Female':fWeightMean}\n",
        "wDictKeys = list(weightMean.keys())\n",
        "wDictVals = list(weightMean.values())\n",
        "  \n",
        "fig = plt.figure(figsize = (5, 3))\n",
        "plt.bar(hDictKeys, hDictVals, color ='blue',\n",
        "        width = 0.9)\n",
        " \n",
        "plt.xlabel(\"Gender\")\n",
        "plt.ylabel(\"Average Height (inches)\")\n",
        "plt.title(\"Average height of different genders\")\n",
        "plt.show()\n",
        "\n",
        "fig = plt.figure(figsize = (5, 3))\n",
        "plt.bar(wDictKeys, wDictVals, color ='blue',\n",
        "        width = 0.9)\n",
        " \n",
        "plt.xlabel(\"Gender\")\n",
        "plt.ylabel(\"Average Weight (lbs)\")\n",
        "plt.title(\"Average weight of different genders\")\n",
        "plt.show()"
      ],
      "metadata": {
        "colab": {
          "base_uri": "https://localhost:8080/",
          "height": 433
        },
        "id": "zFcthfFCTcyr",
        "outputId": "91ac04bb-8ac1-4f55-e375-a77f61b05b87"
      },
      "execution_count": 37,
      "outputs": [
        {
          "output_type": "display_data",
          "data": {
            "text/plain": [
              "<Figure size 360x216 with 1 Axes>"
            ],
            "image/png": "[encoded data removed]"
          },
          "metadata": {
            "needs_background": "light"
          }
        },
        {
          "output_type": "display_data",
          "data": {
            "text/plain": [
              "<Figure size 360x216 with 1 Axes>"
            ],
            "image/png": "[encoded data removed]"
          },
          "metadata": {
            "needs_background": "light"
          }
        }
      ]
    },
    {
      "cell_type": "markdown",
      "metadata": {
        "id": "4Mpw-aAIaPsc"
      },
      "source": [
        "###### Discuss: Do you think there is resonable separation?"
      ]
    },
    {
      "cell_type": "markdown",
      "metadata": {
        "id": "d5-ZyQPSaPsc"
      },
      "source": [
        "### Features and labels\n",
        "The aim is to predict the gender of the person based on characteristics such as height, weight. So we call what we want to predict the \"label\" and the characteristics the \"features\". This will be covered more later in the module, but is a good enough understanding for now."
      ]
    },
    {
      "cell_type": "code",
      "execution_count": 38,
      "metadata": {
        "id": "clI7grLaaPsd"
      },
      "outputs": [],
      "source": [
        "X = data.iloc[:,1:3] # X is the features in our dataset\n",
        "y = data.iloc[:,0]   # y is the Labels in our dataset"
      ]
    },
    {
      "cell_type": "markdown",
      "metadata": {
        "id": "uySqT5MwaPsd"
      },
      "source": [
        "### Train/Test Split\n",
        "\n",
        "We have a bunch of data from the csv file. What we need to do is decide what of that data we will use to train the algorithm, and what of that data will be used to see how good the result is. More on this later in the module, but you can't use the same data you train with to test the outcome, as it will naturally fit that very well, but you won't catch things like overfitting. \n",
        "\n",
        "There is some science to this, but for now we will randomly select one third for testing, and the rest for training."
      ]
    },
    {
      "cell_type": "code",
      "execution_count": 92,
      "metadata": {
        "id": "LjfymIzfaPsd"
      },
      "outputs": [],
      "source": [
        "################################\n",
        "# Your code here\n",
        "\n",
        "#Extract attributes and prediction labels into X and Y.\n",
        "X = data[[\"Height\", \"Weight\"]]\n",
        "Y = data[\"Gender\"]\n",
        "#Split 33% of the dataset for training and testing.\n",
        "Xtrain, Xtest, ytrain, ytest = train_test_split(X, Y, random_state=0, test_size = 0.33)"
      ]
    },
    {
      "cell_type": "markdown",
      "metadata": {
        "id": "sxyTmTl5aPse"
      },
      "source": [
        "### Train the algorithm\n",
        "We won't go into the details here, but we will use a Gaussian Naive Bayesian. Use GaussianNB from sklearn to train the model. The Gaussian is needed as we're dealing with sparse, continuous data"
      ]
    },
    {
      "cell_type": "code",
      "execution_count": 93,
      "metadata": {
        "colab": {
          "base_uri": "https://localhost:8080/"
        },
        "id": "0Tb5jRyHaPse",
        "outputId": "bb8a5b8f-248b-428e-f21e-dc3d599a2ead"
      },
      "outputs": [
        {
          "output_type": "stream",
          "name": "stdout",
          "text": [
            "Predicted labels:\t\t['Female' 'Male']\n",
            "Samples for each class:\t\t[3357. 3343.]\n",
            "Probability of each class:\t[0.50104478 0.49895522]\n"
          ]
        }
      ],
      "source": [
        "from sklearn.naive_bayes import GaussianNB\n",
        "\n",
        "################################\n",
        "# Your code here\n",
        "\n",
        "#Train with GaussianNB.\n",
        "gaussModel = GaussianNB().fit(Xtrain, ytrain)\n",
        "\n",
        "#Show all labels.\n",
        "print(\"Predicted labels:\\t\\t\" + str(gaussModel.classes_))\n",
        "\n",
        "#The number of training samples observed in each class:\n",
        "print(\"Samples for each class:\\t\\t\" + str(gaussModel.class_count_))\n",
        "\n",
        "#The probability of each class:\n",
        "print(\"Probability of each class:\\t\" + str(gaussModel.class_prior_))"
      ]
    },
    {
      "cell_type": "markdown",
      "metadata": {
        "id": "zWgyLbELaPse"
      },
      "source": [
        "### Test the algorithm\n",
        "Using the test data"
      ]
    },
    {
      "cell_type": "code",
      "execution_count": 94,
      "metadata": {
        "colab": {
          "base_uri": "https://localhost:8080/"
        },
        "id": "PzDRYOzJaPse",
        "outputId": "5bf89f91-8a3c-4bc2-a2f2-d50de18da89e"
      },
      "outputs": [
        {
          "output_type": "stream",
          "name": "stdout",
          "text": [
            "CLASSIFICATION REPORT:\n",
            "\n",
            "Accuracy:  0.883030303030303\n",
            "              precision    recall  f1-score   support\n",
            "\n",
            "      Female       0.89      0.88      0.88      1667\n",
            "        Male       0.88      0.89      0.88      1633\n",
            "\n",
            "    accuracy                           0.88      3300\n",
            "   macro avg       0.88      0.88      0.88      3300\n",
            "weighted avg       0.88      0.88      0.88      3300\n",
            "\n",
            "Confusion matrix:\n",
            "[[1462  181]\n",
            " [ 205 1452]]\n"
          ]
        }
      ],
      "source": [
        "################################\n",
        "# Your code here\n",
        "\n",
        "ypred = gaussModel.predict(Xtest)\n",
        "accuracy = accuracy_score(ytest,ypred)\n",
        "report = classification_report(ypred, ytest)\n",
        "cm = confusion_matrix(ytest, ypred)\n",
        "\n",
        "print(\"CLASSIFICATION REPORT:\\n\")\n",
        "print(\"Accuracy: \", accuracy)\n",
        "print(report)\n",
        "print(\"Confusion matrix:\")\n",
        "print(cm)"
      ]
    },
    {
      "cell_type": "markdown",
      "metadata": {
        "id": "Hgj7e9BFaPsf"
      },
      "source": [
        "### Plot the random samples"
      ]
    },
    {
      "cell_type": "code",
      "execution_count": 95,
      "metadata": {
        "colab": {
          "base_uri": "https://localhost:8080/"
        },
        "id": "9JFmAsuhaPsf",
        "outputId": "f6057a27-9c00-4f53-d627-facea7b12fac"
      },
      "outputs": [
        {
          "output_type": "stream",
          "name": "stdout",
          "text": [
            "Height range:\t 54.26 ~ 79.0 inches\n",
            "Weight range:\t 64.7 ~ 269.99 lbs\n"
          ]
        }
      ],
      "source": [
        "################################\n",
        "# Your code here\n",
        "\n",
        "#Get data.\n",
        "heightData = data[\"Height\"]\n",
        "weightData = data[\"Weight\"]\n",
        "\n",
        "\n",
        "#Get boundaries of heights.\n",
        "heightMin = heightData.min()\n",
        "heightMax = heightData.max()\n",
        "#Get boundaries of weights.\n",
        "weightMin = weightData.min()\n",
        "weightMax = weightData.max()\n",
        "\n",
        "print(\"Height range:\\t\", round(heightMin, 2), \"~\", round(heightMax, 2), 'inches')\n",
        "print(\"Weight range:\\t\", round(weightMin, 2), \"~\", round(weightMax, 2), 'lbs')\n",
        "\n",
        "#Funcions to create a sample dataframe.\n",
        "def CreateDataFrame(num):\n",
        "\n",
        "  columns = ['Height','Weight']\n",
        "  df = pd.DataFrame(columns=columns)\n",
        "\n",
        "  for i in range(num):\n",
        "    #Within range.\n",
        "    height = np.random.uniform(heightMin, heightMax)\n",
        "    weight = np.random.uniform(weightMin, weightMax)\n",
        "    #Assign.\n",
        "    df.loc[i]= [height, weight]\n",
        "\n",
        "  return df\n"
      ]
    },
    {
      "cell_type": "code",
      "execution_count": 103,
      "metadata": {
        "colab": {
          "base_uri": "https://localhost:8080/",
          "height": 363
        },
        "id": "8ya9mJA-aPsf",
        "outputId": "b42cc2d2-aad1-4527-eb39-56b92d667e2e"
      },
      "outputs": [
        {
          "output_type": "execute_result",
          "data": {
            "text/plain": [
              "      Height      Weight\n",
              "0  75.088808  148.245610\n",
              "1  57.882264   69.456923\n",
              "2  60.718880  218.799956\n",
              "3  55.770663  176.588623\n",
              "4  74.296784  131.136040\n",
              "5  77.969125  265.824327\n",
              "6  75.273743  194.094730\n",
              "7  57.094998  123.841758\n",
              "8  63.379434  109.922632\n",
              "9  59.434686  150.204300"
            ],
            "text/html": [
              "\n",
              "  <div id=\"df-3eec30c8-8add-49c6-b2f3-162d3ebee9bc\">\n",
              "    <div class=\"colab-df-container\">\n",
              "      <div>\n",
              "<style scoped>\n",
              "    .dataframe tbody tr th:only-of-type {\n",
              "        vertical-align: middle;\n",
              "    }\n",
              "\n",
              "    .dataframe tbody tr th {\n",
              "        vertical-align: top;\n",
              "    }\n",
              "\n",
              "    .dataframe thead th {\n",
              "        text-align: right;\n",
              "    }\n",
              "</style>\n",
              "<table border=\"1\" class=\"dataframe\">\n",
              "  <thead>\n",
              "    <tr style=\"text-align: right;\">\n",
              "      <th></th>\n",
              "      <th>Height</th>\n",
              "      <th>Weight</th>\n",
              "    </tr>\n",
              "  </thead>\n",
              "  <tbody>\n",
              "    <tr>\n",
              "      <th>0</th>\n",
              "      <td>75.088808</td>\n",
              "      <td>148.245610</td>\n",
              "    </tr>\n",
              "    <tr>\n",
              "      <th>1</th>\n",
              "      <td>57.882264</td>\n",
              "      <td>69.456923</td>\n",
              "    </tr>\n",
              "    <tr>\n",
              "      <th>2</th>\n",
              "      <td>60.718880</td>\n",
              "      <td>218.799956</td>\n",
              "    </tr>\n",
              "    <tr>\n",
              "      <th>3</th>\n",
              "      <td>55.770663</td>\n",
              "      <td>176.588623</td>\n",
              "    </tr>\n",
              "    <tr>\n",
              "      <th>4</th>\n",
              "      <td>74.296784</td>\n",
              "      <td>131.136040</td>\n",
              "    </tr>\n",
              "    <tr>\n",
              "      <th>5</th>\n",
              "      <td>77.969125</td>\n",
              "      <td>265.824327</td>\n",
              "    </tr>\n",
              "    <tr>\n",
              "      <th>6</th>\n",
              "      <td>75.273743</td>\n",
              "      <td>194.094730</td>\n",
              "    </tr>\n",
              "    <tr>\n",
              "      <th>7</th>\n",
              "      <td>57.094998</td>\n",
              "      <td>123.841758</td>\n",
              "    </tr>\n",
              "    <tr>\n",
              "      <th>8</th>\n",
              "      <td>63.379434</td>\n",
              "      <td>109.922632</td>\n",
              "    </tr>\n",
              "    <tr>\n",
              "      <th>9</th>\n",
              "      <td>59.434686</td>\n",
              "      <td>150.204300</td>\n",
              "    </tr>\n",
              "  </tbody>\n",
              "</table>\n",
              "</div>\n",
              "      <button class=\"colab-df-convert\" onclick=\"convertToInteractive('df-3eec30c8-8add-49c6-b2f3-162d3ebee9bc')\"\n",
              "              title=\"Convert this dataframe to an interactive table.\"\n",
              "              style=\"display:none;\">\n",
              "        \n",
              "  <svg xmlns=\"http://www.w3.org/2000/svg\" height=\"24px\"viewBox=\"0 0 24 24\"\n",
              "       width=\"24px\">\n",
              "    <path d=\"M0 0h24v24H0V0z\" fill=\"none\"/>\n",
              "    <path d=\"M18.56 5.44l.94 2.06.94-2.06 2.06-.94-2.06-.94-.94-2.06-.94 2.06-2.06.94zm-11 1L8.5 8.5l.94-2.06 2.06-.94-2.06-.94L8.5 2.5l-.94 2.06-2.06.94zm10 10l.94 2.06.94-2.06 2.06-.94-2.06-.94-.94-2.06-.94 2.06-2.06.94z\"/><path d=\"M17.41 7.96l-1.37-1.37c-.4-.4-.92-.59-1.43-.59-.52 0-1.04.2-1.43.59L10.3 9.45l-7.72 7.72c-.78.78-.78 2.05 0 2.83L4 21.41c.39.39.9.59 1.41.59.51 0 1.02-.2 1.41-.59l7.78-7.78 2.81-2.81c.8-.78.8-2.07 0-2.86zM5.41 20L4 18.59l7.72-7.72 1.47 1.35L5.41 20z\"/>\n",
              "  </svg>\n",
              "      </button>\n",
              "      \n",
              "  <style>\n",
              "    .colab-df-container {\n",
              "      display:flex;\n",
              "      flex-wrap:wrap;\n",
              "      gap: 12px;\n",
              "    }\n",
              "\n",
              "    .colab-df-convert {\n",
              "      background-color: #E8F0FE;\n",
              "      border: none;\n",
              "      border-radius: 50%;\n",
              "      cursor: pointer;\n",
              "      display: none;\n",
              "      fill: #1967D2;\n",
              "      height: 32px;\n",
              "      padding: 0 0 0 0;\n",
              "      width: 32px;\n",
              "    }\n",
              "\n",
              "    .colab-df-convert:hover {\n",
              "      background-color: #E2EBFA;\n",
              "      box-shadow: 0px 1px 2px rgba(60, 64, 67, 0.3), 0px 1px 3px 1px rgba(60, 64, 67, 0.15);\n",
              "      fill: #174EA6;\n",
              "    }\n",
              "\n",
              "    [theme=dark] .colab-df-convert {\n",
              "      background-color: #3B4455;\n",
              "      fill: #D2E3FC;\n",
              "    }\n",
              "\n",
              "    [theme=dark] .colab-df-convert:hover {\n",
              "      background-color: #434B5C;\n",
              "      box-shadow: 0px 1px 3px 1px rgba(0, 0, 0, 0.15);\n",
              "      filter: drop-shadow(0px 1px 2px rgba(0, 0, 0, 0.3));\n",
              "      fill: #FFFFFF;\n",
              "    }\n",
              "  </style>\n",
              "\n",
              "      <script>\n",
              "        const buttonEl =\n",
              "          document.querySelector('#df-3eec30c8-8add-49c6-b2f3-162d3ebee9bc button.colab-df-convert');\n",
              "        buttonEl.style.display =\n",
              "          google.colab.kernel.accessAllowed ? 'block' : 'none';\n",
              "\n",
              "        async function convertToInteractive(key) {\n",
              "          const element = document.querySelector('#df-3eec30c8-8add-49c6-b2f3-162d3ebee9bc');\n",
              "          const dataTable =\n",
              "            await google.colab.kernel.invokeFunction('convertToInteractive',\n",
              "                                                     [key], {});\n",
              "          if (!dataTable) return;\n",
              "\n",
              "          const docLinkHtml = 'Like what you see? Visit the ' +\n",
              "            '<a target=\"_blank\" href=https://colab.research.google.com/notebooks/data_table.ipynb>data table notebook</a>'\n",
              "            + ' to learn more about interactive tables.';\n",
              "          element.innerHTML = '';\n",
              "          dataTable['output_type'] = 'display_data';\n",
              "          await google.colab.output.renderOutput(dataTable, element);\n",
              "          const docLink = document.createElement('div');\n",
              "          docLink.innerHTML = docLinkHtml;\n",
              "          element.appendChild(docLink);\n",
              "        }\n",
              "      </script>\n",
              "    </div>\n",
              "  </div>\n",
              "  "
            ]
          },
          "metadata": {},
          "execution_count": 103
        }
      ],
      "source": [
        "#Create sample dataframe.\n",
        "sampleDf = CreateDataFrame(5000)\n",
        "\n",
        "sampleDf.head(10)"
      ]
    },
    {
      "cell_type": "code",
      "source": [
        "#Get list of predicted labels.\n",
        "final = gaussModel.predict(sampleDf)\n",
        "final"
      ],
      "metadata": {
        "colab": {
          "base_uri": "https://localhost:8080/"
        },
        "id": "PFZ85fAn-Z2y",
        "outputId": "06fe634d-04b5-4564-b5cc-22df3d370324"
      },
      "execution_count": 104,
      "outputs": [
        {
          "output_type": "execute_result",
          "data": {
            "text/plain": [
              "array(['Male', 'Female', 'Male', ..., 'Male', 'Female', 'Male'],\n",
              "      dtype='<U6')"
            ]
          },
          "metadata": {},
          "execution_count": 104
        }
      ]
    },
    {
      "cell_type": "code",
      "source": [
        "#Attach 'Gender' column to final dataframe.\n",
        "sampleDf['Gender'] = final\n",
        "\n",
        "sampleDf.head(10)"
      ],
      "metadata": {
        "colab": {
          "base_uri": "https://localhost:8080/",
          "height": 363
        },
        "id": "DjD-j8tNSYvs",
        "outputId": "01785ee8-b750-4ed5-f16d-6c7574e4bd52"
      },
      "execution_count": 109,
      "outputs": [
        {
          "output_type": "execute_result",
          "data": {
            "text/plain": [
              "      Height      Weight  Gender\n",
              "0  75.088808  148.245610    Male\n",
              "1  57.882264   69.456923  Female\n",
              "2  60.718880  218.799956    Male\n",
              "3  55.770663  176.588623  Female\n",
              "4  74.296784  131.136040    Male\n",
              "5  77.969125  265.824327    Male\n",
              "6  75.273743  194.094730    Male\n",
              "7  57.094998  123.841758  Female\n",
              "8  63.379434  109.922632  Female\n",
              "9  59.434686  150.204300  Female"
            ],
            "text/html": [
              "\n",
              "  <div id=\"df-d54ed96f-329b-4fdb-97de-0b3129a030ff\">\n",
              "    <div class=\"colab-df-container\">\n",
              "      <div>\n",
              "<style scoped>\n",
              "    .dataframe tbody tr th:only-of-type {\n",
              "        vertical-align: middle;\n",
              "    }\n",
              "\n",
              "    .dataframe tbody tr th {\n",
              "        vertical-align: top;\n",
              "    }\n",
              "\n",
              "    .dataframe thead th {\n",
              "        text-align: right;\n",
              "    }\n",
              "</style>\n",
              "<table border=\"1\" class=\"dataframe\">\n",
              "  <thead>\n",
              "    <tr style=\"text-align: right;\">\n",
              "      <th></th>\n",
              "      <th>Height</th>\n",
              "      <th>Weight</th>\n",
              "      <th>Gender</th>\n",
              "    </tr>\n",
              "  </thead>\n",
              "  <tbody>\n",
              "    <tr>\n",
              "      <th>0</th>\n",
              "      <td>75.088808</td>\n",
              "      <td>148.245610</td>\n",
              "      <td>Male</td>\n",
              "    </tr>\n",
              "    <tr>\n",
              "      <th>1</th>\n",
              "      <td>57.882264</td>\n",
              "      <td>69.456923</td>\n",
              "      <td>Female</td>\n",
              "    </tr>\n",
              "    <tr>\n",
              "      <th>2</th>\n",
              "      <td>60.718880</td>\n",
              "      <td>218.799956</td>\n",
              "      <td>Male</td>\n",
              "    </tr>\n",
              "    <tr>\n",
              "      <th>3</th>\n",
              "      <td>55.770663</td>\n",
              "      <td>176.588623</td>\n",
              "      <td>Female</td>\n",
              "    </tr>\n",
              "    <tr>\n",
              "      <th>4</th>\n",
              "      <td>74.296784</td>\n",
              "      <td>131.136040</td>\n",
              "      <td>Male</td>\n",
              "    </tr>\n",
              "    <tr>\n",
              "      <th>5</th>\n",
              "      <td>77.969125</td>\n",
              "      <td>265.824327</td>\n",
              "      <td>Male</td>\n",
              "    </tr>\n",
              "    <tr>\n",
              "      <th>6</th>\n",
              "      <td>75.273743</td>\n",
              "      <td>194.094730</td>\n",
              "      <td>Male</td>\n",
              "    </tr>\n",
              "    <tr>\n",
              "      <th>7</th>\n",
              "      <td>57.094998</td>\n",
              "      <td>123.841758</td>\n",
              "      <td>Female</td>\n",
              "    </tr>\n",
              "    <tr>\n",
              "      <th>8</th>\n",
              "      <td>63.379434</td>\n",
              "      <td>109.922632</td>\n",
              "      <td>Female</td>\n",
              "    </tr>\n",
              "    <tr>\n",
              "      <th>9</th>\n",
              "      <td>59.434686</td>\n",
              "      <td>150.204300</td>\n",
              "      <td>Female</td>\n",
              "    </tr>\n",
              "  </tbody>\n",
              "</table>\n",
              "</div>\n",
              "      <button class=\"colab-df-convert\" onclick=\"convertToInteractive('df-d54ed96f-329b-4fdb-97de-0b3129a030ff')\"\n",
              "              title=\"Convert this dataframe to an interactive table.\"\n",
              "              style=\"display:none;\">\n",
              "        \n",
              "  <svg xmlns=\"http://www.w3.org/2000/svg\" height=\"24px\"viewBox=\"0 0 24 24\"\n",
              "       width=\"24px\">\n",
              "    <path d=\"M0 0h24v24H0V0z\" fill=\"none\"/>\n",
              "    <path d=\"M18.56 5.44l.94 2.06.94-2.06 2.06-.94-2.06-.94-.94-2.06-.94 2.06-2.06.94zm-11 1L8.5 8.5l.94-2.06 2.06-.94-2.06-.94L8.5 2.5l-.94 2.06-2.06.94zm10 10l.94 2.06.94-2.06 2.06-.94-2.06-.94-.94-2.06-.94 2.06-2.06.94z\"/><path d=\"M17.41 7.96l-1.37-1.37c-.4-.4-.92-.59-1.43-.59-.52 0-1.04.2-1.43.59L10.3 9.45l-7.72 7.72c-.78.78-.78 2.05 0 2.83L4 21.41c.39.39.9.59 1.41.59.51 0 1.02-.2 1.41-.59l7.78-7.78 2.81-2.81c.8-.78.8-2.07 0-2.86zM5.41 20L4 18.59l7.72-7.72 1.47 1.35L5.41 20z\"/>\n",
              "  </svg>\n",
              "      </button>\n",
              "      \n",
              "  <style>\n",
              "    .colab-df-container {\n",
              "      display:flex;\n",
              "      flex-wrap:wrap;\n",
              "      gap: 12px;\n",
              "    }\n",
              "\n",
              "    .colab-df-convert {\n",
              "      background-color: #E8F0FE;\n",
              "      border: none;\n",
              "      border-radius: 50%;\n",
              "      cursor: pointer;\n",
              "      display: none;\n",
              "      fill: #1967D2;\n",
              "      height: 32px;\n",
              "      padding: 0 0 0 0;\n",
              "      width: 32px;\n",
              "    }\n",
              "\n",
              "    .colab-df-convert:hover {\n",
              "      background-color: #E2EBFA;\n",
              "      box-shadow: 0px 1px 2px rgba(60, 64, 67, 0.3), 0px 1px 3px 1px rgba(60, 64, 67, 0.15);\n",
              "      fill: #174EA6;\n",
              "    }\n",
              "\n",
              "    [theme=dark] .colab-df-convert {\n",
              "      background-color: #3B4455;\n",
              "      fill: #D2E3FC;\n",
              "    }\n",
              "\n",
              "    [theme=dark] .colab-df-convert:hover {\n",
              "      background-color: #434B5C;\n",
              "      box-shadow: 0px 1px 3px 1px rgba(0, 0, 0, 0.15);\n",
              "      filter: drop-shadow(0px 1px 2px rgba(0, 0, 0, 0.3));\n",
              "      fill: #FFFFFF;\n",
              "    }\n",
              "  </style>\n",
              "\n",
              "      <script>\n",
              "        const buttonEl =\n",
              "          document.querySelector('#df-d54ed96f-329b-4fdb-97de-0b3129a030ff button.colab-df-convert');\n",
              "        buttonEl.style.display =\n",
              "          google.colab.kernel.accessAllowed ? 'block' : 'none';\n",
              "\n",
              "        async function convertToInteractive(key) {\n",
              "          const element = document.querySelector('#df-d54ed96f-329b-4fdb-97de-0b3129a030ff');\n",
              "          const dataTable =\n",
              "            await google.colab.kernel.invokeFunction('convertToInteractive',\n",
              "                                                     [key], {});\n",
              "          if (!dataTable) return;\n",
              "\n",
              "          const docLinkHtml = 'Like what you see? Visit the ' +\n",
              "            '<a target=\"_blank\" href=https://colab.research.google.com/notebooks/data_table.ipynb>data table notebook</a>'\n",
              "            + ' to learn more about interactive tables.';\n",
              "          element.innerHTML = '';\n",
              "          dataTable['output_type'] = 'display_data';\n",
              "          await google.colab.output.renderOutput(dataTable, element);\n",
              "          const docLink = document.createElement('div');\n",
              "          docLink.innerHTML = docLinkHtml;\n",
              "          element.appendChild(docLink);\n",
              "        }\n",
              "      </script>\n",
              "    </div>\n",
              "  </div>\n",
              "  "
            ]
          },
          "metadata": {},
          "execution_count": 109
        }
      ]
    },
    {
      "cell_type": "code",
      "source": [
        "#Convert columns into lists\n",
        "x = sampleDf['Height'].tolist()\n",
        "y = sampleDf['Weight'].tolist()\n",
        "\n",
        "#Color map.\n",
        "color_map = {\"Male\":\"blue\", \"Female\":\"red\"}\n",
        "\n",
        "plt.scatter(x, y, c = sampleDf['Gender'].map(color_map))\n",
        " \n",
        "# To show the plot\n",
        "plt.show()\n",
        "\n",
        "print(final)"
      ],
      "metadata": {
        "colab": {
          "base_uri": "https://localhost:8080/",
          "height": 278
        },
        "id": "QPVjtGGsF9H2",
        "outputId": "877523ed-8115-4ce0-ee7d-2be8c265f7fe"
      },
      "execution_count": 122,
      "outputs": [
        {
          "output_type": "display_data",
          "data": {
            "text/plain": [
              "<Figure size 540x252 with 1 Axes>"
            ],
            "image/png": "[encoded data removed]"
          },
          "metadata": {
            "needs_background": "light"
          }
        },
        {
          "output_type": "stream",
          "name": "stdout",
          "text": [
            "['Male' 'Female' 'Male' ... 'Male' 'Female' 'Male']\n"
          ]
        }
      ]
    },
    {
      "cell_type": "markdown",
      "source": [
        "Reinforcement learning is known as the act of training machines to learn and build models to obtain the ability to make a sequence of decisions (Osiński and Budek, 2018). The machine will slowly adapt and learn from each iteration and finally understand the pattern from the numerous amount of models learned.\n",
        "\n",
        "One of the main applications of reinforcement learning is in self-driving cars. It is extremely important to ensure autonomous driving is performed perfectly as any minor flaw or mistake might cause accidents on the road. In order to ensure qualitative autonomous driving, various aspects are needed to be considered, such as road signs and lines, speed limits, and collision evasion. In order to allow cars to understand road rules and instructions, it is necessary to feed autonomous driving systems with an enormous amount of data in order for them to carry out reinforcement learning, thus producing accurate and precise autonomous driving (Osiński and Budek, 2018).\n",
        "\n",
        "Another huge application of reinforcement learning is in NLP(Natural Language Processing). In NLP, reinforcement learning can be used for policy learning, dialogue generation language translation, and more. Healthcare software policies can be trained with reinforcement learning systems to enhance patient outcomes. This can be done by automatically discovering the optimal policies based on previous experiences and coming up with a better scheme from there. Chatbots and conversational agents are also highly dependent on reinforcement learning in order to obtain the ability to properly construct a logical conversation with users. The chat systems are repetitively rewarded through sequences of reward-based iterations. Two virtual entities can also be assigned to one another for allowing them to practice and formulate the best customer-centric results. Another huge application of reinforcement learning in NLP is the machine translation industry, also known as neural machine translation. In this case, reinforcement learning is used to form conditional word distributions from a given text. Such a procedure is extremely important when it comes to translating drastically different languages such as verb-final German to verb-medial English language (Victor, 2022).\n",
        "\n",
        "Another typical application of reinforcement learning is in video games. Throughout the years, video games have been experiencing a leaping phase in terms of how realistic they are. A key factor in providing an authentic and immersive gaming experience is the sophisticated and exquisite artificial intelligence of the NPCs (non-playable characters). Game NPCs these days are no longer hard-coded intelligence that lacks the ability to progress and learn, programmers tend to install them with the ability of reinforcement learning to receive information and evolve. Pac-Man is a well-known and simple example of this. The agent of the model (Pac-Man) is tasked to consume all food within the grid while avoiding collision with its enemy, the ghosts. As each time the agent dies, a new set of solutions is received, and eventually, the agent will be able to come up with the perfect solution of not only finishing all the food without a single collision with the ghosts but also within the shortest time possible (Dilmegani, 2022).\n",
        "\n",
        "Other examples of the application of reinforcement learning include the automaton and robotics industry, advertising, resources management systems, and more. It is almost inevitable for artificial intelligence to play a huge role in the future of humanity, and reinforcement learning is the key to constructing the minimal requirement of machine intelligence: the ability to learn by analogy.\n",
        "\n",
        "\n",
        "References:\n",
        "\n",
        "Dilmegani, C., 2022. Reinforcement Learning: Benefits & Applications in 2022. [online] AIMultiple. Available at: <https://research.aimultiple.com/reinforcement-learning/> [Accessed 1 October 2022].\n",
        "\n",
        "Osiński, B. and Budek, K., 2018. What is reinforcement learning? The complete guide.. [online] deepsense.ai. Available at: <https://deepsense.ai/what-is-reinforcement-learning-the-complete-guide/> [Accessed 29 September 2022].\n",
        "\n",
        "Victor, A., 2022. Top 5 NLP Applications Of Reinforcement Learning. [online] Insights.daffodilsw.com. Available at: <https://insights.daffodilsw.com/blog/top-5-nlp-applications-of-reinforcement-learning> [Accessed 1 October 2022].\n",
        "\n"
      ],
      "metadata": {
        "id": "n5sRRZSev8HN"
      }
    }
  ],
  "metadata": {
    "kernelspec": {
      "display_name": "Python 3",
      "language": "python",
      "name": "python3"
    },
    "language_info": {
      "codemirror_mode": {
        "name": "ipython",
        "version": 3
      },
      "file_extension": ".py",
      "mimetype": "text/x-python",
      "name": "python",
      "nbconvert_exporter": "python",
      "pygments_lexer": "ipython3",
      "version": "3.8.3"
    },
    "colab": {
      "provenance": [],
      "collapsed_sections": []
    }
  },
  "nbformat": 4,
  "nbformat_minor": 0
}