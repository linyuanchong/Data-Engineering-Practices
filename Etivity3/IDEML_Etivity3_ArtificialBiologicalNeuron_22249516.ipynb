{
  "cells": [
    {
      "cell_type": "markdown",
      "metadata": {
        "id": "o5LZrvii7Kje"
      },
      "source": [
        "### Student details"
      ]
    },
    {
      "cell_type": "markdown",
      "metadata": {
        "id": "Obdryvbo7Kjh"
      },
      "source": [
        "Student name: Lin Yuan Chong"
      ]
    },
    {
      "cell_type": "markdown",
      "metadata": {
        "id": "3b_vIM557Kji"
      },
      "source": [
        "Student ID: 22249516"
      ]
    },
    {
      "cell_type": "markdown",
      "metadata": {
        "id": "no8K6a3q7Kji"
      },
      "source": [
        "# Task 3: Artificial Neurons -vs- Biological Neurons\n",
        "\n",
        "In order to compare biological neurons to artificial neurons, we will first have to understand the definition of each.\n",
        "\n",
        "From a biological point of view, biological neurons are the basic functional units of a human’s nervous system. They generate electric signals, known as action potentials, that transmit information quickly across long distances. Biological neurons consist of three main functions: to receive neural from the exterior, to process incoming signals, and to communicate signals to target cells (Mhatre, 2020).\n",
        "\n",
        "Artificial neurons, also known as perceptrons, are the basic units of a neural network. It can be explained as simple logic gates with binary inputs, and also can be seen as a mathematical function representation of biological neurons. The main functions of artificial neurons are: to obtain input from input layers, weigh these inputs separately and sum them up, then pass the sum through a nonlinear function to produce output (Mhatre, 2020).\n",
        "\n",
        "With a sufficient understanding of both biological and artificial neurons, we can move on to compare them for similarities and differences. Mhatre has explained a few key similarities between the two. Suppose an artificial neuron is structured as input -> node -> output, with links to each other called interconnections, a biological neuron equivalent would be dendrites -> cell nucleus -> axon, interconnected with synapses. As we can observe, an artificial neuron is structured similarly to a biological neuron. Both receive inputs from exterior factors, process the signals, and transmit them afterward (Mhatre, 2020).\n",
        "\n",
        "However, as much similar to biological neurons, artificial neurons are still very different when compared in detail. One of the most significant differences is the size. A human brain contains roughly 86 billion neurons with more than 100 trillion synapses(interconnection equivalent of artificial neurons). Humans know so little about our own brain structure, causing the creation of our own, the artificial neurons can hardly surpass the impeccable formation of the human brain. The number of nodes in an artificial neural network is typically around 10-1000, which is nowhere near the sophisticated structure of the human brain (Nagyfi, 2018).\n",
        "\n",
        "Another significant difference is in terms of speed. Certain biological neurons are capable of firing approximately 200 times per second, while the travel speed depends on the type of nerve impulses. Other exterior factors are also capable of affecting neural signal transmissions, such as the sex, age, height, weight, and medical condition of an individual. Artificial neurons, however, their transmission speed is only limited by the computational power provided. There are no refractory periods in artificial neural networks, also no scenario of “fatigue” or “tiredness” as long as the machine is provided the criteria to function properly. Functions can be iteratively calculated as many times as possible within the given computer architecture (Nagyfi, 2018).\n",
        "\n",
        "One last difference we will be covering, also potentially the most interesting difference, is how different artificial neural networks learn compared to biological neural networks. Given all the resources and time humanity contributed to learning how the human brain works, we still do not understand how the human brain learns. The human brain consists of brain fibres that grow and reach out to connect neurons together, allowing new connections to emerge and unlock new areas to move and change function. Not to mention synapses may strengthen or weaken accordingly to their role and importance. The human brain is so complex and indefinite that it is almost impossible for an artificial neural network to perfectly mimic or replicate it. Artificial neural networks come in a predefined model with no further potential of altering the number of interconnections. The only changeable variable in an artificial neural network are weights of connections (Nagyfi, 2018).\n",
        "\n",
        "\n",
        "There are even more differences between these two neural networks such as the topology, fault tolerance, power consumption, and signals. Artificial neural networks might seem like it has come a long way but when really put into comparison, it still has a long way to go to par with biological neural networks."
      ]
    },
    {
      "cell_type": "markdown",
      "source": [
        "#References\n",
        "Mhatre, S., 2020. What Is The Relation Between Artificial And Biological Neuron?. [online] Medium. Available at: <https://smhatre59.medium.com/what-is-the-relation-between-artificial-and-biological-neuron-18b05831036> [Accessed 11 October 2022].\n",
        "\n",
        "Nagyfi, R., 2018. The differences between Artificial and Biological Neural Networks. [online] Medium. Available at: <https://towardsdatascience.com/the-differences-between-artificial-and-biological-neural-networks-a8b46db828b7#:~:text=So%20unlike%20biological%20neurons%2C%20artificial,strength%20of%20these%20signals%20varies.> [Accessed 11 October 2022]."
      ],
      "metadata": {
        "id": "x_7OSKjiQFWb"
      }
    }
  ],
  "metadata": {
    "kernelspec": {
      "display_name": "Python 3",
      "language": "python",
      "name": "python3"
    },
    "language_info": {
      "codemirror_mode": {
        "name": "ipython",
        "version": 3
      },
      "file_extension": ".py",
      "mimetype": "text/x-python",
      "name": "python",
      "nbconvert_exporter": "python",
      "pygments_lexer": "ipython3",
      "version": "3.8.3"
    },
    "colab": {
      "provenance": []
    }
  },
  "nbformat": 4,
  "nbformat_minor": 0
}